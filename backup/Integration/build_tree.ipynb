{
 "cells": [
  {
   "cell_type": "code",
   "execution_count": 1,
   "metadata": {
    "ExecuteTime": {
     "end_time": "2021-06-13T13:21:39.609336Z",
     "start_time": "2021-06-13T13:21:37.128475Z"
    }
   },
   "outputs": [
    {
     "data": {
      "text/plain": [
       "<torch._C.Generator at 0x11fbddc50>"
      ]
     },
     "execution_count": 1,
     "metadata": {},
     "output_type": "execute_result"
    }
   ],
   "source": [
    "import sys\n",
    "import tqdm\n",
    "import sklearn\n",
    "import numpy as np\n",
    "import pandas as pd\n",
    "import scipy\n",
    "import copy\n",
    "import random\n",
    "import math\n",
    "import torch\n",
    "import torch.nn.functional as F\n",
    "import random\n",
    "import networkx as nx\n",
    "import collections\n",
    "from networkx.drawing.nx_agraph import write_dot, graphviz_layout\n",
    "from load_dataset import load\n",
    "from classifier import NeuralNetwork, LogisticRegression, SVM\n",
    "from utils import *\n",
    "from metrics import *  # include fairness and corresponding derivatives\n",
    "from scipy import stats\n",
    "from scipy.stats import rankdata\n",
    "from sklearn import metrics, preprocessing, mixture\n",
    "from sklearn.tree import DecisionTreeClassifier\n",
    "from sklearn.ensemble import RandomForestClassifier, RandomForestRegressor\n",
    "from sklearn.metrics import classification_report\n",
    "from torch.autograd import grad\n",
    "import torch.nn as nn\n",
    "import matplotlib.pyplot as plt\n",
    "import seaborn as sns\n",
    "from IPython.display import Markdown, display\n",
    "random.seed(1)\n",
    "np.random.seed(1)\n",
    "torch.manual_seed(1)"
   ]
  },
  {
   "cell_type": "code",
   "execution_count": 2,
   "metadata": {
    "ExecuteTime": {
     "end_time": "2021-06-13T13:21:39.620295Z",
     "start_time": "2021-06-13T13:21:39.614205Z"
    }
   },
   "outputs": [],
   "source": [
    "# ignore all the warnings\n",
    "import warnings\n",
    "warnings.filterwarnings('ignore') "
   ]
  },
  {
   "cell_type": "markdown",
   "metadata": {},
   "source": [
    "**Load Dataset**"
   ]
  },
  {
   "cell_type": "code",
   "execution_count": 3,
   "metadata": {
    "ExecuteTime": {
     "end_time": "2021-06-13T13:21:39.859455Z",
     "start_time": "2021-06-13T13:21:39.623813Z"
    },
    "code_folding": [
     0
    ]
   },
   "outputs": [],
   "source": [
    "dataset = 'german'\n",
    "X_train, X_test, y_train, y_test = load(dataset, preprocess=False)\n",
    "X_train_no_preprocess = copy.deepcopy(X_train)\n",
    "X_test_no_preprocess = copy.deepcopy(X_test)\n",
    "X_train, X_test, y_train, y_test = load(dataset, preprocess=True)"
   ]
  },
  {
   "cell_type": "markdown",
   "metadata": {},
   "source": [
    "**Parametric Model**"
   ]
  },
  {
   "cell_type": "code",
   "execution_count": 4,
   "metadata": {
    "ExecuteTime": {
     "end_time": "2021-06-13T13:21:43.236392Z",
     "start_time": "2021-06-13T13:21:43.214771Z"
    },
    "code_folding": []
   },
   "outputs": [],
   "source": [
    "# size=500\n",
    "# X_train = X_train[0:size]\n",
    "# y_train = y_train[0:size]\n",
    "\n",
    "X_train_orig = copy.deepcopy(X_train)\n",
    "X_test_orig = copy.deepcopy(X_test)\n",
    "\n",
    "# Scale data: regularization penalty default: ‘l2’, ‘lbfgs’ solvers support only l2 penalties. \n",
    "# Regularization makes the predictor dependent on the scale of the features.\n",
    "from sklearn.preprocessing import StandardScaler\n",
    "sc = StandardScaler()\n",
    "X_train = sc.fit_transform(X_train)\n",
    "X_test = sc.transform(X_test)"
   ]
  },
  {
   "cell_type": "markdown",
   "metadata": {},
   "source": [
    "**Loss function** (Log loss for logistic regression)"
   ]
  },
  {
   "cell_type": "code",
   "execution_count": 5,
   "metadata": {
    "ExecuteTime": {
     "end_time": "2021-06-13T13:21:50.258523Z",
     "start_time": "2021-06-13T13:21:50.235922Z"
    }
   },
   "outputs": [],
   "source": [
    "# clf = NeuralNetwork()\n",
    "clf = LogisticRegression(input_size=X_train.shape[-1])\n",
    "# clf = SVM()\n",
    "num_params = len(convert_grad_to_ndarray(list(clf.parameters())))\n",
    "if isinstance(clf, LogisticRegression) or isinstance(clf, NeuralNetwork):\n",
    "#     loss_func = lambda model, x, y_true: logistic_loss_torch(model(torch.FloatTensor(x)),\\\n",
    "#                                                              torch.FloatTensor([y_true])) +\\\n",
    "#     model.C*torch.sqrt(torch.sum(convert_grad_to_tensor(list(clf.parameters()))**2))\n",
    "    loss_func = logistic_loss_torch\n",
    "elif isinstance(clf, SVM):\n",
    "    loss_func = svm_loss_torch"
   ]
  },
  {
   "cell_type": "markdown",
   "metadata": {},
   "source": [
    "**Influence of points computed using ground truth**"
   ]
  },
  {
   "cell_type": "code",
   "execution_count": 6,
   "metadata": {
    "ExecuteTime": {
     "end_time": "2021-06-13T13:21:52.131320Z",
     "start_time": "2021-06-13T13:21:52.122713Z"
    },
    "code_folding": [
     0
    ]
   },
   "outputs": [],
   "source": [
    "def ground_truth_influence(X_train, y_train, X_test, X_test_orig, y_test):\n",
    "    clf.fit(X_train, y_train, verbose=True)\n",
    "    y_pred = clf.predict_proba(X_test)\n",
    "    spd_0 = computeFairness(y_pred, X_test_orig, y_test, 0)\n",
    "\n",
    "    delta_spd = []\n",
    "    for i in range(len(X_train)):\n",
    "        X_removed = np.delete(X_train, i, 0)\n",
    "        y_removed = y_train.drop(index=i, inplace=False)\n",
    "        clf.fit(X_removed, y_removed)\n",
    "        y_pred = clf.predict_proba(X_test)\n",
    "        delta_spd_i = computeFairness(y_pred, X_test_orig, y_test, 0) - spd_0\n",
    "        delta_spd.append(delta_spd_i)\n",
    "\n",
    "    return delta_spd"
   ]
  },
  {
   "cell_type": "markdown",
   "metadata": {},
   "source": [
    "**Compute Accuracy** "
   ]
  },
  {
   "cell_type": "code",
   "execution_count": 7,
   "metadata": {
    "ExecuteTime": {
     "end_time": "2021-06-13T13:21:53.255330Z",
     "start_time": "2021-06-13T13:21:53.247659Z"
    },
    "code_folding": [
     0
    ]
   },
   "outputs": [],
   "source": [
    "def computeAccuracy(y_true, y_pred):\n",
    "    return np.sum((y_pred>0.5) == y_true)/len(y_pred)"
   ]
  },
  {
   "cell_type": "markdown",
   "metadata": {},
   "source": [
    "**First-order derivative of loss function at z with respect to model parameters**"
   ]
  },
  {
   "cell_type": "code",
   "execution_count": 8,
   "metadata": {
    "ExecuteTime": {
     "end_time": "2021-06-13T13:21:54.336345Z",
     "start_time": "2021-06-13T13:21:54.327550Z"
    },
    "code_folding": [
     0
    ]
   },
   "outputs": [],
   "source": [
    "def del_L_del_theta_i(model, x, y_true, retain_graph=False):\n",
    "    loss = loss_func(model, x, y_true)\n",
    "    w = [ p for p in model.parameters() if p.requires_grad ]\n",
    "    return grad(loss, w, create_graph=True, retain_graph=retain_graph)"
   ]
  },
  {
   "cell_type": "markdown",
   "metadata": {},
   "source": [
    "**First-order derivative of $P(y \\mid \\textbf{x})$ with respect to model parameters**"
   ]
  },
  {
   "cell_type": "code",
   "execution_count": 9,
   "metadata": {
    "ExecuteTime": {
     "end_time": "2021-06-13T13:21:55.859170Z",
     "start_time": "2021-06-13T13:21:55.854579Z"
    },
    "code_folding": [
     0
    ]
   },
   "outputs": [],
   "source": [
    "def del_f_del_theta_i(model, x, retain_graph=False):\n",
    "    w = [ p for p in model.parameters() if p.requires_grad ]\n",
    "    return grad(model(torch.FloatTensor(x)), w, retain_graph=retain_graph)"
   ]
  },
  {
   "cell_type": "markdown",
   "metadata": {},
   "source": [
    "**Stochastic estimation of Hessian vector product (involving del fairness): $H_{\\theta}^{-1}v = H_{\\theta}^{-1}\\nabla_{\\theta}f(z, \\theta) = v + [I - \\nabla_{\\theta}^2L(z_{s_j}, \\theta^*)]H_{\\theta}^{-1}v$**"
   ]
  },
  {
   "cell_type": "code",
   "execution_count": 10,
   "metadata": {
    "ExecuteTime": {
     "end_time": "2021-06-13T13:21:57.282719Z",
     "start_time": "2021-06-13T13:21:57.271079Z"
    },
    "code_folding": [
     0
    ]
   },
   "outputs": [],
   "source": [
    "def hvp(y, w, v):\n",
    "    ''' Multiply the Hessians of y and w by v.'''\n",
    "    # First backprop\n",
    "    first_grads = grad(y, w, retain_graph=True, create_graph=True)\n",
    "\n",
    "    # Elementwise products\n",
    "    elemwise_products = 0\n",
    "    for grad_elem, v_elem in zip(convert_grad_to_tensor(first_grads), v):\n",
    "        elemwise_products += torch.sum(grad_elem * v_elem)\n",
    "\n",
    "    # Second backprop\n",
    "    return_grads = grad(elemwise_products, w, create_graph=True)\n",
    "\n",
    "    return return_grads"
   ]
  },
  {
   "cell_type": "code",
   "execution_count": 11,
   "metadata": {
    "ExecuteTime": {
     "end_time": "2021-06-13T13:21:58.044532Z",
     "start_time": "2021-06-13T13:21:58.035840Z"
    },
    "code_folding": [
     0
    ]
   },
   "outputs": [],
   "source": [
    "def hessian_one_point(model, x, y):\n",
    "    x, y = torch.FloatTensor(x), torch.FloatTensor([y])\n",
    "    loss = loss_func(model, x, y)\n",
    "    params = [ p for p in model.parameters() if p.requires_grad ]\n",
    "    first_grads = convert_grad_to_tensor(grad(loss, params, retain_graph=True, create_graph=True))\n",
    "    hv = np.zeros((len(first_grads), len(first_grads)))\n",
    "    for i in range(len(first_grads)):\n",
    "        hv[i, :] = convert_grad_to_ndarray(grad(first_grads[i], params, create_graph=True)).ravel()\n",
    "    return hv"
   ]
  },
  {
   "cell_type": "code",
   "execution_count": 12,
   "metadata": {
    "ExecuteTime": {
     "end_time": "2021-06-13T13:21:58.517308Z",
     "start_time": "2021-06-13T13:21:58.501042Z"
    },
    "code_folding": [
     1
    ]
   },
   "outputs": [],
   "source": [
    "# Compute multiplication of inverse hessian matrix and vector v\n",
    "def s_test(model, xs, ys, v, damp=0.01, scale=25.0, r=-1, batch_size=-1, recursive=False, verbose=False):\n",
    "    ''' Arguments:\n",
    "        xs: list of data points\n",
    "        ys: list of true labels corresponding to data points in xs\n",
    "        damp: dampening factor\n",
    "        scale: scaling factor\n",
    "        r: number of iterations aka recursion depth\n",
    "            should be enough so that the value stabilises.\n",
    "        batch_size: number of instances in each batch in recursive approximation\n",
    "        recursive: determine whether to recursively approximate hinv_v'''\n",
    "    xs, ys = torch.FloatTensor(xs.copy()), torch.FloatTensor(ys.copy())\n",
    "    n = len(xs)\n",
    "    hinv_v = copy.deepcopy(v)\n",
    "    if recursive:\n",
    "        if verbose:\n",
    "            print('Computing s_test...')\n",
    "            tbar = tqdm.tqdm(total=r)\n",
    "        if (batch_size == -1):  # default\n",
    "            batch_size = 10\n",
    "        if (r == -1):\n",
    "            r = n // batch_size + 1\n",
    "        sample = np.random.choice(range(n), r*batch_size, replace=True)\n",
    "        for i in range(r):\n",
    "            sample_idx = sample[i*batch_size:(i+1)*batch_size]\n",
    "            x, y = xs[sample_idx], ys[sample_idx]\n",
    "            loss = loss_func(model, x, y)\n",
    "            params = [ p for p in model.parameters() if p.requires_grad ]\n",
    "            hv = convert_grad_to_ndarray(hvp(loss, params, torch.FloatTensor(hinv_v)))\n",
    "            # Recursively caclulate h_estimate\n",
    "            hinv_v = v + (1 - damp) * hinv_v - hv / scale\n",
    "            if verbose:\n",
    "                tbar.update(1)\n",
    "    else:\n",
    "        scale = 1.0\n",
    "        hinv = np.linalg.pinv(np.sum(hessian_all_points, axis=0))\n",
    "        hinv_v = np.matmul(hinv, v)\n",
    "\n",
    "    return hinv_v / scale"
   ]
  },
  {
   "cell_type": "markdown",
   "metadata": {},
   "source": [
    "**First-order influence computation**"
   ]
  },
  {
   "cell_type": "code",
   "execution_count": 13,
   "metadata": {
    "ExecuteTime": {
     "end_time": "2021-06-13T13:21:59.379206Z",
     "start_time": "2021-06-13T13:21:59.372963Z"
    },
    "code_folding": [
     0
    ]
   },
   "outputs": [],
   "source": [
    "def first_order_influence(del_L_del_theta, hinv_v, n):\n",
    "    infs = []\n",
    "    for i in range(n):\n",
    "        inf = -np.dot(del_L_del_theta[i].transpose(), hinv_v)\n",
    "        inf *= -1/n\n",
    "        infs.append(inf)\n",
    "    return infs"
   ]
  },
  {
   "cell_type": "markdown",
   "metadata": {},
   "source": [
    "**Second-order influence computation for a group of points in subset U**"
   ]
  },
  {
   "cell_type": "code",
   "execution_count": 14,
   "metadata": {
    "ExecuteTime": {
     "end_time": "2021-06-13T13:22:00.247564Z",
     "start_time": "2021-06-13T13:22:00.234590Z"
    },
    "code_folding": [
     0
    ]
   },
   "outputs": [],
   "source": [
    "def second_order_influence(model, X_train, y_train, U, del_L_del_theta, r=-1, verbose=False):\n",
    "    u = len(U)\n",
    "    s = len(X_train)\n",
    "    p = u/s\n",
    "    c1 = (1 - 2*p)/(s * (1-p)**2)\n",
    "    c2 = 1/((s * (1-p))**2)\n",
    "    num_params = len(del_L_del_theta[0])\n",
    "    del_L_del_theta_sum = np.sum([del_L_del_theta[i] for i in U], axis=0)\n",
    "    hinv_del_L_del_theta= s_test(model, X_train, y_train, del_L_del_theta_sum)\n",
    "    hessian_U_hinv_del_L_del_theta = np.zeros((num_params,))\n",
    "    for i in range(u):\n",
    "        idx = U[i]\n",
    "        x, y = torch.FloatTensor(X_train[idx]), torch.FloatTensor([y_train[idx]])\n",
    "        loss = loss_func(model, x, y)\n",
    "        params = [ p for p in model.parameters() if p.requires_grad ]\n",
    "        hessian_U_hinv_del_L_del_theta += convert_grad_to_ndarray(hvp(loss, params, torch.FloatTensor(hinv_del_L_del_theta)))\n",
    "\n",
    "    term1 = c1 * hinv_del_L_del_theta\n",
    "    term2 = c2 * s_test(model, X_train, y_train, hessian_U_hinv_del_L_del_theta)\n",
    "    sum_term = term1 + term2\n",
    "    return sum_term"
   ]
  },
  {
   "cell_type": "markdown",
   "metadata": {},
   "source": [
    "**Metrics: Initial state**"
   ]
  },
  {
   "cell_type": "code",
   "execution_count": 15,
   "metadata": {
    "ExecuteTime": {
     "end_time": "2021-06-13T13:22:02.155048Z",
     "start_time": "2021-06-13T13:22:02.043013Z"
    }
   },
   "outputs": [
    {
     "name": "stdout",
     "output_type": "stream",
     "text": [
      "Initial statistical parity:  -0.11221257965080444\n",
      "Initial TPR parity:  -0.0865221897550269\n",
      "Initial predictive parity:  -0.09399734250421976\n",
      "Initial loss:  0.5060894865816397\n",
      "Initial accuracy:  0.755\n"
     ]
    }
   ],
   "source": [
    "clf = LogisticRegression(input_size=X_train.shape[-1])\n",
    "# clf = NeuralNetwork()\n",
    "# clf = SVM()\n",
    "\n",
    "clf.fit(X_train, y_train)\n",
    "\n",
    "y_pred_test = clf.predict_proba(X_test)\n",
    "y_pred_train = clf.predict_proba(X_train)\n",
    "\n",
    "spd_0 = computeFairness(y_pred_test, X_test_orig, y_test, 0, dataset)\n",
    "print(\"Initial statistical parity: \", spd_0)\n",
    "\n",
    "tpr_parity_0 = computeFairness(y_pred_test, X_test_orig, y_test, 1, dataset)\n",
    "print(\"Initial TPR parity: \", tpr_parity_0)\n",
    "\n",
    "predictive_parity_0 = computeFairness(y_pred_test, X_test_orig, y_test, 2, dataset)\n",
    "print(\"Initial predictive parity: \", predictive_parity_0)\n",
    "\n",
    "loss_0 = logistic_loss(y_test, y_pred_test)\n",
    "print(\"Initial loss: \", loss_0)\n",
    "\n",
    "accuracy_0 = computeAccuracy(y_test, y_pred_test)\n",
    "print(\"Initial accuracy: \", accuracy_0)"
   ]
  },
  {
   "cell_type": "code",
   "execution_count": 16,
   "metadata": {
    "ExecuteTime": {
     "end_time": "2021-06-13T13:22:19.710206Z",
     "start_time": "2021-06-13T13:22:03.386537Z"
    },
    "code_folding": []
   },
   "outputs": [
    {
     "name": "stderr",
     "output_type": "stream",
     "text": [
      "100%|█████████▉| 797/800 [00:16<00:00, 44.62it/s]"
     ]
    }
   ],
   "source": [
    "hessian_all_points = []\n",
    "tbar = tqdm.tqdm(total=len(X_train))\n",
    "for i in range(len(X_train)):\n",
    "    hessian_all_points.append(hessian_one_point(clf, X_train[i], y_train[i])/len(X_train))\n",
    "    tbar.update(1)"
   ]
  },
  {
   "cell_type": "markdown",
   "metadata": {},
   "source": [
    "**Pre-compute: (1) Hessian (2) del_L_del_theta for each training data point**"
   ]
  },
  {
   "cell_type": "code",
   "execution_count": 17,
   "metadata": {
    "ExecuteTime": {
     "end_time": "2021-06-13T13:22:20.392832Z",
     "start_time": "2021-06-13T13:22:19.735670Z"
    }
   },
   "outputs": [],
   "source": [
    "del_L_del_theta = []\n",
    "for i in range(int(len(X_train))):\n",
    "    del_L_del_theta.append(convert_grad_to_ndarray(del_L_del_theta_i(clf, X_train[i], y_train[i])))"
   ]
  },
  {
   "cell_type": "markdown",
   "metadata": {},
   "source": [
    "*Select delta fairness function depending on selected metric*"
   ]
  },
  {
   "cell_type": "code",
   "execution_count": 18,
   "metadata": {
    "ExecuteTime": {
     "end_time": "2021-06-13T13:22:20.642474Z",
     "start_time": "2021-06-13T13:22:20.395100Z"
    }
   },
   "outputs": [],
   "source": [
    "metric = 0\n",
    "if metric == 0:\n",
    "    v1 = del_spd_del_theta(clf, X_test_orig, X_test, dataset)\n",
    "elif metric == 1:\n",
    "    v1 = del_tpr_parity_del_theta(clf, X_test_orig, X_test, y_test, dataset)\n",
    "elif metric == 2:\n",
    "    v1 = del_predictive_parity_del_theta(clf, X_test_orig, X_test, y_test, dataset)"
   ]
  },
  {
   "cell_type": "code",
   "execution_count": 19,
   "metadata": {
    "ExecuteTime": {
     "end_time": "2021-06-13T13:22:20.672720Z",
     "start_time": "2021-06-13T13:22:20.646524Z"
    }
   },
   "outputs": [],
   "source": [
    "hinv_v = s_test(clf, X_train, y_train, v1, verbose=False)"
   ]
  },
  {
   "cell_type": "markdown",
   "metadata": {},
   "source": [
    "**First-order influence of each training data point**"
   ]
  },
  {
   "cell_type": "code",
   "execution_count": 20,
   "metadata": {
    "ExecuteTime": {
     "end_time": "2021-06-13T13:22:20.687957Z",
     "start_time": "2021-06-13T13:22:20.677213Z"
    }
   },
   "outputs": [
    {
     "name": "stderr",
     "output_type": "stream",
     "text": [
      "\r",
      "100%|██████████| 800/800 [00:30<00:00, 44.62it/s]"
     ]
    }
   ],
   "source": [
    "infs_1 = first_order_influence(del_L_del_theta, hinv_v, len(X_train))"
   ]
  },
  {
   "cell_type": "markdown",
   "metadata": {},
   "source": [
    "**Checking ground truth, first-order and second-order influences for a set**"
   ]
  },
  {
   "cell_type": "code",
   "execution_count": 21,
   "metadata": {
    "ExecuteTime": {
     "end_time": "2021-06-13T13:29:50.640891Z",
     "start_time": "2021-06-13T13:29:49.588620Z"
    },
    "scrolled": false
   },
   "outputs": [
    {
     "name": "stdout",
     "output_type": "stream",
     "text": [
      "Statistical parity \n",
      "First-order influence:  0.00837110859216301\n",
      "Second-order influence:  0.01315796914293979\n",
      "#Rows removed:  161\n",
      "#Rows left:  639\n",
      "Ground truth influence of subset (on statistical parity):  0.19263299787417054\n",
      "Ground truth influence of subset (on tpr parity):  0.17930929952967534\n",
      "Ground truth influence of subset (on predictive parity):  -0.03118482144800594\n",
      "Ground truth statistical parity after removing subset:  0.0804204182233661\n",
      "Ground truth tpr parity after removing subset:  0.09278710977464844\n",
      "Ground truth predictive parity after removing subset:  0.09278710977464844\n",
      "Loss after removing subset:  0.5218575578539789\n",
      "Accuracy after removing subset:  0.735\n"
     ]
    }
   ],
   "source": [
    "metric = 0\n",
    "if metric == 0:\n",
    "    print(\"Statistical parity \")\n",
    "elif metric == 1:\n",
    "    print(\"True positive rate parity \")\n",
    "elif metric == 2:\n",
    "    print(\"Predictive parity\")\n",
    "    \n",
    "active = 1\n",
    "if active:\n",
    "    if dataset == 'german':\n",
    "        predicates = ['age']\n",
    "    elif dataset == 'adult':\n",
    "        predicates = ['gender_Male']\n",
    "    elif dataset == 'compas':\n",
    "        predicates = ['race']\n",
    "    idx = X_train_orig.index \n",
    "    for pred in predicates:\n",
    "        idx0 = X_train_orig[(X_train_orig[pred] == 1)].index \n",
    "        idx = idx.intersection(idx0)\n",
    "\n",
    "    del_f_1 = 0\n",
    "    for i in range(len(idx)):\n",
    "        del_f_1 += infs_1[idx[i]]\n",
    "    print(\"First-order influence: \", del_f_1)\n",
    "\n",
    "    params_f_2 = second_order_influence(clf, X_train, y_train, idx, del_L_del_theta)\n",
    "    del_f_2 = np.dot(v1.transpose(), params_f_2)\n",
    "    print(\"Second-order influence: \", del_f_2)\n",
    "    \n",
    "    print(\"#Rows removed: \", len(idx))\n",
    "    print(\"#Rows left: \", len(X_train) - len(idx))\n",
    "    X = np.delete(X_train, idx, 0)\n",
    "    y = y_train.drop(index=idx, inplace=False)\n",
    "    clf.fit(np.array(X), np.array(y))\n",
    "    y_pred_test = clf.predict_proba(X_test)\n",
    "    print(\"Ground truth influence of subset (on statistical parity): \", computeFairness(y_pred_test, X_test_orig, y_test, 0, dataset) - spd_0)\n",
    "    print(\"Ground truth influence of subset (on tpr parity): \", computeFairness(y_pred_test, X_test_orig, y_test, 1, dataset) - tpr_parity_0)\n",
    "    print(\"Ground truth influence of subset (on predictive parity): \", computeFairness(y_pred_test, X_test_orig, y_test, 2, dataset) - predictive_parity_0)\n",
    "    \n",
    "    spd_1 = computeFairness(y_pred_test, X_test_orig, y_test, 0, dataset)\n",
    "    print(\"Ground truth statistical parity after removing subset: \", spd_1)\n",
    "    \n",
    "    tpr_parity_1 = computeFairness(y_pred_test, X_test_orig, y_test, 1, dataset)\n",
    "    print(\"Ground truth tpr parity after removing subset: \", tpr_parity_1)\n",
    "\n",
    "    predictive_parity_1 = computeFairness(y_pred_test, X_test_orig, y_test, 1, dataset)\n",
    "    print(\"Ground truth predictive parity after removing subset: \", predictive_parity_1)\n",
    "\n",
    "    loss_1 = logistic_loss(y_test, y_pred_test)\n",
    "    print(\"Loss after removing subset: \", loss_1)\n",
    "\n",
    "    accuracy_1 = computeAccuracy(y_test, y_pred_test)\n",
    "    print(\"Accuracy after removing subset: \", accuracy_1)"
   ]
  },
  {
   "cell_type": "markdown",
   "metadata": {},
   "source": [
    "**Fairness: Ground-truth subset influence vs. computed subset influences: Random subset**"
   ]
  },
  {
   "cell_type": "code",
   "execution_count": 22,
   "metadata": {
    "ExecuteTime": {
     "end_time": "2021-06-13T13:29:50.655185Z",
     "start_time": "2021-06-13T13:29:50.645004Z"
    }
   },
   "outputs": [],
   "source": [
    "# print(\"Ground-truth subset, Add 1st-order inf individual, Second-order subset influence\")\n",
    "# sampleSize = int(.2 * len(X_train))\n",
    "# for i in range(100):\n",
    "#     idx = random.sample(range(1, len(X_train)), sampleSize) \n",
    "    \n",
    "#     # Ground truth subset influence\n",
    "#     X = np.delete(X_train, idx, 0)\n",
    "#     y = y_train.drop(index=idx, inplace=False)\n",
    "#     clf.fit(X, y, learning_rate=.05)\n",
    "#     y_pred_test = clf.predict_proba(X_test)\n",
    "#     inf_gt = computeFairness(y_pred_test, X_test_orig, y_test, 0) - spd_0\n",
    "\n",
    "#     # First-order subset influence\n",
    "#     del_f_1 = 0\n",
    "#     for j in range(len(idx)):\n",
    "#         del_f_1 += infs_1[idx[j]]\n",
    "    \n",
    "#     # Second-order subset influence\n",
    "#     size_hvp = 1\n",
    "#     params_f_2 = second_order_influence(clf, X_train, y_train, idx, del_L_del_theta, r=5000)\n",
    "#     del_f_2 = np.dot(v1.transpose(), params_f_2)\n",
    "\n",
    "#     print(inf_gt, del_f_1, del_f_2, sep=\", \")"
   ]
  },
  {
   "cell_type": "markdown",
   "metadata": {},
   "source": [
    "**Fairness: Ground-truth subset influence vs. computed subset influences: Coherent subset** \n",
    "\n",
    "(by coherent, we mean group of data points that share some properties)"
   ]
  },
  {
   "cell_type": "markdown",
   "metadata": {},
   "source": [
    "***NOTE:*** The retraining of the clf would cause the change in model parameters and thus lead to the change of gradients, so in this part, we create a single-use model which copied weights from the originally trained model for computing the ground truth influence."
   ]
  },
  {
   "cell_type": "code",
   "execution_count": 23,
   "metadata": {
    "ExecuteTime": {
     "end_time": "2021-06-13T13:29:50.671263Z",
     "start_time": "2021-06-13T13:29:50.657536Z"
    }
   },
   "outputs": [],
   "source": [
    "# Get the original model\n",
    "clf = LogisticRegression(input_size=X_train.shape[-1])\n",
    "clf.fit(X_train, y_train)"
   ]
  },
  {
   "cell_type": "code",
   "execution_count": 24,
   "metadata": {
    "ExecuteTime": {
     "end_time": "2021-06-13T13:29:50.979348Z",
     "start_time": "2021-06-13T13:29:50.674892Z"
    }
   },
   "outputs": [],
   "source": [
    "n_component = 14\n",
    "gmm_model = mixture.GaussianMixture(n_component, covariance_type='full', random_state=0).fit(X_train)\n",
    "X_train_orig['cluster'] = gmm_model.predict(X_train)"
   ]
  },
  {
   "cell_type": "code",
   "execution_count": 25,
   "metadata": {
    "ExecuteTime": {
     "end_time": "2021-06-13T13:29:51.007106Z",
     "start_time": "2021-06-13T13:29:50.983317Z"
    },
    "code_folding": [
     0,
     26
    ]
   },
   "outputs": [],
   "source": [
    "def compute_inf(drop_idx):\n",
    "    clf_new = LogisticRegression(input_size=X_train.shape[-1])\n",
    "    clf_new.load_weights_from_another_model(clf)\n",
    "    X = np.delete(X_train, drop_idx, 0)\n",
    "    y = y_train.drop(index=drop_idx, inplace=False)\n",
    "    clf_new.fit(np.array(X), np.array(y))\n",
    "    y_pred = clf_new.predict_proba(np.array(X_test))\n",
    "    acc = computeAccuracy(np.array(y_test), y_pred)\n",
    "    loss = loss_func(clf_new, np.array(X_test), np.array(y_test)).detach().numpy()\n",
    "    if metric == 0:\n",
    "        inf_gt = computeFairness(y_pred, X_test_orig, y_test, 0, dataset) - spd_0\n",
    "    elif metric == 1:\n",
    "        inf_gt = computeFairness(y_pred, X_test_orig, y_test, 1, dataset) - tpr_parity_0\n",
    "    elif metric == 2:\n",
    "        inf_gt = computeFairness(y_pred, X_test_orig, y_test, 2, dataset) - predictive_parity_0\n",
    "    # First-order subset influence\n",
    "    del_f_1 = 0            \n",
    "    for i in range(len(drop_idx)):\n",
    "        del_f_1 += infs_1[drop_idx[i]]\n",
    "\n",
    "    # Second-order subset influence\n",
    "    params_f_2 = second_order_influence(clf, X_train, y_train, drop_idx, del_L_del_theta)\n",
    "    del_f_2 = np.dot(v1.transpose(), params_f_2)\n",
    "\n",
    "    return inf_gt, del_f_1, del_f_2, acc, loss\n",
    "\n",
    "def compute_mu_sigma(cluster_ids):\n",
    "    subset_idxs = X_train_orig[X_train_orig['cluster']==int(cluster_ids[0])].index\n",
    "    if len(cluster_ids) > 1:\n",
    "        for cluster_id in cluster_ids[1:]:\n",
    "            subset_idxs = subset_idxs.union(X_train_orig[X_train_orig['cluster']==cluster_id].index)\n",
    "        # re-estimate mean and covariance\n",
    "        re_est_model = mixture.GaussianMixture(1, covariance_type='full', random_state=0).fit(X_train[subset_idxs])\n",
    "        mu = re_est_model.means_[0]\n",
    "        sigma = re_est_model.covariances_[0]\n",
    "    else:\n",
    "        cluster_id = cluster_ids[0]\n",
    "        mu, sigma = gmm_model.means_[cluster_id], gmm_model.covariances_[cluster_id]\n",
    "    return mu, sigma"
   ]
  },
  {
   "cell_type": "code",
   "execution_count": 26,
   "metadata": {
    "ExecuteTime": {
     "end_time": "2021-06-13T13:29:51.029572Z",
     "start_time": "2021-06-13T13:29:51.012692Z"
    },
    "code_folding": [
     1
    ]
   },
   "outputs": [],
   "source": [
    "# networkx visualization, FROM: https://stackoverflow.com/questions/29586520/can-one-get-hierarchical-graphs-from-networkx-with-python-3/29597209#29597209\n",
    "def hierarchy_pos(G, root=None, width=1., vert_gap = 0.2, vert_loc = 0, xcenter = 0.5):\n",
    "\n",
    "    '''\n",
    "    From Joel's answer at https://stackoverflow.com/a/29597209/2966723.  \n",
    "    Licensed under Creative Commons Attribution-Share Alike \n",
    "    \n",
    "    If the graph is a tree this will return the positions to plot this in a \n",
    "    hierarchical layout.\n",
    "    \n",
    "    G: the graph (must be a tree)\n",
    "    \n",
    "    root: the root node of current branch \n",
    "    - if the tree is directed and this is not given, \n",
    "      the root will be found and used\n",
    "    - if the tree is directed and this is given, then \n",
    "      the positions will be just for the descendants of this node.\n",
    "    - if the tree is undirected and not given, \n",
    "      then a random choice will be used.\n",
    "    \n",
    "    width: horizontal space allocated for this branch - avoids overlap with other branches\n",
    "    \n",
    "    vert_gap: gap between levels of hierarchy\n",
    "    \n",
    "    vert_loc: vertical location of root\n",
    "    \n",
    "    xcenter: horizontal location of root\n",
    "    '''\n",
    "    if not nx.is_tree(G):\n",
    "        raise TypeError('cannot use hierarchy_pos on a graph that is not a tree')\n",
    "\n",
    "    if root is None:\n",
    "        if isinstance(G, nx.DiGraph):\n",
    "            root = next(iter(nx.topological_sort(G)))  #allows back compatibility with nx version 1.11\n",
    "        else:\n",
    "            root = random.choice(list(G.nodes))\n",
    "\n",
    "    def _hierarchy_pos(G, root, width=1., vert_gap = 0.2, vert_loc = 0, xcenter = 0.5, pos = None, parent = None):\n",
    "        '''\n",
    "        see hierarchy_pos docstring for most arguments\n",
    "\n",
    "        pos: a dict saying where all nodes go if they have been assigned\n",
    "        parent: parent of this branch. - only affects it if non-directed\n",
    "\n",
    "        '''\n",
    "    \n",
    "        if pos is None:\n",
    "            pos = {root:(xcenter,vert_loc)}\n",
    "        else:\n",
    "            pos[root] = (xcenter, vert_loc)\n",
    "        children = list(G.neighbors(root))\n",
    "        if not isinstance(G, nx.DiGraph) and parent is not None:\n",
    "            children.remove(parent)  \n",
    "        if len(children)!=0:\n",
    "            dx = width/len(children) \n",
    "            nextx = xcenter - width/2 - dx/2\n",
    "            for child in children:\n",
    "                nextx += dx\n",
    "                pos = _hierarchy_pos(G,child, width = dx, vert_gap = vert_gap, \n",
    "                                    vert_loc = vert_loc-vert_gap, xcenter=nextx,\n",
    "                                    pos=pos, parent = root)\n",
    "        return pos\n",
    "\n",
    "            \n",
    "    return _hierarchy_pos(G, root, width, vert_gap, vert_loc, xcenter)"
   ]
  },
  {
   "cell_type": "code",
   "execution_count": 27,
   "metadata": {
    "ExecuteTime": {
     "end_time": "2021-06-13T13:29:51.043792Z",
     "start_time": "2021-06-13T13:29:51.033023Z"
    },
    "code_folding": [
     0
    ]
   },
   "outputs": [],
   "source": [
    "def KL(mu1, sigma1, mu2, sigma2):\n",
    "    return 1/2*(np.log(np.linalg.det(sigma2)/np.linalg.det(sigma1))\\\n",
    "                - len(mu1) + np.dot(np.dot((mu1-mu2).T, np.linalg.inv(sigma2)), (mu1-mu2))\\\n",
    "               + np.trace(np.dot(np.linalg.inv(sigma2), sigma1)))"
   ]
  },
  {
   "cell_type": "code",
   "execution_count": 28,
   "metadata": {
    "ExecuteTime": {
     "end_time": "2021-06-13T13:29:54.436358Z",
     "start_time": "2021-06-13T13:29:51.052918Z"
    }
   },
   "outputs": [],
   "source": [
    "# calculate influence func for all single cluster\n",
    "gts = []\n",
    "firsts = []\n",
    "seconds = []\n",
    "acc_losses = []\n",
    "\n",
    "for idx in range(n_component):\n",
    "    gt, first, second, acc, loss = compute_inf(drop_idx=(X_train_orig[X_train_orig['cluster']==idx].index))\n",
    "    gts.append(gt)\n",
    "    firsts.append(first)\n",
    "    seconds.append(second)\n",
    "    acc_losses.append((acc, loss))"
   ]
  },
  {
   "cell_type": "code",
   "execution_count": 29,
   "metadata": {
    "ExecuteTime": {
     "end_time": "2021-06-13T13:30:16.555238Z",
     "start_time": "2021-06-13T13:29:54.442614Z"
    }
   },
   "outputs": [
    {
     "name": "stdout",
     "output_type": "stream",
     "text": [
      "iter5: remain individual: 7\n",
      "iter10: remain individual: 2\n"
     ]
    }
   ],
   "source": [
    "# build tree from bottom up based on heuristics\n",
    "G = nx.DiGraph()\n",
    "remain = set(range(n_component))\n",
    "pool = collections.OrderedDict()\n",
    "record_pool = collections.OrderedDict()\n",
    "iter_cnt = 0\n",
    "\n",
    "y_pred = clf.predict_proba(np.array(X_test))\n",
    "acc_0 = computeAccuracy(np.array(y_test), y_pred)\n",
    "loss_0 = loss_func(clf, np.array(X_test), np.array(y_test)).detach().numpy()\n",
    "\n",
    "for i in range(n_component):\n",
    "    G.add_node(str(i))\n",
    "    mu, sigma = compute_mu_sigma(cluster_ids=[i])\n",
    "    pool[str(i)] = (gts[i], firsts[i], seconds[i], mu, sigma, *acc_losses[i])\n",
    "    record_pool[str(i)] = (gts[i], firsts[i], seconds[i], mu, sigma, *acc_losses[i])\n",
    "while len(pool.values()) > 1:\n",
    "    if len(pool.values()) == 2:\n",
    "        name1, name2 = list(pool.keys())\n",
    "        merged_name = 'All'\n",
    "        G.add_node(merged_name)  # root\n",
    "        G.add_edge(merged_name, name1)\n",
    "        G.add_edge(merged_name, name2)\n",
    "        break\n",
    "    merged_flag = 0\n",
    "    max_inf_idx = np.argmax([t[2] for t in pool.values()])\n",
    "    max_name = list(pool.keys())[max_inf_idx]\n",
    "    cluster_id_ls = [int(name) for name in max_name.split('_')]\n",
    "    mu1, sigma1 = pool[max_name][3:5]\n",
    "    data_idx = X_train_orig[X_train_orig['cluster']==int(cluster_id_ls[0])].index\n",
    "    if len(cluster_id_ls) > 1:\n",
    "        for cluster_id in cluster_id_ls[1:]:\n",
    "            data_idx = data_idx.union(X_train_orig[X_train_orig['cluster']==cluster_id].index)\n",
    "    \n",
    "    KLs = [KL(mu1, sigma1, mu2, sigma2) for mu2, sigma2 in [(t[3], t[4]) for t in pool.values()]]\n",
    "    best_match_idx = np.argmax(KLs)\n",
    "    best_match_name = list(pool.keys())[best_match_idx]\n",
    "    merged_name = max_name + '_' + best_match_name\n",
    "    merged_cluster_id_ls = cluster_id_ls + [int(name) for name in merged_name.split('_')]\n",
    "    merged_idx = X_train_orig[X_train_orig['cluster']==int(merged_cluster_id_ls[0])].index\n",
    "    for cluster_id in merged_cluster_id_ls[1:]:\n",
    "        merged_idx = merged_idx.union(X_train_orig[X_train_orig['cluster']==cluster_id].index)\n",
    "\n",
    "    gt, first, second, acc, loss = compute_inf(drop_idx=merged_idx)\n",
    "    mu, sigma = compute_mu_sigma(cluster_ids=merged_cluster_id_ls)\n",
    "    pool[merged_name] = (gt, first, second, mu, sigma, acc, loss)\n",
    "    record_pool[merged_name] = (gt, first, second, mu, sigma, acc, loss)\n",
    "    pool.pop(max_name)\n",
    "    pool.pop(best_match_name)\n",
    "    if len(max_name.split('_')) == 1:\n",
    "        remain.remove(int(max_name))\n",
    "    if len(best_match_name.split('_')) == 1:\n",
    "        remain.remove(int(best_match_name))\n",
    "    \n",
    "    G.add_node(merged_name)  # root\n",
    "    G.add_edge(merged_name, max_name)\n",
    "    G.add_edge(merged_name, best_match_name)\n",
    "    iter_cnt += 1\n",
    "    if iter_cnt % 5 == 0:\n",
    "        print(f'iter{iter_cnt}: remain individual: {len(remain)}')"
   ]
  },
  {
   "cell_type": "code",
   "execution_count": 30,
   "metadata": {
    "ExecuteTime": {
     "end_time": "2021-06-13T13:30:17.161314Z",
     "start_time": "2021-06-13T13:30:16.558968Z"
    }
   },
   "outputs": [
    {
     "data": {
      "image/png": "[encoded data removed]",
      "text/plain": [
       "<Figure size 432x288 with 1 Axes>"
      ]
     },
     "metadata": {},
     "output_type": "display_data"
    }
   ],
   "source": [
    "# pos = hierarchy_pos(G, 'All')\n",
    "pos = graphviz_layout(G, prog='dot', root='All')\n",
    "nx.draw(G, pos, with_labels=False, arrows=True)\n",
    "labels = {}    \n",
    "for node in G.nodes():\n",
    "    if len(node.split('_'))==1:\n",
    "        #set the node name as the key and the label as its value \n",
    "        labels[node] = node\n",
    "nx.draw_networkx_labels(G, pos,labels, font_size=16, font_color='w')\n",
    "plt.show()"
   ]
  },
  {
   "cell_type": "code",
   "execution_count": 31,
   "metadata": {
    "ExecuteTime": {
     "end_time": "2021-06-13T13:30:17.269656Z",
     "start_time": "2021-06-13T13:30:17.165821Z"
    }
   },
   "outputs": [],
   "source": [
    "names = G.nodes()\n",
    "nodes = []\n",
    "first_infs = []\n",
    "second_infs = []\n",
    "gt_infs = []\n",
    "fractionRows = []\n",
    "accs = []\n",
    "losses = []\n",
    "for node in names:\n",
    "    if node != 'All':\n",
    "        info = record_pool[node]\n",
    "        nodes.append(node)\n",
    "        gt_infs.append(info[0])\n",
    "        first_infs.append(info[1])\n",
    "        second_infs.append(info[2])\n",
    "        accs.append(info[5])\n",
    "        losses.append(info[6])\n",
    "\n",
    "        cluster_ids = node.split('_')\n",
    "        idxs = X_train_orig[X_train_orig['cluster']==int(cluster_ids[0])].index\n",
    "        if len(cluster_ids) > 1:\n",
    "            for cluster_id in cluster_ids:\n",
    "                idxs = idxs.union(X_train_orig[X_train_orig['cluster']==int(cluster_id)].index)\n",
    "        fractionRows.append(len(idxs)/len(X_train_orig))"
   ]
  },
  {
   "cell_type": "code",
   "execution_count": 32,
   "metadata": {
    "ExecuteTime": {
     "end_time": "2021-06-13T13:30:17.290138Z",
     "start_time": "2021-06-13T13:30:17.274680Z"
    }
   },
   "outputs": [],
   "source": [
    "expl = [nodes, first_infs, second_infs, gt_infs, fractionRows, accs, losses]\n",
    "expl = (np.array(expl).T).tolist()\n",
    "explanations = pd.DataFrame(expl, columns=[\"node\", \"first_order_influences\", \"second_order_influences\", \"gt_influences\", \"fractionRows\", \"accuracies\", \"losses\"])"
   ]
  },
  {
   "cell_type": "code",
   "execution_count": 33,
   "metadata": {
    "ExecuteTime": {
     "end_time": "2021-06-13T13:30:17.340670Z",
     "start_time": "2021-06-13T13:30:17.295687Z"
    },
    "scrolled": false
   },
   "outputs": [
    {
     "data": {
      "text/html": [
       "<div>\n",
       "<style scoped>\n",
       "    .dataframe tbody tr th:only-of-type {\n",
       "        vertical-align: middle;\n",
       "    }\n",
       "\n",
       "    .dataframe tbody tr th {\n",
       "        vertical-align: top;\n",
       "    }\n",
       "\n",
       "    .dataframe thead th {\n",
       "        text-align: right;\n",
       "    }\n",
       "</style>\n",
       "<table border=\"1\" class=\"dataframe\">\n",
       "  <thead>\n",
       "    <tr style=\"text-align: right;\">\n",
       "      <th></th>\n",
       "      <th>node</th>\n",
       "      <th>first_order_influences</th>\n",
       "      <th>second_order_influences</th>\n",
       "      <th>gt_influences</th>\n",
       "      <th>fractionRows</th>\n",
       "      <th>accuracies</th>\n",
       "      <th>losses</th>\n",
       "    </tr>\n",
       "  </thead>\n",
       "  <tbody>\n",
       "    <tr>\n",
       "      <th>25</th>\n",
       "      <td>5_13_3_10_11_2_4_0_9_7_8_1</td>\n",
       "      <td>-0.00976025684234589</td>\n",
       "      <td>0.1548004977653079</td>\n",
       "      <td>-0.08780220774024194</td>\n",
       "      <td>0.90625</td>\n",
       "      <td>0.605</td>\n",
       "      <td>0.89788306</td>\n",
       "    </tr>\n",
       "    <tr>\n",
       "      <th>24</th>\n",
       "      <td>5_13_3_10_11_2_4_0_9_7_8</td>\n",
       "      <td>-0.01404526785278566</td>\n",
       "      <td>0.0843766782510098</td>\n",
       "      <td>-0.08836673742189305</td>\n",
       "      <td>0.87625</td>\n",
       "      <td>0.66</td>\n",
       "      <td>0.65509737</td>\n",
       "    </tr>\n",
       "    <tr>\n",
       "      <th>18</th>\n",
       "      <td>5_13_3_10_11</td>\n",
       "      <td>0.027225481216634283</td>\n",
       "      <td>0.04746845146542663</td>\n",
       "      <td>0.048989158449694536</td>\n",
       "      <td>0.34375</td>\n",
       "      <td>0.725</td>\n",
       "      <td>0.5425491</td>\n",
       "    </tr>\n",
       "    <tr>\n",
       "      <th>20</th>\n",
       "      <td>5_13_3_10_11_2_4</td>\n",
       "      <td>0.016896009722561712</td>\n",
       "      <td>0.04522658712975479</td>\n",
       "      <td>0.03778258576057858</td>\n",
       "      <td>0.51125</td>\n",
       "      <td>0.73</td>\n",
       "      <td>0.5312014</td>\n",
       "    </tr>\n",
       "    <tr>\n",
       "      <th>19</th>\n",
       "      <td>5_13_3_10_11_2</td>\n",
       "      <td>0.016368625843613604</td>\n",
       "      <td>0.03991721165965768</td>\n",
       "      <td>0.0357318644644693</td>\n",
       "      <td>0.4325</td>\n",
       "      <td>0.735</td>\n",
       "      <td>0.5342085</td>\n",
       "    </tr>\n",
       "    <tr>\n",
       "      <th>21</th>\n",
       "      <td>5_13_3_10_11_2_4_0</td>\n",
       "      <td>0.011660086029725734</td>\n",
       "      <td>0.03930025377479199</td>\n",
       "      <td>0.027224369603209286</td>\n",
       "      <td>0.595</td>\n",
       "      <td>0.72</td>\n",
       "      <td>0.5282197</td>\n",
       "    </tr>\n",
       "    <tr>\n",
       "      <th>22</th>\n",
       "      <td>5_13_3_10_11_2_4_0_9</td>\n",
       "      <td>-0.003857813223377335</td>\n",
       "      <td>0.038118381625429854</td>\n",
       "      <td>0.05550597930996448</td>\n",
       "      <td>0.68125</td>\n",
       "      <td>0.7</td>\n",
       "      <td>0.6057876</td>\n",
       "    </tr>\n",
       "    <tr>\n",
       "      <th>23</th>\n",
       "      <td>5_13_3_10_11_2_4_0_9_7</td>\n",
       "      <td>-0.007225102287880478</td>\n",
       "      <td>0.03682645610796986</td>\n",
       "      <td>-0.025475812227159556</td>\n",
       "      <td>0.82</td>\n",
       "      <td>0.73</td>\n",
       "      <td>0.71182895</td>\n",
       "    </tr>\n",
       "    <tr>\n",
       "      <th>15</th>\n",
       "      <td>5_13_3</td>\n",
       "      <td>0.015688910231261028</td>\n",
       "      <td>0.02739596375999312</td>\n",
       "      <td>0.026469978131353877</td>\n",
       "      <td>0.28875</td>\n",
       "      <td>0.73</td>\n",
       "      <td>0.542212</td>\n",
       "    </tr>\n",
       "    <tr>\n",
       "      <th>14</th>\n",
       "      <td>5_13</td>\n",
       "      <td>0.015440875220330922</td>\n",
       "      <td>0.027103042372616112</td>\n",
       "      <td>0.024458888079971097</td>\n",
       "      <td>0.27625</td>\n",
       "      <td>0.74</td>\n",
       "      <td>0.53787196</td>\n",
       "    </tr>\n",
       "    <tr>\n",
       "      <th>5</th>\n",
       "      <td>5</td>\n",
       "      <td>0.012720703605584433</td>\n",
       "      <td>0.02286599274686741</td>\n",
       "      <td>0.026299428776837996</td>\n",
       "      <td>0.26875</td>\n",
       "      <td>0.735</td>\n",
       "      <td>0.53444076</td>\n",
       "    </tr>\n",
       "    <tr>\n",
       "      <th>6</th>\n",
       "      <td>6</td>\n",
       "      <td>0.018078882499951935</td>\n",
       "      <td>0.02234648946073493</td>\n",
       "      <td>0.023693262576125584</td>\n",
       "      <td>0.0775</td>\n",
       "      <td>0.755</td>\n",
       "      <td>0.508802</td>\n",
       "    </tr>\n",
       "    <tr>\n",
       "      <th>16</th>\n",
       "      <td>5_13_3_10</td>\n",
       "      <td>0.011210223057895242</td>\n",
       "      <td>0.022231055489365728</td>\n",
       "      <td>0.020432405266910814</td>\n",
       "      <td>0.30125</td>\n",
       "      <td>0.73</td>\n",
       "      <td>0.54144925</td>\n",
       "    </tr>\n",
       "    <tr>\n",
       "      <th>11</th>\n",
       "      <td>11</td>\n",
       "      <td>0.016015258158739033</td>\n",
       "      <td>0.01730245984691725</td>\n",
       "      <td>0.016212845803238563</td>\n",
       "      <td>0.0425</td>\n",
       "      <td>0.755</td>\n",
       "      <td>0.5015657</td>\n",
       "    </tr>\n",
       "    <tr>\n",
       "      <th>17</th>\n",
       "      <td>6_12</td>\n",
       "      <td>0.010292381020876021</td>\n",
       "      <td>0.014457058635571375</td>\n",
       "      <td>0.020745734730735488</td>\n",
       "      <td>0.09375</td>\n",
       "      <td>0.755</td>\n",
       "      <td>0.51224643</td>\n",
       "    </tr>\n",
       "    <tr>\n",
       "      <th>1</th>\n",
       "      <td>1</td>\n",
       "      <td>0.004285011010439774</td>\n",
       "      <td>0.004810474474227796</td>\n",
       "      <td>0.0044388128910214375</td>\n",
       "      <td>0.03</td>\n",
       "      <td>0.755</td>\n",
       "      <td>0.512495</td>\n",
       "    </tr>\n",
       "    <tr>\n",
       "      <th>13</th>\n",
       "      <td>13</td>\n",
       "      <td>0.0027201716147464902</td>\n",
       "      <td>0.002799251323318705</td>\n",
       "      <td>-0.0022091300459577967</td>\n",
       "      <td>0.0075</td>\n",
       "      <td>0.76</td>\n",
       "      <td>0.51015735</td>\n",
       "    </tr>\n",
       "    <tr>\n",
       "      <th>4</th>\n",
       "      <td>4</td>\n",
       "      <td>0.0005273838789481186</td>\n",
       "      <td>-5.485017778537882e-05</td>\n",
       "      <td>-0.0007003483828157409</td>\n",
       "      <td>0.07875</td>\n",
       "      <td>0.765</td>\n",
       "      <td>0.49882317</td>\n",
       "    </tr>\n",
       "    <tr>\n",
       "      <th>9</th>\n",
       "      <td>9</td>\n",
       "      <td>-0.015517899253103077</td>\n",
       "      <td>-0.020177897067754816</td>\n",
       "      <td>-0.020784251415170707</td>\n",
       "      <td>0.08625</td>\n",
       "      <td>0.76</td>\n",
       "      <td>0.5134407</td>\n",
       "    </tr>\n",
       "    <tr>\n",
       "      <th>2</th>\n",
       "      <td>2</td>\n",
       "      <td>-0.01085685537302066</td>\n",
       "      <td>-0.011187345335289811</td>\n",
       "      <td>-0.008876100974157364</td>\n",
       "      <td>0.08875</td>\n",
       "      <td>0.765</td>\n",
       "      <td>0.5014971</td>\n",
       "    </tr>\n",
       "    <tr>\n",
       "      <th>8</th>\n",
       "      <td>8</td>\n",
       "      <td>-0.006820165564905177</td>\n",
       "      <td>-0.008718224402877122</td>\n",
       "      <td>-0.009788040653802454</td>\n",
       "      <td>0.05625</td>\n",
       "      <td>0.75</td>\n",
       "      <td>0.51053464</td>\n",
       "    </tr>\n",
       "    <tr>\n",
       "      <th>12</th>\n",
       "      <td>12</td>\n",
       "      <td>-0.00778650147907591</td>\n",
       "      <td>-0.008069744164192646</td>\n",
       "      <td>-0.003775046230293788</td>\n",
       "      <td>0.01625</td>\n",
       "      <td>0.745</td>\n",
       "      <td>0.50988173</td>\n",
       "    </tr>\n",
       "    <tr>\n",
       "      <th>0</th>\n",
       "      <td>0</td>\n",
       "      <td>-0.005235923692835988</td>\n",
       "      <td>-0.0057579550036156515</td>\n",
       "      <td>-0.006128128268755972</td>\n",
       "      <td>0.08375</td>\n",
       "      <td>0.76</td>\n",
       "      <td>0.50582755</td>\n",
       "    </tr>\n",
       "    <tr>\n",
       "      <th>10</th>\n",
       "      <td>10</td>\n",
       "      <td>-0.004478687173365789</td>\n",
       "      <td>-0.004673791866891815</td>\n",
       "      <td>-0.004472184390760914</td>\n",
       "      <td>0.0125</td>\n",
       "      <td>0.76</td>\n",
       "      <td>0.506695</td>\n",
       "    </tr>\n",
       "    <tr>\n",
       "      <th>7</th>\n",
       "      <td>7</td>\n",
       "      <td>-0.0033672890645031414</td>\n",
       "      <td>-0.0035179885476140926</td>\n",
       "      <td>-0.00280241090804334</td>\n",
       "      <td>0.13875</td>\n",
       "      <td>0.76</td>\n",
       "      <td>0.50525403</td>\n",
       "    </tr>\n",
       "    <tr>\n",
       "      <th>3</th>\n",
       "      <td>3</td>\n",
       "      <td>0.0002480350109301116</td>\n",
       "      <td>-0.00011807257165352865</td>\n",
       "      <td>0.0011726815253496614</td>\n",
       "      <td>0.0125</td>\n",
       "      <td>0.76</td>\n",
       "      <td>0.5089547</td>\n",
       "    </tr>\n",
       "  </tbody>\n",
       "</table>\n",
       "</div>"
      ],
      "text/plain": [
       "                          node  first_order_influences  \\\n",
       "25  5_13_3_10_11_2_4_0_9_7_8_1    -0.00976025684234589   \n",
       "24    5_13_3_10_11_2_4_0_9_7_8    -0.01404526785278566   \n",
       "18                5_13_3_10_11    0.027225481216634283   \n",
       "20            5_13_3_10_11_2_4    0.016896009722561712   \n",
       "19              5_13_3_10_11_2    0.016368625843613604   \n",
       "21          5_13_3_10_11_2_4_0    0.011660086029725734   \n",
       "22        5_13_3_10_11_2_4_0_9   -0.003857813223377335   \n",
       "23      5_13_3_10_11_2_4_0_9_7   -0.007225102287880478   \n",
       "15                      5_13_3    0.015688910231261028   \n",
       "14                        5_13    0.015440875220330922   \n",
       "5                            5    0.012720703605584433   \n",
       "6                            6    0.018078882499951935   \n",
       "16                   5_13_3_10    0.011210223057895242   \n",
       "11                          11    0.016015258158739033   \n",
       "17                        6_12    0.010292381020876021   \n",
       "1                            1    0.004285011010439774   \n",
       "13                          13   0.0027201716147464902   \n",
       "4                            4   0.0005273838789481186   \n",
       "9                            9   -0.015517899253103077   \n",
       "2                            2    -0.01085685537302066   \n",
       "8                            8   -0.006820165564905177   \n",
       "12                          12    -0.00778650147907591   \n",
       "0                            0   -0.005235923692835988   \n",
       "10                          10   -0.004478687173365789   \n",
       "7                            7  -0.0033672890645031414   \n",
       "3                            3   0.0002480350109301116   \n",
       "\n",
       "    second_order_influences           gt_influences fractionRows accuracies  \\\n",
       "25       0.1548004977653079    -0.08780220774024194      0.90625      0.605   \n",
       "24       0.0843766782510098    -0.08836673742189305      0.87625       0.66   \n",
       "18      0.04746845146542663    0.048989158449694536      0.34375      0.725   \n",
       "20      0.04522658712975479     0.03778258576057858      0.51125       0.73   \n",
       "19      0.03991721165965768      0.0357318644644693       0.4325      0.735   \n",
       "21      0.03930025377479199    0.027224369603209286        0.595       0.72   \n",
       "22     0.038118381625429854     0.05550597930996448      0.68125        0.7   \n",
       "23      0.03682645610796986   -0.025475812227159556         0.82       0.73   \n",
       "15      0.02739596375999312    0.026469978131353877      0.28875       0.73   \n",
       "14     0.027103042372616112    0.024458888079971097      0.27625       0.74   \n",
       "5       0.02286599274686741    0.026299428776837996      0.26875      0.735   \n",
       "6       0.02234648946073493    0.023693262576125584       0.0775      0.755   \n",
       "16     0.022231055489365728    0.020432405266910814      0.30125       0.73   \n",
       "11      0.01730245984691725    0.016212845803238563       0.0425      0.755   \n",
       "17     0.014457058635571375    0.020745734730735488      0.09375      0.755   \n",
       "1      0.004810474474227796   0.0044388128910214375         0.03      0.755   \n",
       "13     0.002799251323318705  -0.0022091300459577967       0.0075       0.76   \n",
       "4    -5.485017778537882e-05  -0.0007003483828157409      0.07875      0.765   \n",
       "9     -0.020177897067754816   -0.020784251415170707      0.08625       0.76   \n",
       "2     -0.011187345335289811   -0.008876100974157364      0.08875      0.765   \n",
       "8     -0.008718224402877122   -0.009788040653802454      0.05625       0.75   \n",
       "12    -0.008069744164192646   -0.003775046230293788      0.01625      0.745   \n",
       "0    -0.0057579550036156515   -0.006128128268755972      0.08375       0.76   \n",
       "10    -0.004673791866891815   -0.004472184390760914       0.0125       0.76   \n",
       "7    -0.0035179885476140926    -0.00280241090804334      0.13875       0.76   \n",
       "3   -0.00011807257165352865   0.0011726815253496614       0.0125       0.76   \n",
       "\n",
       "        losses  \n",
       "25  0.89788306  \n",
       "24  0.65509737  \n",
       "18   0.5425491  \n",
       "20   0.5312014  \n",
       "19   0.5342085  \n",
       "21   0.5282197  \n",
       "22   0.6057876  \n",
       "23  0.71182895  \n",
       "15    0.542212  \n",
       "14  0.53787196  \n",
       "5   0.53444076  \n",
       "6     0.508802  \n",
       "16  0.54144925  \n",
       "11   0.5015657  \n",
       "17  0.51224643  \n",
       "1     0.512495  \n",
       "13  0.51015735  \n",
       "4   0.49882317  \n",
       "9    0.5134407  \n",
       "2    0.5014971  \n",
       "8   0.51053464  \n",
       "12  0.50988173  \n",
       "0   0.50582755  \n",
       "10    0.506695  \n",
       "7   0.50525403  \n",
       "3    0.5089547  "
      ]
     },
     "execution_count": 33,
     "metadata": {},
     "output_type": "execute_result"
    }
   ],
   "source": [
    "explanations.sort_values(by=['second_order_influences'], ascending=False)"
   ]
  },
  {
   "cell_type": "code",
   "execution_count": 34,
   "metadata": {
    "ExecuteTime": {
     "end_time": "2021-06-13T13:30:17.773108Z",
     "start_time": "2021-06-13T13:30:17.343827Z"
    }
   },
   "outputs": [
    {
     "data": {
      "text/plain": [
       "<matplotlib.legend.Legend at 0x123507630>"
      ]
     },
     "execution_count": 34,
     "metadata": {},
     "output_type": "execute_result"
    },
    {
     "data": {
      "image/png": "[encoded data removed]",
      "text/plain": [
       "<Figure size 360x360 with 1 Axes>"
      ]
     },
     "metadata": {
      "needs_background": "light"
     },
     "output_type": "display_data"
    }
   ],
   "source": [
    "plt.figure(figsize=(5,5))\n",
    "xs = (np.arange(30)-15)/15*0.2\n",
    "ys = xs\n",
    "# plt.xlim(-0.06, 0.04)\n",
    "# plt.ylim(-0.03, 0.03)\n",
    "plt.plot(xs, ys, 'g')\n",
    "plt.scatter(gt_infs, first_infs, s=10, c='blue', label='first')\n",
    "plt.scatter(gt_infs, second_infs, s=10, c='orange', label='second')\n",
    "plt.xlabel('ground truth influence')\n",
    "plt.ylabel('estimated influence')\n",
    "plt.legend()"
   ]
  },
  {
   "cell_type": "code",
   "execution_count": 35,
   "metadata": {
    "ExecuteTime": {
     "end_time": "2021-06-13T13:30:17.785929Z",
     "start_time": "2021-06-13T13:30:17.778530Z"
    }
   },
   "outputs": [],
   "source": [
    "deviation = np.abs(np.array(second_infs)-np.array(gt_infs))\n",
    "outliers = dict()\n",
    "for node_idx, node in enumerate(nodes):\n",
    "    # outliers\n",
    "    if deviation[node_idx] > 0.03:\n",
    "        outliers[node] = node"
   ]
  },
  {
   "cell_type": "code",
   "execution_count": 36,
   "metadata": {
    "ExecuteTime": {
     "end_time": "2021-06-13T13:30:18.245028Z",
     "start_time": "2021-06-13T13:30:17.790366Z"
    }
   },
   "outputs": [
    {
     "data": {
      "image/png": "[encoded data removed]",
      "text/plain": [
       "<Figure size 432x288 with 1 Axes>"
      ]
     },
     "metadata": {},
     "output_type": "display_data"
    }
   ],
   "source": [
    "pos = graphviz_layout(G, prog='dot', root='All')\n",
    "nx.draw(G, pos, with_labels=False, arrows=True)\n",
    "labels = dict() \n",
    "for node in G.nodes():\n",
    "    if len(node.split('_'))==1:\n",
    "        #set the node name as the key and the label as its value \n",
    "        labels[node] = node\n",
    "nx.draw_networkx_labels(G, pos, labels, font_size=16, font_color='w')\n",
    "\n",
    "outlier_labels = dict() \n",
    "for node_idx, node in list(enumerate(G.nodes()))[:-1]:\n",
    "    if node in outliers:\n",
    "        #set the node name as the key and the label as its value \n",
    "        outlier_labels[node] = fractionRows[node_idx]\n",
    "nx.draw_networkx_nodes(G, pos, outliers, node_color='r')\n",
    "nx.draw_networkx_labels(G, pos, outlier_labels, font_color='black')\n",
    "plt.show()"
   ]
  },
  {
   "cell_type": "code",
   "execution_count": 37,
   "metadata": {
    "ExecuteTime": {
     "end_time": "2021-06-13T13:30:18.698528Z",
     "start_time": "2021-06-13T13:30:18.248064Z"
    }
   },
   "outputs": [
    {
     "data": {
      "image/png": "[encoded data removed]",
      "text/plain": [
       "<Figure size 432x288 with 1 Axes>"
      ]
     },
     "metadata": {},
     "output_type": "display_data"
    }
   ],
   "source": [
    "pos = graphviz_layout(G, prog='dot', root='All')\n",
    "nx.draw(G, pos, with_labels=False, arrows=True)\n",
    "labels = dict() \n",
    "for node in G.nodes():\n",
    "    #set the node name as the key and the label as its value \n",
    "    labels[node] = node\n",
    "nx.draw_networkx_labels(G, pos, labels, font_size=8, font_color='black')\n",
    "\n",
    "outlier_labels = dict() \n",
    "for node_idx, node in list(enumerate(G.nodes()))[:-1]:\n",
    "    if node in outliers:\n",
    "        #set the node name as the key and the label as its value \n",
    "        outlier_labels[node] = fractionRows[node_idx]\n",
    "nx.draw_networkx_nodes(G, pos, outliers, node_color='r')\n",
    "nx.draw_networkx_labels(G, pos, outlier_labels, font_color='black')\n",
    "plt.show()"
   ]
  },
  {
   "cell_type": "code",
   "execution_count": 38,
   "metadata": {
    "ExecuteTime": {
     "end_time": "2021-06-13T13:30:19.326856Z",
     "start_time": "2021-06-13T13:30:18.702203Z"
    }
   },
   "outputs": [
    {
     "data": {
      "image/png": "[encoded data removed]",
      "text/plain": [
       "<Figure size 720x720 with 1 Axes>"
      ]
     },
     "metadata": {},
     "output_type": "display_data"
    }
   ],
   "source": [
    "# show bias reduction\n",
    "plt.figure(figsize=(10,10))\n",
    "pos = graphviz_layout(G, prog='dot', root='All')\n",
    "nx.draw(G, pos, with_labels=False, arrows=True)\n",
    "labels = dict() \n",
    "for node in G.nodes():\n",
    "    if len(node.split('_'))==1:\n",
    "        #set the node name as the key and the label as its value \n",
    "        labels[node] = node\n",
    "nx.draw_networkx_labels(G, pos, labels, font_size=16, font_color='w')\n",
    "\n",
    "bias_reduction_fraction_labels = dict() \n",
    "for node_idx, node in list(enumerate(G.nodes()))[:-1]:\n",
    "    bias_reduction_fraction_labels[node] = (round(second_infs[node_idx]/spd_0,4), fractionRows[node_idx])\n",
    "nx.draw_networkx_nodes(G, pos, outliers, node_color='r')\n",
    "nx.draw_networkx_labels(G, pos, bias_reduction_fraction_labels, font_color='black', font_size=10)\n",
    "plt.show()"
   ]
  },
  {
   "cell_type": "code",
   "execution_count": 39,
   "metadata": {
    "ExecuteTime": {
     "end_time": "2021-06-13T13:30:20.028561Z",
     "start_time": "2021-06-13T13:30:19.331301Z"
    }
   },
   "outputs": [
    {
     "data": {
      "image/png": "[encoded data removed]",
      "text/plain": [
       "<Figure size 720x720 with 1 Axes>"
      ]
     },
     "metadata": {},
     "output_type": "display_data"
    }
   ],
   "source": [
    "# show acc\n",
    "plt.figure(figsize=(10,10))\n",
    "pos = graphviz_layout(G, prog='dot', root='All')\n",
    "nx.draw(G, pos, with_labels=False, arrows=True)\n",
    "labels = dict() \n",
    "for node in G.nodes():\n",
    "    if len(node.split('_'))==1:\n",
    "        #set the node name as the key and the label as its value \n",
    "        labels[node] = node\n",
    "nx.draw_networkx_labels(G, pos, labels, font_size=16, font_color='w')\n",
    "\n",
    "acc_labels = dict() \n",
    "for node_idx, node in list(enumerate(G.nodes()))[:-1]:\n",
    "    acc_labels[node] = (accs[node_idx], fractionRows[node_idx])\n",
    "nx.draw_networkx_nodes(G, pos, outliers, node_color='r')\n",
    "nx.draw_networkx_labels(G, pos, acc_labels, font_color='black', font_size=10)\n",
    "plt.show()"
   ]
  },
  {
   "cell_type": "code",
   "execution_count": 40,
   "metadata": {
    "ExecuteTime": {
     "end_time": "2021-06-13T13:30:20.796704Z",
     "start_time": "2021-06-13T13:30:20.034073Z"
    }
   },
   "outputs": [
    {
     "data": {
      "image/png": "[encoded data removed]",
      "text/plain": [
       "<Figure size 720x720 with 1 Axes>"
      ]
     },
     "metadata": {},
     "output_type": "display_data"
    }
   ],
   "source": [
    "# show loss\n",
    "plt.figure(figsize=(10,10))\n",
    "pos = graphviz_layout(G, prog='dot', root='All')\n",
    "nx.draw(G, pos, with_labels=False, arrows=True)\n",
    "labels = dict() \n",
    "for node in G.nodes():\n",
    "    if len(node.split('_'))==1:\n",
    "        #set the node name as the key and the label as its value \n",
    "        labels[node] = node\n",
    "nx.draw_networkx_labels(G, pos, labels, font_size=16, font_color='w')\n",
    "\n",
    "loss_labels = dict() \n",
    "for node_idx, node in list(enumerate(G.nodes()))[:-1]:\n",
    "    loss_labels[node] = (round(float(losses[node_idx]), 3), fractionRows[node_idx])\n",
    "nx.draw_networkx_nodes(G, pos, outliers, node_color='r')\n",
    "nx.draw_networkx_labels(G, pos, loss_labels, font_color='black', font_size=10)\n",
    "plt.show()"
   ]
  },
  {
   "cell_type": "code",
   "execution_count": 41,
   "metadata": {
    "ExecuteTime": {
     "end_time": "2021-06-13T13:30:20.934150Z",
     "start_time": "2021-06-13T13:30:20.800510Z"
    }
   },
   "outputs": [],
   "source": [
    "utility = dict()\n",
    "for node_idx, node in list(enumerate(G.nodes()))[:-1]:\n",
    "    cluster_ids = node.split('_')\n",
    "    idxs = X_train_orig[X_train_orig['cluster']==int(cluster_ids[0])].index\n",
    "    if len(cluster_ids) > 1:\n",
    "        for cluster_id in cluster_ids:\n",
    "            idxs = idxs.union(X_train_orig[X_train_orig['cluster']==int(cluster_id)].index)\n",
    "    util = 1/len(idxs)*second_infs[node_idx]/spd_0*loss_0/(loss_0-losses[node_idx])\n",
    "    utility[node] = round(util, 4)"
   ]
  },
  {
   "cell_type": "code",
   "execution_count": 42,
   "metadata": {
    "ExecuteTime": {
     "end_time": "2021-06-13T13:30:21.647616Z",
     "start_time": "2021-06-13T13:30:20.936603Z"
    },
    "scrolled": false
   },
   "outputs": [
    {
     "data": {
      "image/png": "[encoded data removed]",
      "text/plain": [
       "<Figure size 720x720 with 1 Axes>"
      ]
     },
     "metadata": {},
     "output_type": "display_data"
    }
   ],
   "source": [
    "# show utility\n",
    "plt.figure(figsize=(10,10))\n",
    "pos = graphviz_layout(G, prog='dot', root='All')\n",
    "nx.draw(G, pos, with_labels=False, arrows=True)\n",
    "labels = dict() \n",
    "for node in G.nodes():\n",
    "    if len(node.split('_'))==1:\n",
    "        #set the node name as the key and the label as its value \n",
    "        labels[node] = node\n",
    "nx.draw_networkx_labels(G, pos, labels, font_size=16, font_color='w')\n",
    "nx.draw_networkx_nodes(G, pos, outliers, node_color='r')\n",
    "nx.draw_networkx_labels(G, pos, utility, font_color='black', font_size=10)\n",
    "plt.show()"
   ]
  },
  {
   "cell_type": "code",
   "execution_count": 43,
   "metadata": {
    "ExecuteTime": {
     "end_time": "2021-06-13T13:30:21.660151Z",
     "start_time": "2021-06-13T13:30:21.653449Z"
    }
   },
   "outputs": [],
   "source": [
    "max_util_node_idx = np.argmax([utility[i] for i in list(G.nodes())[:-1] if not(i in outliers)])"
   ]
  },
  {
   "cell_type": "code",
   "execution_count": 45,
   "metadata": {
    "ExecuteTime": {
     "end_time": "2021-06-13T13:32:00.246418Z",
     "start_time": "2021-06-13T13:32:00.232447Z"
    }
   },
   "outputs": [],
   "source": [
    "def get_all_leaf_successors(node):\n",
    "    successors = []\n",
    "    if len(node.split('_')) == 1:\n",
    "        successors.append(node)\n",
    "    else:\n",
    "        for node in list(G.successors(node)):\n",
    "            for node_successor in get_all_leaf_successors(node):\n",
    "                if len(node_successor.split('_')) == 1:\n",
    "                    successors.append(node_successor)\n",
    "    return successors\n",
    "\n",
    "def get_neighbour(node):\n",
    "    parent = list(G.predecessors(node))[0]\n",
    "    children_of_parent = set(G.successors(parent))\n",
    "    children_of_parent.remove(node)\n",
    "    return children_of_parent[0]\n",
    "\n",
    "def get_node_idx(node):\n",
    "    for node_idx, node_name in list(enumerate(G.nodes()))[:-1]:\n",
    "        if node_name == node:\n",
    "            return node_idx"
   ]
  },
  {
   "cell_type": "code",
   "execution_count": 49,
   "metadata": {
    "ExecuteTime": {
     "end_time": "2021-06-13T13:32:09.538825Z",
     "start_time": "2021-06-13T13:32:09.528919Z"
    }
   },
   "outputs": [],
   "source": [
    "# selected_node = '5_13_3_10_11'\n",
    "leaves = [(node, second_infs[node_idx]) for node_idx, node in list(enumerate(G.nodes()))[:-1] if\\\n",
    "          ((len(node.split('_'))==1)and not(node in outliers))]\n",
    "leaf_second_infs = [i[1] for i in leaves]\n",
    "selected_node = leaves[np.argmax(leaf_second_infs)][0]\n",
    "selected_node_inf = leaves[np.argmax(leaf_second_infs)][1]\n",
    "selected_node_idx = get_node_idx(selected_node)"
   ]
  },
  {
   "cell_type": "code",
   "execution_count": 50,
   "metadata": {
    "ExecuteTime": {
     "end_time": "2021-06-13T13:32:09.993910Z",
     "start_time": "2021-06-13T13:32:09.987107Z"
    }
   },
   "outputs": [],
   "source": [
    "current_second_inf = second_infs[selected_node_idx]\n",
    "merged_node_idx = get_node_idx(list(G.predecessors(selected_node))[0])\n",
    "merged_second_inf = second_infs[merged_node_idx]\n",
    "\n",
    "while (merged_second_inf > current_second_inf):\n",
    "    selected_node = list(G.predecessors(selected_node))[0]\n",
    "    selected_node_idx = get_node_idx(selected_node)\n",
    "    current_second_inf = second_infs[selected_node_idx]\n",
    "    merged_node_idx = get_node_idx(list(G.predecessors(selected_node))[0])\n",
    "    merged_second_inf = second_infs[merged_node_idx]"
   ]
  },
  {
   "cell_type": "code",
   "execution_count": 51,
   "metadata": {
    "ExecuteTime": {
     "end_time": "2021-06-13T13:32:12.887789Z",
     "start_time": "2021-06-13T13:32:12.877886Z"
    }
   },
   "outputs": [
    {
     "data": {
      "text/plain": [
       "'5_13_3'"
      ]
     },
     "execution_count": 51,
     "metadata": {},
     "output_type": "execute_result"
    }
   ],
   "source": [
    "selected_node\n",
    "# selected_node = '13'"
   ]
  },
  {
   "cell_type": "code",
   "execution_count": 52,
   "metadata": {
    "ExecuteTime": {
     "end_time": "2021-06-13T13:32:14.529568Z",
     "start_time": "2021-06-13T13:32:14.519888Z"
    }
   },
   "outputs": [
    {
     "data": {
      "text/plain": [
       "['5', '13', '3']"
      ]
     },
     "execution_count": 52,
     "metadata": {},
     "output_type": "execute_result"
    }
   ],
   "source": [
    "cluster_ids = get_all_leaf_successors(selected_node)\n",
    "cluster_ids"
   ]
  },
  {
   "cell_type": "code",
   "execution_count": 53,
   "metadata": {
    "ExecuteTime": {
     "end_time": "2021-06-13T13:32:15.070976Z",
     "start_time": "2021-06-13T13:32:15.057153Z"
    }
   },
   "outputs": [],
   "source": [
    "idxs = X_train_orig[X_train_orig['cluster']==int(cluster_ids[0])].index\n",
    "for cluster_id in cluster_ids:\n",
    "    idxs = idxs.union(X_train_orig[X_train_orig['cluster']==int(cluster_id)].index)"
   ]
  },
  {
   "cell_type": "code",
   "execution_count": 54,
   "metadata": {
    "ExecuteTime": {
     "end_time": "2021-06-13T13:32:15.784407Z",
     "start_time": "2021-06-13T13:32:15.774343Z"
    }
   },
   "outputs": [],
   "source": [
    "y_train_new = np.zeros(y_train.shape)\n",
    "X_train_new = X_train_no_preprocess.copy()\n",
    "# X_train_new = X_train_orig.copy()\n",
    "# del X_train_new['cluster']\n",
    "y_train_new[X_train_orig['cluster'].isin(cluster_ids)] = 1"
   ]
  },
  {
   "cell_type": "code",
   "execution_count": 56,
   "metadata": {
    "ExecuteTime": {
     "end_time": "2021-06-13T13:32:16.942288Z",
     "start_time": "2021-06-13T13:32:16.799857Z"
    }
   },
   "outputs": [
    {
     "data": {
      "text/html": [
       "<div>\n",
       "<style scoped>\n",
       "    .dataframe tbody tr th:only-of-type {\n",
       "        vertical-align: middle;\n",
       "    }\n",
       "\n",
       "    .dataframe tbody tr th {\n",
       "        vertical-align: top;\n",
       "    }\n",
       "\n",
       "    .dataframe thead th {\n",
       "        text-align: right;\n",
       "    }\n",
       "</style>\n",
       "<table border=\"1\" class=\"dataframe\">\n",
       "  <thead>\n",
       "    <tr style=\"text-align: right;\">\n",
       "      <th></th>\n",
       "      <th>status</th>\n",
       "      <th>duration</th>\n",
       "      <th>credit_hist</th>\n",
       "      <th>credit_amt</th>\n",
       "      <th>savings</th>\n",
       "      <th>employment</th>\n",
       "      <th>install_rate</th>\n",
       "      <th>debtors</th>\n",
       "      <th>residence</th>\n",
       "      <th>property</th>\n",
       "      <th>age</th>\n",
       "      <th>install_plans</th>\n",
       "      <th>num_credits</th>\n",
       "      <th>job</th>\n",
       "      <th>num_liable</th>\n",
       "      <th>telephone</th>\n",
       "      <th>foreign_worker</th>\n",
       "      <th>gender</th>\n",
       "    </tr>\n",
       "  </thead>\n",
       "  <tbody>\n",
       "    <tr>\n",
       "      <th>count</th>\n",
       "      <td>800.000000</td>\n",
       "      <td>800.000000</td>\n",
       "      <td>800.000000</td>\n",
       "      <td>800.00000</td>\n",
       "      <td>800.000000</td>\n",
       "      <td>800.000000</td>\n",
       "      <td>800.000000</td>\n",
       "      <td>800.000000</td>\n",
       "      <td>800.000000</td>\n",
       "      <td>800.000000</td>\n",
       "      <td>800.000000</td>\n",
       "      <td>800.000000</td>\n",
       "      <td>800.000000</td>\n",
       "      <td>800.000000</td>\n",
       "      <td>800.000000</td>\n",
       "      <td>800.000000</td>\n",
       "      <td>800.000000</td>\n",
       "      <td>800.000000</td>\n",
       "    </tr>\n",
       "    <tr>\n",
       "      <th>mean</th>\n",
       "      <td>1.567500</td>\n",
       "      <td>0.956250</td>\n",
       "      <td>1.462500</td>\n",
       "      <td>0.73875</td>\n",
       "      <td>1.125000</td>\n",
       "      <td>2.376250</td>\n",
       "      <td>2.967500</td>\n",
       "      <td>0.146250</td>\n",
       "      <td>2.852500</td>\n",
       "      <td>1.626250</td>\n",
       "      <td>0.201250</td>\n",
       "      <td>0.195000</td>\n",
       "      <td>1.406250</td>\n",
       "      <td>1.916250</td>\n",
       "      <td>1.145000</td>\n",
       "      <td>0.396250</td>\n",
       "      <td>0.962500</td>\n",
       "      <td>0.678750</td>\n",
       "    </tr>\n",
       "    <tr>\n",
       "      <th>std</th>\n",
       "      <td>1.257943</td>\n",
       "      <td>0.907119</td>\n",
       "      <td>1.079375</td>\n",
       "      <td>0.74242</td>\n",
       "      <td>1.595323</td>\n",
       "      <td>1.215126</td>\n",
       "      <td>1.123843</td>\n",
       "      <td>0.479738</td>\n",
       "      <td>1.090748</td>\n",
       "      <td>1.054965</td>\n",
       "      <td>0.401185</td>\n",
       "      <td>0.396449</td>\n",
       "      <td>0.573692</td>\n",
       "      <td>0.651741</td>\n",
       "      <td>0.352321</td>\n",
       "      <td>0.489423</td>\n",
       "      <td>0.190102</td>\n",
       "      <td>0.467249</td>\n",
       "    </tr>\n",
       "    <tr>\n",
       "      <th>min</th>\n",
       "      <td>0.000000</td>\n",
       "      <td>0.000000</td>\n",
       "      <td>0.000000</td>\n",
       "      <td>0.00000</td>\n",
       "      <td>0.000000</td>\n",
       "      <td>0.000000</td>\n",
       "      <td>1.000000</td>\n",
       "      <td>0.000000</td>\n",
       "      <td>1.000000</td>\n",
       "      <td>0.000000</td>\n",
       "      <td>0.000000</td>\n",
       "      <td>0.000000</td>\n",
       "      <td>1.000000</td>\n",
       "      <td>0.000000</td>\n",
       "      <td>1.000000</td>\n",
       "      <td>0.000000</td>\n",
       "      <td>0.000000</td>\n",
       "      <td>0.000000</td>\n",
       "    </tr>\n",
       "    <tr>\n",
       "      <th>25%</th>\n",
       "      <td>0.000000</td>\n",
       "      <td>0.000000</td>\n",
       "      <td>0.000000</td>\n",
       "      <td>0.00000</td>\n",
       "      <td>0.000000</td>\n",
       "      <td>2.000000</td>\n",
       "      <td>2.000000</td>\n",
       "      <td>0.000000</td>\n",
       "      <td>2.000000</td>\n",
       "      <td>1.000000</td>\n",
       "      <td>0.000000</td>\n",
       "      <td>0.000000</td>\n",
       "      <td>1.000000</td>\n",
       "      <td>2.000000</td>\n",
       "      <td>1.000000</td>\n",
       "      <td>0.000000</td>\n",
       "      <td>1.000000</td>\n",
       "      <td>0.000000</td>\n",
       "    </tr>\n",
       "    <tr>\n",
       "      <th>50%</th>\n",
       "      <td>1.000000</td>\n",
       "      <td>1.000000</td>\n",
       "      <td>2.000000</td>\n",
       "      <td>1.00000</td>\n",
       "      <td>0.000000</td>\n",
       "      <td>2.000000</td>\n",
       "      <td>3.000000</td>\n",
       "      <td>0.000000</td>\n",
       "      <td>3.000000</td>\n",
       "      <td>2.000000</td>\n",
       "      <td>0.000000</td>\n",
       "      <td>0.000000</td>\n",
       "      <td>1.000000</td>\n",
       "      <td>2.000000</td>\n",
       "      <td>1.000000</td>\n",
       "      <td>0.000000</td>\n",
       "      <td>1.000000</td>\n",
       "      <td>1.000000</td>\n",
       "    </tr>\n",
       "    <tr>\n",
       "      <th>75%</th>\n",
       "      <td>3.000000</td>\n",
       "      <td>1.000000</td>\n",
       "      <td>2.000000</td>\n",
       "      <td>1.00000</td>\n",
       "      <td>2.000000</td>\n",
       "      <td>4.000000</td>\n",
       "      <td>4.000000</td>\n",
       "      <td>0.000000</td>\n",
       "      <td>4.000000</td>\n",
       "      <td>3.000000</td>\n",
       "      <td>0.000000</td>\n",
       "      <td>0.000000</td>\n",
       "      <td>2.000000</td>\n",
       "      <td>2.000000</td>\n",
       "      <td>1.000000</td>\n",
       "      <td>1.000000</td>\n",
       "      <td>1.000000</td>\n",
       "      <td>1.000000</td>\n",
       "    </tr>\n",
       "    <tr>\n",
       "      <th>max</th>\n",
       "      <td>3.000000</td>\n",
       "      <td>3.000000</td>\n",
       "      <td>4.000000</td>\n",
       "      <td>2.00000</td>\n",
       "      <td>4.000000</td>\n",
       "      <td>4.000000</td>\n",
       "      <td>4.000000</td>\n",
       "      <td>2.000000</td>\n",
       "      <td>4.000000</td>\n",
       "      <td>3.000000</td>\n",
       "      <td>1.000000</td>\n",
       "      <td>1.000000</td>\n",
       "      <td>4.000000</td>\n",
       "      <td>3.000000</td>\n",
       "      <td>2.000000</td>\n",
       "      <td>1.000000</td>\n",
       "      <td>1.000000</td>\n",
       "      <td>1.000000</td>\n",
       "    </tr>\n",
       "  </tbody>\n",
       "</table>\n",
       "</div>"
      ],
      "text/plain": [
       "           status    duration  credit_hist  credit_amt     savings  \\\n",
       "count  800.000000  800.000000   800.000000   800.00000  800.000000   \n",
       "mean     1.567500    0.956250     1.462500     0.73875    1.125000   \n",
       "std      1.257943    0.907119     1.079375     0.74242    1.595323   \n",
       "min      0.000000    0.000000     0.000000     0.00000    0.000000   \n",
       "25%      0.000000    0.000000     0.000000     0.00000    0.000000   \n",
       "50%      1.000000    1.000000     2.000000     1.00000    0.000000   \n",
       "75%      3.000000    1.000000     2.000000     1.00000    2.000000   \n",
       "max      3.000000    3.000000     4.000000     2.00000    4.000000   \n",
       "\n",
       "       employment  install_rate     debtors   residence    property  \\\n",
       "count  800.000000    800.000000  800.000000  800.000000  800.000000   \n",
       "mean     2.376250      2.967500    0.146250    2.852500    1.626250   \n",
       "std      1.215126      1.123843    0.479738    1.090748    1.054965   \n",
       "min      0.000000      1.000000    0.000000    1.000000    0.000000   \n",
       "25%      2.000000      2.000000    0.000000    2.000000    1.000000   \n",
       "50%      2.000000      3.000000    0.000000    3.000000    2.000000   \n",
       "75%      4.000000      4.000000    0.000000    4.000000    3.000000   \n",
       "max      4.000000      4.000000    2.000000    4.000000    3.000000   \n",
       "\n",
       "              age  install_plans  num_credits         job  num_liable  \\\n",
       "count  800.000000     800.000000   800.000000  800.000000  800.000000   \n",
       "mean     0.201250       0.195000     1.406250    1.916250    1.145000   \n",
       "std      0.401185       0.396449     0.573692    0.651741    0.352321   \n",
       "min      0.000000       0.000000     1.000000    0.000000    1.000000   \n",
       "25%      0.000000       0.000000     1.000000    2.000000    1.000000   \n",
       "50%      0.000000       0.000000     1.000000    2.000000    1.000000   \n",
       "75%      0.000000       0.000000     2.000000    2.000000    1.000000   \n",
       "max      1.000000       1.000000     4.000000    3.000000    2.000000   \n",
       "\n",
       "        telephone  foreign_worker      gender  \n",
       "count  800.000000      800.000000  800.000000  \n",
       "mean     0.396250        0.962500    0.678750  \n",
       "std      0.489423        0.190102    0.467249  \n",
       "min      0.000000        0.000000    0.000000  \n",
       "25%      0.000000        1.000000    0.000000  \n",
       "50%      0.000000        1.000000    1.000000  \n",
       "75%      1.000000        1.000000    1.000000  \n",
       "max      1.000000        1.000000    1.000000  "
      ]
     },
     "execution_count": 56,
     "metadata": {},
     "output_type": "execute_result"
    }
   ],
   "source": [
    "X_train_new.describe()"
   ]
  },
  {
   "cell_type": "code",
   "execution_count": 57,
   "metadata": {
    "ExecuteTime": {
     "end_time": "2021-06-13T13:32:21.388582Z",
     "start_time": "2021-06-13T13:32:21.283286Z"
    }
   },
   "outputs": [
    {
     "data": {
      "text/html": [
       "<div>\n",
       "<style scoped>\n",
       "    .dataframe tbody tr th:only-of-type {\n",
       "        vertical-align: middle;\n",
       "    }\n",
       "\n",
       "    .dataframe tbody tr th {\n",
       "        vertical-align: top;\n",
       "    }\n",
       "\n",
       "    .dataframe thead th {\n",
       "        text-align: right;\n",
       "    }\n",
       "</style>\n",
       "<table border=\"1\" class=\"dataframe\">\n",
       "  <thead>\n",
       "    <tr style=\"text-align: right;\">\n",
       "      <th></th>\n",
       "      <th>status</th>\n",
       "      <th>duration</th>\n",
       "      <th>credit_hist</th>\n",
       "      <th>credit_amt</th>\n",
       "      <th>savings</th>\n",
       "      <th>employment</th>\n",
       "      <th>install_rate</th>\n",
       "      <th>debtors</th>\n",
       "      <th>residence</th>\n",
       "      <th>property</th>\n",
       "      <th>age</th>\n",
       "      <th>install_plans</th>\n",
       "      <th>num_credits</th>\n",
       "      <th>job</th>\n",
       "      <th>num_liable</th>\n",
       "      <th>telephone</th>\n",
       "      <th>foreign_worker</th>\n",
       "      <th>gender</th>\n",
       "    </tr>\n",
       "  </thead>\n",
       "  <tbody>\n",
       "    <tr>\n",
       "      <th>count</th>\n",
       "      <td>6.000000</td>\n",
       "      <td>6.000000</td>\n",
       "      <td>6.000000</td>\n",
       "      <td>6.0</td>\n",
       "      <td>6.000000</td>\n",
       "      <td>6.000000</td>\n",
       "      <td>6.000000</td>\n",
       "      <td>6.0</td>\n",
       "      <td>6.000000</td>\n",
       "      <td>6.000000</td>\n",
       "      <td>6.000000</td>\n",
       "      <td>6.000000</td>\n",
       "      <td>6.000000</td>\n",
       "      <td>6.000000</td>\n",
       "      <td>6.0</td>\n",
       "      <td>6.000000</td>\n",
       "      <td>6.0</td>\n",
       "      <td>6.000000</td>\n",
       "    </tr>\n",
       "    <tr>\n",
       "      <th>mean</th>\n",
       "      <td>1.333333</td>\n",
       "      <td>0.166667</td>\n",
       "      <td>2.166667</td>\n",
       "      <td>0.0</td>\n",
       "      <td>1.333333</td>\n",
       "      <td>2.666667</td>\n",
       "      <td>3.166667</td>\n",
       "      <td>0.0</td>\n",
       "      <td>2.666667</td>\n",
       "      <td>1.833333</td>\n",
       "      <td>0.166667</td>\n",
       "      <td>0.166667</td>\n",
       "      <td>1.333333</td>\n",
       "      <td>1.333333</td>\n",
       "      <td>1.0</td>\n",
       "      <td>0.333333</td>\n",
       "      <td>1.0</td>\n",
       "      <td>0.666667</td>\n",
       "    </tr>\n",
       "    <tr>\n",
       "      <th>std</th>\n",
       "      <td>1.366260</td>\n",
       "      <td>0.408248</td>\n",
       "      <td>1.329160</td>\n",
       "      <td>0.0</td>\n",
       "      <td>2.065591</td>\n",
       "      <td>1.032796</td>\n",
       "      <td>1.329160</td>\n",
       "      <td>0.0</td>\n",
       "      <td>1.032796</td>\n",
       "      <td>0.752773</td>\n",
       "      <td>0.408248</td>\n",
       "      <td>0.408248</td>\n",
       "      <td>0.516398</td>\n",
       "      <td>0.516398</td>\n",
       "      <td>0.0</td>\n",
       "      <td>0.516398</td>\n",
       "      <td>0.0</td>\n",
       "      <td>0.516398</td>\n",
       "    </tr>\n",
       "    <tr>\n",
       "      <th>min</th>\n",
       "      <td>0.000000</td>\n",
       "      <td>0.000000</td>\n",
       "      <td>0.000000</td>\n",
       "      <td>0.0</td>\n",
       "      <td>0.000000</td>\n",
       "      <td>1.000000</td>\n",
       "      <td>1.000000</td>\n",
       "      <td>0.0</td>\n",
       "      <td>1.000000</td>\n",
       "      <td>1.000000</td>\n",
       "      <td>0.000000</td>\n",
       "      <td>0.000000</td>\n",
       "      <td>1.000000</td>\n",
       "      <td>1.000000</td>\n",
       "      <td>1.0</td>\n",
       "      <td>0.000000</td>\n",
       "      <td>1.0</td>\n",
       "      <td>0.000000</td>\n",
       "    </tr>\n",
       "    <tr>\n",
       "      <th>25%</th>\n",
       "      <td>0.250000</td>\n",
       "      <td>0.000000</td>\n",
       "      <td>2.000000</td>\n",
       "      <td>0.0</td>\n",
       "      <td>0.000000</td>\n",
       "      <td>2.250000</td>\n",
       "      <td>2.500000</td>\n",
       "      <td>0.0</td>\n",
       "      <td>2.250000</td>\n",
       "      <td>1.250000</td>\n",
       "      <td>0.000000</td>\n",
       "      <td>0.000000</td>\n",
       "      <td>1.000000</td>\n",
       "      <td>1.000000</td>\n",
       "      <td>1.0</td>\n",
       "      <td>0.000000</td>\n",
       "      <td>1.0</td>\n",
       "      <td>0.250000</td>\n",
       "    </tr>\n",
       "    <tr>\n",
       "      <th>50%</th>\n",
       "      <td>1.000000</td>\n",
       "      <td>0.000000</td>\n",
       "      <td>2.000000</td>\n",
       "      <td>0.0</td>\n",
       "      <td>0.000000</td>\n",
       "      <td>3.000000</td>\n",
       "      <td>4.000000</td>\n",
       "      <td>0.0</td>\n",
       "      <td>3.000000</td>\n",
       "      <td>2.000000</td>\n",
       "      <td>0.000000</td>\n",
       "      <td>0.000000</td>\n",
       "      <td>1.000000</td>\n",
       "      <td>1.000000</td>\n",
       "      <td>1.0</td>\n",
       "      <td>0.000000</td>\n",
       "      <td>1.0</td>\n",
       "      <td>1.000000</td>\n",
       "    </tr>\n",
       "    <tr>\n",
       "      <th>75%</th>\n",
       "      <td>2.500000</td>\n",
       "      <td>0.000000</td>\n",
       "      <td>2.750000</td>\n",
       "      <td>0.0</td>\n",
       "      <td>3.000000</td>\n",
       "      <td>3.000000</td>\n",
       "      <td>4.000000</td>\n",
       "      <td>0.0</td>\n",
       "      <td>3.000000</td>\n",
       "      <td>2.000000</td>\n",
       "      <td>0.000000</td>\n",
       "      <td>0.000000</td>\n",
       "      <td>1.750000</td>\n",
       "      <td>1.750000</td>\n",
       "      <td>1.0</td>\n",
       "      <td>0.750000</td>\n",
       "      <td>1.0</td>\n",
       "      <td>1.000000</td>\n",
       "    </tr>\n",
       "    <tr>\n",
       "      <th>max</th>\n",
       "      <td>3.000000</td>\n",
       "      <td>1.000000</td>\n",
       "      <td>4.000000</td>\n",
       "      <td>0.0</td>\n",
       "      <td>4.000000</td>\n",
       "      <td>4.000000</td>\n",
       "      <td>4.000000</td>\n",
       "      <td>0.0</td>\n",
       "      <td>4.000000</td>\n",
       "      <td>3.000000</td>\n",
       "      <td>1.000000</td>\n",
       "      <td>1.000000</td>\n",
       "      <td>2.000000</td>\n",
       "      <td>2.000000</td>\n",
       "      <td>1.0</td>\n",
       "      <td>1.000000</td>\n",
       "      <td>1.0</td>\n",
       "      <td>1.000000</td>\n",
       "    </tr>\n",
       "  </tbody>\n",
       "</table>\n",
       "</div>"
      ],
      "text/plain": [
       "         status  duration  credit_hist  credit_amt   savings  employment  \\\n",
       "count  6.000000  6.000000     6.000000         6.0  6.000000    6.000000   \n",
       "mean   1.333333  0.166667     2.166667         0.0  1.333333    2.666667   \n",
       "std    1.366260  0.408248     1.329160         0.0  2.065591    1.032796   \n",
       "min    0.000000  0.000000     0.000000         0.0  0.000000    1.000000   \n",
       "25%    0.250000  0.000000     2.000000         0.0  0.000000    2.250000   \n",
       "50%    1.000000  0.000000     2.000000         0.0  0.000000    3.000000   \n",
       "75%    2.500000  0.000000     2.750000         0.0  3.000000    3.000000   \n",
       "max    3.000000  1.000000     4.000000         0.0  4.000000    4.000000   \n",
       "\n",
       "       install_rate  debtors  residence  property       age  install_plans  \\\n",
       "count      6.000000      6.0   6.000000  6.000000  6.000000       6.000000   \n",
       "mean       3.166667      0.0   2.666667  1.833333  0.166667       0.166667   \n",
       "std        1.329160      0.0   1.032796  0.752773  0.408248       0.408248   \n",
       "min        1.000000      0.0   1.000000  1.000000  0.000000       0.000000   \n",
       "25%        2.500000      0.0   2.250000  1.250000  0.000000       0.000000   \n",
       "50%        4.000000      0.0   3.000000  2.000000  0.000000       0.000000   \n",
       "75%        4.000000      0.0   3.000000  2.000000  0.000000       0.000000   \n",
       "max        4.000000      0.0   4.000000  3.000000  1.000000       1.000000   \n",
       "\n",
       "       num_credits       job  num_liable  telephone  foreign_worker    gender  \n",
       "count     6.000000  6.000000         6.0   6.000000             6.0  6.000000  \n",
       "mean      1.333333  1.333333         1.0   0.333333             1.0  0.666667  \n",
       "std       0.516398  0.516398         0.0   0.516398             0.0  0.516398  \n",
       "min       1.000000  1.000000         1.0   0.000000             1.0  0.000000  \n",
       "25%       1.000000  1.000000         1.0   0.000000             1.0  0.250000  \n",
       "50%       1.000000  1.000000         1.0   0.000000             1.0  1.000000  \n",
       "75%       1.750000  1.750000         1.0   0.750000             1.0  1.000000  \n",
       "max       2.000000  2.000000         1.0   1.000000             1.0  1.000000  "
      ]
     },
     "execution_count": 57,
     "metadata": {},
     "output_type": "execute_result"
    }
   ],
   "source": [
    "X_train_new[X_train_orig['cluster']==13].describe()"
   ]
  },
  {
   "cell_type": "code",
   "execution_count": 59,
   "metadata": {
    "ExecuteTime": {
     "end_time": "2021-06-13T13:32:37.262362Z",
     "start_time": "2021-06-13T13:32:37.257160Z"
    }
   },
   "outputs": [],
   "source": [
    "decision_tree = DecisionTreeClassifier(random_state=0, max_depth=None)\n",
    "decision_tree.fit(X_train_new, y_train_new)"
   ]
  },
  {
   "cell_type": "code",
   "execution_count": null,
   "metadata": {
    "ExecuteTime": {
     "end_time": "2021-06-13T13:30:22.077653Z",
     "start_time": "2021-06-13T13:29:55.116Z"
    }
   },
   "outputs": [],
   "source": [
    "fig = plt.figure(figsize=(40,40))\n",
    "_ = sklearn.tree.plot_tree(decision_tree, \n",
    "                   feature_names=X_train_new.columns,  \n",
    "                   class_names=['0', '1'],\n",
    "                   filled=True)\n",
    "plt.savefig('1.png')"
   ]
  },
  {
   "cell_type": "code",
   "execution_count": null,
   "metadata": {
    "ExecuteTime": {
     "end_time": "2021-06-13T13:30:22.079591Z",
     "start_time": "2021-06-13T13:29:55.224Z"
    }
   },
   "outputs": [],
   "source": [
    "fig = plt.figure(figsize=(40,40))\n",
    "_ = sklearn.tree.plot_tree(decision_tree, \n",
    "                   feature_names=X_train_new.columns,  \n",
    "                   class_names=['0', '1'], max_depth=4,\n",
    "                   filled=True)\n",
    "plt.savefig('1.png')"
   ]
  },
  {
   "cell_type": "code",
   "execution_count": null,
   "metadata": {},
   "outputs": [],
   "source": []
  },
  {
   "cell_type": "code",
   "execution_count": null,
   "metadata": {},
   "outputs": [],
   "source": []
  },
  {
   "cell_type": "code",
   "execution_count": null,
   "metadata": {},
   "outputs": [],
   "source": []
  },
  {
   "cell_type": "code",
   "execution_count": null,
   "metadata": {},
   "outputs": [],
   "source": []
  },
  {
   "cell_type": "code",
   "execution_count": 125,
   "metadata": {
    "ExecuteTime": {
     "end_time": "2021-06-14T06:16:53.359174Z",
     "start_time": "2021-06-14T06:16:53.350243Z"
    }
   },
   "outputs": [],
   "source": [
    "def calc_entropy(ls):\n",
    "    vc = ls.value_counts(normalize=True, sort=False)\n",
    "    return -(vc * np.log(vc)/np.log(np.e)).sum()\n",
    "\n",
    "def calc_entropy_upper_bound(num_unique):\n",
    "    return np.log(num_unique)/np.log(np.e)\n",
    "\n",
    "class Stack:\n",
    "    def __init__(self):\n",
    "        self._stack = list()\n",
    "\n",
    "    def push(self, val):\n",
    "        self._stack.append(val)\n",
    "    \n",
    "    def pop(self):\n",
    "        return self._stack.pop()\n",
    "    \n",
    "    def __len__(self):\n",
    "        return len(self._stack)"
   ]
  },
  {
   "cell_type": "code",
   "execution_count": 181,
   "metadata": {
    "ExecuteTime": {
     "end_time": "2021-06-14T06:59:19.271370Z",
     "start_time": "2021-06-14T06:59:19.254574Z"
    }
   },
   "outputs": [],
   "source": [
    "def hierarchical_clustering(df=X_train_new, percentage=0.8):\n",
    "    G = nx.DiGraph()\n",
    "    G.add_node(f'(0)All')\n",
    "#     global stack_idx\n",
    "#     global stack_node\n",
    "    stack_idx = Stack()\n",
    "    stack_node = Stack()\n",
    "    stack_idx.push(df.index)\n",
    "    stack_node.push(f'(0)All')\n",
    "    node_id = 1\n",
    "    while len(stack_idx)>0:\n",
    "        entropies = []\n",
    "        current_idxs = stack_idx.pop()\n",
    "        current_node = stack_node.pop()\n",
    "        subset = df.iloc[current_idxs]\n",
    "        attrs = list(subset.columns)\n",
    "        for attr in attrs:\n",
    "            if len(subset[attr].unique()) > 1:\n",
    "#                 print(attr, calc_entropy(subset[attr]))\n",
    "                entropies.append((attr, calc_entropy(subset[attr])))\n",
    "            else:\n",
    "                entropies.append((attr, 0))\n",
    "        max_entropy_idx = np.argmax([e[1] for e in entropies])\n",
    "        max_entropy_attr = entropies[max_entropy_idx][0]\n",
    "        max_entropy = entropies[max_entropy_idx][1]\n",
    "        if (max_entropy==0) or (max_entropy < percentage*calc_entropy_upper_bound(len(subset[max_entropy_attr].unique()))):\n",
    "#             print('################################')\n",
    "            continue\n",
    "        else:\n",
    "            for attr_val in subset[max_entropy_attr].unique():\n",
    "                split_set = subset[subset[max_entropy_attr]==attr_val]\n",
    "                G.add_node(f'({node_id}){max_entropy_attr}_{attr_val}')\n",
    "                G.add_edge(current_node, f'({node_id}){max_entropy_attr}_{attr_val}', label=str(len(split_set)))\n",
    "#                 print(max_entropy_attr)\n",
    "#                 print(f'{current_node} ---> ({node_id}){max_entropy_attr}_{attr_val}')\n",
    "                stack_idx.push(split_set.index)\n",
    "                stack_node.push(f'({node_id}){max_entropy_attr}_{attr_val}')\n",
    "                node_id += 1\n",
    "        print(len(stack_idx))\n",
    "    return G"
   ]
  },
  {
   "cell_type": "code",
   "execution_count": null,
   "metadata": {},
   "outputs": [],
   "source": [
    "X_train_new = X_train_no_preprocess.copy()\n",
    "# X_train_new['label'] = y_train_new\n",
    "predicates = X_train_new.columns\n",
    "predicates"
   ]
  },
  {
   "cell_type": "code",
   "execution_count": 175,
   "metadata": {
    "ExecuteTime": {
     "end_time": "2021-06-14T06:47:00.872683Z",
     "start_time": "2021-06-14T06:46:47.597730Z"
    },
    "collapsed": true
   },
   "outputs": [
    {
     "name": "stdout",
     "output_type": "stream",
     "text": [
      "10\n",
      "13\n",
      "11\n",
      "11\n",
      "12\n",
      "14\n",
      "13\n",
      "11\n",
      "10\n",
      "12\n",
      "13\n",
      "11\n",
      "11\n",
      "11\n",
      "14\n",
      "15\n",
      "15\n",
      "14\n",
      "13\n",
      "13\n",
      "15\n",
      "14\n",
      "14\n",
      "14\n",
      "15\n",
      "14\n",
      "14\n",
      "14\n",
      "12\n",
      "12\n",
      "14\n",
      "12\n",
      "11\n",
      "12\n",
      "15\n",
      "13\n",
      "14\n",
      "13\n",
      "14\n",
      "13\n",
      "13\n",
      "13\n",
      "13\n",
      "13\n",
      "11\n",
      "10\n",
      "11\n",
      "14\n",
      "16\n",
      "15\n",
      "13\n",
      "12\n",
      "12\n",
      "12\n",
      "13\n",
      "11\n",
      "12\n",
      "11\n",
      "11\n",
      "13\n",
      "10\n",
      "9\n",
      "9\n",
      "10\n",
      "13\n",
      "13\n",
      "13\n",
      "12\n",
      "11\n",
      "12\n",
      "14\n",
      "14\n",
      "12\n",
      "12\n",
      "11\n",
      "12\n",
      "11\n",
      "12\n",
      "10\n",
      "11\n",
      "11\n",
      "11\n",
      "10\n",
      "11\n",
      "10\n",
      "10\n",
      "11\n",
      "10\n",
      "9\n",
      "10\n",
      "9\n",
      "10\n",
      "10\n",
      "8\n",
      "10\n",
      "13\n",
      "13\n",
      "12\n",
      "13\n",
      "12\n",
      "13\n",
      "11\n",
      "12\n",
      "12\n",
      "11\n",
      "12\n",
      "13\n",
      "12\n",
      "10\n",
      "12\n",
      "9\n",
      "9\n",
      "10\n",
      "13\n",
      "12\n",
      "12\n",
      "11\n",
      "10\n",
      "10\n",
      "9\n",
      "10\n",
      "8\n",
      "10\n",
      "13\n",
      "13\n",
      "11\n",
      "11\n",
      "9\n",
      "10\n",
      "8\n",
      "9\n",
      "10\n",
      "9\n",
      "7\n",
      "9\n",
      "10\n",
      "10\n",
      "8\n",
      "8\n",
      "7\n",
      "8\n",
      "11\n",
      "10\n",
      "8\n",
      "9\n",
      "9\n",
      "8\n",
      "8\n",
      "10\n",
      "11\n",
      "8\n",
      "9\n",
      "8\n",
      "7\n",
      "6\n",
      "6\n",
      "6\n",
      "7\n",
      "6\n",
      "7\n",
      "10\n",
      "11\n",
      "10\n",
      "9\n",
      "12\n",
      "12\n",
      "12\n",
      "12\n",
      "11\n",
      "12\n",
      "11\n",
      "12\n",
      "12\n",
      "11\n",
      "10\n",
      "11\n",
      "10\n",
      "10\n",
      "10\n",
      "9\n",
      "9\n",
      "10\n",
      "7\n",
      "9\n",
      "12\n",
      "13\n",
      "13\n",
      "13\n",
      "12\n",
      "13\n",
      "14\n",
      "12\n",
      "12\n",
      "13\n",
      "11\n",
      "12\n",
      "12\n",
      "11\n",
      "11\n",
      "10\n",
      "11\n",
      "12\n",
      "8\n",
      "8\n",
      "9\n",
      "10\n",
      "10\n",
      "9\n",
      "10\n",
      "9\n",
      "8\n",
      "9\n",
      "10\n",
      "10\n",
      "10\n",
      "7\n",
      "8\n",
      "8\n",
      "7\n",
      "6\n",
      "7\n",
      "6\n",
      "7\n",
      "10\n",
      "10\n",
      "9\n",
      "9\n",
      "10\n",
      "9\n",
      "9\n",
      "10\n",
      "8\n",
      "8\n",
      "8\n",
      "7\n",
      "8\n",
      "9\n",
      "8\n",
      "8\n",
      "6\n",
      "7\n",
      "8\n",
      "6\n",
      "5\n",
      "6\n",
      "9\n",
      "8\n",
      "8\n",
      "8\n",
      "7\n",
      "8\n",
      "9\n",
      "9\n",
      "9\n",
      "11\n",
      "11\n",
      "10\n",
      "9\n",
      "8\n",
      "9\n",
      "7\n",
      "7\n",
      "8\n",
      "8\n",
      "9\n",
      "7\n",
      "6\n",
      "6\n",
      "7\n",
      "8\n",
      "9\n",
      "8\n",
      "8\n",
      "9\n",
      "8\n",
      "8\n",
      "9\n",
      "8\n",
      "6\n",
      "6\n",
      "5\n",
      "6\n",
      "7\n",
      "8\n",
      "6\n",
      "6\n",
      "7\n",
      "6\n",
      "5\n",
      "5\n",
      "6\n",
      "6\n",
      "5\n",
      "6\n",
      "9\n",
      "11\n",
      "10\n",
      "10\n",
      "9\n",
      "9\n",
      "9\n",
      "9\n",
      "8\n",
      "9\n",
      "10\n",
      "9\n",
      "10\n",
      "8\n",
      "8\n",
      "9\n",
      "7\n",
      "8\n",
      "12\n",
      "13\n",
      "14\n",
      "12\n",
      "10\n",
      "9\n",
      "9\n",
      "9\n",
      "8\n",
      "8\n",
      "7\n",
      "7\n",
      "8\n",
      "7\n",
      "7\n",
      "8\n",
      "9\n",
      "8\n",
      "6\n",
      "8\n",
      "7\n",
      "7\n",
      "7\n",
      "7\n",
      "7\n",
      "4\n",
      "4\n",
      "5\n",
      "6\n",
      "6\n",
      "4\n",
      "4\n",
      "5\n",
      "8\n",
      "11\n",
      "12\n",
      "9\n",
      "9\n",
      "8\n",
      "7\n",
      "7\n",
      "9\n",
      "9\n",
      "8\n",
      "9\n",
      "10\n",
      "9\n",
      "7\n",
      "8\n",
      "9\n",
      "8\n",
      "8\n",
      "7\n",
      "8\n",
      "7\n",
      "6\n",
      "7\n",
      "7\n",
      "7\n",
      "5\n",
      "6\n",
      "9\n",
      "10\n",
      "10\n",
      "8\n",
      "8\n",
      "7\n",
      "8\n",
      "7\n",
      "8\n",
      "9\n",
      "9\n",
      "10\n",
      "9\n",
      "8\n",
      "7\n",
      "7\n",
      "8\n",
      "8\n",
      "9\n",
      "7\n",
      "8\n",
      "7\n",
      "7\n",
      "6\n",
      "7\n",
      "9\n",
      "8\n",
      "6\n",
      "7\n",
      "8\n",
      "7\n",
      "6\n",
      "6\n",
      "4\n",
      "5\n",
      "8\n",
      "9\n",
      "8\n",
      "8\n",
      "8\n",
      "9\n",
      "8\n",
      "7\n",
      "8\n",
      "8\n",
      "6\n",
      "8\n",
      "7\n",
      "7\n",
      "6\n",
      "4\n",
      "5\n",
      "5\n",
      "7\n",
      "5\n",
      "5\n",
      "4\n",
      "5\n",
      "5\n",
      "3\n",
      "4\n",
      "7\n",
      "8\n",
      "7\n",
      "7\n",
      "5\n",
      "6\n",
      "7\n",
      "6\n",
      "4\n",
      "6\n",
      "5\n",
      "5\n",
      "4\n",
      "5\n",
      "6\n",
      "3\n",
      "4\n",
      "4\n",
      "3\n",
      "2\n",
      "2\n"
     ]
    }
   ],
   "source": [
    "G_new = hierarchical_clustering(X_train_new, percentage=0.76)"
   ]
  },
  {
   "cell_type": "code",
   "execution_count": 177,
   "metadata": {
    "ExecuteTime": {
     "end_time": "2021-06-14T06:47:17.233198Z",
     "start_time": "2021-06-14T06:47:08.892246Z"
    }
   },
   "outputs": [
    {
     "data": {
      "image/png": "[encoded data removed]",
      "text/plain": [
       "<Figure size 432x288 with 1 Axes>"
      ]
     },
     "metadata": {},
     "output_type": "display_data"
    }
   ],
   "source": [
    "pos = graphviz_layout(G_new, prog='dot', root='All')\n",
    "nx.draw(G_new, pos, with_labels=False, arrows=True)\n",
    "# labels = dict() \n",
    "# for node in G.nodes():\n",
    "#     if len(node.split('_'))==1:\n",
    "#         #set the node name as the key and the label as its value \n",
    "#         labels[node] = node\n",
    "# nx.draw_networkx_labels(G, pos, labels, font_size=16, font_color='w')\n",
    "\n",
    "# outlier_labels = dict() \n",
    "# for node_idx, node in list(enumerate(G.nodes()))[:-1]:\n",
    "#     if node in outliers:\n",
    "#         #set the node name as the key and the label as its value \n",
    "#         outlier_labels[node] = fractionRows[node_idx]\n",
    "# nx.draw_networkx_nodes(G, pos, outliers, node_color='r')\n",
    "# nx.draw_networkx_labels(G, pos, outlier_labels, font_color='black')\n",
    "# plt.show()"
   ]
  },
  {
   "cell_type": "code",
   "execution_count": 180,
   "metadata": {
    "ExecuteTime": {
     "end_time": "2021-06-14T06:48:58.744879Z",
     "start_time": "2021-06-14T06:48:58.736539Z"
    }
   },
   "outputs": [
    {
     "data": {
      "text/plain": [
       "1253"
      ]
     },
     "execution_count": 180,
     "metadata": {},
     "output_type": "execute_result"
    }
   ],
   "source": [
    "len(list(G_new.nodes()))"
   ]
  },
  {
   "cell_type": "code",
   "execution_count": null,
   "metadata": {},
   "outputs": [],
   "source": []
  },
  {
   "cell_type": "code",
   "execution_count": null,
   "metadata": {},
   "outputs": [],
   "source": []
  },
  {
   "cell_type": "code",
   "execution_count": null,
   "metadata": {},
   "outputs": [],
   "source": []
  },
  {
   "cell_type": "code",
   "execution_count": 183,
   "metadata": {
    "ExecuteTime": {
     "end_time": "2021-06-14T07:09:41.256437Z",
     "start_time": "2021-06-14T07:09:41.234805Z"
    }
   },
   "outputs": [],
   "source": [
    "def hierarchical_clustering_new(df=X_train_new, percentage=0.8):\n",
    "    G = nx.DiGraph()\n",
    "    G.add_node(f'(0)All')\n",
    "    stack_idx = Stack()\n",
    "    stack_node = Stack()\n",
    "    stack_idx.push(df.index)\n",
    "    stack_node.push(f'(0)All')\n",
    "    node_id = 1\n",
    "    \n",
    "    current_idxs = stack_idx.pop()\n",
    "    current_node = stack_node.pop()\n",
    "    subset = df.iloc[current_idxs]\n",
    "    max_entropy_attr = 'age'\n",
    "    for attr_val in subset[max_entropy_attr].unique():\n",
    "        split_set = subset[subset[max_entropy_attr]==attr_val]\n",
    "        G.add_node(f'({node_id}){max_entropy_attr}_{attr_val}')\n",
    "        G.add_edge(current_node, f'({node_id}){max_entropy_attr}_{attr_val}', label=str(len(split_set)))\n",
    "        stack_idx.push(split_set.index)\n",
    "        stack_node.push(f'({node_id}){max_entropy_attr}_{attr_val}')\n",
    "        node_id += 1\n",
    "    \n",
    "    for _ in range(2):\n",
    "        current_idxs = stack_idx.pop()\n",
    "        current_node = stack_node.pop()\n",
    "        subset = df.iloc[current_idxs]\n",
    "        max_entropy_attr = 'label'\n",
    "        for attr_val in subset[max_entropy_attr].unique():\n",
    "            split_set = subset[subset[max_entropy_attr]==attr_val]\n",
    "            G.add_node(f'({node_id}){max_entropy_attr}_{attr_val}')\n",
    "            G.add_edge(current_node, f'({node_id}){max_entropy_attr}_{attr_val}', label=str(len(split_set)))\n",
    "            stack_idx.push(split_set.index)\n",
    "            stack_node.push(f'({node_id}){max_entropy_attr}_{attr_val}')\n",
    "            node_id += 1\n",
    "    \n",
    "    \n",
    "    while len(stack_idx)>0:\n",
    "        entropies = []\n",
    "        current_idxs = stack_idx.pop()\n",
    "        current_node = stack_node.pop()\n",
    "        subset = df.iloc[current_idxs]\n",
    "        attrs = list(subset.columns)\n",
    "        for attr in attrs:\n",
    "            if len(subset[attr].unique()) > 1:\n",
    "#                 print(attr, calc_entropy(subset[attr]))\n",
    "                entropies.append((attr, calc_entropy(subset[attr])))\n",
    "            else:\n",
    "                entropies.append((attr, 0))\n",
    "        max_entropy_idx = np.argmax([e[1] for e in entropies])\n",
    "        max_entropy_attr = entropies[max_entropy_idx][0]\n",
    "        max_entropy = entropies[max_entropy_idx][1]\n",
    "        if (max_entropy==0) or (max_entropy < percentage*calc_entropy_upper_bound(len(subset[max_entropy_attr].unique()))):\n",
    "#             print('################################')\n",
    "            continue\n",
    "        else:\n",
    "            for attr_val in subset[max_entropy_attr].unique():\n",
    "                split_set = subset[subset[max_entropy_attr]==attr_val]\n",
    "                G.add_node(f'({node_id}){max_entropy_attr}_{attr_val}')\n",
    "                G.add_edge(current_node, f'({node_id}){max_entropy_attr}_{attr_val}', label=str(len(split_set)))\n",
    "#                 print(max_entropy_attr)\n",
    "#                 print(f'{current_node} ---> ({node_id}){max_entropy_attr}_{attr_val}')\n",
    "                stack_idx.push(split_set.index)\n",
    "                stack_node.push(f'({node_id}){max_entropy_attr}_{attr_val}')\n",
    "                node_id += 1\n",
    "        print(len(stack_idx))\n",
    "    return G"
   ]
  },
  {
   "cell_type": "code",
   "execution_count": 182,
   "metadata": {
    "ExecuteTime": {
     "end_time": "2021-06-14T07:01:43.765744Z",
     "start_time": "2021-06-14T07:01:43.749027Z"
    }
   },
   "outputs": [
    {
     "data": {
      "text/plain": [
       "Index(['status', 'duration', 'credit_hist', 'purpose', 'credit_amt', 'savings',\n",
       "       'employment', 'install_rate', 'debtors', 'residence', 'property', 'age',\n",
       "       'install_plans', 'housing', 'num_credits', 'job', 'num_liable',\n",
       "       'telephone', 'foreign_worker', 'gender', 'label'],\n",
       "      dtype='object')"
      ]
     },
     "execution_count": 182,
     "metadata": {},
     "output_type": "execute_result"
    }
   ],
   "source": [
    "X_train_new = X_train_no_preprocess.copy()\n",
    "X_train_new['label'] = y_train_new\n",
    "predicates = X_train_new.columns\n",
    "predicates"
   ]
  },
  {
   "cell_type": "code",
   "execution_count": 190,
   "metadata": {
    "ExecuteTime": {
     "end_time": "2021-06-14T07:10:32.494492Z",
     "start_time": "2021-06-14T07:10:32.081214Z"
    }
   },
   "outputs": [
    {
     "name": "stdout",
     "output_type": "stream",
     "text": [
      "6\n",
      "9\n",
      "8\n",
      "9\n",
      "8\n",
      "7\n",
      "6\n",
      "5\n",
      "6\n",
      "7\n",
      "6\n"
     ]
    },
    {
     "data": {
      "text/plain": [
       "39"
      ]
     },
     "execution_count": 190,
     "metadata": {},
     "output_type": "execute_result"
    }
   ],
   "source": [
    "G_new = hierarchical_clustering_new(X_train_new, percentage=0.85)\n",
    "len(list(G_new.nodes()))"
   ]
  },
  {
   "cell_type": "code",
   "execution_count": 191,
   "metadata": {
    "ExecuteTime": {
     "end_time": "2021-06-14T07:10:41.449296Z",
     "start_time": "2021-06-14T07:10:40.835740Z"
    }
   },
   "outputs": [
    {
     "data": {
      "image/png": "[encoded data removed]",
      "text/plain": [
       "<Figure size 432x288 with 1 Axes>"
      ]
     },
     "metadata": {},
     "output_type": "display_data"
    }
   ],
   "source": [
    "pos = graphviz_layout(G_new, prog='dot', root='All')\n",
    "nx.draw(G_new, pos, with_labels=False, arrows=True)"
   ]
  },
  {
   "cell_type": "code",
   "execution_count": 192,
   "metadata": {
    "ExecuteTime": {
     "end_time": "2021-06-14T07:19:37.973828Z",
     "start_time": "2021-06-14T07:19:37.959186Z"
    }
   },
   "outputs": [],
   "source": [
    "nx.write_gexf(G_new,'space_partition.gexf')"
   ]
  },
  {
   "cell_type": "code",
   "execution_count": null,
   "metadata": {},
   "outputs": [],
   "source": []
  }
 ],
 "metadata": {
  "kernelspec": {
   "display_name": "Python 3",
   "language": "python",
   "name": "python3"
  },
  "language_info": {
   "codemirror_mode": {
    "name": "ipython",
    "version": 3
   },
   "file_extension": ".py",
   "mimetype": "text/x-python",
   "name": "python",
   "nbconvert_exporter": "python",
   "pygments_lexer": "ipython3",
   "version": "3.6.5"
  }
 },
 "nbformat": 4,
 "nbformat_minor": 4
}
