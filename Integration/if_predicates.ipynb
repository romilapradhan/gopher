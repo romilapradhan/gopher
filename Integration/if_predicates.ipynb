{
 "cells": [
  {
   "cell_type": "code",
   "execution_count": 1,
   "metadata": {
    "ExecuteTime": {
     "end_time": "2021-06-28T10:15:30.656617Z",
     "start_time": "2021-06-28T10:15:27.026050Z"
    }
   },
   "outputs": [
    {
     "data": {
      "text/plain": [
       "<torch._C.Generator at 0x11a1f0d90>"
      ]
     },
     "execution_count": 1,
     "metadata": {},
     "output_type": "execute_result"
    }
   ],
   "source": [
    "import sys\n",
    "import tqdm\n",
    "import time\n",
    "import sklearn\n",
    "import numpy as np\n",
    "import pandas as pd\n",
    "import scipy\n",
    "import copy\n",
    "import random\n",
    "import math\n",
    "import torch\n",
    "import torch.nn.functional as F\n",
    "from load_dataset import load\n",
    "from classifier import NeuralNetwork, LogisticRegression, SVM\n",
    "from utils import *\n",
    "from metrics import *  # include fairness and corresponding derivatives\n",
    "from scipy import stats\n",
    "from scipy.stats import rankdata\n",
    "from sklearn import metrics, preprocessing\n",
    "from sklearn.ensemble import RandomForestClassifier, RandomForestRegressor\n",
    "from sklearn.metrics import classification_report\n",
    "from torch.autograd import grad\n",
    "import torch.nn as nn\n",
    "import matplotlib.pyplot as plt\n",
    "import seaborn as sns\n",
    "from IPython.display import Markdown, display\n",
    "random.seed(1)\n",
    "np.random.seed(1)\n",
    "torch.manual_seed(1)"
   ]
  },
  {
   "cell_type": "code",
   "execution_count": 2,
   "metadata": {
    "ExecuteTime": {
     "end_time": "2021-06-28T10:15:30.666608Z",
     "start_time": "2021-06-28T10:15:30.659088Z"
    }
   },
   "outputs": [],
   "source": [
    "# ignore all the warnings\n",
    "import warnings\n",
    "warnings.filterwarnings('ignore') "
   ]
  },
  {
   "cell_type": "markdown",
   "metadata": {},
   "source": [
    "**Load Dataset**"
   ]
  },
  {
   "cell_type": "code",
   "execution_count": 3,
   "metadata": {
    "ExecuteTime": {
     "end_time": "2021-06-28T10:15:30.764458Z",
     "start_time": "2021-06-28T10:15:30.669908Z"
    },
    "code_folding": [
     0
    ]
   },
   "outputs": [],
   "source": [
    "dataset = 'german'\n",
    "X_train, X_test, y_train, y_test = load(dataset)"
   ]
  },
  {
   "cell_type": "markdown",
   "metadata": {},
   "source": [
    "**Parametric Model**"
   ]
  },
  {
   "cell_type": "code",
   "execution_count": 4,
   "metadata": {
    "ExecuteTime": {
     "end_time": "2021-06-28T10:15:30.785470Z",
     "start_time": "2021-06-28T10:15:30.772180Z"
    },
    "code_folding": []
   },
   "outputs": [],
   "source": [
    "# size=500\n",
    "# X_train = X_train[0:size]\n",
    "# y_train = y_train[0:size]\n",
    "\n",
    "X_train_orig = copy.deepcopy(X_train)\n",
    "X_test_orig = copy.deepcopy(X_test)\n",
    "\n",
    "# Scale data: regularization penalty default: ‘l2’, ‘lbfgs’ solvers support only l2 penalties. \n",
    "# Regularization makes the predictor dependent on the scale of the features.\n",
    "from sklearn.preprocessing import StandardScaler\n",
    "sc = StandardScaler()\n",
    "X_train = sc.fit_transform(X_train)\n",
    "X_test = sc.transform(X_test)"
   ]
  },
  {
   "cell_type": "markdown",
   "metadata": {},
   "source": [
    "**Loss function** (Log loss for logistic regression)"
   ]
  },
  {
   "cell_type": "code",
   "execution_count": 5,
   "metadata": {
    "ExecuteTime": {
     "end_time": "2021-06-28T10:15:30.802151Z",
     "start_time": "2021-06-28T10:15:30.789741Z"
    }
   },
   "outputs": [],
   "source": [
    "# clf = NeuralNetwork()\n",
    "clf = LogisticRegression(input_size=X_train.shape[-1])\n",
    "# clf = SVM()\n",
    "num_params = len(convert_grad_to_ndarray(list(clf.parameters())))\n",
    "if isinstance(clf, LogisticRegression) or isinstance(clf, NeuralNetwork):\n",
    "#     loss_func = lambda model, x, y_true: logistic_loss_torch(model(torch.FloatTensor(x)),\\\n",
    "#                                                              torch.FloatTensor([y_true])) +\\\n",
    "#     model.C*torch.sqrt(torch.sum(convert_grad_to_tensor(list(clf.parameters()))**2))\n",
    "    loss_func = logistic_loss_torch\n",
    "elif isinstance(clf, SVM):\n",
    "    loss_func = svm_loss_torch"
   ]
  },
  {
   "cell_type": "markdown",
   "metadata": {},
   "source": [
    "**Influence of points computed using ground truth**"
   ]
  },
  {
   "cell_type": "code",
   "execution_count": 6,
   "metadata": {
    "ExecuteTime": {
     "end_time": "2021-06-28T10:15:30.816384Z",
     "start_time": "2021-06-28T10:15:30.807525Z"
    },
    "code_folding": [
     0
    ]
   },
   "outputs": [],
   "source": [
    "def ground_truth_influence(X_train, y_train, X_test, X_test_orig, y_test):\n",
    "    clf.fit(X_train, y_train, verbose=True)\n",
    "    y_pred = clf.predict_proba(X_test)\n",
    "    spd_0 = computeFairness(y_pred, X_test_orig, y_test, 0)\n",
    "\n",
    "    delta_spd = []\n",
    "    for i in range(len(X_train)):\n",
    "        X_removed = np.delete(X_train, i, 0)\n",
    "        y_removed = y_train.drop(index=i, inplace=False)\n",
    "        clf.fit(X_removed, y_removed)\n",
    "        y_pred = clf.predict_proba(X_test)\n",
    "        delta_spd_i = computeFairness(y_pred, X_test_orig, y_test, 0) - spd_0\n",
    "        delta_spd.append(delta_spd_i)\n",
    "\n",
    "    return delta_spd"
   ]
  },
  {
   "cell_type": "markdown",
   "metadata": {},
   "source": [
    "**Compute Accuracy** "
   ]
  },
  {
   "cell_type": "code",
   "execution_count": 7,
   "metadata": {
    "ExecuteTime": {
     "end_time": "2021-06-28T10:15:30.828359Z",
     "start_time": "2021-06-28T10:15:30.823771Z"
    },
    "code_folding": [
     0
    ]
   },
   "outputs": [],
   "source": [
    "def computeAccuracy(y_true, y_pred):\n",
    "    return np.sum((y_pred>0.5) == y_true)/len(y_pred)"
   ]
  },
  {
   "cell_type": "markdown",
   "metadata": {},
   "source": [
    "**First-order derivative of loss function at z with respect to model parameters**"
   ]
  },
  {
   "cell_type": "code",
   "execution_count": 8,
   "metadata": {
    "ExecuteTime": {
     "end_time": "2021-06-28T10:15:30.840608Z",
     "start_time": "2021-06-28T10:15:30.831628Z"
    },
    "code_folding": [
     0
    ]
   },
   "outputs": [],
   "source": [
    "def del_L_del_theta_i(model, x, y_true, retain_graph=False):\n",
    "    loss = loss_func(model, x, y_true)\n",
    "    w = [ p for p in model.parameters() if p.requires_grad ]\n",
    "    return grad(loss, w, create_graph=True, retain_graph=retain_graph)"
   ]
  },
  {
   "cell_type": "markdown",
   "metadata": {},
   "source": [
    "**First-order derivative of $P(y \\mid \\textbf{x})$ with respect to model parameters**"
   ]
  },
  {
   "cell_type": "code",
   "execution_count": 9,
   "metadata": {
    "ExecuteTime": {
     "end_time": "2021-06-28T10:15:30.850653Z",
     "start_time": "2021-06-28T10:15:30.844432Z"
    },
    "code_folding": [
     0
    ]
   },
   "outputs": [],
   "source": [
    "def del_f_del_theta_i(model, x, retain_graph=False):\n",
    "    w = [ p for p in model.parameters() if p.requires_grad ]\n",
    "    return grad(model(torch.FloatTensor(x)), w, retain_graph=retain_graph)"
   ]
  },
  {
   "cell_type": "markdown",
   "metadata": {},
   "source": [
    "**Stochastic estimation of Hessian vector product (involving del fairness): $H_{\\theta}^{-1}v = H_{\\theta}^{-1}\\nabla_{\\theta}f(z, \\theta) = v + [I - \\nabla_{\\theta}^2L(z_{s_j}, \\theta^*)]H_{\\theta}^{-1}v$**"
   ]
  },
  {
   "cell_type": "code",
   "execution_count": 10,
   "metadata": {
    "ExecuteTime": {
     "end_time": "2021-06-28T10:15:30.862185Z",
     "start_time": "2021-06-28T10:15:30.855712Z"
    },
    "code_folding": [
     0
    ]
   },
   "outputs": [],
   "source": [
    "def hvp(y, w, v):\n",
    "    ''' Multiply the Hessians of y and w by v.'''\n",
    "    # First backprop\n",
    "    first_grads = grad(y, w, retain_graph=True, create_graph=True)\n",
    "\n",
    "    # Elementwise products\n",
    "    elemwise_products = 0\n",
    "    for grad_elem, v_elem in zip(convert_grad_to_tensor(first_grads), v):\n",
    "        elemwise_products += torch.sum(grad_elem * v_elem)\n",
    "\n",
    "    # Second backprop\n",
    "    return_grads = grad(elemwise_products, w, create_graph=True)\n",
    "\n",
    "    return return_grads"
   ]
  },
  {
   "cell_type": "code",
   "execution_count": 11,
   "metadata": {
    "ExecuteTime": {
     "end_time": "2021-06-28T10:15:30.878603Z",
     "start_time": "2021-06-28T10:15:30.865639Z"
    },
    "code_folding": [
     0
    ]
   },
   "outputs": [],
   "source": [
    "def hessian_one_point(model, x, y):\n",
    "    x, y = torch.FloatTensor(x), torch.FloatTensor([y])\n",
    "    loss = loss_func(model, x, y)\n",
    "    params = [ p for p in model.parameters() if p.requires_grad ]\n",
    "    first_grads = convert_grad_to_tensor(grad(loss, params, retain_graph=True, create_graph=True))\n",
    "    hv = np.zeros((len(first_grads), len(first_grads)))\n",
    "    for i in range(len(first_grads)):\n",
    "        hv[i, :] = convert_grad_to_ndarray(grad(first_grads[i], params, create_graph=True)).ravel()\n",
    "    return hv"
   ]
  },
  {
   "cell_type": "code",
   "execution_count": 12,
   "metadata": {
    "ExecuteTime": {
     "end_time": "2021-06-28T10:15:30.895656Z",
     "start_time": "2021-06-28T10:15:30.881264Z"
    },
    "code_folding": [
     1
    ]
   },
   "outputs": [],
   "source": [
    "# Compute multiplication of inverse hessian matrix and vector v\n",
    "def s_test(model, xs, ys, v, hinv=None, damp=0.01, scale=25.0, r=-1, batch_size=-1, recursive=False, verbose=False):\n",
    "    ''' Arguments:\n",
    "        xs: list of data points\n",
    "        ys: list of true labels corresponding to data points in xs\n",
    "        damp: dampening factor\n",
    "        scale: scaling factor\n",
    "        r: number of iterations aka recursion depth\n",
    "            should be enough so that the value stabilises.\n",
    "        batch_size: number of instances in each batch in recursive approximation\n",
    "        recursive: determine whether to recursively approximate hinv_v'''\n",
    "    xs, ys = torch.FloatTensor(xs.copy()), torch.FloatTensor(ys.copy())\n",
    "    n = len(xs)\n",
    "    if recursive:\n",
    "        hinv_v = copy.deepcopy(v)\n",
    "        if verbose:\n",
    "            print('Computing s_test...')\n",
    "            tbar = tqdm.tqdm(total=r)\n",
    "        if (batch_size == -1):  # default\n",
    "            batch_size = 10\n",
    "        if (r == -1):\n",
    "            r = n // batch_size + 1\n",
    "        sample = np.random.choice(range(n), r*batch_size, replace=True)\n",
    "        for i in range(r):\n",
    "            sample_idx = sample[i*batch_size:(i+1)*batch_size]\n",
    "            x, y = xs[sample_idx], ys[sample_idx]\n",
    "            loss = loss_func(model, x, y)\n",
    "            params = [ p for p in model.parameters() if p.requires_grad ]\n",
    "            hv = convert_grad_to_ndarray(hvp(loss, params, torch.FloatTensor(hinv_v)))\n",
    "            # Recursively caclulate h_estimate\n",
    "            hinv_v = v + (1 - damp) * hinv_v - hv / scale\n",
    "            if verbose:\n",
    "                tbar.update(1)\n",
    "    else:\n",
    "        if hinv is None:\n",
    "            hinv = np.linalg.pinv(np.sum(hessian_all_points, axis=0))\n",
    "        scale = 1.0\n",
    "        hinv_v = np.matmul(hinv, v)\n",
    "\n",
    "    return hinv_v / scale"
   ]
  },
  {
   "cell_type": "markdown",
   "metadata": {},
   "source": [
    "**Metrics: Initial state**"
   ]
  },
  {
   "cell_type": "code",
   "execution_count": 13,
   "metadata": {
    "ExecuteTime": {
     "end_time": "2021-06-28T10:15:30.954851Z",
     "start_time": "2021-06-28T10:15:30.898660Z"
    }
   },
   "outputs": [
    {
     "name": "stdout",
     "output_type": "stream",
     "text": [
      "Initial statistical parity:  -0.11221257965080444\n",
      "Initial TPR parity:  -0.0865221897550269\n",
      "Initial predictive parity:  -0.09399734250421976\n",
      "Initial loss:  0.5060894865816397\n",
      "Initial accuracy:  0.755\n"
     ]
    }
   ],
   "source": [
    "clf = LogisticRegression(input_size=X_train.shape[-1])\n",
    "# clf = NeuralNetwork()\n",
    "# clf = SVM()\n",
    "\n",
    "clf.fit(X_train, y_train)\n",
    "\n",
    "y_pred_test = clf.predict_proba(X_test)\n",
    "y_pred_train = clf.predict_proba(X_train)\n",
    "\n",
    "spd_0 = computeFairness(y_pred_test, X_test_orig, y_test, 0, dataset)\n",
    "print(\"Initial statistical parity: \", spd_0)\n",
    "\n",
    "tpr_parity_0 = computeFairness(y_pred_test, X_test_orig, y_test, 1, dataset)\n",
    "print(\"Initial TPR parity: \", tpr_parity_0)\n",
    "\n",
    "predictive_parity_0 = computeFairness(y_pred_test, X_test_orig, y_test, 2, dataset)\n",
    "print(\"Initial predictive parity: \", predictive_parity_0)\n",
    "\n",
    "loss_0 = logistic_loss(y_test, y_pred_test)\n",
    "print(\"Initial loss: \", loss_0)\n",
    "\n",
    "accuracy_0 = computeAccuracy(y_test, y_pred_test)\n",
    "print(\"Initial accuracy: \", accuracy_0)"
   ]
  },
  {
   "cell_type": "code",
   "execution_count": 14,
   "metadata": {
    "ExecuteTime": {
     "end_time": "2021-06-28T10:15:49.091660Z",
     "start_time": "2021-06-28T10:15:30.960217Z"
    },
    "code_folding": [],
    "scrolled": true
   },
   "outputs": [
    {
     "name": "stderr",
     "output_type": "stream",
     "text": [
      " 99%|█████████▉| 795/800 [00:18<00:00, 51.91it/s]"
     ]
    }
   ],
   "source": [
    "hessian_all_points = []\n",
    "tbar = tqdm.tqdm(total=len(X_train))\n",
    "total_time = 0\n",
    "for i in range(len(X_train)):\n",
    "    t0 = time.time()\n",
    "    hessian_all_points.append(hessian_one_point(clf, X_train[i], y_train[i])/len(X_train))\n",
    "    total_time += time.time()-t0\n",
    "    tbar.update(1)"
   ]
  },
  {
   "cell_type": "code",
   "execution_count": 15,
   "metadata": {
    "ExecuteTime": {
     "end_time": "2021-06-28T10:15:49.104944Z",
     "start_time": "2021-06-28T10:15:49.093671Z"
    }
   },
   "outputs": [
    {
     "data": {
      "text/plain": [
       "17.938098669052124"
      ]
     },
     "execution_count": 15,
     "metadata": {},
     "output_type": "execute_result"
    }
   ],
   "source": [
    "total_time"
   ]
  },
  {
   "cell_type": "markdown",
   "metadata": {},
   "source": [
    "**Pre-compute: (1) Hessian (2) del_L_del_theta for each training data point**"
   ]
  },
  {
   "cell_type": "code",
   "execution_count": 16,
   "metadata": {
    "ExecuteTime": {
     "end_time": "2021-06-28T10:15:49.946811Z",
     "start_time": "2021-06-28T10:15:49.114630Z"
    }
   },
   "outputs": [],
   "source": [
    "del_L_del_theta = []\n",
    "for i in range(int(len(X_train))):\n",
    "    del_L_del_theta.append(convert_grad_to_ndarray(del_L_del_theta_i(clf, X_train[i], y_train[i])))"
   ]
  },
  {
   "cell_type": "markdown",
   "metadata": {},
   "source": [
    "*Select delta fairness function depending on selected metric*"
   ]
  },
  {
   "cell_type": "code",
   "execution_count": 18,
   "metadata": {
    "ExecuteTime": {
     "end_time": "2021-06-28T10:15:50.117411Z",
     "start_time": "2021-06-28T10:15:49.994064Z"
    }
   },
   "outputs": [],
   "source": [
    "metric = 2\n",
    "if metric == 0:\n",
    "    v1 = del_spd_del_theta(clf, X_test_orig, X_test, dataset)\n",
    "elif metric == 1:\n",
    "    v1 = del_tpr_parity_del_theta(clf, X_test_orig, X_test, y_test, dataset)\n",
    "elif metric == 2:\n",
    "    v1 = del_predictive_parity_del_theta(clf, X_test_orig, X_test, y_test, dataset)"
   ]
  },
  {
   "cell_type": "code",
   "execution_count": 24,
   "metadata": {
    "ExecuteTime": {
     "end_time": "2021-06-28T10:20:44.572334Z",
     "start_time": "2021-06-28T10:20:44.557138Z"
    }
   },
   "outputs": [],
   "source": [
    "hinv = np.linalg.pinv(np.sum(hessian_all_points, axis=0))\n",
    "hinv_v = s_test(clf, X_train, y_train, v1, hinv=hinv, verbose=False)"
   ]
  },
  {
   "cell_type": "markdown",
   "metadata": {},
   "source": [
    "**First-order influence computation**"
   ]
  },
  {
   "cell_type": "code",
   "execution_count": 19,
   "metadata": {
    "ExecuteTime": {
     "end_time": "2021-06-28T10:15:50.143575Z",
     "start_time": "2021-06-28T10:15:50.132969Z"
    },
    "code_folding": []
   },
   "outputs": [],
   "source": [
    "def first_order_influence(del_L_del_theta, hinv_v, n):\n",
    "    infs = []\n",
    "    for i in range(n):\n",
    "        inf = -np.dot(del_L_del_theta[i].transpose(), hinv_v)\n",
    "        inf *= -1/n\n",
    "        infs.append(inf)\n",
    "    return infs"
   ]
  },
  {
   "cell_type": "code",
   "execution_count": 20,
   "metadata": {
    "ExecuteTime": {
     "end_time": "2021-06-28T10:15:50.151168Z",
     "start_time": "2021-06-28T10:15:50.145914Z"
    }
   },
   "outputs": [],
   "source": [
    "def first_order_group_influence(U, del_L_del_theta):\n",
    "    infs = []\n",
    "    u = len(U)\n",
    "    n = len(X_train)\n",
    "    for i in range(u):\n",
    "        idx = U[i]\n",
    "        inf = -np.dot(del_L_del_theta[idx].transpose(), hinv)\n",
    "        inf *= -1/n\n",
    "        infs.append(inf)\n",
    "    return np.sum(infs, axis=0)"
   ]
  },
  {
   "cell_type": "markdown",
   "metadata": {},
   "source": [
    "**Second-order influence computation for a group of points in subset U**"
   ]
  },
  {
   "cell_type": "code",
   "execution_count": 21,
   "metadata": {
    "ExecuteTime": {
     "end_time": "2021-06-28T10:15:50.175865Z",
     "start_time": "2021-06-28T10:15:50.159775Z"
    },
    "code_folding": []
   },
   "outputs": [],
   "source": [
    "def second_order_influence(model, X_train, y_train, U, del_L_del_theta, r=-1, verbose=False):\n",
    "    u = len(U)\n",
    "    s = len(X_train)\n",
    "    p = u/s\n",
    "    c1 = (1 - 2*p)/(s * (1-p)**2)\n",
    "    c2 = 1/((s * (1-p))**2)\n",
    "    num_params = len(del_L_del_theta[0])\n",
    "    del_L_del_theta_sum = np.sum([del_L_del_theta[i] for i in U], axis=0)\n",
    "    hinv_del_L_del_theta= s_test(model, X_train, y_train, del_L_del_theta_sum, hinv=hinv)\n",
    "    hessian_U_hinv_del_L_del_theta = np.zeros((num_params,))\n",
    "    for i in range(u):\n",
    "        idx = U[i]\n",
    "        x, y = torch.FloatTensor(X_train[idx]), torch.FloatTensor([y_train[idx]])\n",
    "        loss = loss_func(model, x, y)\n",
    "        params = [ p for p in model.parameters() if p.requires_grad ]\n",
    "        hessian_U_hinv_del_L_del_theta += convert_grad_to_ndarray(hvp(loss, params, torch.FloatTensor(hinv_del_L_del_theta)))\n",
    "\n",
    "    term1 = c1 * hinv_del_L_del_theta\n",
    "    term2 = c2 * s_test(model, X_train, y_train, hessian_U_hinv_del_L_del_theta, hinv=hinv)\n",
    "    sum_term = term1 + term2\n",
    "    return sum_term"
   ]
  },
  {
   "cell_type": "code",
   "execution_count": 22,
   "metadata": {
    "ExecuteTime": {
     "end_time": "2021-06-28T10:15:50.197916Z",
     "start_time": "2021-06-28T10:15:50.183598Z"
    }
   },
   "outputs": [],
   "source": [
    "def second_order_group_influence(U, del_L_del_theta):\n",
    "    u = len(U)\n",
    "    s = len(X_train)\n",
    "    p = u/s\n",
    "    c1 = (1 - 2*p)/(s * (1-p)**2)\n",
    "    c2 = 1/((s * (1-p))**2)\n",
    "    num_params = len(del_L_del_theta[0])\n",
    "    del_L_del_theta_sum = np.sum([del_L_del_theta[i] for i in U], axis=0)\n",
    "    hinv_del_L_del_theta= np.matmul(hinv, del_L_del_theta_sum)\n",
    "    hessian_U_hinv_del_L_del_theta = np.zeros((num_params,))\n",
    "    for i in range(u):\n",
    "        idx = U[i]\n",
    "        hessian_U_hinv_del_L_del_theta += np.matmul(hessian_all_points[idx], hinv_del_L_del_theta)\n",
    "\n",
    "    term1 = c1 * hinv_del_L_del_theta\n",
    "    term2 = c2 * np.matmul(hinv, hessian_U_hinv_del_L_del_theta)\n",
    "    sum_term = (term1 + term2*len(X_train))\n",
    "    return sum_term"
   ]
  },
  {
   "cell_type": "markdown",
   "metadata": {},
   "source": [
    "**First-order influence of each training data point**"
   ]
  },
  {
   "cell_type": "code",
   "execution_count": 25,
   "metadata": {
    "ExecuteTime": {
     "end_time": "2021-06-28T10:20:50.658071Z",
     "start_time": "2021-06-28T10:20:50.649300Z"
    }
   },
   "outputs": [],
   "source": [
    "infs_1 = first_order_influence(del_L_del_theta, hinv_v, len(X_train))"
   ]
  },
  {
   "cell_type": "markdown",
   "metadata": {},
   "source": [
    "**Checking ground truth, first-order and second-order influences for a set**"
   ]
  },
  {
   "cell_type": "code",
   "execution_count": 26,
   "metadata": {
    "ExecuteTime": {
     "end_time": "2021-06-28T10:20:52.992954Z",
     "start_time": "2021-06-28T10:20:52.399713Z"
    },
    "scrolled": true
   },
   "outputs": [
    {
     "name": "stdout",
     "output_type": "stream",
     "text": [
      "Predictive parity\n",
      "First-order influence:  -0.0016388837482024883\n",
      "Second-order influence:  -0.0033387299403454113\n",
      "#Rows removed:  161\n",
      "#Rows left:  639\n",
      "Ground truth influence of subset (on statistical parity):  0.19263299787417054\n",
      "Ground truth influence of subset (on tpr parity):  0.17930929952967534\n",
      "Ground truth influence of subset (on predictive parity):  -0.03118482144800594\n",
      "Ground truth statistical parity after removing subset:  0.0804204182233661\n",
      "Ground truth tpr parity after removing subset:  0.09278710977464844\n",
      "Ground truth predictive parity after removing subset:  0.09278710977464844\n",
      "Loss after removing subset:  0.5218575578539789\n",
      "Accuracy after removing subset:  0.735\n"
     ]
    }
   ],
   "source": [
    "if metric == 0:\n",
    "    print(\"Statistical parity \")\n",
    "elif metric == 1:\n",
    "    print(\"True positive rate parity \")\n",
    "elif metric == 2:\n",
    "    print(\"Predictive parity\")\n",
    "    \n",
    "active = 1\n",
    "if active:\n",
    "    if dataset == 'german':\n",
    "        predicates = ['age']\n",
    "    elif dataset == 'adult':\n",
    "        predicates = ['gender_Male']\n",
    "    elif dataset == 'compas':\n",
    "        predicates = ['race']\n",
    "    idx = X_train_orig.index \n",
    "    for pred in predicates:\n",
    "        idx0 = X_train_orig[(X_train_orig[pred] == 1)].index \n",
    "        idx = idx.intersection(idx0)\n",
    "\n",
    "    del_f_1 = 0\n",
    "    for i in range(len(idx)):\n",
    "        del_f_1 += infs_1[idx[i]]\n",
    "    print(\"First-order influence: \", del_f_1)\n",
    "\n",
    "    params_f_2 = second_order_influence(clf, X_train, y_train, idx, del_L_del_theta)\n",
    "    del_f_2 = np.dot(v1.transpose(), params_f_2)\n",
    "    print(\"Second-order influence: \", del_f_2)\n",
    "    \n",
    "    print(\"#Rows removed: \", len(idx))\n",
    "    print(\"#Rows left: \", len(X_train) - len(idx))\n",
    "    X = np.delete(X_train, idx, 0)\n",
    "    y = y_train.drop(index=idx, inplace=False)\n",
    "    clf.fit(np.array(X), np.array(y))\n",
    "    y_pred_test = clf.predict_proba(X_test)\n",
    "    print(\"Ground truth influence of subset (on statistical parity): \", computeFairness(y_pred_test, X_test_orig, y_test, 0, dataset) - spd_0)\n",
    "    print(\"Ground truth influence of subset (on tpr parity): \", computeFairness(y_pred_test, X_test_orig, y_test, 1, dataset) - tpr_parity_0)\n",
    "    print(\"Ground truth influence of subset (on predictive parity): \", computeFairness(y_pred_test, X_test_orig, y_test, 2, dataset) - predictive_parity_0)\n",
    "    \n",
    "    spd_1 = computeFairness(y_pred_test, X_test_orig, y_test, 0, dataset)\n",
    "    print(\"Ground truth statistical parity after removing subset: \", spd_1)\n",
    "    \n",
    "    tpr_parity_1 = computeFairness(y_pred_test, X_test_orig, y_test, 1, dataset)\n",
    "    print(\"Ground truth tpr parity after removing subset: \", tpr_parity_1)\n",
    "\n",
    "    predictive_parity_1 = computeFairness(y_pred_test, X_test_orig, y_test, 1, dataset)\n",
    "    print(\"Ground truth predictive parity after removing subset: \", predictive_parity_1)\n",
    "\n",
    "    loss_1 = logistic_loss(y_test, y_pred_test)\n",
    "    print(\"Loss after removing subset: \", loss_1)\n",
    "\n",
    "    accuracy_1 = computeAccuracy(y_test, y_pred_test)\n",
    "    print(\"Accuracy after removing subset: \", accuracy_1)"
   ]
  },
  {
   "cell_type": "markdown",
   "metadata": {},
   "source": [
    "**Fairness: Ground-truth subset influence vs. computed subset influences: Random subset**"
   ]
  },
  {
   "cell_type": "code",
   "execution_count": 25,
   "metadata": {
    "ExecuteTime": {
     "end_time": "2021-06-28T08:10:08.214611Z",
     "start_time": "2021-06-28T08:10:08.206534Z"
    }
   },
   "outputs": [],
   "source": [
    "# print(\"Ground-truth subset, Add 1st-order inf individual, Second-order subset influence\")\n",
    "# sampleSize = int(.2 * len(X_train))\n",
    "# for i in range(100):\n",
    "#     idx = random.sample(range(1, len(X_train)), sampleSize) \n",
    "    \n",
    "#     # Ground truth subset influence\n",
    "#     X = np.delete(X_train, idx, 0)\n",
    "#     y = y_train.drop(index=idx, inplace=False)\n",
    "#     clf.fit(X, y, learning_rate=.05)\n",
    "#     y_pred_test = clf.predict_proba(X_test)\n",
    "#     inf_gt = computeFairness(y_pred_test, X_test_orig, y_test, 0) - spd_0\n",
    "\n",
    "#     # First-order subset influence\n",
    "#     del_f_1 = 0\n",
    "#     for j in range(len(idx)):\n",
    "#         del_f_1 += infs_1[idx[j]]\n",
    "    \n",
    "#     # Second-order subset influence\n",
    "#     size_hvp = 1\n",
    "#     params_f_2 = second_order_influence(clf, X_train, y_train, idx, del_L_del_theta, r=5000)\n",
    "#     del_f_2 = np.dot(v1.transpose(), params_f_2)\n",
    "\n",
    "#     print(inf_gt, del_f_1, del_f_2, sep=\", \")"
   ]
  },
  {
   "cell_type": "markdown",
   "metadata": {},
   "source": [
    "**Fairness: Ground-truth subset influence vs. computed subset influences: Coherent subset** \n",
    "\n",
    "(by coherent, we mean group of data points that share some properties)"
   ]
  },
  {
   "cell_type": "markdown",
   "metadata": {},
   "source": [
    "***NOTE:*** The retraining of the clf would cause the change in model parameters and thus lead to the change of gradients, so in this part, we first acquire all the first- and second-order influence functions together based on the original model. After all the influence functions are calculated, we retrain the model corresponding to different removed coherent subset of data and get the ground truth."
   ]
  },
  {
   "cell_type": "code",
   "execution_count": 57,
   "metadata": {
    "ExecuteTime": {
     "end_time": "2021-06-28T10:23:43.316081Z",
     "start_time": "2021-06-28T10:23:43.308273Z"
    }
   },
   "outputs": [],
   "source": [
    "time_gt = []\n",
    "time_first = []\n",
    "time_second = []\n",
    "rep = 10"
   ]
  },
  {
   "cell_type": "code",
   "execution_count": 58,
   "metadata": {
    "ExecuteTime": {
     "end_time": "2021-06-28T10:23:48.370716Z",
     "start_time": "2021-06-28T10:23:43.794726Z"
    },
    "scrolled": true
   },
   "outputs": [],
   "source": [
    "for _ in range(rep):\n",
    "    # Get the original model\n",
    "    clf = LogisticRegression(input_size=X_train.shape[-1])\n",
    "    # clf = SVM()\n",
    "    clf.fit(X_train, y_train)\n",
    "\n",
    "    attributes = []\n",
    "    attributeValues = []\n",
    "    first_order_influences = []\n",
    "    second_order_influences = []\n",
    "    fractionRows = []\n",
    "\n",
    "    # print(\"Attribute, Value, Ground-truth subset, Add 1st-order inf individual, \\\n",
    "    # Second-order subset influence, %rowsRemoved, Accuracy\")\n",
    "    # clf.fit(X_train, y_train)\n",
    "    # continuous_cols = ['duration', 'credit_amt', 'install_rate', 'num_credits', 'residence']\n",
    "    v1_orig = v1\n",
    "    for col in X_train_orig.columns:\n",
    "        if dataset == 'german':\n",
    "            if \"purpose\" in col or \"housing\" in col: #dummy variables purpose=0 doesn't make sense\n",
    "                vals = [1]\n",
    "            else:\n",
    "                vals = X_train_orig[col].unique()\n",
    "        elif dataset == 'adult':\n",
    "            continuous_cols = ['age', 'education.num', 'hours',]\n",
    "            if col in continuous_cols:\n",
    "                vals = X_train_orig[col].unique()\n",
    "            else:\n",
    "                vals = [1]\n",
    "        elif dataset == 'compas':\n",
    "            vals = X_train_orig[col].unique()\n",
    "        else:\n",
    "            raise NotImplementedError\n",
    "        for val in vals:\n",
    "    #         print(col, val, sep=\": \")\n",
    "            idx = X_train_orig[X_train_orig[col] == val].index \n",
    "            X = np.delete(X_train, idx, 0)\n",
    "            y = y_train.drop(index=idx, inplace=False)\n",
    "            if len(y.unique()) > 1:\n",
    "                idx = X_train_orig[X_train_orig[col] == val].index \n",
    "\n",
    "                # First-order subset influence\n",
    "                t0 = time.time()\n",
    "    #             del_f_1 = 0            \n",
    "    #             for i in range(len(idx)):\n",
    "    #                 del_f_1 += infs_1[idx[i]]\n",
    "                params_f_1 = first_order_group_influence(idx, del_L_del_theta)\n",
    "                del_f_1 = np.dot(v1.transpose(), params_f_1)\n",
    "                time_first.append(time.time()-t0)\n",
    "\n",
    "                # Second-order subset influence\n",
    "                t0 = time.time()\n",
    "    #             params_f_2 = second_order_influence(clf, X_train, y_train, idx, del_L_del_theta)\n",
    "                params_f_2 = second_order_group_influence(idx, del_L_del_theta)\n",
    "                del_f_2 = np.dot(v1.transpose(), params_f_2)\n",
    "                time_second.append(time.time()-t0)\n",
    "\n",
    "                attributes.append(col)\n",
    "                attributeValues.append(val)\n",
    "                first_order_influences.append(del_f_1)\n",
    "                second_order_influences.append(del_f_2)\n",
    "        #         gt_influences.append(inf_gt)\n",
    "                fractionRows.append(len(idx)/len(X_train)*100)\n",
    "\n",
    "        #         print(col, val, inf_gt, del_f_1, del_f_2, len(idx)/len(X_train), accuracy, sep=\", \")"
   ]
  },
  {
   "cell_type": "code",
   "execution_count": 59,
   "metadata": {
    "ExecuteTime": {
     "end_time": "2021-06-28T10:25:58.446377Z",
     "start_time": "2021-06-28T10:23:48.374012Z"
    }
   },
   "outputs": [],
   "source": [
    "for _ in range(rep):\n",
    "    gt_influences = []\n",
    "#     v1s = []\n",
    "    for col in X_train_orig.columns:\n",
    "        if dataset == 'german':\n",
    "            if \"purpose\" in col or \"housing\" in col: #dummy variables purpose=0 doesn't make sense\n",
    "                vals = [1]\n",
    "            else:\n",
    "                vals = X_train_orig[col].unique()\n",
    "        elif dataset == 'adult':\n",
    "            continuous_cols = ['age', 'education.num', 'hours',]\n",
    "            if col in continuous_cols:\n",
    "                vals = X_train_orig[col].unique()\n",
    "            else:\n",
    "                vals = [1]\n",
    "        elif dataset == 'compas':\n",
    "            vals = X_train_orig[col].unique()\n",
    "        else:\n",
    "            raise NotImplementedError\n",
    "        for val in vals:\n",
    "            idx = X_train_orig[X_train_orig[col] == val].index \n",
    "            X = np.delete(X_train, idx, 0)\n",
    "            y = y_train.drop(index=idx, inplace=False)\n",
    "            inf_gt = 0\n",
    "            if len(y.unique()) > 1:\n",
    "                # Ground truth subset influence\n",
    "                t0 = time.time()\n",
    "                clf.fit(np.array(X), np.array(y))\n",
    "                y_pred = clf.predict_proba(np.array(X_test))\n",
    "                if metric == 0:\n",
    "                    inf_gt = computeFairness(y_pred, X_test_orig, y_test, 0, dataset) - spd_0\n",
    "                elif metric == 1:\n",
    "                    inf_gt = computeFairness(y_pred, X_test_orig, y_test, 1, dataset) - tpr_parity_0\n",
    "                elif metric == 2:\n",
    "                    inf_gt = computeFairness(y_pred, X_test_orig, y_test, 2, dataset) - predictive_parity_0\n",
    "                time_gt.append(time.time()-t0)\n",
    "                accuracy = computeAccuracy(y_test, y_pred)\n",
    "                gt_influences.append(inf_gt)\n",
    "#                 v1s.append(del_spd_del_theta(clf, X_test_orig, X_test, dataset))  # here, v1 corresponds to the metric spd"
   ]
  },
  {
   "cell_type": "code",
   "execution_count": 60,
   "metadata": {
    "ExecuteTime": {
     "end_time": "2021-06-28T10:25:58.461079Z",
     "start_time": "2021-06-28T10:25:58.449857Z"
    },
    "code_folding": []
   },
   "outputs": [],
   "source": [
    "def compute_cosine_theta(vec1: np.ndarray, vec2: np.ndarray):\n",
    "    \"\"\"\n",
    "        Compute cosine of the angle between two vectors \n",
    "    \"\"\"\n",
    "    vec1 = vec1.squeeze()\n",
    "    vec2 = vec2.squeeze()\n",
    "    assert vec1.shape == vec2.shape\n",
    "    vec1 /= np.sqrt(np.sum(vec1**2))\n",
    "    vec2 /= np.sqrt(np.sum(vec2**2))\n",
    "    return np.dot(vec1.T, vec2)"
   ]
  },
  {
   "cell_type": "code",
   "execution_count": 61,
   "metadata": {
    "ExecuteTime": {
     "end_time": "2021-06-28T10:25:58.482814Z",
     "start_time": "2021-06-28T10:25:58.470646Z"
    },
    "code_folding": []
   },
   "outputs": [],
   "source": [
    "def compute_theta(vec1: np.ndarray, vec2: np.ndarray, measure='radian'):\n",
    "    \"\"\"\n",
    "        Compute the angle between two vectors (angle/radian measure)\n",
    "    \"\"\"\n",
    "    cos = compute_cosine_theta(vec1, vec2)\n",
    "    theta = np.arccos(cos)\n",
    "    if measure == 'angle':\n",
    "        theta = theta / np.pi * 180\n",
    "    return theta"
   ]
  },
  {
   "cell_type": "code",
   "execution_count": 62,
   "metadata": {
    "ExecuteTime": {
     "end_time": "2021-06-28T10:25:58.504306Z",
     "start_time": "2021-06-28T10:25:58.491482Z"
    }
   },
   "outputs": [],
   "source": [
    "# cos_thetas = []\n",
    "# thetas = []\n",
    "# grad_change_scales = []\n",
    "# for vec in v1s:\n",
    "#     cos_thetas.append(compute_cosine_theta(v1_orig, vec))\n",
    "#     thetas.append(compute_theta(v1_orig, vec, measure='angle'))\n",
    "#     grad_change_scales.append(np.sqrt(np.sum((vec-v1_orig)**2)))"
   ]
  },
  {
   "cell_type": "code",
   "execution_count": 63,
   "metadata": {
    "ExecuteTime": {
     "end_time": "2021-06-28T10:25:58.538776Z",
     "start_time": "2021-06-28T10:25:58.510847Z"
    }
   },
   "outputs": [],
   "source": [
    "# expl = [attributes, attributeValues, first_order_influences, second_order_influences, gt_influences, fractionRows, thetas, grad_change_scales]\n",
    "# expl = (np.array(expl).T).tolist()\n",
    "\n",
    "# explanations = pd.DataFrame(expl, columns=[\"attributes\", \"attributeValues\", \"first_order_influences\", \"second_order_influences\", \"gt_influences\", \"fractionRows\", \"gradient_angles\", \"grad_change_scales\"])\n",
    "\n",
    "expl = [attributes, attributeValues, first_order_influences, second_order_influences, gt_influences, fractionRows]\n",
    "expl = (np.array(expl).T).tolist()\n",
    "\n",
    "explanations = pd.DataFrame(expl, columns=[\"attributes\", \"attributeValues\", \"first_order_influences\", \"second_order_influences\", \"gt_influences\", \"fractionRows\"])\n",
    "explanations['second_order_influences'] = explanations['second_order_influences'].astype(float)\n",
    "explanations['first_order_influences'] = explanations['first_order_influences'].astype(float)\n",
    "explanations['gt_influences'] = explanations['gt_influences'].astype(float)\n",
    "explanations['fractionRows'] = explanations['fractionRows'].astype(float)"
   ]
  },
  {
   "cell_type": "code",
   "execution_count": 64,
   "metadata": {
    "ExecuteTime": {
     "end_time": "2021-06-28T10:25:58.572677Z",
     "start_time": "2021-06-28T10:25:58.542063Z"
    }
   },
   "outputs": [
    {
     "data": {
      "text/html": [
       "<div>\n",
       "<style scoped>\n",
       "    .dataframe tbody tr th:only-of-type {\n",
       "        vertical-align: middle;\n",
       "    }\n",
       "\n",
       "    .dataframe tbody tr th {\n",
       "        vertical-align: top;\n",
       "    }\n",
       "\n",
       "    .dataframe thead th {\n",
       "        text-align: right;\n",
       "    }\n",
       "</style>\n",
       "<table border=\"1\" class=\"dataframe\">\n",
       "  <thead>\n",
       "    <tr style=\"text-align: right;\">\n",
       "      <th></th>\n",
       "      <th>attributes</th>\n",
       "      <th>attributeValues</th>\n",
       "      <th>first_order_influences</th>\n",
       "      <th>second_order_influences</th>\n",
       "      <th>gt_influences</th>\n",
       "      <th>fractionRows</th>\n",
       "    </tr>\n",
       "  </thead>\n",
       "  <tbody>\n",
       "    <tr>\n",
       "      <th>30</th>\n",
       "      <td>debtors</td>\n",
       "      <td>0</td>\n",
       "      <td>0.003135</td>\n",
       "      <td>0.093240</td>\n",
       "      <td>0.070357</td>\n",
       "      <td>90.625</td>\n",
       "    </tr>\n",
       "    <tr>\n",
       "      <th>57</th>\n",
       "      <td>foreign_worker</td>\n",
       "      <td>1</td>\n",
       "      <td>-0.001860</td>\n",
       "      <td>0.062399</td>\n",
       "      <td>-0.032229</td>\n",
       "      <td>96.250</td>\n",
       "    </tr>\n",
       "    <tr>\n",
       "      <th>60</th>\n",
       "      <td>gender</td>\n",
       "      <td>1</td>\n",
       "      <td>0.002938</td>\n",
       "      <td>0.014815</td>\n",
       "      <td>0.028148</td>\n",
       "      <td>67.875</td>\n",
       "    </tr>\n",
       "    <tr>\n",
       "      <th>54</th>\n",
       "      <td>num_liable</td>\n",
       "      <td>2</td>\n",
       "      <td>0.009516</td>\n",
       "      <td>0.011801</td>\n",
       "      <td>0.014777</td>\n",
       "      <td>14.500</td>\n",
       "    </tr>\n",
       "    <tr>\n",
       "      <th>27</th>\n",
       "      <td>install_rate</td>\n",
       "      <td>1</td>\n",
       "      <td>0.008318</td>\n",
       "      <td>0.010287</td>\n",
       "      <td>0.009471</td>\n",
       "      <td>13.875</td>\n",
       "    </tr>\n",
       "    <tr>\n",
       "      <th>15</th>\n",
       "      <td>credit_amt</td>\n",
       "      <td>2</td>\n",
       "      <td>0.006909</td>\n",
       "      <td>0.009960</td>\n",
       "      <td>0.007304</td>\n",
       "      <td>17.875</td>\n",
       "    </tr>\n",
       "    <tr>\n",
       "      <th>22</th>\n",
       "      <td>employment</td>\n",
       "      <td>4</td>\n",
       "      <td>0.005861</td>\n",
       "      <td>0.009522</td>\n",
       "      <td>0.009170</td>\n",
       "      <td>25.250</td>\n",
       "    </tr>\n",
       "    <tr>\n",
       "      <th>73</th>\n",
       "      <td>housing_A153</td>\n",
       "      <td>1</td>\n",
       "      <td>0.006804</td>\n",
       "      <td>0.009503</td>\n",
       "      <td>0.013995</td>\n",
       "      <td>11.000</td>\n",
       "    </tr>\n",
       "    <tr>\n",
       "      <th>34</th>\n",
       "      <td>residence</td>\n",
       "      <td>3</td>\n",
       "      <td>0.006924</td>\n",
       "      <td>0.009447</td>\n",
       "      <td>0.014119</td>\n",
       "      <td>15.750</td>\n",
       "    </tr>\n",
       "    <tr>\n",
       "      <th>72</th>\n",
       "      <td>housing_A152</td>\n",
       "      <td>1</td>\n",
       "      <td>-0.002689</td>\n",
       "      <td>0.009417</td>\n",
       "      <td>0.010125</td>\n",
       "      <td>70.000</td>\n",
       "    </tr>\n",
       "  </tbody>\n",
       "</table>\n",
       "</div>"
      ],
      "text/plain": [
       "        attributes attributeValues  first_order_influences  \\\n",
       "30         debtors               0                0.003135   \n",
       "57  foreign_worker               1               -0.001860   \n",
       "60          gender               1                0.002938   \n",
       "54      num_liable               2                0.009516   \n",
       "27    install_rate               1                0.008318   \n",
       "15      credit_amt               2                0.006909   \n",
       "22      employment               4                0.005861   \n",
       "73    housing_A153               1                0.006804   \n",
       "34       residence               3                0.006924   \n",
       "72    housing_A152               1               -0.002689   \n",
       "\n",
       "    second_order_influences  gt_influences  fractionRows  \n",
       "30                 0.093240       0.070357        90.625  \n",
       "57                 0.062399      -0.032229        96.250  \n",
       "60                 0.014815       0.028148        67.875  \n",
       "54                 0.011801       0.014777        14.500  \n",
       "27                 0.010287       0.009471        13.875  \n",
       "15                 0.009960       0.007304        17.875  \n",
       "22                 0.009522       0.009170        25.250  \n",
       "73                 0.009503       0.013995        11.000  \n",
       "34                 0.009447       0.014119        15.750  \n",
       "72                 0.009417       0.010125        70.000  "
      ]
     },
     "execution_count": 64,
     "metadata": {},
     "output_type": "execute_result"
    }
   ],
   "source": [
    "explanations.sort_values(by=['second_order_influences'], ascending=False).head(10)"
   ]
  },
  {
   "cell_type": "code",
   "execution_count": 65,
   "metadata": {
    "ExecuteTime": {
     "end_time": "2021-06-28T10:25:58.628751Z",
     "start_time": "2021-06-28T10:25:58.578252Z"
    }
   },
   "outputs": [
    {
     "data": {
      "text/html": [
       "<div>\n",
       "<style scoped>\n",
       "    .dataframe tbody tr th:only-of-type {\n",
       "        vertical-align: middle;\n",
       "    }\n",
       "\n",
       "    .dataframe tbody tr th {\n",
       "        vertical-align: top;\n",
       "    }\n",
       "\n",
       "    .dataframe thead th {\n",
       "        text-align: right;\n",
       "    }\n",
       "</style>\n",
       "<table border=\"1\" class=\"dataframe\">\n",
       "  <thead>\n",
       "    <tr style=\"text-align: right;\">\n",
       "      <th></th>\n",
       "      <th>attributes</th>\n",
       "      <th>attributeValues</th>\n",
       "      <th>first_order_influences</th>\n",
       "      <th>second_order_influences</th>\n",
       "      <th>gt_influences</th>\n",
       "      <th>fractionRows</th>\n",
       "    </tr>\n",
       "  </thead>\n",
       "  <tbody>\n",
       "    <tr>\n",
       "      <th>30</th>\n",
       "      <td>debtors</td>\n",
       "      <td>0</td>\n",
       "      <td>0.003135</td>\n",
       "      <td>0.093240</td>\n",
       "      <td>0.070357</td>\n",
       "      <td>90.625</td>\n",
       "    </tr>\n",
       "    <tr>\n",
       "      <th>43</th>\n",
       "      <td>install_plans</td>\n",
       "      <td>0</td>\n",
       "      <td>0.005718</td>\n",
       "      <td>-0.000021</td>\n",
       "      <td>0.039806</td>\n",
       "      <td>80.500</td>\n",
       "    </tr>\n",
       "    <tr>\n",
       "      <th>60</th>\n",
       "      <td>gender</td>\n",
       "      <td>1</td>\n",
       "      <td>0.002938</td>\n",
       "      <td>0.014815</td>\n",
       "      <td>0.028148</td>\n",
       "      <td>67.875</td>\n",
       "    </tr>\n",
       "    <tr>\n",
       "      <th>41</th>\n",
       "      <td>age</td>\n",
       "      <td>0</td>\n",
       "      <td>0.001346</td>\n",
       "      <td>-0.006702</td>\n",
       "      <td>0.028059</td>\n",
       "      <td>79.875</td>\n",
       "    </tr>\n",
       "    <tr>\n",
       "      <th>50</th>\n",
       "      <td>job</td>\n",
       "      <td>3</td>\n",
       "      <td>0.003144</td>\n",
       "      <td>0.005412</td>\n",
       "      <td>0.023241</td>\n",
       "      <td>15.125</td>\n",
       "    </tr>\n",
       "    <tr>\n",
       "      <th>54</th>\n",
       "      <td>num_liable</td>\n",
       "      <td>2</td>\n",
       "      <td>0.009516</td>\n",
       "      <td>0.011801</td>\n",
       "      <td>0.014777</td>\n",
       "      <td>14.500</td>\n",
       "    </tr>\n",
       "    <tr>\n",
       "      <th>34</th>\n",
       "      <td>residence</td>\n",
       "      <td>3</td>\n",
       "      <td>0.006924</td>\n",
       "      <td>0.009447</td>\n",
       "      <td>0.014119</td>\n",
       "      <td>15.750</td>\n",
       "    </tr>\n",
       "    <tr>\n",
       "      <th>73</th>\n",
       "      <td>housing_A153</td>\n",
       "      <td>1</td>\n",
       "      <td>0.006804</td>\n",
       "      <td>0.009503</td>\n",
       "      <td>0.013995</td>\n",
       "      <td>11.000</td>\n",
       "    </tr>\n",
       "    <tr>\n",
       "      <th>72</th>\n",
       "      <td>housing_A152</td>\n",
       "      <td>1</td>\n",
       "      <td>-0.002689</td>\n",
       "      <td>0.009417</td>\n",
       "      <td>0.010125</td>\n",
       "      <td>70.000</td>\n",
       "    </tr>\n",
       "    <tr>\n",
       "      <th>27</th>\n",
       "      <td>install_rate</td>\n",
       "      <td>1</td>\n",
       "      <td>0.008318</td>\n",
       "      <td>0.010287</td>\n",
       "      <td>0.009471</td>\n",
       "      <td>13.875</td>\n",
       "    </tr>\n",
       "  </tbody>\n",
       "</table>\n",
       "</div>"
      ],
      "text/plain": [
       "       attributes attributeValues  first_order_influences  \\\n",
       "30        debtors               0                0.003135   \n",
       "43  install_plans               0                0.005718   \n",
       "60         gender               1                0.002938   \n",
       "41            age               0                0.001346   \n",
       "50            job               3                0.003144   \n",
       "54     num_liable               2                0.009516   \n",
       "34      residence               3                0.006924   \n",
       "73   housing_A153               1                0.006804   \n",
       "72   housing_A152               1               -0.002689   \n",
       "27   install_rate               1                0.008318   \n",
       "\n",
       "    second_order_influences  gt_influences  fractionRows  \n",
       "30                 0.093240       0.070357        90.625  \n",
       "43                -0.000021       0.039806        80.500  \n",
       "60                 0.014815       0.028148        67.875  \n",
       "41                -0.006702       0.028059        79.875  \n",
       "50                 0.005412       0.023241        15.125  \n",
       "54                 0.011801       0.014777        14.500  \n",
       "34                 0.009447       0.014119        15.750  \n",
       "73                 0.009503       0.013995        11.000  \n",
       "72                 0.009417       0.010125        70.000  \n",
       "27                 0.010287       0.009471        13.875  "
      ]
     },
     "execution_count": 65,
     "metadata": {},
     "output_type": "execute_result"
    }
   ],
   "source": [
    "explanations.sort_values(by=['gt_influences'], ascending=False).head(10)"
   ]
  },
  {
   "cell_type": "code",
   "execution_count": 73,
   "metadata": {
    "ExecuteTime": {
     "end_time": "2021-06-28T10:30:27.592395Z",
     "start_time": "2021-06-28T10:30:27.561367Z"
    }
   },
   "outputs": [
    {
     "data": {
      "text/html": [
       "<div>\n",
       "<style scoped>\n",
       "    .dataframe tbody tr th:only-of-type {\n",
       "        vertical-align: middle;\n",
       "    }\n",
       "\n",
       "    .dataframe tbody tr th {\n",
       "        vertical-align: top;\n",
       "    }\n",
       "\n",
       "    .dataframe thead th {\n",
       "        text-align: right;\n",
       "    }\n",
       "</style>\n",
       "<table border=\"1\" class=\"dataframe\">\n",
       "  <thead>\n",
       "    <tr style=\"text-align: right;\">\n",
       "      <th></th>\n",
       "      <th>attributes</th>\n",
       "      <th>attributeValues</th>\n",
       "      <th>first_order_influences</th>\n",
       "      <th>second_order_influences</th>\n",
       "      <th>gt_influences</th>\n",
       "      <th>fractionRows</th>\n",
       "      <th>gt_rank</th>\n",
       "      <th>so_rank</th>\n",
       "    </tr>\n",
       "  </thead>\n",
       "  <tbody>\n",
       "    <tr>\n",
       "      <th>57</th>\n",
       "      <td>foreign_worker</td>\n",
       "      <td>1</td>\n",
       "      <td>-0.001860</td>\n",
       "      <td>0.062399</td>\n",
       "      <td>-0.032229</td>\n",
       "      <td>96.250</td>\n",
       "      <td>72.0</td>\n",
       "      <td>1.0</td>\n",
       "    </tr>\n",
       "    <tr>\n",
       "      <th>30</th>\n",
       "      <td>debtors</td>\n",
       "      <td>0</td>\n",
       "      <td>0.003135</td>\n",
       "      <td>0.093240</td>\n",
       "      <td>0.070357</td>\n",
       "      <td>90.625</td>\n",
       "      <td>0.0</td>\n",
       "      <td>0.0</td>\n",
       "    </tr>\n",
       "    <tr>\n",
       "      <th>53</th>\n",
       "      <td>num_liable</td>\n",
       "      <td>1</td>\n",
       "      <td>-0.009808</td>\n",
       "      <td>-0.044016</td>\n",
       "      <td>-0.041825</td>\n",
       "      <td>85.500</td>\n",
       "      <td>73.0</td>\n",
       "      <td>73.0</td>\n",
       "    </tr>\n",
       "    <tr>\n",
       "      <th>43</th>\n",
       "      <td>install_plans</td>\n",
       "      <td>0</td>\n",
       "      <td>0.005718</td>\n",
       "      <td>-0.000021</td>\n",
       "      <td>0.039806</td>\n",
       "      <td>80.500</td>\n",
       "      <td>1.0</td>\n",
       "      <td>41.0</td>\n",
       "    </tr>\n",
       "    <tr>\n",
       "      <th>41</th>\n",
       "      <td>age</td>\n",
       "      <td>0</td>\n",
       "      <td>0.001346</td>\n",
       "      <td>-0.006702</td>\n",
       "      <td>0.028059</td>\n",
       "      <td>79.875</td>\n",
       "      <td>3.0</td>\n",
       "      <td>64.0</td>\n",
       "    </tr>\n",
       "    <tr>\n",
       "      <th>72</th>\n",
       "      <td>housing_A152</td>\n",
       "      <td>1</td>\n",
       "      <td>-0.002689</td>\n",
       "      <td>0.009417</td>\n",
       "      <td>0.010125</td>\n",
       "      <td>70.000</td>\n",
       "      <td>8.0</td>\n",
       "      <td>9.0</td>\n",
       "    </tr>\n",
       "    <tr>\n",
       "      <th>60</th>\n",
       "      <td>gender</td>\n",
       "      <td>1</td>\n",
       "      <td>0.002938</td>\n",
       "      <td>0.014815</td>\n",
       "      <td>0.028148</td>\n",
       "      <td>67.875</td>\n",
       "      <td>2.0</td>\n",
       "      <td>2.0</td>\n",
       "    </tr>\n",
       "    <tr>\n",
       "      <th>49</th>\n",
       "      <td>job</td>\n",
       "      <td>2</td>\n",
       "      <td>-0.002891</td>\n",
       "      <td>-0.009749</td>\n",
       "      <td>-0.011440</td>\n",
       "      <td>63.625</td>\n",
       "      <td>66.0</td>\n",
       "      <td>70.0</td>\n",
       "    </tr>\n",
       "    <tr>\n",
       "      <th>45</th>\n",
       "      <td>num_credits</td>\n",
       "      <td>1</td>\n",
       "      <td>0.001152</td>\n",
       "      <td>0.004366</td>\n",
       "      <td>0.005513</td>\n",
       "      <td>63.125</td>\n",
       "      <td>18.0</td>\n",
       "      <td>15.0</td>\n",
       "    </tr>\n",
       "    <tr>\n",
       "      <th>55</th>\n",
       "      <td>telephone</td>\n",
       "      <td>0</td>\n",
       "      <td>0.000170</td>\n",
       "      <td>-0.001238</td>\n",
       "      <td>-0.002909</td>\n",
       "      <td>60.375</td>\n",
       "      <td>53.0</td>\n",
       "      <td>47.0</td>\n",
       "    </tr>\n",
       "    <tr>\n",
       "      <th>19</th>\n",
       "      <td>savings</td>\n",
       "      <td>0</td>\n",
       "      <td>-0.005800</td>\n",
       "      <td>-0.019238</td>\n",
       "      <td>-0.020371</td>\n",
       "      <td>60.250</td>\n",
       "      <td>70.0</td>\n",
       "      <td>72.0</td>\n",
       "    </tr>\n",
       "    <tr>\n",
       "      <th>8</th>\n",
       "      <td>credit_hist</td>\n",
       "      <td>2</td>\n",
       "      <td>0.000793</td>\n",
       "      <td>0.004308</td>\n",
       "      <td>0.002953</td>\n",
       "      <td>53.000</td>\n",
       "      <td>26.0</td>\n",
       "      <td>16.0</td>\n",
       "    </tr>\n",
       "    <tr>\n",
       "      <th>26</th>\n",
       "      <td>install_rate</td>\n",
       "      <td>4</td>\n",
       "      <td>-0.002209</td>\n",
       "      <td>-0.004222</td>\n",
       "      <td>-0.006267</td>\n",
       "      <td>47.625</td>\n",
       "      <td>61.0</td>\n",
       "      <td>60.0</td>\n",
       "    </tr>\n",
       "    <tr>\n",
       "      <th>13</th>\n",
       "      <td>credit_amt</td>\n",
       "      <td>0</td>\n",
       "      <td>-0.000113</td>\n",
       "      <td>0.001851</td>\n",
       "      <td>-0.005244</td>\n",
       "      <td>44.000</td>\n",
       "      <td>59.0</td>\n",
       "      <td>26.0</td>\n",
       "    </tr>\n",
       "    <tr>\n",
       "      <th>4</th>\n",
       "      <td>duration</td>\n",
       "      <td>1</td>\n",
       "      <td>-0.001606</td>\n",
       "      <td>0.001619</td>\n",
       "      <td>0.001180</td>\n",
       "      <td>42.375</td>\n",
       "      <td>30.0</td>\n",
       "      <td>29.0</td>\n",
       "    </tr>\n",
       "    <tr>\n",
       "      <th>33</th>\n",
       "      <td>residence</td>\n",
       "      <td>4</td>\n",
       "      <td>-0.000125</td>\n",
       "      <td>0.001103</td>\n",
       "      <td>-0.001253</td>\n",
       "      <td>40.875</td>\n",
       "      <td>45.0</td>\n",
       "      <td>34.0</td>\n",
       "    </tr>\n",
       "    <tr>\n",
       "      <th>56</th>\n",
       "      <td>telephone</td>\n",
       "      <td>1</td>\n",
       "      <td>-0.000463</td>\n",
       "      <td>-0.001268</td>\n",
       "      <td>-0.001468</td>\n",
       "      <td>39.625</td>\n",
       "      <td>49.0</td>\n",
       "      <td>48.0</td>\n",
       "    </tr>\n",
       "    <tr>\n",
       "      <th>0</th>\n",
       "      <td>status</td>\n",
       "      <td>3</td>\n",
       "      <td>0.001120</td>\n",
       "      <td>0.004374</td>\n",
       "      <td>0.004802</td>\n",
       "      <td>39.125</td>\n",
       "      <td>20.0</td>\n",
       "      <td>14.0</td>\n",
       "    </tr>\n",
       "    <tr>\n",
       "      <th>14</th>\n",
       "      <td>credit_amt</td>\n",
       "      <td>1</td>\n",
       "      <td>-0.007089</td>\n",
       "      <td>-0.007578</td>\n",
       "      <td>-0.010122</td>\n",
       "      <td>38.125</td>\n",
       "      <td>64.0</td>\n",
       "      <td>65.0</td>\n",
       "    </tr>\n",
       "    <tr>\n",
       "      <th>5</th>\n",
       "      <td>duration</td>\n",
       "      <td>0</td>\n",
       "      <td>0.002411</td>\n",
       "      <td>0.003482</td>\n",
       "      <td>0.002461</td>\n",
       "      <td>35.125</td>\n",
       "      <td>27.0</td>\n",
       "      <td>19.0</td>\n",
       "    </tr>\n",
       "    <tr>\n",
       "      <th>23</th>\n",
       "      <td>employment</td>\n",
       "      <td>2</td>\n",
       "      <td>0.000875</td>\n",
       "      <td>0.001109</td>\n",
       "      <td>0.005706</td>\n",
       "      <td>34.375</td>\n",
       "      <td>17.0</td>\n",
       "      <td>33.0</td>\n",
       "    </tr>\n",
       "    <tr>\n",
       "      <th>38</th>\n",
       "      <td>property</td>\n",
       "      <td>1</td>\n",
       "      <td>-0.007259</td>\n",
       "      <td>-0.011946</td>\n",
       "      <td>-0.012134</td>\n",
       "      <td>34.000</td>\n",
       "      <td>67.0</td>\n",
       "      <td>71.0</td>\n",
       "    </tr>\n",
       "    <tr>\n",
       "      <th>46</th>\n",
       "      <td>num_credits</td>\n",
       "      <td>2</td>\n",
       "      <td>-0.003537</td>\n",
       "      <td>-0.003849</td>\n",
       "      <td>-0.004187</td>\n",
       "      <td>33.750</td>\n",
       "      <td>57.0</td>\n",
       "      <td>58.0</td>\n",
       "    </tr>\n",
       "    <tr>\n",
       "      <th>59</th>\n",
       "      <td>gender</td>\n",
       "      <td>0</td>\n",
       "      <td>-0.003231</td>\n",
       "      <td>-0.003665</td>\n",
       "      <td>-0.004763</td>\n",
       "      <td>32.125</td>\n",
       "      <td>58.0</td>\n",
       "      <td>57.0</td>\n",
       "    </tr>\n",
       "    <tr>\n",
       "      <th>36</th>\n",
       "      <td>residence</td>\n",
       "      <td>2</td>\n",
       "      <td>-0.006898</td>\n",
       "      <td>-0.009195</td>\n",
       "      <td>-0.009463</td>\n",
       "      <td>31.125</td>\n",
       "      <td>63.0</td>\n",
       "      <td>67.0</td>\n",
       "    </tr>\n",
       "    <tr>\n",
       "      <th>9</th>\n",
       "      <td>credit_hist</td>\n",
       "      <td>0</td>\n",
       "      <td>-0.006331</td>\n",
       "      <td>-0.009368</td>\n",
       "      <td>-0.010547</td>\n",
       "      <td>28.750</td>\n",
       "      <td>65.0</td>\n",
       "      <td>69.0</td>\n",
       "    </tr>\n",
       "    <tr>\n",
       "      <th>65</th>\n",
       "      <td>purpose_A43</td>\n",
       "      <td>1</td>\n",
       "      <td>-0.007144</td>\n",
       "      <td>-0.008615</td>\n",
       "      <td>0.007151</td>\n",
       "      <td>28.125</td>\n",
       "      <td>14.0</td>\n",
       "      <td>66.0</td>\n",
       "    </tr>\n",
       "    <tr>\n",
       "      <th>39</th>\n",
       "      <td>property</td>\n",
       "      <td>3</td>\n",
       "      <td>0.001197</td>\n",
       "      <td>0.002658</td>\n",
       "      <td>0.001991</td>\n",
       "      <td>28.125</td>\n",
       "      <td>29.0</td>\n",
       "      <td>22.0</td>\n",
       "    </tr>\n",
       "    <tr>\n",
       "      <th>2</th>\n",
       "      <td>status</td>\n",
       "      <td>0</td>\n",
       "      <td>0.001878</td>\n",
       "      <td>0.004854</td>\n",
       "      <td>0.006641</td>\n",
       "      <td>27.625</td>\n",
       "      <td>16.0</td>\n",
       "      <td>12.0</td>\n",
       "    </tr>\n",
       "    <tr>\n",
       "      <th>3</th>\n",
       "      <td>status</td>\n",
       "      <td>1</td>\n",
       "      <td>-0.002291</td>\n",
       "      <td>-0.002341</td>\n",
       "      <td>-0.001424</td>\n",
       "      <td>27.125</td>\n",
       "      <td>46.0</td>\n",
       "      <td>51.0</td>\n",
       "    </tr>\n",
       "    <tr>\n",
       "      <th>22</th>\n",
       "      <td>employment</td>\n",
       "      <td>4</td>\n",
       "      <td>0.005861</td>\n",
       "      <td>0.009522</td>\n",
       "      <td>0.009170</td>\n",
       "      <td>25.250</td>\n",
       "      <td>10.0</td>\n",
       "      <td>6.0</td>\n",
       "    </tr>\n",
       "    <tr>\n",
       "      <th>61</th>\n",
       "      <td>purpose_A40</td>\n",
       "      <td>1</td>\n",
       "      <td>0.002501</td>\n",
       "      <td>0.002127</td>\n",
       "      <td>0.003787</td>\n",
       "      <td>24.500</td>\n",
       "      <td>24.0</td>\n",
       "      <td>24.0</td>\n",
       "    </tr>\n",
       "    <tr>\n",
       "      <th>28</th>\n",
       "      <td>install_rate</td>\n",
       "      <td>2</td>\n",
       "      <td>-0.004242</td>\n",
       "      <td>-0.005757</td>\n",
       "      <td>-0.006744</td>\n",
       "      <td>23.125</td>\n",
       "      <td>62.0</td>\n",
       "      <td>62.0</td>\n",
       "    </tr>\n",
       "    <tr>\n",
       "      <th>37</th>\n",
       "      <td>property</td>\n",
       "      <td>2</td>\n",
       "      <td>0.003506</td>\n",
       "      <td>0.004535</td>\n",
       "      <td>0.003893</td>\n",
       "      <td>22.125</td>\n",
       "      <td>23.0</td>\n",
       "      <td>13.0</td>\n",
       "    </tr>\n",
       "    <tr>\n",
       "      <th>42</th>\n",
       "      <td>age</td>\n",
       "      <td>1</td>\n",
       "      <td>-0.001639</td>\n",
       "      <td>-0.003339</td>\n",
       "      <td>-0.031185</td>\n",
       "      <td>20.125</td>\n",
       "      <td>71.0</td>\n",
       "      <td>56.0</td>\n",
       "    </tr>\n",
       "    <tr>\n",
       "      <th>44</th>\n",
       "      <td>install_plans</td>\n",
       "      <td>1</td>\n",
       "      <td>-0.006011</td>\n",
       "      <td>-0.009218</td>\n",
       "      <td>-0.017896</td>\n",
       "      <td>19.500</td>\n",
       "      <td>69.0</td>\n",
       "      <td>68.0</td>\n",
       "    </tr>\n",
       "    <tr>\n",
       "      <th>71</th>\n",
       "      <td>housing_A151</td>\n",
       "      <td>1</td>\n",
       "      <td>-0.004407</td>\n",
       "      <td>-0.005304</td>\n",
       "      <td>0.008735</td>\n",
       "      <td>19.000</td>\n",
       "      <td>11.0</td>\n",
       "      <td>61.0</td>\n",
       "    </tr>\n",
       "    <tr>\n",
       "      <th>52</th>\n",
       "      <td>job</td>\n",
       "      <td>1</td>\n",
       "      <td>-0.000218</td>\n",
       "      <td>-0.001498</td>\n",
       "      <td>-0.003784</td>\n",
       "      <td>19.000</td>\n",
       "      <td>55.0</td>\n",
       "      <td>49.0</td>\n",
       "    </tr>\n",
       "    <tr>\n",
       "      <th>16</th>\n",
       "      <td>savings</td>\n",
       "      <td>4</td>\n",
       "      <td>0.003960</td>\n",
       "      <td>0.005605</td>\n",
       "      <td>0.007076</td>\n",
       "      <td>18.750</td>\n",
       "      <td>15.0</td>\n",
       "      <td>10.0</td>\n",
       "    </tr>\n",
       "    <tr>\n",
       "      <th>64</th>\n",
       "      <td>purpose_A42</td>\n",
       "      <td>1</td>\n",
       "      <td>-0.001283</td>\n",
       "      <td>-0.001738</td>\n",
       "      <td>0.000863</td>\n",
       "      <td>18.125</td>\n",
       "      <td>34.0</td>\n",
       "      <td>50.0</td>\n",
       "    </tr>\n",
       "  </tbody>\n",
       "</table>\n",
       "</div>"
      ],
      "text/plain": [
       "        attributes attributeValues  first_order_influences  \\\n",
       "57  foreign_worker               1               -0.001860   \n",
       "30         debtors               0                0.003135   \n",
       "53      num_liable               1               -0.009808   \n",
       "43   install_plans               0                0.005718   \n",
       "41             age               0                0.001346   \n",
       "72    housing_A152               1               -0.002689   \n",
       "60          gender               1                0.002938   \n",
       "49             job               2               -0.002891   \n",
       "45     num_credits               1                0.001152   \n",
       "55       telephone               0                0.000170   \n",
       "19         savings               0               -0.005800   \n",
       "8      credit_hist               2                0.000793   \n",
       "26    install_rate               4               -0.002209   \n",
       "13      credit_amt               0               -0.000113   \n",
       "4         duration               1               -0.001606   \n",
       "33       residence               4               -0.000125   \n",
       "56       telephone               1               -0.000463   \n",
       "0           status               3                0.001120   \n",
       "14      credit_amt               1               -0.007089   \n",
       "5         duration               0                0.002411   \n",
       "23      employment               2                0.000875   \n",
       "38        property               1               -0.007259   \n",
       "46     num_credits               2               -0.003537   \n",
       "59          gender               0               -0.003231   \n",
       "36       residence               2               -0.006898   \n",
       "9      credit_hist               0               -0.006331   \n",
       "65     purpose_A43               1               -0.007144   \n",
       "39        property               3                0.001197   \n",
       "2           status               0                0.001878   \n",
       "3           status               1               -0.002291   \n",
       "22      employment               4                0.005861   \n",
       "61     purpose_A40               1                0.002501   \n",
       "28    install_rate               2               -0.004242   \n",
       "37        property               2                0.003506   \n",
       "42             age               1               -0.001639   \n",
       "44   install_plans               1               -0.006011   \n",
       "71    housing_A151               1               -0.004407   \n",
       "52             job               1               -0.000218   \n",
       "16         savings               4                0.003960   \n",
       "64     purpose_A42               1               -0.001283   \n",
       "\n",
       "    second_order_influences  gt_influences  fractionRows  gt_rank  so_rank  \n",
       "57                 0.062399      -0.032229        96.250     72.0      1.0  \n",
       "30                 0.093240       0.070357        90.625      0.0      0.0  \n",
       "53                -0.044016      -0.041825        85.500     73.0     73.0  \n",
       "43                -0.000021       0.039806        80.500      1.0     41.0  \n",
       "41                -0.006702       0.028059        79.875      3.0     64.0  \n",
       "72                 0.009417       0.010125        70.000      8.0      9.0  \n",
       "60                 0.014815       0.028148        67.875      2.0      2.0  \n",
       "49                -0.009749      -0.011440        63.625     66.0     70.0  \n",
       "45                 0.004366       0.005513        63.125     18.0     15.0  \n",
       "55                -0.001238      -0.002909        60.375     53.0     47.0  \n",
       "19                -0.019238      -0.020371        60.250     70.0     72.0  \n",
       "8                  0.004308       0.002953        53.000     26.0     16.0  \n",
       "26                -0.004222      -0.006267        47.625     61.0     60.0  \n",
       "13                 0.001851      -0.005244        44.000     59.0     26.0  \n",
       "4                  0.001619       0.001180        42.375     30.0     29.0  \n",
       "33                 0.001103      -0.001253        40.875     45.0     34.0  \n",
       "56                -0.001268      -0.001468        39.625     49.0     48.0  \n",
       "0                  0.004374       0.004802        39.125     20.0     14.0  \n",
       "14                -0.007578      -0.010122        38.125     64.0     65.0  \n",
       "5                  0.003482       0.002461        35.125     27.0     19.0  \n",
       "23                 0.001109       0.005706        34.375     17.0     33.0  \n",
       "38                -0.011946      -0.012134        34.000     67.0     71.0  \n",
       "46                -0.003849      -0.004187        33.750     57.0     58.0  \n",
       "59                -0.003665      -0.004763        32.125     58.0     57.0  \n",
       "36                -0.009195      -0.009463        31.125     63.0     67.0  \n",
       "9                 -0.009368      -0.010547        28.750     65.0     69.0  \n",
       "65                -0.008615       0.007151        28.125     14.0     66.0  \n",
       "39                 0.002658       0.001991        28.125     29.0     22.0  \n",
       "2                  0.004854       0.006641        27.625     16.0     12.0  \n",
       "3                 -0.002341      -0.001424        27.125     46.0     51.0  \n",
       "22                 0.009522       0.009170        25.250     10.0      6.0  \n",
       "61                 0.002127       0.003787        24.500     24.0     24.0  \n",
       "28                -0.005757      -0.006744        23.125     62.0     62.0  \n",
       "37                 0.004535       0.003893        22.125     23.0     13.0  \n",
       "42                -0.003339      -0.031185        20.125     71.0     56.0  \n",
       "44                -0.009218      -0.017896        19.500     69.0     68.0  \n",
       "71                -0.005304       0.008735        19.000     11.0     61.0  \n",
       "52                -0.001498      -0.003784        19.000     55.0     49.0  \n",
       "16                 0.005605       0.007076        18.750     15.0     10.0  \n",
       "64                -0.001738       0.000863        18.125     34.0     50.0  "
      ]
     },
     "execution_count": 73,
     "metadata": {},
     "output_type": "execute_result"
    }
   ],
   "source": [
    "explanations.sort_values(by=['fractionRows'], ascending=False).head(40)"
   ]
  },
  {
   "cell_type": "code",
   "execution_count": 67,
   "metadata": {
    "ExecuteTime": {
     "end_time": "2021-06-28T10:25:58.713611Z",
     "start_time": "2021-06-28T10:25:58.701670Z"
    }
   },
   "outputs": [],
   "source": [
    "import scipy.stats as ss\n",
    "explanations[\"gt_rank\"] = len(explanations) - ss.rankdata(explanations[\"gt_influences\"])\n",
    "explanations[\"so_rank\"] = len(explanations) - ss.rankdata(explanations[\"second_order_influences\"])"
   ]
  },
  {
   "cell_type": "code",
   "execution_count": 68,
   "metadata": {
    "ExecuteTime": {
     "end_time": "2021-06-28T10:25:58.740346Z",
     "start_time": "2021-06-28T10:25:58.726046Z"
    }
   },
   "outputs": [
    {
     "data": {
      "text/plain": [
       "KendalltauResult(correlation=0.603850425768234, pvalue=2.710447604224539e-14)"
      ]
     },
     "execution_count": 68,
     "metadata": {},
     "output_type": "execute_result"
    }
   ],
   "source": [
    "stats.kendalltau(explanations[\"gt_rank\"], explanations[\"so_rank\"])"
   ]
  },
  {
   "cell_type": "code",
   "execution_count": 76,
   "metadata": {
    "ExecuteTime": {
     "end_time": "2021-06-28T10:33:26.920812Z",
     "start_time": "2021-06-28T10:33:26.293870Z"
    },
    "scrolled": true
   },
   "outputs": [
    {
     "data": {
      "image/png": "[encoded data removed]",
      "text/plain": [
       "<Figure size 360x360 with 1 Axes>"
      ]
     },
     "metadata": {
      "needs_background": "light"
     },
     "output_type": "display_data"
    }
   ],
   "source": [
    "lim = 0.1\n",
    "plt.figure(figsize=(5,5))\n",
    "xs = (np.arange(31)-15)/15*lim*0.8\n",
    "ys = xs\n",
    "plt.xlim(-lim, lim)\n",
    "plt.ylim(-lim, lim)\n",
    "plt.plot(xs, ys, 'grey')\n",
    "\n",
    "# RGBA\n",
    "color_first = np.zeros((len(gt_influences), 4))\n",
    "color_first[:, 2] = 1.0\n",
    "color_first[:, 3] = 1-np.array(fractionRows)/100\n",
    "color_second = np.zeros((len(gt_influences), 4))\n",
    "color_second[:, 0] = 1.0\n",
    "color_second[:, 3] = 1-np.array(fractionRows)/100\n",
    "\n",
    "# color_first = np.zeros((len(gt_influences), 4))\n",
    "# color_first[:, 0] = 1.0\n",
    "# color_first[:, 3] = 0.2\n",
    "# color_second = np.zeros((len(gt_influences), 4))\n",
    "# color_second[:, 0] = 1.0\n",
    "# color_second[:, 3] = 1.0\n",
    "\n",
    "plt.scatter(gt_influences, first_order_influences, s=12, color=color_first, label='first-order')\n",
    "plt.scatter(gt_influences, second_order_influences, s=12, color=color_second, label='second-order')\n",
    "plt.ylabel('estimated influence\\n', fontsize=12, fontweight='bold')\n",
    "plt.xlabel('\\nground truth influence', fontsize=12, fontweight='bold')\n",
    "plt.legend(fontsize=12, prop={'weight':'bold'})\n",
    "plt.grid()\n",
    "plt.savefig('infs.png')"
   ]
  },
  {
   "cell_type": "code",
   "execution_count": 70,
   "metadata": {
    "ExecuteTime": {
     "end_time": "2021-06-28T10:25:59.339757Z",
     "start_time": "2021-06-28T10:25:59.323465Z"
    }
   },
   "outputs": [],
   "source": [
    "time_gt_ave = []\n",
    "time_second_ave = []\n",
    "time_first_ave = []\n",
    "\n",
    "l = len(time_gt)//rep\n",
    "for i in range(l):\n",
    "    time_gt_ave.append(np.average([time_gt[i+j*l] for j in range(rep)]))\n",
    "    time_second_ave.append(np.average([time_second[i+j*l] for j in range(rep)]))\n",
    "    time_first_ave.append(np.average([time_first[i+j*l] for j in range(rep)]))"
   ]
  },
  {
   "cell_type": "code",
   "execution_count": 78,
   "metadata": {
    "ExecuteTime": {
     "end_time": "2021-06-28T10:33:35.439623Z",
     "start_time": "2021-06-28T10:33:35.009156Z"
    }
   },
   "outputs": [
    {
     "data": {
      "image/png": "[encoded data removed]",
      "text/plain": [
       "<Figure size 360x360 with 1 Axes>"
      ]
     },
     "metadata": {
      "needs_background": "light"
     },
     "output_type": "display_data"
    }
   ],
   "source": [
    "plt.figure(figsize=(5,5))\n",
    "# plt.subplot(131)\n",
    "sorted_idx = explanations.sort_values(by=['fractionRows'], ascending=True).index\n",
    "xs = []\n",
    "ys = []\n",
    "for idx in sorted_idx:\n",
    "    xs.append(fractionRows[idx])\n",
    "    ys.append(time_first_ave[idx])\n",
    "plt.plot(xs, ys, '-', c='blue', label='first-order')\n",
    "\n",
    "# plt.subplot(132)\n",
    "xs = []\n",
    "ys = []\n",
    "for idx in sorted_idx:\n",
    "    xs.append(fractionRows[idx])\n",
    "    ys.append(time_second_ave[idx])\n",
    "plt.plot(xs, ys, '-', c='red', label='second-order')\n",
    "\n",
    "# plt.subplot(133)\n",
    "xs = []\n",
    "ys = []\n",
    "for idx in sorted_idx:\n",
    "    xs.append(fractionRows[idx])\n",
    "    ys.append(time_gt_ave[idx])\n",
    "plt.plot(xs, ys, '-', c='green', label='ground truth')\n",
    "plt.legend(fontsize=12, prop={'weight':'bold'})\n",
    "plt.grid()\n",
    "plt.xlabel('\\nfraction of data removed (%)', fontsize=12, fontweight='bold')\n",
    "plt.ylabel('time cost / sec\\n', fontsize=12, fontweight='bold')\n",
    "# plt.show()\n",
    "plt.savefig('time.png')"
   ]
  },
  {
   "cell_type": "code",
   "execution_count": 49,
   "metadata": {
    "ExecuteTime": {
     "end_time": "2021-06-28T10:22:53.161226Z",
     "start_time": "2021-06-28T10:22:53.145026Z"
    }
   },
   "outputs": [],
   "source": [
    "# bucket_num = 10\n",
    "fractionRows = np.array(fractionRows)\n",
    "gt_influences = np.array(gt_influences)\n",
    "first_order_influences = np.array(first_order_influences)\n",
    "second_order_influences = np.array(second_order_influences)\n",
    "corr_first_gt_ls = []\n",
    "corr_second_gt_ls = []\n",
    "for bucket_id in range(10):\n",
    "    is_in_bucket = np.logical_and(fractionRows>=bucket_id*10, fractionRows<(bucket_id+1)*10)\n",
    "    corr_first_gt = np.corrcoef([gt_influences[is_in_bucket], first_order_influences[is_in_bucket]])[0][1]\n",
    "    if np.isnan(corr_first_gt):\n",
    "        corr_first_gt = 0\n",
    "    corr_second_gt = np.corrcoef([gt_influences[is_in_bucket], second_order_influences[is_in_bucket]])[0][1]\n",
    "    if np.isnan(corr_second_gt):\n",
    "        corr_second_gt = 0\n",
    "    corr_first_gt_ls.append(corr_first_gt)\n",
    "    corr_second_gt_ls.append(corr_second_gt)"
   ]
  },
  {
   "cell_type": "code",
   "execution_count": 50,
   "metadata": {
    "ExecuteTime": {
     "end_time": "2021-06-28T10:22:53.899330Z",
     "start_time": "2021-06-28T10:22:53.513192Z"
    },
    "scrolled": false
   },
   "outputs": [
    {
     "data": {
      "image/png": "[encoded data removed]",
      "text/plain": [
       "<Figure size 576x576 with 1 Axes>"
      ]
     },
     "metadata": {
      "needs_background": "light"
     },
     "output_type": "display_data"
    }
   ],
   "source": [
    "plt.figure(figsize=(8,8))\n",
    "bar_width=0.3\n",
    "tick_label=[f'{i*10}%-{(i+1)*10}%' for i in range(10)]\n",
    "plt.bar(np.arange(10), corr_first_gt_ls, bar_width, color='blue', label='first')\n",
    "plt.bar(np.arange(10)+bar_width, corr_second_gt_ls, bar_width, color='orange', label='second')\n",
    "plt.legend(fontsize=12)\n",
    "plt.xticks(np.arange(10)+bar_width/2, tick_label, rotation=20, fontsize=12)\n",
    "plt.xlabel('Row Fraction', fontsize=20)\n",
    "plt.ylabel('Pearson Correlation', fontsize=20)\n",
    "plt.show()"
   ]
  },
  {
   "cell_type": "code",
   "execution_count": 51,
   "metadata": {
    "ExecuteTime": {
     "end_time": "2021-06-28T10:23:06.072360Z",
     "start_time": "2021-06-28T10:23:06.062658Z"
    }
   },
   "outputs": [
    {
     "data": {
      "text/plain": [
       "(0.5805211047109707, 0.5476326106559553)"
      ]
     },
     "execution_count": 51,
     "metadata": {},
     "output_type": "execute_result"
    }
   ],
   "source": [
    "# overall correlation\n",
    "np.corrcoef([gt_influences, first_order_influences])[0][1], np.corrcoef([gt_influences, second_order_influences])[0][1]"
   ]
  },
  {
   "cell_type": "markdown",
   "metadata": {
    "ExecuteTime": {
     "end_time": "2021-05-07T17:47:30.518658Z",
     "start_time": "2021-05-07T17:47:30.511518Z"
    }
   },
   "source": [
    "less than 2 coherent subsets correspond to the bracket 50%-60%, therefore cannot compute corrsponding pearson correlation"
   ]
  },
  {
   "cell_type": "code",
   "execution_count": 52,
   "metadata": {
    "ExecuteTime": {
     "end_time": "2021-06-28T10:23:10.705692Z",
     "start_time": "2021-06-28T10:23:09.146689Z"
    }
   },
   "outputs": [
    {
     "data": {
      "image/png": "[encoded data removed]",
      "text/plain": [
       "<Figure size 1080x432 with 10 Axes>"
      ]
     },
     "metadata": {
      "needs_background": "light"
     },
     "output_type": "display_data"
    }
   ],
   "source": [
    "# lim = 0.01\n",
    "plt.figure(figsize=(15, 6))\n",
    "for bucket_id in range(10):\n",
    "    plt.subplot(2, 5, bucket_id+1)\n",
    "    is_in_bucket = np.logical_and(fractionRows>=bucket_id*10, fractionRows<(bucket_id+1)*10)\n",
    "    xs = (np.arange(30)-15)/15*lim\n",
    "    ys = xs\n",
    "    plt.xlim(-lim, lim)\n",
    "    plt.ylim(-lim, lim)\n",
    "    plt.plot(xs, ys, 'g')\n",
    "    plt.scatter(gt_influences[is_in_bucket], first_order_influences[is_in_bucket], s=10, c='blue', label='first')\n",
    "    plt.scatter(gt_influences[is_in_bucket], second_order_influences[is_in_bucket], s=10, c='orange', label='second')\n",
    "    plt.legend()\n",
    "    plt.title(f'Fraction: {bucket_id*10}%-{(bucket_id+1)*10}% {np.sum(is_in_bucket)}')\n",
    "plt.tight_layout()\n",
    "plt.show()"
   ]
  },
  {
   "cell_type": "markdown",
   "metadata": {},
   "source": [
    "For buckets which include only small num of coherent subsets (many of them corresponds to high row fraction), the pearson correlation can be less meaningful. However, from the scatter plots above, we can see that the estimation of influence function tends to be more accurate when the row fractions are relatively low, meanwhile, low row fraction leads to low overall influence (change of metrics caused by removing the subset) of coherent subsets."
   ]
  },
  {
   "cell_type": "code",
   "execution_count": null,
   "metadata": {},
   "outputs": [],
   "source": []
  }
 ],
 "metadata": {
  "kernelspec": {
   "display_name": "Python 3",
   "language": "python",
   "name": "python3"
  },
  "language_info": {
   "codemirror_mode": {
    "name": "ipython",
    "version": 3
   },
   "file_extension": ".py",
   "mimetype": "text/x-python",
   "name": "python",
   "nbconvert_exporter": "python",
   "pygments_lexer": "ipython3",
   "version": "3.6.5"
  }
 },
 "nbformat": 4,
 "nbformat_minor": 4
}
