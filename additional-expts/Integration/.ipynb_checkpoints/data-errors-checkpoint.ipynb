{
 "cells": [
  {
   "cell_type": "code",
   "execution_count": 1,
   "metadata": {
    "ExecuteTime": {
     "end_time": "2021-06-28T10:15:30.656617Z",
     "start_time": "2021-06-28T10:15:27.026050Z"
    }
   },
   "outputs": [
    {
     "data": {
      "text/plain": [
       "<torch._C.Generator at 0x1415d0ed0>"
      ]
     },
     "execution_count": 1,
     "metadata": {},
     "output_type": "execute_result"
    }
   ],
   "source": [
    "import sys\n",
    "import tqdm\n",
    "import time\n",
    "import sklearn\n",
    "import numpy as np\n",
    "import pandas as pd\n",
    "import scipy\n",
    "import copy\n",
    "import random\n",
    "import math\n",
    "import torch\n",
    "import torch.nn.functional as F\n",
    "from load_dataset import load\n",
    "from classifier import NeuralNetwork, LogisticRegression, SVM\n",
    "from utils import *\n",
    "from metrics import *  # include fairness and corresponding derivatives\n",
    "from scipy import stats\n",
    "from scipy.stats import rankdata\n",
    "from sklearn import metrics, preprocessing\n",
    "from sklearn.ensemble import RandomForestClassifier, RandomForestRegressor\n",
    "from sklearn.metrics import classification_report\n",
    "from operator import itemgetter\n",
    "from torch.autograd import grad\n",
    "import torch.nn as nn\n",
    "import matplotlib.pyplot as plt\n",
    "import seaborn as sns\n",
    "from IPython.display import Markdown, display\n",
    "random.seed(1)\n",
    "np.random.seed(1)\n",
    "torch.manual_seed(1)"
   ]
  },
  {
   "cell_type": "code",
   "execution_count": 2,
   "metadata": {
    "ExecuteTime": {
     "end_time": "2021-06-28T10:15:30.666608Z",
     "start_time": "2021-06-28T10:15:30.659088Z"
    }
   },
   "outputs": [],
   "source": [
    "# ignore all the warnings\n",
    "import warnings\n",
    "warnings.filterwarnings('ignore') "
   ]
  },
  {
   "cell_type": "markdown",
   "metadata": {},
   "source": [
    "**Load Dataset**"
   ]
  },
  {
   "cell_type": "code",
   "execution_count": 6,
   "metadata": {
    "ExecuteTime": {
     "end_time": "2021-06-28T10:15:30.764458Z",
     "start_time": "2021-06-28T10:15:30.669908Z"
    },
    "code_folding": [
     0
    ]
   },
   "outputs": [],
   "source": [
    "dataset = 'german'\n",
    "X_train, X_test, y_train, y_test = load(dataset)"
   ]
  },
  {
   "cell_type": "code",
   "execution_count": 7,
   "metadata": {},
   "outputs": [],
   "source": [
    "idx_protected = X_train[(X_train['age']==0)].index \n",
    "idx_privilged = X_train[(X_train['age']==1)].index\n",
    "\n",
    "y_1 = y_train[y_train==1].index\n",
    "idx_protected_1 = y_1.intersection(idx_protected)"
   ]
  },
  {
   "cell_type": "code",
   "execution_count": 8,
   "metadata": {},
   "outputs": [],
   "source": [
    "noise_pc_protected = 0.5\n",
    "noise_pc_privilged = 0.1\n",
    "\n",
    "from random import sample\n",
    "\n",
    "sample_protected = sample(list(idx_protected_1), math.ceil(noise_pc_protected * len(idx_protected_1)))\n",
    "# sample_privileged = sample(list(idx_privilged), math.ceil(noise_pc_privilged * len(idx_privilged)))\n",
    "\n",
    "# protected_label_1 = y_train.iloc[sample_protected].sum()\n",
    "# privileged_label_1 = y_train.iloc[sample_privileged].sum()\n",
    "\n",
    "y_train.iloc[sample_protected] = 0\n",
    "# y_train.iloc[sample_privileged] = 0"
   ]
  },
  {
   "cell_type": "markdown",
   "metadata": {},
   "source": [
    "**Parametric Model**"
   ]
  },
  {
   "cell_type": "code",
   "execution_count": 47,
   "metadata": {
    "ExecuteTime": {
     "end_time": "2021-06-28T10:15:30.785470Z",
     "start_time": "2021-06-28T10:15:30.772180Z"
    },
    "code_folding": []
   },
   "outputs": [],
   "source": [
    "X_train_orig = copy.deepcopy(X_train)\n",
    "X_test_orig = copy.deepcopy(X_test)\n",
    "\n",
    "# Scale data: regularization penalty default: ‘l2’, ‘lbfgs’ solvers support only l2 penalties. \n",
    "# Regularization makes the predictor dependent on the scale of the features.\n",
    "from sklearn.preprocessing import StandardScaler\n",
    "sc = StandardScaler()\n",
    "X_train = sc.fit_transform(X_train)\n",
    "X_test = sc.transform(X_test)"
   ]
  },
  {
   "cell_type": "markdown",
   "metadata": {},
   "source": [
    "**Loss function** (Log loss for logistic regression)"
   ]
  },
  {
   "cell_type": "code",
   "execution_count": 48,
   "metadata": {
    "ExecuteTime": {
     "end_time": "2021-06-28T10:15:30.802151Z",
     "start_time": "2021-06-28T10:15:30.789741Z"
    }
   },
   "outputs": [],
   "source": [
    "# clf = NeuralNetwork(input_size=X_train.shape[-1])\n",
    "clf = LogisticRegression(input_size=X_train.shape[-1])\n",
    "# clf = SVM(input_size=X_train.shape[-1])\n",
    "num_params = len(convert_grad_to_ndarray(list(clf.parameters())))\n",
    "if isinstance(clf, LogisticRegression) or isinstance(clf, NeuralNetwork):\n",
    "#     loss_func = lambda model, x, y_true: logistic_loss_torch(model(torch.FloatTensor(x)),\\\n",
    "#                                                              torch.FloatTensor([y_true])) +\\\n",
    "#     model.C*torch.sqrt(torch.sum(convert_grad_to_tensor(list(clf.parameters()))**2))\n",
    "    loss_func = logistic_loss_torch\n",
    "elif isinstance(clf, SVM):\n",
    "    loss_func = svm_loss_torch"
   ]
  },
  {
   "cell_type": "markdown",
   "metadata": {},
   "source": [
    "**Influence of points computed using ground truth**"
   ]
  },
  {
   "cell_type": "code",
   "execution_count": 49,
   "metadata": {
    "ExecuteTime": {
     "end_time": "2021-06-28T10:15:30.816384Z",
     "start_time": "2021-06-28T10:15:30.807525Z"
    },
    "code_folding": [
     0
    ]
   },
   "outputs": [],
   "source": [
    "def ground_truth_influence(X_train, y_train, X_test, X_test_orig, y_test):\n",
    "    clf.fit(X_train, y_train, verbose=True)\n",
    "    y_pred = clf.predict_proba(X_test)\n",
    "    spd_0 = computeFairness(y_pred, X_test_orig, y_test, 0)\n",
    "\n",
    "    delta_spd = []\n",
    "    for i in range(len(X_train)):\n",
    "        X_removed = np.delete(X_train, i, 0)\n",
    "        y_removed = y_train.drop(index=i, inplace=False)\n",
    "        clf.fit(X_removed, y_removed)\n",
    "        y_pred = clf.predict_proba(X_test)\n",
    "        delta_spd_i = computeFairness(y_pred, X_test_orig, y_test, 0) - spd_0\n",
    "        delta_spd.append(delta_spd_i)\n",
    "\n",
    "    return delta_spd"
   ]
  },
  {
   "cell_type": "markdown",
   "metadata": {},
   "source": [
    "**Compute Accuracy** "
   ]
  },
  {
   "cell_type": "code",
   "execution_count": 50,
   "metadata": {
    "ExecuteTime": {
     "end_time": "2021-06-28T10:15:30.828359Z",
     "start_time": "2021-06-28T10:15:30.823771Z"
    },
    "code_folding": [
     0
    ]
   },
   "outputs": [],
   "source": [
    "def computeAccuracy(y_true, y_pred):\n",
    "    return np.sum((y_pred>0.5) == y_true)/len(y_pred)"
   ]
  },
  {
   "cell_type": "markdown",
   "metadata": {},
   "source": [
    "**First-order derivative of loss function at z with respect to model parameters**"
   ]
  },
  {
   "cell_type": "code",
   "execution_count": 51,
   "metadata": {
    "ExecuteTime": {
     "end_time": "2021-06-28T10:15:30.840608Z",
     "start_time": "2021-06-28T10:15:30.831628Z"
    },
    "code_folding": [
     0
    ]
   },
   "outputs": [],
   "source": [
    "def del_L_del_theta_i(model, x, y_true, retain_graph=False):\n",
    "    loss = loss_func(model, x, y_true)\n",
    "    w = [ p for p in model.parameters() if p.requires_grad ]\n",
    "    return grad(loss, w, create_graph=True, retain_graph=retain_graph)"
   ]
  },
  {
   "cell_type": "markdown",
   "metadata": {},
   "source": [
    "**First-order derivative of $P(y \\mid \\textbf{x})$ with respect to model parameters**"
   ]
  },
  {
   "cell_type": "code",
   "execution_count": 52,
   "metadata": {
    "ExecuteTime": {
     "end_time": "2021-06-28T10:15:30.850653Z",
     "start_time": "2021-06-28T10:15:30.844432Z"
    },
    "code_folding": [
     0
    ]
   },
   "outputs": [],
   "source": [
    "def del_f_del_theta_i(model, x, retain_graph=False):\n",
    "    w = [ p for p in model.parameters() if p.requires_grad ]\n",
    "    return grad(model(torch.FloatTensor(x)), w, retain_graph=retain_graph)"
   ]
  },
  {
   "cell_type": "markdown",
   "metadata": {},
   "source": [
    "**Stochastic estimation of Hessian vector product (involving del fairness): $H_{\\theta}^{-1}v = H_{\\theta}^{-1}\\nabla_{\\theta}f(z, \\theta) = v + [I - \\nabla_{\\theta}^2L(z_{s_j}, \\theta^*)]H_{\\theta}^{-1}v$**"
   ]
  },
  {
   "cell_type": "code",
   "execution_count": 53,
   "metadata": {
    "ExecuteTime": {
     "end_time": "2021-06-28T10:15:30.862185Z",
     "start_time": "2021-06-28T10:15:30.855712Z"
    },
    "code_folding": [
     0
    ]
   },
   "outputs": [],
   "source": [
    "def hvp(y, w, v):\n",
    "    ''' Multiply the Hessians of y and w by v.'''\n",
    "    # First backprop\n",
    "    first_grads = grad(y, w, retain_graph=True, create_graph=True)\n",
    "\n",
    "    # Elementwise products\n",
    "    elemwise_products = 0\n",
    "    for grad_elem, v_elem in zip(convert_grad_to_tensor(first_grads), v):\n",
    "        elemwise_products += torch.sum(grad_elem * v_elem)\n",
    "\n",
    "    # Second backprop\n",
    "    return_grads = grad(elemwise_products, w, create_graph=True)\n",
    "\n",
    "    return return_grads"
   ]
  },
  {
   "cell_type": "code",
   "execution_count": 54,
   "metadata": {
    "ExecuteTime": {
     "end_time": "2021-06-28T10:15:30.878603Z",
     "start_time": "2021-06-28T10:15:30.865639Z"
    },
    "code_folding": [
     0
    ]
   },
   "outputs": [],
   "source": [
    "def hessian_one_point(model, x, y):\n",
    "    x, y = torch.FloatTensor(x), torch.FloatTensor([y])\n",
    "    loss = loss_func(model, x, y)\n",
    "    params = [ p for p in model.parameters() if p.requires_grad ]\n",
    "    first_grads = convert_grad_to_tensor(grad(loss, params, retain_graph=True, create_graph=True))\n",
    "    hv = np.zeros((len(first_grads), len(first_grads)))\n",
    "    for i in range(len(first_grads)):\n",
    "        hv[i, :] = convert_grad_to_ndarray(grad(first_grads[i], params, create_graph=True)).ravel()\n",
    "    return hv"
   ]
  },
  {
   "cell_type": "code",
   "execution_count": 55,
   "metadata": {
    "ExecuteTime": {
     "end_time": "2021-06-28T10:15:30.895656Z",
     "start_time": "2021-06-28T10:15:30.881264Z"
    },
    "code_folding": [
     1
    ]
   },
   "outputs": [],
   "source": [
    "# Compute multiplication of inverse hessian matrix and vector v\n",
    "def s_test(model, xs, ys, v, hinv=None, damp=0.01, scale=25.0, r=-1, batch_size=-1, recursive=False, verbose=False):\n",
    "    ''' Arguments:\n",
    "        xs: list of data points\n",
    "        ys: list of true labels corresponding to data points in xs\n",
    "        damp: dampening factor\n",
    "        scale: scaling factor\n",
    "        r: number of iterations aka recursion depth\n",
    "            should be enough so that the value stabilises.\n",
    "        batch_size: number of instances in each batch in recursive approximation\n",
    "        recursive: determine whether to recursively approximate hinv_v'''\n",
    "    xs, ys = torch.FloatTensor(xs.copy()), torch.FloatTensor(ys.copy())\n",
    "    n = len(xs)\n",
    "    if recursive:\n",
    "        hinv_v = copy.deepcopy(v)\n",
    "        if verbose:\n",
    "            print('Computing s_test...')\n",
    "            tbar = tqdm.tqdm(total=r)\n",
    "        if (batch_size == -1):  # default\n",
    "            batch_size = 10\n",
    "        if (r == -1):\n",
    "            r = n // batch_size + 1\n",
    "        sample = np.random.choice(range(n), r*batch_size, replace=True)\n",
    "        for i in range(r):\n",
    "            sample_idx = sample[i*batch_size:(i+1)*batch_size]\n",
    "            x, y = xs[sample_idx], ys[sample_idx]\n",
    "            loss = loss_func(model, x, y)\n",
    "            params = [ p for p in model.parameters() if p.requires_grad ]\n",
    "            hv = convert_grad_to_ndarray(hvp(loss, params, torch.FloatTensor(hinv_v)))\n",
    "            # Recursively caclulate h_estimate\n",
    "            hinv_v = v + (1 - damp) * hinv_v - hv / scale\n",
    "            if verbose:\n",
    "                tbar.update(1)\n",
    "    else:\n",
    "        if hinv is None:\n",
    "            hinv = np.linalg.pinv(np.sum(hessian_all_points, axis=0))\n",
    "        scale = 1.0\n",
    "        hinv_v = np.matmul(hinv, v)\n",
    "\n",
    "    return hinv_v / scale"
   ]
  },
  {
   "cell_type": "markdown",
   "metadata": {},
   "source": [
    "**Metrics: Initial state**"
   ]
  },
  {
   "cell_type": "code",
   "execution_count": 56,
   "metadata": {
    "ExecuteTime": {
     "end_time": "2021-06-28T10:15:30.954851Z",
     "start_time": "2021-06-28T10:15:30.898660Z"
    }
   },
   "outputs": [
    {
     "name": "stdout",
     "output_type": "stream",
     "text": [
      "Initial statistical parity:  -0.41206637383438643\n",
      "Initial TPR parity:  -0.38706453156512266\n",
      "Initial predictive parity:  -0.06465826835970157\n",
      "Initial loss:  0.756013211141471\n",
      "Initial accuracy:  0.52\n"
     ]
    }
   ],
   "source": [
    "clf = LogisticRegression(input_size=X_train.shape[-1])\n",
    "# clf = NeuralNetwork(input_size=X_train.shape[-1])\n",
    "# clf = SVM(input_size=X_train.shape[-1])\n",
    "\n",
    "clf.fit(X_train, y_train)\n",
    "\n",
    "y_pred_test = clf.predict_proba(X_test)\n",
    "y_pred_train = clf.predict_proba(X_train)\n",
    "\n",
    "spd_0 = computeFairness(y_pred_test, X_test_orig, y_test, 0, dataset)\n",
    "print(\"Initial statistical parity: \", spd_0)\n",
    "\n",
    "tpr_parity_0 = computeFairness(y_pred_test, X_test_orig, y_test, 1, dataset)\n",
    "print(\"Initial TPR parity: \", tpr_parity_0)\n",
    "\n",
    "predictive_parity_0 = computeFairness(y_pred_test, X_test_orig, y_test, 2, dataset)\n",
    "print(\"Initial predictive parity: \", predictive_parity_0)\n",
    "\n",
    "loss_0 = logistic_loss(y_test, y_pred_test)\n",
    "print(\"Initial loss: \", loss_0)\n",
    "\n",
    "accuracy_0 = computeAccuracy(y_test, y_pred_test)\n",
    "print(\"Initial accuracy: \", accuracy_0)"
   ]
  },
  {
   "cell_type": "code",
   "execution_count": 57,
   "metadata": {
    "ExecuteTime": {
     "end_time": "2021-06-28T10:15:49.091660Z",
     "start_time": "2021-06-28T10:15:30.960217Z"
    },
    "code_folding": [],
    "scrolled": true
   },
   "outputs": [
    {
     "name": "stderr",
     "output_type": "stream",
     "text": [
      "\n",
      "  0%|          | 0/800 [00:00<?, ?it/s]\u001b[A\n",
      "  1%|          | 6/800 [00:00<00:15, 49.76it/s]\u001b[A\n",
      "  2%|▏         | 12/800 [00:00<00:14, 54.45it/s]\u001b[A\n",
      "  2%|▎         | 20/800 [00:00<00:12, 62.85it/s]\u001b[A\n",
      "  3%|▎         | 27/800 [00:00<00:11, 65.50it/s]\u001b[A\n",
      "  4%|▍         | 34/800 [00:00<00:11, 66.97it/s]\u001b[A\n",
      "  5%|▌         | 42/800 [00:00<00:10, 68.95it/s]\u001b[A\n",
      "  6%|▌         | 49/800 [00:00<00:10, 68.63it/s]\u001b[A\n",
      "  7%|▋         | 56/800 [00:00<00:10, 68.27it/s]\u001b[A\n",
      "  8%|▊         | 63/800 [00:00<00:10, 68.62it/s]\u001b[A\n",
      "  9%|▉         | 70/800 [00:01<00:11, 66.25it/s]\u001b[A\n",
      " 10%|▉         | 77/800 [00:01<00:12, 57.42it/s]\u001b[A\n",
      " 10%|█         | 83/800 [00:01<00:15, 45.37it/s]\u001b[A\n",
      " 11%|█         | 89/800 [00:01<00:16, 44.38it/s]\u001b[A\n",
      " 12%|█▏        | 94/800 [00:01<00:19, 35.60it/s]\u001b[A\n",
      " 13%|█▎        | 101/800 [00:01<00:16, 41.90it/s]\u001b[A\n",
      " 14%|█▎        | 109/800 [00:02<00:13, 49.79it/s]\u001b[A\n",
      " 15%|█▍        | 118/800 [00:02<00:11, 58.99it/s]\u001b[A\n",
      " 16%|█▌        | 127/800 [00:02<00:10, 65.85it/s]\u001b[A\n",
      " 17%|█▋        | 136/800 [00:02<00:09, 71.58it/s]\u001b[A\n",
      " 18%|█▊        | 145/800 [00:02<00:08, 75.82it/s]\u001b[A\n",
      " 19%|█▉        | 154/800 [00:02<00:08, 77.93it/s]\u001b[A\n",
      " 20%|██        | 163/800 [00:02<00:10, 61.24it/s]\u001b[A\n",
      " 21%|██▏       | 170/800 [00:02<00:10, 57.63it/s]\u001b[A\n",
      " 22%|██▏       | 177/800 [00:03<00:14, 42.66it/s]\u001b[A\n",
      " 23%|██▎       | 183/800 [00:03<00:17, 35.42it/s]\u001b[A\n",
      " 24%|██▎       | 189/800 [00:03<00:15, 39.00it/s]\u001b[A\n",
      " 25%|██▍       | 197/800 [00:03<00:13, 46.19it/s]\u001b[A\n",
      " 26%|██▌       | 205/800 [00:03<00:11, 52.57it/s]\u001b[A\n",
      " 26%|██▋       | 212/800 [00:03<00:10, 55.05it/s]\u001b[A\n",
      " 27%|██▋       | 219/800 [00:03<00:10, 57.62it/s]\u001b[A\n",
      " 28%|██▊       | 227/800 [00:04<00:09, 62.94it/s]\u001b[A\n",
      " 29%|██▉       | 235/800 [00:04<00:08, 66.36it/s]\u001b[A\n",
      " 30%|███       | 243/800 [00:04<00:08, 69.42it/s]\u001b[A\n",
      " 31%|███▏      | 251/800 [00:04<00:07, 71.84it/s]\u001b[A\n",
      " 32%|███▏      | 259/800 [00:04<00:07, 73.85it/s]\u001b[A\n",
      " 33%|███▎      | 267/800 [00:04<00:07, 74.95it/s]\u001b[A\n",
      " 34%|███▍      | 275/800 [00:04<00:07, 74.55it/s]\u001b[A\n",
      " 35%|███▌      | 283/800 [00:04<00:06, 75.67it/s]\u001b[A\n",
      " 36%|███▋      | 291/800 [00:04<00:06, 76.57it/s]\u001b[A\n",
      " 37%|███▋      | 299/800 [00:05<00:06, 75.63it/s]\u001b[A\n",
      " 38%|███▊      | 307/800 [00:05<00:06, 74.33it/s]\u001b[A\n",
      " 39%|███▉      | 315/800 [00:05<00:06, 72.82it/s]\u001b[A\n",
      " 40%|████      | 323/800 [00:05<00:06, 73.40it/s]\u001b[A\n",
      " 41%|████▏     | 331/800 [00:05<00:06, 72.39it/s]\u001b[A\n",
      " 42%|████▏     | 339/800 [00:05<00:06, 72.89it/s]\u001b[A\n",
      " 43%|████▎     | 347/800 [00:05<00:06, 74.22it/s]\u001b[A\n",
      " 44%|████▍     | 355/800 [00:05<00:05, 75.53it/s]\u001b[A\n",
      " 45%|████▌     | 363/800 [00:05<00:05, 75.86it/s]\u001b[A\n",
      " 46%|████▋     | 371/800 [00:06<00:05, 73.63it/s]\u001b[A\n",
      " 47%|████▋     | 379/800 [00:06<00:07, 57.06it/s]\u001b[A\n",
      " 48%|████▊     | 386/800 [00:06<00:06, 59.59it/s]\u001b[A\n",
      " 49%|████▉     | 394/800 [00:06<00:06, 64.15it/s]\u001b[A\n",
      " 50%|█████     | 401/800 [00:06<00:06, 65.15it/s]\u001b[A\n",
      " 51%|█████     | 409/800 [00:06<00:05, 68.98it/s]\u001b[A\n",
      " 52%|█████▏    | 417/800 [00:06<00:06, 60.97it/s]\u001b[A\n",
      " 53%|█████▎    | 425/800 [00:06<00:05, 64.82it/s]\u001b[A\n",
      " 54%|█████▍    | 433/800 [00:07<00:05, 67.17it/s]\u001b[A\n",
      " 55%|█████▌    | 441/800 [00:07<00:05, 69.52it/s]\u001b[A\n",
      " 56%|█████▌    | 449/800 [00:07<00:04, 71.13it/s]\u001b[A\n",
      " 57%|█████▋    | 457/800 [00:07<00:05, 63.92it/s]\u001b[A\n",
      " 58%|█████▊    | 464/800 [00:07<00:05, 63.44it/s]\u001b[A\n",
      " 59%|█████▉    | 472/800 [00:07<00:04, 66.26it/s]\u001b[A\n",
      " 60%|██████    | 480/800 [00:07<00:04, 69.32it/s]\u001b[A\n",
      " 61%|██████    | 488/800 [00:07<00:04, 70.53it/s]\u001b[A\n",
      " 62%|██████▏   | 496/800 [00:07<00:05, 60.64it/s]\u001b[A\n",
      " 63%|██████▎   | 503/800 [00:08<00:06, 46.13it/s]\u001b[A\n",
      " 64%|██████▍   | 510/800 [00:08<00:05, 50.48it/s]\u001b[A\n",
      " 65%|██████▍   | 517/800 [00:08<00:05, 54.63it/s]\u001b[A\n",
      " 66%|██████▌   | 524/800 [00:08<00:05, 50.49it/s]\u001b[A\n",
      " 66%|██████▋   | 530/800 [00:08<00:06, 41.82it/s]\u001b[A\n",
      " 67%|██████▋   | 535/800 [00:08<00:06, 38.73it/s]\u001b[A\n",
      " 68%|██████▊   | 540/800 [00:09<00:08, 29.36it/s]\u001b[A\n",
      " 68%|██████▊   | 548/800 [00:09<00:06, 37.63it/s]\u001b[A\n",
      " 69%|██████▉   | 555/800 [00:09<00:05, 43.93it/s]\u001b[A\n",
      " 70%|███████   | 563/800 [00:09<00:04, 50.73it/s]\u001b[A\n",
      " 71%|███████   | 569/800 [00:09<00:04, 52.69it/s]\u001b[A\n",
      " 72%|███████▏  | 577/800 [00:09<00:03, 58.00it/s]\u001b[A\n",
      " 73%|███████▎  | 585/800 [00:09<00:03, 59.03it/s]\u001b[A\n",
      " 74%|███████▍  | 592/800 [00:10<00:04, 41.67it/s]\u001b[A\n",
      " 75%|███████▍  | 599/800 [00:10<00:04, 47.05it/s]\u001b[A\n",
      " 76%|███████▌  | 607/800 [00:10<00:03, 53.38it/s]\u001b[A\n",
      " 77%|███████▋  | 614/800 [00:10<00:03, 54.80it/s]\u001b[A\n",
      " 78%|███████▊  | 621/800 [00:10<00:03, 50.90it/s]\u001b[A\n",
      " 78%|███████▊  | 627/800 [00:10<00:03, 50.09it/s]\u001b[A\n",
      " 79%|███████▉  | 633/800 [00:11<00:03, 44.90it/s]\u001b[A\n",
      " 80%|███████▉  | 638/800 [00:11<00:04, 35.81it/s]\u001b[A\n",
      " 80%|████████  | 644/800 [00:11<00:03, 39.78it/s]\u001b[A\n",
      " 81%|████████▏ | 651/800 [00:11<00:03, 46.29it/s]\u001b[A\n",
      " 82%|████████▏ | 659/800 [00:11<00:02, 53.91it/s]\u001b[A\n",
      " 83%|████████▎ | 667/800 [00:11<00:02, 59.85it/s]\u001b[A\n",
      " 84%|████████▍ | 675/800 [00:11<00:01, 63.96it/s]\u001b[A\n",
      " 85%|████████▌ | 683/800 [00:11<00:01, 67.21it/s]\u001b[A\n",
      " 86%|████████▋ | 691/800 [00:11<00:01, 68.76it/s]\u001b[A\n",
      " 87%|████████▋ | 699/800 [00:12<00:01, 69.95it/s]\u001b[A\n",
      " 88%|████████▊ | 707/800 [00:12<00:01, 68.64it/s]\u001b[A\n",
      " 89%|████████▉ | 715/800 [00:12<00:01, 70.63it/s]\u001b[A\n",
      " 90%|█████████ | 723/800 [00:12<00:01, 72.64it/s]\u001b[A\n",
      " 91%|█████████▏| 731/800 [00:12<00:00, 74.19it/s]\u001b[A\n",
      " 92%|█████████▏| 739/800 [00:12<00:00, 74.89it/s]\u001b[A\n",
      " 93%|█████████▎| 747/800 [00:12<00:00, 74.60it/s]\u001b[A\n",
      " 94%|█████████▍| 755/800 [00:12<00:00, 75.67it/s]\u001b[A\n",
      " 95%|█████████▌| 763/800 [00:12<00:00, 76.50it/s]\u001b[A\n",
      " 96%|█████████▋| 771/800 [00:13<00:00, 73.68it/s]\u001b[A\n",
      " 97%|█████████▋| 779/800 [00:13<00:00, 71.19it/s]\u001b[A\n",
      " 98%|█████████▊| 787/800 [00:13<00:00, 73.33it/s]\u001b[A\n",
      " 99%|█████████▉| 795/800 [00:13<00:00, 73.97it/s]\u001b[A"
     ]
    }
   ],
   "source": [
    "hessian_all_points = []\n",
    "tbar = tqdm.tqdm(total=len(X_train))\n",
    "total_time = 0\n",
    "for i in range(len(X_train)):\n",
    "    t0 = time.time()\n",
    "    hessian_all_points.append(hessian_one_point(clf, X_train[i], y_train[i])/len(X_train))\n",
    "    total_time += time.time()-t0\n",
    "    tbar.update(1)"
   ]
  },
  {
   "cell_type": "code",
   "execution_count": 58,
   "metadata": {
    "ExecuteTime": {
     "end_time": "2021-06-28T10:15:49.104944Z",
     "start_time": "2021-06-28T10:15:49.093671Z"
    }
   },
   "outputs": [
    {
     "data": {
      "text/plain": [
       "12.94459342956543"
      ]
     },
     "execution_count": 58,
     "metadata": {},
     "output_type": "execute_result"
    }
   ],
   "source": [
    "total_time"
   ]
  },
  {
   "cell_type": "markdown",
   "metadata": {},
   "source": [
    "**Pre-compute: (1) Hessian (2) del_L_del_theta for each training data point**"
   ]
  },
  {
   "cell_type": "code",
   "execution_count": 59,
   "metadata": {
    "ExecuteTime": {
     "end_time": "2021-06-28T10:15:49.946811Z",
     "start_time": "2021-06-28T10:15:49.114630Z"
    }
   },
   "outputs": [],
   "source": [
    "del_L_del_theta = []\n",
    "for i in range(int(len(X_train))):\n",
    "    del_L_del_theta.append(convert_grad_to_ndarray(del_L_del_theta_i(clf, X_train[i], y_train[i])))"
   ]
  },
  {
   "cell_type": "markdown",
   "metadata": {},
   "source": [
    "*Select delta fairness function depending on selected metric*"
   ]
  },
  {
   "cell_type": "code",
   "execution_count": 60,
   "metadata": {
    "ExecuteTime": {
     "end_time": "2021-06-28T10:15:50.117411Z",
     "start_time": "2021-06-28T10:15:49.994064Z"
    }
   },
   "outputs": [],
   "source": [
    "metric = 0\n",
    "if metric == 0:\n",
    "    v1 = del_spd_del_theta(clf, X_test_orig, X_test, dataset)\n",
    "elif metric == 1:\n",
    "    v1 = del_tpr_parity_del_theta(clf, X_test_orig, X_test, y_test, dataset)\n",
    "elif metric == 2:\n",
    "    v1 = del_predictive_parity_del_theta(clf, X_test_orig, X_test, y_test, dataset)"
   ]
  },
  {
   "cell_type": "code",
   "execution_count": 61,
   "metadata": {
    "ExecuteTime": {
     "end_time": "2021-06-28T10:20:44.572334Z",
     "start_time": "2021-06-28T10:20:44.557138Z"
    }
   },
   "outputs": [],
   "source": [
    "hinv = np.linalg.pinv(np.sum(hessian_all_points, axis=0))\n",
    "hinv_v = s_test(clf, X_train, y_train, v1, hinv=hinv, verbose=False)"
   ]
  },
  {
   "cell_type": "markdown",
   "metadata": {},
   "source": [
    "**First-order influence computation**"
   ]
  },
  {
   "cell_type": "code",
   "execution_count": 62,
   "metadata": {
    "ExecuteTime": {
     "end_time": "2021-06-28T10:15:50.143575Z",
     "start_time": "2021-06-28T10:15:50.132969Z"
    },
    "code_folding": []
   },
   "outputs": [],
   "source": [
    "def first_order_influence(del_L_del_theta, hinv_v, n):\n",
    "    infs = []\n",
    "    for i in range(n):\n",
    "        inf = -np.dot(del_L_del_theta[i].transpose(), hinv_v)\n",
    "        inf *= -1/n\n",
    "        infs.append(inf)\n",
    "    return infs"
   ]
  },
  {
   "cell_type": "code",
   "execution_count": 63,
   "metadata": {
    "ExecuteTime": {
     "end_time": "2021-06-28T10:15:50.151168Z",
     "start_time": "2021-06-28T10:15:50.145914Z"
    }
   },
   "outputs": [],
   "source": [
    "def first_order_group_influence(U, del_L_del_theta):\n",
    "    infs = []\n",
    "    u = len(U)\n",
    "    n = len(X_train)\n",
    "    for i in range(u):\n",
    "        idx = U[i]\n",
    "        inf = -np.dot(del_L_del_theta[idx].transpose(), hinv)\n",
    "        inf *= -1/n\n",
    "        infs.append(inf)\n",
    "    return np.sum(infs, axis=0)"
   ]
  },
  {
   "cell_type": "markdown",
   "metadata": {},
   "source": [
    "**Second-order influence computation for a group of points in subset U**"
   ]
  },
  {
   "cell_type": "code",
   "execution_count": 64,
   "metadata": {
    "ExecuteTime": {
     "end_time": "2021-06-28T10:15:50.175865Z",
     "start_time": "2021-06-28T10:15:50.159775Z"
    },
    "code_folding": []
   },
   "outputs": [],
   "source": [
    "def second_order_influence(model, X_train, y_train, U, del_L_del_theta, r=-1, verbose=False):\n",
    "    u = len(U)\n",
    "    s = len(X_train)\n",
    "    p = u/s\n",
    "    c1 = (1 - 2*p)/(s * (1-p)**2)\n",
    "    c2 = 1/((s * (1-p))**2)\n",
    "    num_params = len(del_L_del_theta[0])\n",
    "    del_L_del_theta_sum = np.sum([del_L_del_theta[i] for i in U], axis=0)\n",
    "    hinv_del_L_del_theta= s_test(model, X_train, y_train, del_L_del_theta_sum, hinv=hinv)\n",
    "    hessian_U_hinv_del_L_del_theta = np.zeros((num_params,))\n",
    "    for i in range(u):\n",
    "        idx = U[i]\n",
    "        x, y = torch.FloatTensor(X_train[idx]), torch.FloatTensor([y_train[idx]])\n",
    "        loss = loss_func(model, x, y)\n",
    "        params = [ p for p in model.parameters() if p.requires_grad ]\n",
    "        hessian_U_hinv_del_L_del_theta += convert_grad_to_ndarray(hvp(loss, params, torch.FloatTensor(hinv_del_L_del_theta)))\n",
    "\n",
    "    term1 = c1 * hinv_del_L_del_theta\n",
    "    term2 = c2 * s_test(model, X_train, y_train, hessian_U_hinv_del_L_del_theta, hinv=hinv)\n",
    "    sum_term = term1 + term2\n",
    "    return sum_term"
   ]
  },
  {
   "cell_type": "code",
   "execution_count": 65,
   "metadata": {
    "ExecuteTime": {
     "end_time": "2021-06-28T10:15:50.197916Z",
     "start_time": "2021-06-28T10:15:50.183598Z"
    }
   },
   "outputs": [],
   "source": [
    "def second_order_group_influence(U, del_L_del_theta):\n",
    "    u = len(U)\n",
    "    s = len(X_train)\n",
    "    p = u/s\n",
    "    c1 = (1 - 2*p)/(s * (1-p)**2)\n",
    "    c2 = 1/((s * (1-p))**2)\n",
    "    num_params = len(del_L_del_theta[0])\n",
    "    del_L_del_theta_sum = np.sum([del_L_del_theta[i] for i in U], axis=0)\n",
    "    hinv_del_L_del_theta= np.matmul(hinv, del_L_del_theta_sum)\n",
    "    hessian_U_hinv_del_L_del_theta = np.zeros((num_params,))\n",
    "    for i in range(u):\n",
    "        idx = U[i]\n",
    "        hessian_U_hinv_del_L_del_theta += np.matmul(hessian_all_points[idx], hinv_del_L_del_theta)\n",
    "\n",
    "    term1 = c1 * hinv_del_L_del_theta\n",
    "    term2 = c2 * np.matmul(hinv, hessian_U_hinv_del_L_del_theta)\n",
    "    sum_term = (term1 + term2*len(X_train))\n",
    "    return sum_term"
   ]
  },
  {
   "cell_type": "markdown",
   "metadata": {},
   "source": [
    "**First-order influence of each training data point**"
   ]
  },
  {
   "cell_type": "code",
   "execution_count": 66,
   "metadata": {
    "ExecuteTime": {
     "end_time": "2021-06-28T10:20:50.658071Z",
     "start_time": "2021-06-28T10:20:50.649300Z"
    }
   },
   "outputs": [],
   "source": [
    "infs_1 = first_order_influence(del_L_del_theta, hinv_v, len(X_train))"
   ]
  },
  {
   "cell_type": "markdown",
   "metadata": {},
   "source": [
    "**Fairness: Ground-truth subset influence vs. computed subset influences: Coherent subset** \n",
    "\n",
    "(by coherent, we mean group of data points that share some properties)"
   ]
  },
  {
   "cell_type": "markdown",
   "metadata": {},
   "source": [
    "***NOTE:*** The retraining of the clf would cause the change in model parameters and thus lead to the change of gradients, so in this part, we first acquire all the first- and second-order influence functions together based on the original model. After all the influence functions are calculated, we retrain the model corresponding to different removed coherent subset of data and get the ground truth."
   ]
  },
  {
   "cell_type": "code",
   "execution_count": 67,
   "metadata": {
    "ExecuteTime": {
     "end_time": "2021-06-28T10:23:43.316081Z",
     "start_time": "2021-06-28T10:23:43.308273Z"
    }
   },
   "outputs": [],
   "source": [
    "time_gt = []\n",
    "time_first = []\n",
    "time_second = []\n",
    "rep = 1"
   ]
  },
  {
   "cell_type": "code",
   "execution_count": 117,
   "metadata": {},
   "outputs": [
    {
     "name": "stdout",
     "output_type": "stream",
     "text": [
      "alpha_f_lower: 0.0041206637383438645\n",
      "alpha_f_upper: 0.41206637383438643\n",
      "del_f_threshold: -0.041206637383438646\n",
      "support_small: 0.3\n",
      "del_f_threshold_small: 0.041206637383438646\n"
     ]
    }
   ],
   "source": [
    "alpha_f_lower = (-0.01) * (spd_0)\n",
    "alpha_f_upper = -spd_0\n",
    "del_f_threshold = (0.1) * spd_0\n",
    "support = 0.05 # Do not consider extremely small patterns\n",
    "support_small = 0.3 # For small patterns, 2nd-order estimation is quite accurate\n",
    "del_f_threshold_small = (-0.1) * (spd_0)\n",
    "print(\"alpha_f_lower:\", alpha_f_lower)\n",
    "print(\"alpha_f_upper:\", alpha_f_upper)\n",
    "print(\"del_f_threshold:\", del_f_threshold)\n",
    "print(\"support_small:\", support_small)\n",
    "print(\"del_f_threshold_small:\", del_f_threshold_small)"
   ]
  },
  {
   "cell_type": "code",
   "execution_count": 118,
   "metadata": {
    "ExecuteTime": {
     "end_time": "2021-06-28T10:23:48.370716Z",
     "start_time": "2021-06-28T10:23:43.794726Z"
    },
    "scrolled": true
   },
   "outputs": [
    {
     "name": "stdout",
     "output_type": "stream",
     "text": [
      "status: 3\n",
      "status: 2\n",
      "status: 0\n",
      "status: 1\n",
      "duration: 1\n",
      "duration: 0\n",
      "duration: 2\n",
      "duration: 3\n",
      "credit_hist: 2\n",
      "credit_hist: 0\n",
      "credit_hist: 4\n",
      "credit_hist: 3\n",
      "credit_hist: 1\n",
      "credit_amt: 0\n",
      "credit_amt: 1\n",
      "credit_amt: 2\n",
      "savings: 4\n",
      "savings: 1\n",
      "savings: 2\n",
      "savings: 0\n",
      "savings: 3\n",
      "employment: 3\n",
      "employment: 4\n",
      "employment: 2\n",
      "employment: 0\n",
      "employment: 1\n",
      "install_rate: 4\n",
      "install_rate: 1\n",
      "install_rate: 2\n",
      "install_rate: 3\n",
      "debtors: 0\n",
      "debtors: 2\n",
      "debtors: 1\n",
      "residence: 4\n",
      "residence: 3\n",
      "residence: 1\n",
      "residence: 2\n",
      "property: 2\n",
      "property: 1\n",
      "property: 3\n",
      "property: 0\n",
      "age: 0\n",
      "age: 1\n",
      "install_plans: 0\n",
      "install_plans: 1\n",
      "num_credits: 1\n",
      "num_credits: 2\n",
      "num_credits: 3\n",
      "num_credits: 4\n",
      "job: 2\n",
      "job: 3\n",
      "job: 0\n",
      "job: 1\n",
      "num_liable: 1\n",
      "num_liable: 2\n",
      "telephone: 0\n",
      "telephone: 1\n",
      "foreign_worker: 1\n",
      "foreign_worker: 0\n",
      "gender: 0\n",
      "gender: 1\n",
      "purpose_A40: 1\n",
      "purpose_A41: 1\n",
      "purpose_A410: 1\n",
      "purpose_A42: 1\n",
      "purpose_A43: 1\n",
      "purpose_A44: 1\n",
      "purpose_A45: 1\n",
      "purpose_A46: 1\n",
      "purpose_A48: 1\n",
      "purpose_A49: 1\n",
      "housing_A151: 1\n",
      "housing_A152: 1\n",
      "housing_A153: 1\n"
     ]
    }
   ],
   "source": [
    "for _ in range(rep):\n",
    "    # Get the original model\n",
    "#     clf = NeuralNetwork(input_size=X_train.shape[-1])\n",
    "    clf = LogisticRegression(input_size=X_train.shape[-1])\n",
    "    # clf = SVM()\n",
    "    clf.fit(X_train, y_train)\n",
    "\n",
    "    attributes = []\n",
    "    attributeValues = []\n",
    "    first_order_influences = []\n",
    "    second_order_influences = []\n",
    "    fractionRows = []\n",
    "\n",
    "    # print(\"Attribute, Value, Ground-truth subset, Add 1st-order inf individual, \\\n",
    "    # Second-order subset influence, %rowsRemoved, Accuracy\")\n",
    "    # clf.fit(X_train, y_train)\n",
    "    # continuous_cols = ['duration', 'credit_amt', 'install_rate', 'num_credits', 'residence']\n",
    "    v1_orig = v1\n",
    "    for col in X_train_orig.columns:\n",
    "        if dataset == 'german':\n",
    "            if \"purpose\" in col or \"housing\" in col: #dummy variables purpose=0 doesn't make sense\n",
    "                vals = [1]\n",
    "            else:\n",
    "                vals = X_train_orig[col].unique()\n",
    "        elif dataset == 'adult':\n",
    "            vals = X_train_orig[col].unique()\n",
    "        elif dataset == 'compas':\n",
    "            vals = X_train_orig[col].unique()\n",
    "        elif dataset == 'salary':\n",
    "            vals = X_train_orig[col].unique()\n",
    "        else:\n",
    "            raise NotImplementedError\n",
    "        for val in vals:\n",
    "            print(col, val, sep=\": \")\n",
    "            idx = X_train_orig[X_train_orig[col] == val].index  \n",
    "            if (len(idx)/len(X_train) > support):  \n",
    "                X = np.delete(X_train, idx, 0)\n",
    "                y = y_train.drop(index=idx, inplace=False)\n",
    "                if len(y.unique()) > 1:\n",
    "                    idx = X_train_orig[X_train_orig[col] == val].index \n",
    "\n",
    "                    # First-order subset influence\n",
    "                    t0 = time.time()\n",
    "                    del_f_1 = 0            \n",
    "        #             for i in range(len(idx)):\n",
    "        #                 del_f_1 += infs_1[idx[i]]\n",
    "                   \n",
    "#                     params_f_1 = first_order_group_influence(idx, del_L_del_theta)\n",
    "#                     del_f_1 = np.dot(v1.transpose(), params_f_1)\n",
    "#                     time_first.append(time.time()-t0)\n",
    "\n",
    "                    # Second-order subset influence\n",
    "                    t0 = time.time()\n",
    "#                     print(col, val)\n",
    "#                     params_f_2 = second_order_influence(clf, X_train, y_train, idx, del_L_del_theta)\n",
    "#                     print(col, val)\n",
    "                    params_f_2 = second_order_group_influence(idx, del_L_del_theta)\n",
    "                    del_f_2 = np.dot(v1.transpose(), params_f_2)\n",
    "                    time_second.append(time.time()-t0)\n",
    "\n",
    "                    attributes.append(col)\n",
    "                    attributeValues.append(val)\n",
    "                    first_order_influences.append(del_f_1)\n",
    "                    second_order_influences.append(del_f_2)\n",
    "            #         gt_influences.append(inf_gt)\n",
    "                    fractionRows.append(len(idx)/len(X_train)*100)\n",
    "\n",
    "            #         print(col, val, inf_gt, del_f_1, del_f_2, len(idx)/len(X_train), accuracy, sep=\", \")"
   ]
  },
  {
   "cell_type": "code",
   "execution_count": 70,
   "metadata": {
    "ExecuteTime": {
     "end_time": "2021-06-28T10:25:58.446377Z",
     "start_time": "2021-06-28T10:23:48.374012Z"
    }
   },
   "outputs": [],
   "source": [
    "# for _ in range(rep):\n",
    "#     gt_influences = []\n",
    "# #     v1s = []\n",
    "#     for col in X_train_orig.columns:\n",
    "#         if dataset == 'german':\n",
    "#             if \"purpose\" in col or \"housing\" in col: #dummy variables purpose=0 doesn't make sense\n",
    "#                 vals = [1]\n",
    "#             else:\n",
    "#                 vals = X_train_orig[col].unique()\n",
    "#         elif dataset == 'adult':\n",
    "#             continuous_cols = ['age', 'education.num', 'hours',]\n",
    "#             if col in continuous_cols:\n",
    "#                 vals = X_train_orig[col].unique()\n",
    "#             else:\n",
    "#                 vals = [1]\n",
    "#         elif dataset == 'compas':\n",
    "#             vals = X_train_orig[col].unique()\n",
    "#         else:\n",
    "#             raise NotImplementedError\n",
    "#         for val in vals:\n",
    "#             print(col, val)\n",
    "#             idx = X_train_orig[X_train_orig[col] == val].index \n",
    "#             X = np.delete(X_train, idx, 0)\n",
    "#             y = y_train.drop(index=idx, inplace=False)\n",
    "#             inf_gt = 0\n",
    "#             if len(y.unique()) > 1:\n",
    "#                 # Ground truth subset influence\n",
    "#                 t0 = time.time()\n",
    "#                 clf.fit(np.array(X), np.array(y))\n",
    "#                 y_pred = clf.predict_proba(np.array(X_test))\n",
    "#                 if metric == 0:\n",
    "#                     inf_gt = computeFairness(y_pred, X_test_orig, y_test, 0, dataset) - spd_0\n",
    "#                 elif metric == 1:\n",
    "#                     inf_gt = computeFairness(y_pred, X_test_orig, y_test, 1, dataset) - tpr_parity_0\n",
    "#                 elif metric == 2:\n",
    "#                     inf_gt = computeFairness(y_pred, X_test_orig, y_test, 2, dataset) - predictive_parity_0\n",
    "#                 time_gt.append(time.time()-t0)\n",
    "#                 accuracy = computeAccuracy(y_test, y_pred)\n",
    "#                 gt_influences.append(inf_gt)\n",
    "# #                 v1s.append(del_spd_del_theta(clf, X_test_orig, X_test, dataset))  # here, v1 corresponds to the metric spd"
   ]
  },
  {
   "cell_type": "code",
   "execution_count": 119,
   "metadata": {
    "ExecuteTime": {
     "end_time": "2021-06-28T10:25:58.538776Z",
     "start_time": "2021-06-28T10:25:58.510847Z"
    }
   },
   "outputs": [],
   "source": [
    "# expl = [attributes, attributeValues, first_order_influences, second_order_influences, gt_influences, fractionRows, thetas, grad_change_scales]\n",
    "# expl = (np.array(expl).T).tolist()\n",
    "\n",
    "# explanations = pd.DataFrame(expl, columns=[\"attributes\", \"attributeValues\", \"first_order_influences\", \"second_order_influences\", \"gt_influences\", \"fractionRows\", \"gradient_angles\", \"grad_change_scales\"])\n",
    "\n",
    "expl = [attributes, attributeValues, first_order_influences, second_order_influences, fractionRows]\n",
    "expl = (np.array(expl).T).tolist()\n",
    "\n",
    "explanations = pd.DataFrame(expl, columns=[\"attributes\", \"attributeValues\", \"first_order_influences\", \"second_order_influences\", \"fractionRows\"])\n",
    "explanations['second_order_influences'] = explanations['second_order_influences'].astype(float)\n",
    "explanations['first_order_influences'] = explanations['first_order_influences'].astype(float)\n",
    "# explanations['gt_influences'] = explanations['gt_influences'].astype(float)\n",
    "explanations['fractionRows'] = explanations['fractionRows'].astype(float)"
   ]
  },
  {
   "cell_type": "code",
   "execution_count": 120,
   "metadata": {},
   "outputs": [],
   "source": [
    "candidates = explanations[(explanations[\"second_order_influences\"] > alpha_f_lower) \n",
    "                           & (explanations[\"second_order_influences\"] < alpha_f_upper)]\n",
    "candidates = copy.deepcopy(explanations)\n",
    "candidates.loc[:, 'score'] = candidates.loc[:, 'second_order_influences']*100/candidates.loc[:, 'fractionRows']\n",
    "# display(candidates)"
   ]
  },
  {
   "cell_type": "code",
   "execution_count": 121,
   "metadata": {},
   "outputs": [
    {
     "data": {
      "text/plain": [
       "53"
      ]
     },
     "execution_count": 121,
     "metadata": {},
     "output_type": "execute_result"
    }
   ],
   "source": [
    "len(candidates)"
   ]
  },
  {
   "cell_type": "code",
   "execution_count": 122,
   "metadata": {},
   "outputs": [
    {
     "name": "stdout",
     "output_type": "stream",
     "text": [
      "Generated:  53  1-candidates\n",
      "Generated:  249  2-candidates\n",
      "Generated:  2\n",
      "Generated: 1565   3 -candidates\n",
      "CPU times: user 21.8 s, sys: 97.4 ms, total: 21.9 s\n",
      "Wall time: 21.9 s\n"
     ]
    }
   ],
   "source": [
    "%%time\n",
    "candidates_all = []\n",
    "\n",
    "# Generating 1-candidates\n",
    "candidates_1 = []\n",
    "for i in range(len(candidates)):\n",
    "    candidate = []\n",
    "    candidate_i = candidates.iloc[i]\n",
    "#     if ((candidate_i[\"second_order_influences\"] > del_f_threshold) & \n",
    "#         (candidate_i[\"fractionRows\"] > support)):\n",
    "    if ((candidate_i[\"fractionRows\"] > support_small) or\n",
    "       ((candidate_i[\"fractionRows\"] > support) & (candidate_i[\"second_order_influences\"] > del_f_threshold))\n",
    "       ):\n",
    "        attr_i = candidate_i[\"attributes\"]\n",
    "        val_i = str(candidate_i[\"attributeValues\"])\n",
    "        predicates = []\n",
    "        predicates.insert(0, attr_i + '=' + str(val_i))\n",
    "        candidate.insert(0, predicates)\n",
    "        candidate.insert(1, candidate_i[\"fractionRows\"])\n",
    "        candidate.insert(2, candidate_i[\"score\"])\n",
    "        candidate.insert(3, candidate_i[\"second_order_influences\"])\n",
    "        candidates_1.insert(i, candidate)\n",
    "print(\"Generated: \", len(candidates_1), \" 1-candidates\")\n",
    "candidates_1.sort()\n",
    "# display(candidates_1)\n",
    "\n",
    "for i in range(len(candidates_1)):\n",
    "    if (float(candidates_1[i][2]) > support): # if score > top-k, keep in candidates, not otherwise\n",
    "        candidates_all.insert(len(candidates_all), candidates_1[i])\n",
    "    \n",
    "# Generating 2-candidates\n",
    "candidates_2 = []\n",
    "for i in range(len(candidates_1)):\n",
    "    attr_i = candidates_1[i][0][0].split(\"=\")[0]\n",
    "    val_i = int(candidates_1[i][0][0].split(\"=\")[1])\n",
    "    for j in range(i):\n",
    "        # merge two candidates\n",
    "        attr_j = candidates_1[j][0][0].split(\"=\")[0]\n",
    "        val_j = int(candidates_1[j][0][0].split(\"=\")[1])\n",
    "        \n",
    "        if (attr_i != attr_j):\n",
    "            idx = X_train_orig[(X_train_orig[attr_i] == val_i) &\n",
    "                              (X_train_orig[attr_j] == val_j)].index \n",
    "            \n",
    "            idx_i = X_train_orig[(X_train_orig[attr_i] == val_i)].index \n",
    "            idx_j = X_train_orig[(X_train_orig[attr_j] == val_j)].index \n",
    "            fractionRows = len(idx)/len(X_train) * 100\n",
    "            isCompact = True\n",
    "            if (len(idx) == min(len(idx_i), len(idx_j))): # pattern is not compact if intersection equals one of its parents\n",
    "                isCompact = False\n",
    "            if (fractionRows/100 > support):\n",
    "                X = np.delete(X_train, idx, 0)\n",
    "                y = y_train.drop(index=idx, inplace=False)\n",
    "\n",
    "                size_hvp = 1\n",
    "                params_f_2 = second_order_group_influence(idx, del_L_del_theta)\n",
    "                del_f_2 = np.dot(v1.transpose(), params_f_2)\n",
    "                    \n",
    "#                 params_f_2 = second_order_influence(X_train, idx, size_hvp, del_L_del_theta, hessian_all_points)\n",
    "#                 del_f_2 = np.dot(v1.transpose(), params_f_2)[0][0]\n",
    "                \n",
    "                score = del_f_2 * 100/fractionRows\n",
    "                if (((score > candidates_1[i][2]) & (score > candidates_1[j][2]) \n",
    "#                      & (del_f_2 > del_f_threshold_small)\n",
    "                    )\n",
    "                   or (fractionRows/100 > support_small)):\n",
    "                        candidate = []\n",
    "                        predicates = []\n",
    "                        predicates.insert(0, attr_i + '=' + str(val_i))\n",
    "                        predicates.insert(1, attr_j + '=' + str(val_j))\n",
    "                        candidate.insert(0, sorted(predicates, key=itemgetter(0)))                        \n",
    "                        candidate.insert(1, len(idx)*100/len(X_train))\n",
    "                        candidate.insert(2, score)\n",
    "                        candidate.insert(3, del_f_2)\n",
    "            #             print(candidate)\n",
    "                        candidates_2.insert(len(candidates_2), candidate)  \n",
    "                        if (isCompact):\n",
    "                            candidates_all.insert(len(candidates_all), candidate)\n",
    "print(\"Generated: \", len(candidates_2), \" 2-candidates\")\n",
    "candidates_2.sort()\n",
    "\n",
    "# Recursively generating the rest\n",
    "candidates_L_1 = copy.deepcopy(candidates_2)\n",
    "iter=2\n",
    "while((len(candidates_L_1) > 0) & (iter < 3)):\n",
    "    print(\"Generated: \", iter)    \n",
    "    candidates_L = []\n",
    "    for i in range(len(candidates_L_1)):\n",
    "        candidate_i = candidates_L_1[i][0]\n",
    "        for j in range(i):\n",
    "            candidate_j = candidates_L_1[j][0]\n",
    "            # if L-1 lists intersect\n",
    "            intersect_candidates = set(candidate_i).intersection(candidate_j)\n",
    "            if (len(intersect_candidates) == iter - 1):\n",
    "                setminus_i = list(set(candidate_i) - intersect_candidates)[0].split(\"=\")\n",
    "                setminus_j = list(set(candidate_j) - intersect_candidates)[0].split(\"=\")\n",
    "                attr_i = setminus_i[0]\n",
    "                val_i = int(setminus_i[1])\n",
    "                attr_j = setminus_j[0]\n",
    "                val_j = int(setminus_j[1])\n",
    "                if (attr_i != attr_j):\n",
    "                    # merge to get L list\n",
    "                    merged_candidate = list(set(candidate_i + candidate_j))\n",
    "\n",
    "                    idx_i_j = pd.Index(list(range(len(X_train_orig))))\n",
    "                    for k in range(len(intersect_candidates)):\n",
    "                        attr = list(intersect_candidates)[k].split(\"=\")[0]\n",
    "                        val = int(list(intersect_candidates)[k].split(\"=\")[1])\n",
    "                        idx_i_j = idx_i_j.intersection(X_train_orig[(X_train_orig[attr] == val)].index)\n",
    "                    \n",
    "                    idx_i = idx_i_j.intersection(X_train_orig[(X_train_orig[attr_i] == val_i)].index)\n",
    "                    idx_j = idx_i_j.intersection(X_train_orig[(X_train_orig[attr_j] == val_j)].index)                    \n",
    "                    idx = idx_i.intersection(X_train_orig[(X_train_orig[attr_j] == val_j)].index) # merged\n",
    "\n",
    "                    fractionRows = len(idx)/len(X_train) * 100\n",
    "                    isCompact = True\n",
    "                    if (len(idx) == min(len(idx_i), len(idx_j))): # pattern is not compact if intersection equals one of its parents\n",
    "                        isCompact = False\n",
    "                    if (fractionRows/100 > support):\n",
    "                        X = np.delete(X_train, idx, 0)\n",
    "                        y = y_train.drop(index=idx, inplace=False)\n",
    "\n",
    "                        size_hvp = 1\n",
    "                        params_f_2 = second_order_group_influence(idx, del_L_del_theta)\n",
    "                        del_f_2 = np.dot(v1.transpose(), params_f_2)\n",
    "                    \n",
    "#                         params_f_2 = second_order_influence(X_train, idx, size_hvp, del_L_del_theta, hessian_all_points)\n",
    "#                         del_f_2 = np.dot(v1.transpose(), params_f_2)[0][0]\n",
    "    \n",
    "                        score = del_f_2 * 100/fractionRows\n",
    "                        if (((score > candidates_L_1[i][2]) & (score > candidates_L_1[j][2]) \n",
    "#                              & (del_f_2 > del_f_threshold_small)\n",
    "                            ) or \n",
    "                           (fractionRows > support_small)):\n",
    "                            candidate = []\n",
    "                            candidate.insert(0, sorted(merged_candidate, key=itemgetter(0)))                        \n",
    "                            candidate.insert(1, fractionRows)\n",
    "                            candidate.insert(2, del_f_2*len(X_train)/len(idx))\n",
    "                            candidate.insert(3, del_f_2)\n",
    "                            if (candidate not in candidates_L):\n",
    "                                candidates_L.insert(len(candidates_L), candidate)\n",
    "                                if (isCompact):\n",
    "                                    candidates_all.insert(len(candidates_all), candidate)\n",
    "    print(\"Generated:\", len(candidates_L), \" \", str(iter+1), \"-candidates\")\n",
    "    candidates_L_1 = copy.deepcopy(candidates_L)\n",
    "    candidates_L_1.sort()\n",
    "    iter += 1"
   ]
  },
  {
   "cell_type": "code",
   "execution_count": 123,
   "metadata": {},
   "outputs": [
    {
     "name": "stdout",
     "output_type": "stream",
     "text": [
      "1818\n",
      "1818\n"
     ]
    }
   ],
   "source": [
    "candidates_support_3_compact = copy.deepcopy(candidates_all)\n",
    "print(len(candidates_support_3_compact))\n",
    "candidates_df_3_compact = pd.DataFrame(candidates_support_3_compact, columns=[\"predicates\",\"support\",\"score\",\"2nd-inf\"])\n",
    "# candidates_df_3_compact = candidates_df_3_compact[candidates_df_3_compact[\"support\"] < 10].sort_values(by=['score'], ascending=False)\n",
    "print(len(candidates_df_3_compact))\n",
    "# display(candidates_df_3_compact)\n",
    "# display(candidates_df_3_compact[candidates_df_3_compact[\"support\"] < 20].sort_values(by=['2nd-inf'], ascending=False).head(5))"
   ]
  },
  {
   "cell_type": "markdown",
   "metadata": {},
   "source": [
    "**Containment-based filtering (with LSH Ensemble)**"
   ]
  },
  {
   "cell_type": "code",
   "execution_count": 124,
   "metadata": {},
   "outputs": [],
   "source": [
    "def get_subset(X_train_orig, explanation):\n",
    "    subset = X_train_orig.copy()\n",
    "    for predicate in explanation:\n",
    "#         print(predicate)\n",
    "        attr = predicate.split(\"=\")[0].strip(' ')\n",
    "        val = int(predicate.split(\"=\")[1].strip(' '))\n",
    "        subset = subset[subset[attr]==val]\n",
    "    return subset.index\n",
    "\n",
    "from datasketch import MinHashLSHEnsemble, MinHash, MinHashLSH\n",
    "import json\n",
    "\n",
    "class Topk:\n",
    "    '''\n",
    "        top explanations: explanation -> (minhash, set_index, score)\n",
    "    '''\n",
    "    def __init__(self, method='lsh', init_df=X_test_orig, init_explanations=[], threshold=0.75, k=10, num_perm=128):\n",
    "        self.method = method\n",
    "        self.num_perm = num_perm\n",
    "        if method == 'lshensemble':\n",
    "#             self.index = MinHashLSHEnsemble(threshold=threshold, num_perm=num_perm)\n",
    "#             hashed_explanations = []\n",
    "#             for explanation, score in init_explanations:\n",
    "#                 s = get_subset(init_df, explanation)\n",
    "#                 m = MinHash(num_perm=num_perm)\n",
    "#                 explanation_json = json.dumps(explanation)\n",
    "#                 for d in s:\n",
    "#                     m.update(str(d).encode('utf8'))\n",
    "#                 hashed_explanations.append((explanation_json, m, len(s)))\n",
    "#             self.index.index(hashed_explanations)\n",
    "            raise NotImplementedError\n",
    "        elif method == 'lsh':\n",
    "#             self.index = MinHashLSH(threshold=threshold, num_perm=num_perm, params=[64, self.num_perm//64])\n",
    "#             for explanation, score in init_explanations:\n",
    "#                 s = get_subset(init_df, explanation)\n",
    "#                 m = MinHash(num_perm=num_perm)\n",
    "#                 explanation_json = json.dumps(explanation)\n",
    "#                 for d in s:\n",
    "#                     m.update(str(d).encode('utf8'))\n",
    "#                 self.index.insert(explanation_json, m)\n",
    "            raise NotImplementedError\n",
    "\n",
    "        self.top_explanations = dict()\n",
    "        self.k = k\n",
    "        self.threshold = threshold\n",
    "        self.min_score = -100\n",
    "        self.min_score_explanation =None\n",
    "    \n",
    "    def _update_min(self, new_explanation, new_score):\n",
    "        if len(self.top_explanations) > 0:\n",
    "            for explanation, t in self.top_explanations.items():\n",
    "                if t[2] < new_score:\n",
    "                    new_score = t[2]\n",
    "                    new_explanation = explanation\n",
    "        self.min_score = new_score\n",
    "        self.min_score_explanation = new_explanation\n",
    "        \n",
    "    def _containment(self, x, q):\n",
    "        return len(x & q)/len(q)\n",
    "            \n",
    "    def update(self, df, explanation, score):\n",
    "        if (len(self.top_explanations) < self.k) or (score > self.min_score):\n",
    "            s = get_subset(df, explanation)\n",
    "            m = MinHash(num_perm=self.num_perm)\n",
    "            explanation = json.dumps(explanation)\n",
    "            for d in s:\n",
    "                m.update(str(d).encode('utf8'))\n",
    "\n",
    "            if self.method == 'lshensemble':\n",
    "#                 q_result = set(self.index.query(m, len(s))).intersection(set(self.top_explanations.keys()))\n",
    "                raise NotImplementedError\n",
    "            elif self.method == 'lsh':\n",
    "#                 q_result = set(self.index.query(m)).intersection(set(self.top_explanations.keys()))\n",
    "                raise NotImplementedError\n",
    "            elif self.method == 'containment':\n",
    "                q_result = set()\n",
    "                for k, v in self.top_explanations.items():\n",
    "                    if self._containment(v[1], s) > self.threshold:\n",
    "#                         print(self._containment(v[1], s))\n",
    "                        q_result.add(k)\n",
    "            \n",
    "#             print(q_result)\n",
    "#             print([round(len(self.top_explanations[q][1] & s)/len(s), 3) for q in q_result])\n",
    "#             print([round(len(self.top_explanations[q][1] & s)/len(self.top_explanations[q][1] | s), 3) for q in self.top_explanations.keys()])\n",
    "\n",
    "            if len(q_result)==0:\n",
    "                if len(self.top_explanations) <= self.k-1:\n",
    "                    self._update_min(explanation, score)\n",
    "                    self.top_explanations[explanation] = (m, s, score)\n",
    "                    return 0\n",
    "#                 else:\n",
    "#                     del self.top_explanations[self.min_score_explanation]\n",
    "#                     self._update_min(explanation, score)\n",
    "#                     self.top_explanations[explanation] = (m, s, score)\n",
    "#                     return 0\n",
    "#             else:\n",
    "#                 q_scores = [self.top_explanations[explanation][2] for explanation in q_result]\n",
    "#                 if max(q_scores) < score:\n",
    "#                     for explanation in q_result:\n",
    "#                         del self.top_explanations[explanation]\n",
    "#                     self._update_min(explanation, score)\n",
    "#                     self.top_explanations[explanation] = (m, s, score)\n",
    "# #                     print('Inserted')\n",
    "#                     return 0\n",
    "        return -1\n",
    "\n",
    "lsh_df = candidates_df_3_compact.sort_values(by=['score'], ascending=False).copy()\n",
    "\n",
    "topk = Topk(method='containment', threshold=0.2, k=10)\n",
    "for row_idx in range(len(lsh_df)):\n",
    "    row = lsh_df.iloc[row_idx]\n",
    "    explanation, score = row[0], row[2]\n",
    "    topk.update(X_train_orig, explanation, score)\n",
    "    if len(topk.top_explanations) == topk.k:\n",
    "        break"
   ]
  },
  {
   "cell_type": "code",
   "execution_count": 125,
   "metadata": {},
   "outputs": [
    {
     "data": {
      "text/html": [
       "<div>\n",
       "<style scoped>\n",
       "    .dataframe tbody tr th:only-of-type {\n",
       "        vertical-align: middle;\n",
       "    }\n",
       "\n",
       "    .dataframe tbody tr th {\n",
       "        vertical-align: top;\n",
       "    }\n",
       "\n",
       "    .dataframe thead th {\n",
       "        text-align: right;\n",
       "    }\n",
       "</style>\n",
       "<table border=\"1\" class=\"dataframe\">\n",
       "  <thead>\n",
       "    <tr style=\"text-align: right;\">\n",
       "      <th></th>\n",
       "      <th>explanations</th>\n",
       "      <th>support</th>\n",
       "      <th>score</th>\n",
       "      <th>2nd-inf</th>\n",
       "    </tr>\n",
       "  </thead>\n",
       "  <tbody>\n",
       "    <tr>\n",
       "      <th>0</th>\n",
       "      <td>[\"age=1\", \"housing_A152=1\", \"install_plans=0\"]</td>\n",
       "      <td>11.125</td>\n",
       "      <td>0.537120</td>\n",
       "      <td>-0.145012</td>\n",
       "    </tr>\n",
       "    <tr>\n",
       "      <th>1</th>\n",
       "      <td>[\"housing_A152=1\", \"install_rate=4\", \"residence=2\"]</td>\n",
       "      <td>11.375</td>\n",
       "      <td>0.373656</td>\n",
       "      <td>-0.103147</td>\n",
       "    </tr>\n",
       "    <tr>\n",
       "      <th>2</th>\n",
       "      <td>[\"credit_hist=2\", \"gender=0\", \"savings=0\"]</td>\n",
       "      <td>12.000</td>\n",
       "      <td>0.329535</td>\n",
       "      <td>-0.095966</td>\n",
       "    </tr>\n",
       "    <tr>\n",
       "      <th>3</th>\n",
       "      <td>[\"credit_hist=0\", \"num_credits=2\", \"telephone=0\"]</td>\n",
       "      <td>11.875</td>\n",
       "      <td>0.291186</td>\n",
       "      <td>-0.083914</td>\n",
       "    </tr>\n",
       "    <tr>\n",
       "      <th>4</th>\n",
       "      <td>[\"install_rate=4\", \"job=2\", \"telephone=1\"]</td>\n",
       "      <td>11.125</td>\n",
       "      <td>0.270806</td>\n",
       "      <td>-0.073113</td>\n",
       "    </tr>\n",
       "    <tr>\n",
       "      <th>5</th>\n",
       "      <td>[\"credit_amt=0\", \"install_plans=0\", \"num_liable=1\"]</td>\n",
       "      <td>32.375</td>\n",
       "      <td>0.268611</td>\n",
       "      <td>-0.211040</td>\n",
       "    </tr>\n",
       "    <tr>\n",
       "      <th>6</th>\n",
       "      <td>[\"credit_amt=1\", \"foreign_worker=1\", \"purpose_A42=1\"]</td>\n",
       "      <td>10.250</td>\n",
       "      <td>0.241529</td>\n",
       "      <td>-0.060080</td>\n",
       "    </tr>\n",
       "    <tr>\n",
       "      <th>7</th>\n",
       "      <td>[\"credit_amt=1\", \"gender=1\", \"status=3\"]</td>\n",
       "      <td>11.250</td>\n",
       "      <td>0.217934</td>\n",
       "      <td>-0.059499</td>\n",
       "    </tr>\n",
       "    <tr>\n",
       "      <th>8</th>\n",
       "      <td>[\"duration=1\", \"num_credits=1\", \"property=1\"]</td>\n",
       "      <td>10.250</td>\n",
       "      <td>0.116912</td>\n",
       "      <td>-0.029081</td>\n",
       "    </tr>\n",
       "    <tr>\n",
       "      <th>9</th>\n",
       "      <td>[\"housing_A152=1\", \"install_rate=2\"]</td>\n",
       "      <td>15.500</td>\n",
       "      <td>0.052995</td>\n",
       "      <td>-0.019934</td>\n",
       "    </tr>\n",
       "  </tbody>\n",
       "</table>\n",
       "</div>"
      ],
      "text/plain": [
       "                                            explanations  support     score  \\\n",
       "0         [\"age=1\", \"housing_A152=1\", \"install_plans=0\"]   11.125  0.537120   \n",
       "1    [\"housing_A152=1\", \"install_rate=4\", \"residence=2\"]   11.375  0.373656   \n",
       "2             [\"credit_hist=2\", \"gender=0\", \"savings=0\"]   12.000  0.329535   \n",
       "3      [\"credit_hist=0\", \"num_credits=2\", \"telephone=0\"]   11.875  0.291186   \n",
       "4             [\"install_rate=4\", \"job=2\", \"telephone=1\"]   11.125  0.270806   \n",
       "5    [\"credit_amt=0\", \"install_plans=0\", \"num_liable=1\"]   32.375  0.268611   \n",
       "6  [\"credit_amt=1\", \"foreign_worker=1\", \"purpose_A42=1\"]   10.250  0.241529   \n",
       "7               [\"credit_amt=1\", \"gender=1\", \"status=3\"]   11.250  0.217934   \n",
       "8          [\"duration=1\", \"num_credits=1\", \"property=1\"]   10.250  0.116912   \n",
       "9                   [\"housing_A152=1\", \"install_rate=2\"]   15.500  0.052995   \n",
       "\n",
       "    2nd-inf  \n",
       "0 -0.145012  \n",
       "1 -0.103147  \n",
       "2 -0.095966  \n",
       "3 -0.083914  \n",
       "4 -0.073113  \n",
       "5 -0.211040  \n",
       "6 -0.060080  \n",
       "7 -0.059499  \n",
       "8 -0.029081  \n",
       "9 -0.019934  "
      ]
     },
     "execution_count": 125,
     "metadata": {},
     "output_type": "execute_result"
    }
   ],
   "source": [
    "explanations = list(topk.top_explanations.keys())\n",
    "idxs = [v[1] for v in topk.top_explanations.values()]\n",
    "supports = list()\n",
    "scores = list()\n",
    "infs = list()\n",
    "for e in explanations:\n",
    "    condition = candidates_df_3_compact.predicates.apply(lambda x: x==json.loads(e))\n",
    "    supports.append(float(candidates_df_3_compact[condition]['support']))\n",
    "    scores.append(float(candidates_df_3_compact[condition]['score']))\n",
    "    infs.append(float(candidates_df_3_compact[condition]['2nd-inf']))\n",
    "\n",
    "expl = [explanations, supports, scores, infs]\n",
    "expl = (np.array(expl).T).tolist()\n",
    "\n",
    "explanations = pd.DataFrame(expl, columns=[\"explanations\", \"support\", \"score\", \"2nd-inf\"])\n",
    "explanations['score'] = explanations['score'].astype(float)\n",
    "explanations['support'] = explanations['support'].astype(float)\n",
    "explanations['2nd-inf'] = explanations['2nd-inf'].astype(float)/(spd_0)\n",
    "\n",
    "pd.set_option('max_colwidth', 100)\n",
    "explanations.sort_values(by=['score'], ascending=False)"
   ]
  },
  {
   "cell_type": "code",
   "execution_count": 98,
   "metadata": {},
   "outputs": [
    {
     "data": {
      "text/plain": [
       "527.8"
      ]
     },
     "execution_count": 98,
     "metadata": {},
     "output_type": "execute_result"
    }
   ],
   "source": [
    "(6.75+5.25+5.75+6.25+6.5+5.375+8.125+11.275+5.5+5.2) * 8"
   ]
  },
  {
   "cell_type": "code",
   "execution_count": 128,
   "metadata": {},
   "outputs": [],
   "source": [
    "idx0 = X_train_orig[\n",
    "                   (X_train_orig['age']==1)\n",
    "                   &(X_train_orig['housing_A152']==1)\n",
    "                   & (X_train_orig['install_plans']==0)\n",
    "            ].index \n",
    "idx1 = X_train_orig[\n",
    "                   (X_train_orig['housing_A152']==1)\n",
    "                   & (X_train_orig['install_rate']==4)\n",
    "                   & (X_train_orig['residence']==2)\n",
    "            ].index \n",
    "idx2 = X_train_orig[\n",
    "                   (X_train_orig['credit_amt']==0)\n",
    "                   &(X_train_orig['num_credits']==2)\n",
    "                   & (X_train_orig['residence']==4)\n",
    "            ].index \n",
    "idx3 = X_train_orig[\n",
    "                   (X_train_orig['gender']==0)\n",
    "                   &(X_train_orig['housing_A152']==1)\n",
    "                   & (X_train_orig['residence']==4)\n",
    "            ].index \n",
    "idx4 = X_train_orig[\n",
    "                   (X_train_orig['credit_hist']==2)\n",
    "                   &(X_train_orig['credit_amt']==1)\n",
    "                   & (X_train_orig['purpose_A42']==1)\n",
    "            ].index \n",
    "idx5 = X_train_orig[\n",
    "                   (X_train_orig['credit_amt']==0)\n",
    "                   &(X_train_orig['gender']==0)\n",
    "                   & (X_train_orig['status']==0)\n",
    "            ].index\n",
    "idx6 = X_train_orig[\n",
    "                   (X_train_orig['credit_hist']==0)\n",
    "                   &(X_train_orig['property']==3)\n",
    "            ].index\n",
    "idx7 = X_train_orig[\n",
    "                   (X_train_orig['housing_A152']==1)\n",
    "                   &(X_train_orig['install_rate']==4)\n",
    "                   & (X_train_orig['residence']==2)\n",
    "            ].index\n",
    "idx8 = X_train_orig[\n",
    "                   (X_train_orig['duration']==1)\n",
    "                   &(X_train_orig['employment']==4)\n",
    "                   & (X_train_orig['savings']==0)\n",
    "            ].index\n",
    "idx9 = X_train_orig[\n",
    "                   (X_train_orig['credit_amt']==0)\n",
    "                   &(X_train_orig['employment']==3)\n",
    "                   & (X_train_orig['housing_A152']==1)\n",
    "            ].index"
   ]
  },
  {
   "cell_type": "code",
   "execution_count": 101,
   "metadata": {},
   "outputs": [],
   "source": [
    "idx_union = list(idx0) + list(idx1) + list(idx2) + list(idx3) + list(idx4) + list(idx5) + list(idx6) + list(idx7) + list(idx8) + list(idx9)"
   ]
  },
  {
   "cell_type": "code",
   "execution_count": 78,
   "metadata": {},
   "outputs": [
    {
     "name": "stdout",
     "output_type": "stream",
     "text": [
      "%rows 5.25\n",
      "inf-gt -0.06366315507153297\n",
      "inf-2 -0.061137551240821465\n",
      "0.4798615056175104\n"
     ]
    }
   ],
   "source": [
    "idx = X_train_orig[\n",
    "                   (X_train_orig['num_liable']==1)\n",
    "#                    &(X_train_orig['install_plans']==0)\n",
    "                   & (X_train_orig['status']==2)\n",
    "#                    & (X_train_orig['foreign_worker']==1)\n",
    "            ].index \n",
    "\n",
    "print(\"%rows\", len(idx)*100/len(X_train))\n",
    "X = np.delete(X_train, idx, 0)\n",
    "y = y_train.drop(index=idx, inplace=False)\n",
    "clf.fit(X, y)\n",
    "y_pred = clf.predict_proba(X_test)\n",
    "print(\"inf-gt\", computeFairness(y_pred, X_test_orig, y_test, 0, dataset)/spd_0 - 1)\n",
    "# print(\"gt\", computeFairness(y_pred, X_test_orig, y_test, 0, dataset))\n",
    "\n",
    "params_f_2 = second_order_group_influence(idx, del_L_del_theta)\n",
    "del_f_2 = np.dot(v1.transpose(), params_f_2)\n",
    "print(\"inf-2\", del_f_2/spd_0)\n",
    "\n",
    "print(del_f_2/(len(idx)/len(X_train)))"
   ]
  },
  {
   "cell_type": "code",
   "execution_count": 79,
   "metadata": {},
   "outputs": [
    {
     "name": "stdout",
     "output_type": "stream",
     "text": [
      "12\n",
      "14\n",
      "42\n"
     ]
    }
   ],
   "source": [
    "df = copy.deepcopy(X_train_orig)\n",
    "df['income'] = list(y_train)\n",
    "print(df.iloc[idx]['age'].sum())\n",
    "print(df.iloc[idx]['income'].sum())\n",
    "print(len(idx))\n",
    "# df.iloc[idx][['age', 'income']]"
   ]
  },
  {
   "cell_type": "code",
   "execution_count": 129,
   "metadata": {},
   "outputs": [
    {
     "name": "stdout",
     "output_type": "stream",
     "text": [
      "0.5164835164835165\n"
     ]
    }
   ],
   "source": [
    "print(len(set(sample_protected).intersection(set(idx1)))/len(idx1))"
   ]
  },
  {
   "cell_type": "code",
   "execution_count": 106,
   "metadata": {},
   "outputs": [
    {
     "data": {
      "text/plain": [
       "0.66125"
      ]
     },
     "execution_count": 106,
     "metadata": {},
     "output_type": "execute_result"
    }
   ],
   "source": [
    "len(idx_union)/800"
   ]
  },
  {
   "cell_type": "code",
   "execution_count": 116,
   "metadata": {},
   "outputs": [
    {
     "data": {
      "text/plain": [
       "0.4"
      ]
     },
     "execution_count": 116,
     "metadata": {},
     "output_type": "execute_result"
    }
   ],
   "source": [
    "len(sample_protected)/len(X_train)"
   ]
  },
  {
   "cell_type": "code",
   "execution_count": null,
   "metadata": {},
   "outputs": [],
   "source": [
    "# 1st exp - 0% overlap with data error in protected class, all positive labels deleted. \n",
    "# 2nd exp - 57% overlap. 57% of data in the explanation are data errors\n",
    "# 3rd exp - 35%\n",
    "# 4th exp - 52%\n",
    "# 5th exp - 20%\n",
    "# 6th exp - 44%\n",
    "# 7th exp - 42%\n",
    "# 8th exp - 52%\n",
    "# 9th exp - 30%\n",
    "# 10th exp - 50%"
   ]
  },
  {
   "cell_type": "code",
   "execution_count": null,
   "metadata": {},
   "outputs": [],
   "source": [
    "# (age, income) distribution\n",
    "\n",
    "# 1st exp 37/41 are (1, 1)\n",
    "# 2nd exp 39/42 are (1, 1) or (0, 0)\n",
    "# 3rd exp 35/46 are (0, 0) or (1, 1) -- removing these reduces bias\n",
    "# 4th exp 41/52 are (0, 0) or (1, 1)\n",
    "# 5th exp 39/54 are (0, 0) or (1, 1)\n"
   ]
  },
  {
   "cell_type": "code",
   "execution_count": null,
   "metadata": {},
   "outputs": [],
   "source": [
    "df[(df['rank']==2)]"
   ]
  },
  {
   "cell_type": "code",
   "execution_count": null,
   "metadata": {},
   "outputs": [],
   "source": [
    "len(df[df['sex'] == 1])"
   ]
  },
  {
   "cell_type": "code",
   "execution_count": null,
   "metadata": {},
   "outputs": [],
   "source": [
    "rank=1\n",
    "\n",
    "len(df[(df['year']>1) & (df['year']<=3) & (df['sex']==0)])/len(df[(df['year']>1) & (df['year']<=3)])"
   ]
  },
  {
   "cell_type": "code",
   "execution_count": null,
   "metadata": {},
   "outputs": [],
   "source": [
    "df[[\"sex\", ]].groupby(by=\"sex\", dropna=False).sum()"
   ]
  },
  {
   "cell_type": "code",
   "execution_count": null,
   "metadata": {},
   "outputs": [],
   "source": [
    "print(computeFairness(y_pred, X_test_orig, y_test, 0, dataset))\n",
    "spd_0"
   ]
  },
  {
   "cell_type": "code",
   "execution_count": null,
   "metadata": {},
   "outputs": [],
   "source": [
    "explanations = list(topk.top_explanations.keys())\n",
    "idxs = [v[1] for v in topk.top_explanations.values()]\n",
    "supports = list()\n",
    "scores = list()\n",
    "infs = list()\n",
    "for e in explanations:\n",
    "    condition = candidates_df_3_compact.predicates.apply(lambda x: x==json.loads(e))\n",
    "    supports.append(float(candidates_df_3_compact[condition]['support']))\n",
    "    scores.append(float(candidates_df_3_compact[condition]['score']))\n",
    "    infs.append(float(candidates_df_3_compact[condition]['2nd-inf']))\n",
    "\n",
    "expl = [explanations, supports, scores, infs]\n",
    "expl = (np.array(expl).T).tolist()\n",
    "\n",
    "explanations = pd.DataFrame(expl, columns=[\"explanations\", \"support\", \"score\", \"2nd-inf\"])\n",
    "explanations['score'] = explanations['score'].astype(float)\n",
    "explanations['support'] = explanations['support'].astype(float)\n",
    "explanations['2nd-inf'] = explanations['2nd-inf'].astype(float)/(-spd_0)\n",
    "\n",
    "pd.set_option('max_colwidth', 100)\n",
    "explanations.sort_values(by=['score'], ascending=False)"
   ]
  },
  {
   "cell_type": "code",
   "execution_count": null,
   "metadata": {
    "ExecuteTime": {
     "end_time": "2021-06-28T10:33:26.920812Z",
     "start_time": "2021-06-28T10:33:26.293870Z"
    },
    "scrolled": true
   },
   "outputs": [],
   "source": [
    "lim = 0.1\n",
    "plt.figure(figsize=(5,5))\n",
    "xs = (np.arange(31)-15)/15*lim*0.8\n",
    "ys = xs\n",
    "plt.xlim(-lim, lim)\n",
    "plt.ylim(-lim, lim)\n",
    "plt.plot(xs, ys, 'grey')\n",
    "\n",
    "# RGBA\n",
    "color_first = np.zeros((len(gt_influences), 4))\n",
    "color_first[:, 2] = 1.0\n",
    "color_first[:, 3] = 1-np.array(fractionRows)/100\n",
    "color_second = np.zeros((len(gt_influences), 4))\n",
    "color_second[:, 0] = 1.0\n",
    "color_second[:, 3] = 1-np.array(fractionRows)/100\n",
    "\n",
    "# color_first = np.zeros((len(gt_influences), 4))\n",
    "# color_first[:, 0] = 1.0\n",
    "# color_first[:, 3] = 0.2\n",
    "# color_second = np.zeros((len(gt_influences), 4))\n",
    "# color_second[:, 0] = 1.0\n",
    "# color_second[:, 3] = 1.0\n",
    "\n",
    "plt.scatter(gt_influences, first_order_influences, s=12, color=color_first, label='first-order')\n",
    "plt.scatter(gt_influences, second_order_influences, s=12, color=color_second, label='second-order')\n",
    "plt.ylabel('estimated influence\\n', fontsize=12, fontweight='bold')\n",
    "plt.xlabel('\\nground truth influence', fontsize=12, fontweight='bold')\n",
    "plt.legend(fontsize=12, prop={'weight':'bold'})\n",
    "plt.grid()\n",
    "plt.savefig('infs.png')"
   ]
  },
  {
   "cell_type": "code",
   "execution_count": null,
   "metadata": {
    "ExecuteTime": {
     "end_time": "2021-06-28T10:25:59.339757Z",
     "start_time": "2021-06-28T10:25:59.323465Z"
    }
   },
   "outputs": [],
   "source": [
    "time_gt_ave = []\n",
    "time_second_ave = []\n",
    "time_first_ave = []\n",
    "\n",
    "l = len(time_gt)//rep\n",
    "for i in range(l):\n",
    "    time_gt_ave.append(np.average([time_gt[i+j*l] for j in range(rep)]))\n",
    "    time_second_ave.append(np.average([time_second[i+j*l] for j in range(rep)]))\n",
    "    time_first_ave.append(np.average([time_first[i+j*l] for j in range(rep)]))"
   ]
  },
  {
   "cell_type": "code",
   "execution_count": null,
   "metadata": {
    "ExecuteTime": {
     "end_time": "2021-06-28T10:33:35.439623Z",
     "start_time": "2021-06-28T10:33:35.009156Z"
    }
   },
   "outputs": [],
   "source": [
    "plt.figure(figsize=(5,5))\n",
    "# plt.subplot(131)\n",
    "sorted_idx = explanations.sort_values(by=['fractionRows'], ascending=True).index\n",
    "xs = []\n",
    "ys = []\n",
    "for idx in sorted_idx:\n",
    "    xs.append(fractionRows[idx])\n",
    "    ys.append(time_first_ave[idx])\n",
    "plt.plot(xs, ys, '-', c='blue', label='first-order')\n",
    "\n",
    "# plt.subplot(132)\n",
    "xs = []\n",
    "ys = []\n",
    "for idx in sorted_idx:\n",
    "    xs.append(fractionRows[idx])\n",
    "    ys.append(time_second_ave[idx])\n",
    "plt.plot(xs, ys, '-', c='red', label='second-order')\n",
    "\n",
    "# plt.subplot(133)\n",
    "xs = []\n",
    "ys = []\n",
    "for idx in sorted_idx:\n",
    "    xs.append(fractionRows[idx])\n",
    "    ys.append(time_gt_ave[idx])\n",
    "plt.plot(xs, ys, '-', c='green', label='ground truth')\n",
    "plt.legend(fontsize=12, prop={'weight':'bold'})\n",
    "plt.grid()\n",
    "plt.xlabel('\\nfraction of data removed (%)', fontsize=12, fontweight='bold')\n",
    "plt.ylabel('time cost / sec\\n', fontsize=12, fontweight='bold')\n",
    "# plt.show()\n",
    "plt.savefig('time.png')"
   ]
  },
  {
   "cell_type": "code",
   "execution_count": null,
   "metadata": {
    "ExecuteTime": {
     "end_time": "2021-06-28T10:22:53.161226Z",
     "start_time": "2021-06-28T10:22:53.145026Z"
    }
   },
   "outputs": [],
   "source": [
    "# bucket_num = 10\n",
    "fractionRows = np.array(fractionRows)\n",
    "gt_influences = np.array(gt_influences)\n",
    "first_order_influences = np.array(first_order_influences)\n",
    "second_order_influences = np.array(second_order_influences)\n",
    "corr_first_gt_ls = []\n",
    "corr_second_gt_ls = []\n",
    "for bucket_id in range(10):\n",
    "    is_in_bucket = np.logical_and(fractionRows>=bucket_id*10, fractionRows<(bucket_id+1)*10)\n",
    "    corr_first_gt = np.corrcoef([gt_influences[is_in_bucket], first_order_influences[is_in_bucket]])[0][1]\n",
    "    if np.isnan(corr_first_gt):\n",
    "        corr_first_gt = 0\n",
    "    corr_second_gt = np.corrcoef([gt_influences[is_in_bucket], second_order_influences[is_in_bucket]])[0][1]\n",
    "    if np.isnan(corr_second_gt):\n",
    "        corr_second_gt = 0\n",
    "    corr_first_gt_ls.append(corr_first_gt)\n",
    "    corr_second_gt_ls.append(corr_second_gt)"
   ]
  },
  {
   "cell_type": "code",
   "execution_count": null,
   "metadata": {
    "ExecuteTime": {
     "end_time": "2021-06-28T10:22:53.899330Z",
     "start_time": "2021-06-28T10:22:53.513192Z"
    },
    "scrolled": false
   },
   "outputs": [],
   "source": [
    "plt.figure(figsize=(8,8))\n",
    "bar_width=0.3\n",
    "tick_label=[f'{i*10}%-{(i+1)*10}%' for i in range(10)]\n",
    "plt.bar(np.arange(10), corr_first_gt_ls, bar_width, color='blue', label='first')\n",
    "plt.bar(np.arange(10)+bar_width, corr_second_gt_ls, bar_width, color='orange', label='second')\n",
    "plt.legend(fontsize=12)\n",
    "plt.xticks(np.arange(10)+bar_width/2, tick_label, rotation=20, fontsize=12)\n",
    "plt.xlabel('Row Fraction', fontsize=20)\n",
    "plt.ylabel('Pearson Correlation', fontsize=20)\n",
    "plt.show()"
   ]
  },
  {
   "cell_type": "code",
   "execution_count": null,
   "metadata": {
    "ExecuteTime": {
     "end_time": "2021-06-28T10:23:06.072360Z",
     "start_time": "2021-06-28T10:23:06.062658Z"
    }
   },
   "outputs": [],
   "source": [
    "# overall correlation\n",
    "np.corrcoef([gt_influences, first_order_influences])[0][1], np.corrcoef([gt_influences, second_order_influences])[0][1]"
   ]
  },
  {
   "cell_type": "markdown",
   "metadata": {
    "ExecuteTime": {
     "end_time": "2021-05-07T17:47:30.518658Z",
     "start_time": "2021-05-07T17:47:30.511518Z"
    }
   },
   "source": [
    "less than 2 coherent subsets correspond to the bracket 50%-60%, therefore cannot compute corrsponding pearson correlation"
   ]
  },
  {
   "cell_type": "code",
   "execution_count": null,
   "metadata": {
    "ExecuteTime": {
     "end_time": "2021-06-28T10:23:10.705692Z",
     "start_time": "2021-06-28T10:23:09.146689Z"
    }
   },
   "outputs": [],
   "source": [
    "# lim = 0.01\n",
    "plt.figure(figsize=(15, 6))\n",
    "for bucket_id in range(10):\n",
    "    plt.subplot(2, 5, bucket_id+1)\n",
    "    is_in_bucket = np.logical_and(fractionRows>=bucket_id*10, fractionRows<(bucket_id+1)*10)\n",
    "    xs = (np.arange(30)-15)/15*lim\n",
    "    ys = xs\n",
    "    plt.xlim(-lim, lim)\n",
    "    plt.ylim(-lim, lim)\n",
    "    plt.plot(xs, ys, 'g')\n",
    "    plt.scatter(gt_influences[is_in_bucket], first_order_influences[is_in_bucket], s=10, c='blue', label='first')\n",
    "    plt.scatter(gt_influences[is_in_bucket], second_order_influences[is_in_bucket], s=10, c='orange', label='second')\n",
    "    plt.legend()\n",
    "    plt.title(f'Fraction: {bucket_id*10}%-{(bucket_id+1)*10}% {np.sum(is_in_bucket)}')\n",
    "plt.tight_layout()\n",
    "plt.show()"
   ]
  },
  {
   "cell_type": "markdown",
   "metadata": {},
   "source": [
    "For buckets which include only small num of coherent subsets (many of them corresponds to high row fraction), the pearson correlation can be less meaningful. However, from the scatter plots above, we can see that the estimation of influence function tends to be more accurate when the row fractions are relatively low, meanwhile, low row fraction leads to low overall influence (change of metrics caused by removing the subset) of coherent subsets."
   ]
  },
  {
   "cell_type": "code",
   "execution_count": null,
   "metadata": {},
   "outputs": [],
   "source": []
  }
 ],
 "metadata": {
  "kernelspec": {
   "display_name": "Python 3",
   "language": "python",
   "name": "python3"
  },
  "language_info": {
   "codemirror_mode": {
    "name": "ipython",
    "version": 3
   },
   "file_extension": ".py",
   "mimetype": "text/x-python",
   "name": "python",
   "nbconvert_exporter": "python",
   "pygments_lexer": "ipython3",
   "version": "3.8.2"
  }
 },
 "nbformat": 4,
 "nbformat_minor": 4
}
