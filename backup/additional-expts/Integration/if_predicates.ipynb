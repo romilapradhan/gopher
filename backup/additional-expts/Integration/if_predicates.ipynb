{
 "cells": [
  {
   "cell_type": "code",
   "execution_count": 1,
   "metadata": {
    "ExecuteTime": {
     "end_time": "2021-06-30T16:55:32.720367Z",
     "start_time": "2021-06-30T16:55:29.138315Z"
    }
   },
   "outputs": [
    {
     "data": {
      "text/plain": [
       "<torch._C.Generator at 0x11bb72890>"
      ]
     },
     "execution_count": 1,
     "metadata": {},
     "output_type": "execute_result"
    }
   ],
   "source": [
    "import sys\n",
    "import tqdm\n",
    "import time\n",
    "import sklearn\n",
    "import numpy as np\n",
    "import pandas as pd\n",
    "import scipy\n",
    "import copy\n",
    "import random\n",
    "import math\n",
    "import torch\n",
    "import torch.nn.functional as F\n",
    "from load_dataset import load\n",
    "from classifier import NeuralNetwork, LogisticRegression, SVM\n",
    "from utils import *\n",
    "from metrics import *  # include fairness and corresponding derivatives\n",
    "from scipy import stats\n",
    "from scipy.stats import rankdata\n",
    "from sklearn import metrics, preprocessing\n",
    "from sklearn.ensemble import RandomForestClassifier, RandomForestRegressor\n",
    "from sklearn.metrics import classification_report\n",
    "from sklearn.linear_model import SGDClassifier\n",
    "from sklearn.svm import SVC, LinearSVC\n",
    "from torch.autograd import grad\n",
    "import torch.nn as nn\n",
    "import matplotlib.pyplot as plt\n",
    "import seaborn as sns\n",
    "from IPython.display import Markdown, display\n",
    "random.seed(1)\n",
    "np.random.seed(1)\n",
    "torch.manual_seed(1)"
   ]
  },
  {
   "cell_type": "code",
   "execution_count": 2,
   "metadata": {
    "ExecuteTime": {
     "end_time": "2021-06-30T16:55:32.730521Z",
     "start_time": "2021-06-30T16:55:32.723985Z"
    }
   },
   "outputs": [],
   "source": [
    "# ignore all the warnings\n",
    "import warnings\n",
    "warnings.filterwarnings('ignore') "
   ]
  },
  {
   "cell_type": "markdown",
   "metadata": {},
   "source": [
    "**Load Dataset**"
   ]
  },
  {
   "cell_type": "code",
   "execution_count": 3,
   "metadata": {
    "ExecuteTime": {
     "end_time": "2021-06-30T16:55:32.890148Z",
     "start_time": "2021-06-30T16:55:32.734504Z"
    },
    "code_folding": [
     0
    ]
   },
   "outputs": [],
   "source": [
    "dataset = 'german'\n",
    "X_train, X_test, y_train, y_test = load(dataset)"
   ]
  },
  {
   "cell_type": "markdown",
   "metadata": {},
   "source": [
    "**Parametric Model**"
   ]
  },
  {
   "cell_type": "code",
   "execution_count": 4,
   "metadata": {
    "ExecuteTime": {
     "end_time": "2021-06-30T16:55:32.962426Z",
     "start_time": "2021-06-30T16:55:32.930549Z"
    },
    "code_folding": []
   },
   "outputs": [],
   "source": [
    "# size=500\n",
    "# X_train = X_train[0:size]\n",
    "# y_train = y_train[0:size]\n",
    "\n",
    "X_train_orig = copy.deepcopy(X_train)\n",
    "X_test_orig = copy.deepcopy(X_test)\n",
    "\n",
    "# Scale data: regularization penalty default: ‘l2’, ‘lbfgs’ solvers support only l2 penalties. \n",
    "# Regularization makes the predictor dependent on the scale of the features.\n",
    "from sklearn.preprocessing import StandardScaler\n",
    "sc = StandardScaler()\n",
    "X_train = sc.fit_transform(X_train)\n",
    "X_test = sc.transform(X_test)"
   ]
  },
  {
   "cell_type": "markdown",
   "metadata": {},
   "source": [
    "**Loss function** (Log loss for logistic regression)"
   ]
  },
  {
   "cell_type": "code",
   "execution_count": 5,
   "metadata": {
    "ExecuteTime": {
     "end_time": "2021-06-30T16:55:58.568025Z",
     "start_time": "2021-06-30T16:55:58.558747Z"
    }
   },
   "outputs": [],
   "source": [
    "# clf = NeuralNetwork()\n",
    "# clf = LogisticRegression(input_size=X_train.shape[-1])\n",
    "clf = SVM(input_size=X_train.shape[-1])\n",
    "num_params = len(convert_grad_to_ndarray(list(clf.parameters())))\n",
    "if isinstance(clf, LogisticRegression) or isinstance(clf, NeuralNetwork):\n",
    "#     loss_func = lambda model, x, y_true: logistic_loss_torch(model(torch.FloatTensor(x)),\\\n",
    "#                                                              torch.FloatTensor([y_true])) +\\\n",
    "#     model.C*torch.sqrt(torch.sum(convert_grad_to_tensor(list(clf.parameters()))**2))\n",
    "    loss_func = logistic_loss_torch\n",
    "elif isinstance(clf, SVM):\n",
    "    loss_func = svm_loss_torch"
   ]
  },
  {
   "cell_type": "markdown",
   "metadata": {},
   "source": [
    "**Influence of points computed using ground truth**"
   ]
  },
  {
   "cell_type": "code",
   "execution_count": 6,
   "metadata": {
    "ExecuteTime": {
     "end_time": "2021-06-30T16:55:59.329101Z",
     "start_time": "2021-06-30T16:55:59.319669Z"
    },
    "code_folding": [
     0
    ]
   },
   "outputs": [],
   "source": [
    "def ground_truth_influence(X_train, y_train, X_test, X_test_orig, y_test):\n",
    "    clf.fit(X_train, y_train, verbose=True)\n",
    "    y_pred = clf.predict_proba(X_test)\n",
    "    spd_0 = computeFairness(y_pred, X_test_orig, y_test, 0)\n",
    "\n",
    "    delta_spd = []\n",
    "    for i in range(len(X_train)):\n",
    "        X_removed = np.delete(X_train, i, 0)\n",
    "        y_removed = y_train.drop(index=i, inplace=False)\n",
    "        clf.fit(X_removed, y_removed)\n",
    "        y_pred = clf.predict_proba(X_test)\n",
    "        delta_spd_i = computeFairness(y_pred, X_test_orig, y_test, 0) - spd_0\n",
    "        delta_spd.append(delta_spd_i)\n",
    "\n",
    "    return delta_spd"
   ]
  },
  {
   "cell_type": "markdown",
   "metadata": {},
   "source": [
    "**Compute Accuracy** "
   ]
  },
  {
   "cell_type": "code",
   "execution_count": 7,
   "metadata": {
    "ExecuteTime": {
     "end_time": "2021-06-30T16:55:59.936612Z",
     "start_time": "2021-06-30T16:55:59.931438Z"
    },
    "code_folding": []
   },
   "outputs": [],
   "source": [
    "def computeAccuracy(y_true, y_pred):\n",
    "    return np.sum((y_pred>0.5) == y_true)/len(y_pred)"
   ]
  },
  {
   "cell_type": "markdown",
   "metadata": {},
   "source": [
    "**First-order derivative of loss function at z with respect to model parameters**"
   ]
  },
  {
   "cell_type": "code",
   "execution_count": 8,
   "metadata": {
    "ExecuteTime": {
     "end_time": "2021-06-30T16:56:00.697109Z",
     "start_time": "2021-06-30T16:56:00.692429Z"
    },
    "code_folding": []
   },
   "outputs": [],
   "source": [
    "def del_L_del_theta_i(model, x, y_true, retain_graph=False):\n",
    "    loss = loss_func(model, x, y_true)\n",
    "    w = [ p for p in model.parameters() if p.requires_grad ]\n",
    "    return grad(loss, w, create_graph=True, retain_graph=retain_graph)"
   ]
  },
  {
   "cell_type": "markdown",
   "metadata": {},
   "source": [
    "**First-order derivative of $P(y \\mid \\textbf{x})$ with respect to model parameters**"
   ]
  },
  {
   "cell_type": "code",
   "execution_count": 9,
   "metadata": {
    "ExecuteTime": {
     "end_time": "2021-06-30T16:56:00.873037Z",
     "start_time": "2021-06-30T16:56:00.868140Z"
    },
    "code_folding": [
     0
    ]
   },
   "outputs": [],
   "source": [
    "def del_f_del_theta_i(model, x, retain_graph=False):\n",
    "    w = [ p for p in model.parameters() if p.requires_grad ]\n",
    "    return grad(model(torch.FloatTensor(x)), w, retain_graph=retain_graph)"
   ]
  },
  {
   "cell_type": "markdown",
   "metadata": {},
   "source": [
    "**Stochastic estimation of Hessian vector product (involving del fairness): $H_{\\theta}^{-1}v = H_{\\theta}^{-1}\\nabla_{\\theta}f(z, \\theta) = v + [I - \\nabla_{\\theta}^2L(z_{s_j}, \\theta^*)]H_{\\theta}^{-1}v$**"
   ]
  },
  {
   "cell_type": "code",
   "execution_count": 10,
   "metadata": {
    "ExecuteTime": {
     "end_time": "2021-06-30T16:56:01.057973Z",
     "start_time": "2021-06-30T16:56:01.039064Z"
    },
    "code_folding": [
     0
    ]
   },
   "outputs": [],
   "source": [
    "def hvp(y, w, v):\n",
    "    ''' Multiply the Hessians of y and w by v.'''\n",
    "    # First backprop\n",
    "    first_grads = grad(y, w, retain_graph=True, create_graph=True)\n",
    "\n",
    "    # Elementwise products\n",
    "    elemwise_products = 0\n",
    "    for grad_elem, v_elem in zip(convert_grad_to_tensor(first_grads), v):\n",
    "        elemwise_products += torch.sum(grad_elem * v_elem)\n",
    "\n",
    "    # Second backprop\n",
    "    return_grads = grad(elemwise_products, w, create_graph=True)\n",
    "\n",
    "    return return_grads"
   ]
  },
  {
   "cell_type": "code",
   "execution_count": 11,
   "metadata": {
    "ExecuteTime": {
     "end_time": "2021-06-30T16:56:01.149042Z",
     "start_time": "2021-06-30T16:56:01.130194Z"
    },
    "code_folding": [
     0
    ]
   },
   "outputs": [],
   "source": [
    "def hessian_one_point(model, x, y):\n",
    "    x, y = torch.FloatTensor(x), torch.FloatTensor([y])\n",
    "    loss = loss_func(model, x, y)\n",
    "    params = [ p for p in model.parameters() if p.requires_grad ]\n",
    "    first_grads = convert_grad_to_tensor(grad(loss, params, retain_graph=True, create_graph=True))\n",
    "    hv = np.zeros((len(first_grads), len(first_grads)))\n",
    "    for i in range(len(first_grads)):\n",
    "        hv[i, :] = convert_grad_to_ndarray(grad(first_grads[i], params, create_graph=True)).ravel()\n",
    "    return hv"
   ]
  },
  {
   "cell_type": "code",
   "execution_count": 12,
   "metadata": {
    "ExecuteTime": {
     "end_time": "2021-06-30T16:56:01.231573Z",
     "start_time": "2021-06-30T16:56:01.210576Z"
    },
    "code_folding": [
     1
    ]
   },
   "outputs": [],
   "source": [
    "# Compute multiplication of inverse hessian matrix and vector v\n",
    "def s_test(model, xs, ys, v, hinv=None, damp=0.01, scale=25.0, r=-1, batch_size=-1, recursive=False, verbose=False):\n",
    "    ''' Arguments:\n",
    "        xs: list of data points\n",
    "        ys: list of true labels corresponding to data points in xs\n",
    "        damp: dampening factor\n",
    "        scale: scaling factor\n",
    "        r: number of iterations aka recursion depth\n",
    "            should be enough so that the value stabilises.\n",
    "        batch_size: number of instances in each batch in recursive approximation\n",
    "        recursive: determine whether to recursively approximate hinv_v'''\n",
    "    xs, ys = torch.FloatTensor(xs.copy()), torch.FloatTensor(ys.copy())\n",
    "    n = len(xs)\n",
    "    if recursive:\n",
    "        hinv_v = copy.deepcopy(v)\n",
    "        if verbose:\n",
    "            print('Computing s_test...')\n",
    "            tbar = tqdm.tqdm(total=r)\n",
    "        if (batch_size == -1):  # default\n",
    "            batch_size = 10\n",
    "        if (r == -1):\n",
    "            r = n // batch_size + 1\n",
    "        sample = np.random.choice(range(n), r*batch_size, replace=True)\n",
    "        for i in range(r):\n",
    "            sample_idx = sample[i*batch_size:(i+1)*batch_size]\n",
    "            x, y = xs[sample_idx], ys[sample_idx]\n",
    "            loss = loss_func(model, x, y)\n",
    "            params = [ p for p in model.parameters() if p.requires_grad ]\n",
    "            hv = convert_grad_to_ndarray(hvp(loss, params, torch.FloatTensor(hinv_v)))\n",
    "            # Recursively caclulate h_estimate\n",
    "            hinv_v = v + (1 - damp) * hinv_v - hv / scale\n",
    "            if verbose:\n",
    "                tbar.update(1)\n",
    "    else:\n",
    "        if hinv is None:\n",
    "            hinv = np.linalg.pinv(np.sum(hessian_all_points, axis=0))\n",
    "        scale = 1.0\n",
    "        hinv_v = np.matmul(hinv, v)\n",
    "\n",
    "    return hinv_v / scale"
   ]
  },
  {
   "cell_type": "markdown",
   "metadata": {},
   "source": [
    "**Metrics: Initial state**"
   ]
  },
  {
   "cell_type": "code",
   "execution_count": 13,
   "metadata": {
    "ExecuteTime": {
     "end_time": "2021-06-30T16:56:02.803028Z",
     "start_time": "2021-06-30T16:56:01.590478Z"
    }
   },
   "outputs": [
    {
     "name": "stdout",
     "output_type": "stream",
     "text": [
      "Initial statistical parity:  -0.02201359793543811\n",
      "Initial TPR parity:  -0.01904569267201317\n",
      "Initial predictive parity:  -0.11678892423241716\n",
      "Initial loss:  0.602643747968537\n",
      "Initial accuracy:  0.73\n"
     ]
    }
   ],
   "source": [
    "# clf = LogisticRegression(input_size=X_train.shape[-1])\n",
    "# clf = NeuralNetwork(input_size=X_train.shape[-1])\n",
    "clf = SVM(input_size=X_train.shape[-1])\n",
    "\n",
    "clf.fit(X_train, y_train)\n",
    "\n",
    "y_pred_test = clf.predict_proba(X_test)\n",
    "y_pred_train = clf.predict_proba(X_train)\n",
    "\n",
    "spd_0 = computeFairness(y_pred_test, X_test_orig, y_test, 0, dataset)\n",
    "print(\"Initial statistical parity: \", spd_0)\n",
    "\n",
    "tpr_parity_0 = computeFairness(y_pred_test, X_test_orig, y_test, 1, dataset)\n",
    "print(\"Initial TPR parity: \", tpr_parity_0)\n",
    "\n",
    "predictive_parity_0 = computeFairness(y_pred_test, X_test_orig, y_test, 2, dataset)\n",
    "print(\"Initial predictive parity: \", predictive_parity_0)\n",
    "\n",
    "loss_0 = logistic_loss(y_test, y_pred_test)\n",
    "print(\"Initial loss: \", loss_0)\n",
    "\n",
    "accuracy_0 = computeAccuracy(y_test, y_pred_test)\n",
    "print(\"Initial accuracy: \", accuracy_0)"
   ]
  },
  {
   "cell_type": "code",
   "execution_count": 14,
   "metadata": {
    "ExecuteTime": {
     "end_time": "2021-06-30T16:56:20.502360Z",
     "start_time": "2021-06-30T16:56:03.620413Z"
    },
    "code_folding": [],
    "scrolled": true
   },
   "outputs": [
    {
     "name": "stderr",
     "output_type": "stream",
     "text": [
      "100%|█████████▉| 798/800 [00:16<00:00, 48.69it/s]"
     ]
    }
   ],
   "source": [
    "hessian_all_points = []\n",
    "tbar = tqdm.tqdm(total=len(X_train))\n",
    "total_time = 0\n",
    "for i in range(len(X_train)):\n",
    "    t0 = time.time()\n",
    "    hessian_all_points.append(hessian_one_point(clf, X_train[i], int(y_train[i]))/len(X_train))\n",
    "    total_time += time.time()-t0\n",
    "    tbar.update(1)"
   ]
  },
  {
   "cell_type": "code",
   "execution_count": 15,
   "metadata": {
    "ExecuteTime": {
     "end_time": "2021-06-30T16:56:20.904086Z",
     "start_time": "2021-06-30T16:56:20.896443Z"
    }
   },
   "outputs": [
    {
     "data": {
      "text/plain": [
       "16.714184761047363"
      ]
     },
     "execution_count": 15,
     "metadata": {},
     "output_type": "execute_result"
    }
   ],
   "source": [
    "total_time"
   ]
  },
  {
   "cell_type": "markdown",
   "metadata": {},
   "source": [
    "**Pre-compute: (1) Hessian (2) del_L_del_theta for each training data point**"
   ]
  },
  {
   "cell_type": "code",
   "execution_count": 16,
   "metadata": {
    "ExecuteTime": {
     "end_time": "2021-06-30T16:56:22.294045Z",
     "start_time": "2021-06-30T16:56:21.608129Z"
    }
   },
   "outputs": [],
   "source": [
    "del_L_del_theta = []\n",
    "for i in range(int(len(X_train))):\n",
    "    gradient = convert_grad_to_ndarray(del_L_del_theta_i(clf, X_train[i], int(y_train[i])))\n",
    "    while np.sum(np.isnan(gradient))>0:\n",
    "        gradient = convert_grad_to_ndarray(del_L_del_theta_i(clf, X_train[i], int(y_train[i])))\n",
    "    del_L_del_theta.append(gradient)"
   ]
  },
  {
   "cell_type": "markdown",
   "metadata": {},
   "source": [
    "*Select delta fairness function depending on selected metric*"
   ]
  },
  {
   "cell_type": "code",
   "execution_count": 19,
   "metadata": {
    "ExecuteTime": {
     "end_time": "2021-06-30T16:56:27.942139Z",
     "start_time": "2021-06-30T16:56:27.705539Z"
    }
   },
   "outputs": [],
   "source": [
    "metric = 0\n",
    "if metric == 0:\n",
    "    v1 = del_spd_del_theta(clf, X_test_orig, X_test, dataset)\n",
    "elif metric == 1:\n",
    "    v1 = del_tpr_parity_del_theta(clf, X_test_orig, X_test, y_test, dataset)\n",
    "elif metric == 2:\n",
    "    v1 = del_predictive_parity_del_theta(clf, X_test_orig, X_test, y_test, dataset)"
   ]
  },
  {
   "cell_type": "code",
   "execution_count": 20,
   "metadata": {
    "ExecuteTime": {
     "end_time": "2021-06-30T16:56:27.992019Z",
     "start_time": "2021-06-30T16:56:27.981618Z"
    }
   },
   "outputs": [],
   "source": [
    "hinv = np.linalg.pinv(np.sum(hessian_all_points, axis=0))\n",
    "hinv_v = s_test(clf, X_train, y_train, v1, hinv=hinv, verbose=False)"
   ]
  },
  {
   "cell_type": "markdown",
   "metadata": {},
   "source": [
    "**First-order influence computation**"
   ]
  },
  {
   "cell_type": "code",
   "execution_count": 21,
   "metadata": {
    "ExecuteTime": {
     "end_time": "2021-06-30T16:56:28.827231Z",
     "start_time": "2021-06-30T16:56:28.821842Z"
    },
    "code_folding": [
     0
    ]
   },
   "outputs": [],
   "source": [
    "def first_order_influence(del_L_del_theta, hinv_v, n):\n",
    "    infs = []\n",
    "    for i in range(n):\n",
    "        inf = -np.dot(del_L_del_theta[i].transpose(), hinv_v)\n",
    "        inf *= -1/n\n",
    "        infs.append(inf)\n",
    "    return infs"
   ]
  },
  {
   "cell_type": "code",
   "execution_count": 22,
   "metadata": {
    "ExecuteTime": {
     "end_time": "2021-06-30T16:56:29.171255Z",
     "start_time": "2021-06-30T16:56:29.165068Z"
    },
    "code_folding": [
     0
    ]
   },
   "outputs": [],
   "source": [
    "def first_order_group_influence(U, del_L_del_theta):\n",
    "    u = len(U)\n",
    "    n = len(X_train)\n",
    "    del_L_del_theta_sum = 0\n",
    "    \n",
    "    for i in range(u):\n",
    "        idx = U[i]\n",
    "        del_L_del_theta_sum += del_L_del_theta[idx]*(1/n)\n",
    "    return np.matmul(del_L_del_theta_sum.transpose(), hinv)"
   ]
  },
  {
   "cell_type": "markdown",
   "metadata": {},
   "source": [
    "**Second-order influence computation for a group of points in subset U**"
   ]
  },
  {
   "cell_type": "code",
   "execution_count": 23,
   "metadata": {
    "ExecuteTime": {
     "end_time": "2021-06-30T16:56:29.736593Z",
     "start_time": "2021-06-30T16:56:29.723165Z"
    },
    "code_folding": [
     0
    ]
   },
   "outputs": [],
   "source": [
    "def second_order_influence(model, X_train, y_train, U, del_L_del_theta, r=-1, verbose=False):\n",
    "    u = len(U)\n",
    "    s = len(X_train)\n",
    "    p = u/s\n",
    "    c1 = (1 - 2*p)/(s * (1-p)**2)\n",
    "    c2 = 1/((s * (1-p))**2)\n",
    "    num_params = len(del_L_del_theta[0])\n",
    "    del_L_del_theta_sum = np.sum([del_L_del_theta[i] for i in U], axis=0)\n",
    "    hinv_del_L_del_theta= s_test(model, X_train, y_train, del_L_del_theta_sum, hinv=hinv)\n",
    "    hessian_U_hinv_del_L_del_theta = np.zeros((num_params,))\n",
    "    for i in range(u):\n",
    "        idx = U[i]\n",
    "        x, y = torch.FloatTensor(X_train[idx]), torch.FloatTensor([y_train[idx]])\n",
    "        loss = loss_func(model, x, y)\n",
    "        params = [ p for p in model.parameters() if p.requires_grad ]\n",
    "        hessian_U_hinv_del_L_del_theta += convert_grad_to_ndarray(hvp(loss, params, torch.FloatTensor(hinv_del_L_del_theta)))\n",
    "\n",
    "    term1 = c1 * hinv_del_L_del_theta\n",
    "    term2 = c2 * s_test(model, X_train, y_train, hessian_U_hinv_del_L_del_theta, hinv=hinv)\n",
    "    sum_term = term1 + term2\n",
    "    return sum_term"
   ]
  },
  {
   "cell_type": "code",
   "execution_count": 24,
   "metadata": {
    "ExecuteTime": {
     "end_time": "2021-06-30T16:56:29.959949Z",
     "start_time": "2021-06-30T16:56:29.948991Z"
    },
    "code_folding": [
     0
    ]
   },
   "outputs": [],
   "source": [
    "def second_order_group_influence(U, del_L_del_theta):\n",
    "    u = len(U)\n",
    "    s = len(X_train)\n",
    "    p = u/s\n",
    "    c1 = (1 - 2*p)/(s * (1-p)**2)\n",
    "    c2 = 1/((s * (1-p))**2)\n",
    "    num_params = len(del_L_del_theta[0])\n",
    "    del_L_del_theta_sum = np.sum([del_L_del_theta[i] for i in U], axis=0)\n",
    "    hinv_del_L_del_theta= np.matmul(hinv, del_L_del_theta_sum)\n",
    "    hessian_U_hinv_del_L_del_theta = np.zeros((num_params,))\n",
    "    for i in range(u):\n",
    "        idx = U[i]\n",
    "        hessian_U_hinv_del_L_del_theta += np.matmul(hessian_all_points[idx], hinv_del_L_del_theta)\n",
    "\n",
    "    term1 = c1 * hinv_del_L_del_theta\n",
    "    term2 = c2 * np.matmul(hinv, hessian_U_hinv_del_L_del_theta)\n",
    "    sum_term = (term1 + term2*len(X_train))\n",
    "    return sum_term"
   ]
  },
  {
   "cell_type": "markdown",
   "metadata": {},
   "source": [
    "**First-order influence of each training data point**"
   ]
  },
  {
   "cell_type": "code",
   "execution_count": 25,
   "metadata": {
    "ExecuteTime": {
     "end_time": "2021-06-30T16:56:30.397510Z",
     "start_time": "2021-06-30T16:56:30.381572Z"
    }
   },
   "outputs": [],
   "source": [
    "infs_1 = first_order_influence(del_L_del_theta, hinv_v, len(X_train))"
   ]
  },
  {
   "cell_type": "markdown",
   "metadata": {},
   "source": [
    "**Checking ground truth, first-order and second-order influences for a set**"
   ]
  },
  {
   "cell_type": "code",
   "execution_count": 26,
   "metadata": {
    "ExecuteTime": {
     "end_time": "2021-06-30T16:56:32.864267Z",
     "start_time": "2021-06-30T16:56:31.147341Z"
    },
    "code_folding": [],
    "scrolled": true
   },
   "outputs": [
    {
     "name": "stdout",
     "output_type": "stream",
     "text": [
      "Statistical parity \n",
      "First-order influence:  0.09977319187679215\n",
      "Second-order influence:  0.12493485916478038\n",
      "#Rows removed:  161\n",
      "#Rows left:  639\n",
      "Ground truth influence of subset (on statistical parity):  0.12695988379418843\n",
      "Ground truth influence of subset (on tpr parity):  0.12711427870010017\n",
      "Ground truth influence of subset (on predictive parity):  -0.002701658370918625\n",
      "Ground truth statistical parity after removing subset:  0.10494628585875032\n",
      "Ground truth tpr parity after removing subset:  0.108068586028087\n",
      "Ground truth predictive parity after removing subset:  0.108068586028087\n",
      "Loss after removing subset:  0.6193705374528001\n",
      "Accuracy after removing subset:  0.695\n"
     ]
    },
    {
     "name": "stderr",
     "output_type": "stream",
     "text": [
      "\r",
      "100%|██████████| 800/800 [00:30<00:00, 48.69it/s]"
     ]
    }
   ],
   "source": [
    "if metric == 0:\n",
    "    print(\"Statistical parity \")\n",
    "elif metric == 1:\n",
    "    print(\"True positive rate parity \")\n",
    "elif metric == 2:\n",
    "    print(\"Predictive parity\")\n",
    "    \n",
    "active = 1\n",
    "if active:\n",
    "    if dataset == 'german':\n",
    "        predicates = ['age']\n",
    "    elif dataset == 'adult':\n",
    "        predicates = ['gender']\n",
    "    elif dataset == 'compas':\n",
    "        predicates = ['race']\n",
    "    idx = X_train_orig.index \n",
    "    for pred in predicates:\n",
    "        idx0 = X_train_orig[(X_train_orig[pred] == 1)].index \n",
    "        idx = idx.intersection(idx0)\n",
    "\n",
    "    del_f_1 = 0\n",
    "    for i in range(len(idx)):\n",
    "        del_f_1 += infs_1[idx[i]]\n",
    "    print(\"First-order influence: \", del_f_1)\n",
    "\n",
    "    params_f_2 = second_order_influence(clf, X_train, y_train, idx, del_L_del_theta)\n",
    "    del_f_2 = np.dot(v1.transpose(), params_f_2)\n",
    "    print(\"Second-order influence: \", del_f_2)\n",
    "    \n",
    "    print(\"#Rows removed: \", len(idx))\n",
    "    print(\"#Rows left: \", len(X_train) - len(idx))\n",
    "    X = np.delete(X_train, idx, 0)\n",
    "    y = y_train.drop(index=idx, inplace=False)\n",
    "    clf.fit(np.array(X), np.array(y))\n",
    "    y_pred_test = clf.predict_proba(X_test)\n",
    "    print(\"Ground truth influence of subset (on statistical parity): \", computeFairness(y_pred_test, X_test_orig, y_test, 0, dataset) - spd_0)\n",
    "    print(\"Ground truth influence of subset (on tpr parity): \", computeFairness(y_pred_test, X_test_orig, y_test, 1, dataset) - tpr_parity_0)\n",
    "    print(\"Ground truth influence of subset (on predictive parity): \", computeFairness(y_pred_test, X_test_orig, y_test, 2, dataset) - predictive_parity_0)\n",
    "    \n",
    "    spd_1 = computeFairness(y_pred_test, X_test_orig, y_test, 0, dataset)\n",
    "    print(\"Ground truth statistical parity after removing subset: \", spd_1)\n",
    "    \n",
    "    tpr_parity_1 = computeFairness(y_pred_test, X_test_orig, y_test, 1, dataset)\n",
    "    print(\"Ground truth tpr parity after removing subset: \", tpr_parity_1)\n",
    "\n",
    "    predictive_parity_1 = computeFairness(y_pred_test, X_test_orig, y_test, 1, dataset)\n",
    "    print(\"Ground truth predictive parity after removing subset: \", predictive_parity_1)\n",
    "\n",
    "    loss_1 = logistic_loss(y_test, y_pred_test)\n",
    "    print(\"Loss after removing subset: \", loss_1)\n",
    "\n",
    "    accuracy_1 = computeAccuracy(y_test, y_pred_test)\n",
    "    print(\"Accuracy after removing subset: \", accuracy_1)"
   ]
  },
  {
   "cell_type": "markdown",
   "metadata": {},
   "source": [
    "**Fairness: Ground-truth subset influence vs. computed subset influences: Random subset**"
   ]
  },
  {
   "cell_type": "code",
   "execution_count": 27,
   "metadata": {
    "ExecuteTime": {
     "end_time": "2021-06-30T16:56:33.987313Z",
     "start_time": "2021-06-30T16:56:33.982778Z"
    }
   },
   "outputs": [],
   "source": [
    "# print(\"Ground-truth subset, Add 1st-order inf individual, Second-order subset influence\")\n",
    "# sampleSize = int(.2 * len(X_train))\n",
    "# for i in range(100):\n",
    "#     idx = random.sample(range(1, len(X_train)), sampleSize) \n",
    "    \n",
    "#     # Ground truth subset influence\n",
    "#     X = np.delete(X_train, idx, 0)\n",
    "#     y = y_train.drop(index=idx, inplace=False)\n",
    "#     clf.fit(X, y, learning_rate=.05)\n",
    "#     y_pred_test = clf.predict_proba(X_test)\n",
    "#     inf_gt = computeFairness(y_pred_test, X_test_orig, y_test, 0) - spd_0\n",
    "\n",
    "#     # First-order subset influence\n",
    "#     del_f_1 = 0\n",
    "#     for j in range(len(idx)):\n",
    "#         del_f_1 += infs_1[idx[j]]\n",
    "    \n",
    "#     # Second-order subset influence\n",
    "#     size_hvp = 1\n",
    "#     params_f_2 = second_order_influence(clf, X_train, y_train, idx, del_L_del_theta, r=5000)\n",
    "#     del_f_2 = np.dot(v1.transpose(), params_f_2)\n",
    "\n",
    "#     print(inf_gt, del_f_1, del_f_2, sep=\", \")"
   ]
  },
  {
   "cell_type": "markdown",
   "metadata": {},
   "source": [
    "**Fairness: Ground-truth subset influence vs. computed subset influences: Coherent subset** \n",
    "\n",
    "(by coherent, we mean group of data points that share some properties)"
   ]
  },
  {
   "cell_type": "markdown",
   "metadata": {},
   "source": [
    "***NOTE:*** The retraining of the clf would cause the change in model parameters and thus lead to the change of gradients, so in this part, we first acquire all the first- and second-order influence functions together based on the original model. After all the influence functions are calculated, we retrain the model corresponding to different removed coherent subset of data and get the ground truth."
   ]
  },
  {
   "cell_type": "code",
   "execution_count": 28,
   "metadata": {
    "ExecuteTime": {
     "end_time": "2021-06-30T16:56:35.238518Z",
     "start_time": "2021-06-30T16:56:35.234058Z"
    }
   },
   "outputs": [],
   "source": [
    "time_gt = []\n",
    "time_first = []\n",
    "time_second = []\n",
    "rep = 10"
   ]
  },
  {
   "cell_type": "code",
   "execution_count": 29,
   "metadata": {
    "ExecuteTime": {
     "end_time": "2021-06-30T16:56:53.554139Z",
     "start_time": "2021-06-30T16:56:36.882989Z"
    },
    "scrolled": true
   },
   "outputs": [],
   "source": [
    "for _ in range(rep):\n",
    "    # Get the original model\n",
    "#     clf = LogisticRegression(input_size=X_train.shape[-1])\n",
    "#     clf = NeuralNetwork(input_size=X_train.shape[-1])\n",
    "    clf = SVM(input_size=X_train.shape[-1])\n",
    "    clf.fit(X_train, y_train)\n",
    "\n",
    "    attributes = []\n",
    "    attributeValues = []\n",
    "    first_order_influences = []\n",
    "    second_order_influences = []\n",
    "    fractionRows = []\n",
    "\n",
    "    # print(\"Attribute, Value, Ground-truth subset, Add 1st-order inf individual, \\\n",
    "    # Second-order subset influence, %rowsRemoved, Accuracy\")\n",
    "    # clf.fit(X_train, y_train)\n",
    "    # continuous_cols = ['duration', 'credit_amt', 'install_rate', 'num_credits', 'residence']\n",
    "    v1_orig = v1\n",
    "    for col in X_train_orig.columns:\n",
    "        if dataset == 'german':\n",
    "            if \"purpose\" in col or \"housing\" in col: #dummy variables purpose=0 doesn't make sense\n",
    "                vals = [1]\n",
    "            else:\n",
    "                vals = X_train_orig[col].unique()\n",
    "        elif dataset == 'adult':\n",
    "            continuous_cols = ['age', 'education.num', 'hours',]\n",
    "            if col in continuous_cols:\n",
    "                vals = X_train_orig[col].unique()\n",
    "            else:\n",
    "                vals = [1]\n",
    "        elif dataset == 'compas':\n",
    "            vals = X_train_orig[col].unique()\n",
    "        else:\n",
    "            raise NotImplementedError\n",
    "        for val in vals:\n",
    "    #         print(col, val, sep=\": \")\n",
    "            idx = X_train_orig[X_train_orig[col] == val].index \n",
    "            X = np.delete(X_train, idx, 0)\n",
    "            y = y_train.drop(index=idx, inplace=False)\n",
    "            if len(y.unique()) > 1:\n",
    "                idx = X_train_orig[X_train_orig[col] == val].index \n",
    "\n",
    "                # First-order subset influence\n",
    "                t0 = time.time()\n",
    "    #             del_f_1 = 0            \n",
    "    #             for i in range(len(idx)):\n",
    "    #                 del_f_1 += infs_1[idx[i]]\n",
    "                params_f_1 = first_order_group_influence(idx, del_L_del_theta)\n",
    "                del_f_1 = np.dot(v1.transpose(), params_f_1)\n",
    "                time_first.append(time.time()-t0)\n",
    "\n",
    "                # Second-order subset influence\n",
    "                t0 = time.time()\n",
    "    #             params_f_2 = second_order_influence(clf, X_train, y_train, idx, del_L_del_theta)\n",
    "                params_f_2 = second_order_group_influence(idx, del_L_del_theta)\n",
    "                del_f_2 = np.dot(v1.transpose(), params_f_2)\n",
    "                time_second.append(time.time()-t0)\n",
    "\n",
    "                attributes.append(col)\n",
    "                attributeValues.append(val)\n",
    "                first_order_influences.append(del_f_1)\n",
    "                second_order_influences.append(del_f_2)\n",
    "        #         gt_influences.append(inf_gt)\n",
    "                fractionRows.append(len(idx)/len(X_train)*100)\n",
    "\n",
    "        #         print(col, val, inf_gt, del_f_1, del_f_2, len(idx)/len(X_train), accuracy, sep=\", \")"
   ]
  },
  {
   "cell_type": "code",
   "execution_count": 30,
   "metadata": {
    "ExecuteTime": {
     "end_time": "2021-06-30T17:11:15.059613Z",
     "start_time": "2021-06-30T16:56:53.558299Z"
    }
   },
   "outputs": [],
   "source": [
    "for _ in range(rep):\n",
    "    gt_influences = []\n",
    "#     v1s = []\n",
    "    for col in X_train_orig.columns:\n",
    "        if dataset == 'german':\n",
    "            if \"purpose\" in col or \"housing\" in col: #dummy variables purpose=0 doesn't make sense\n",
    "                vals = [1]\n",
    "            else:\n",
    "                vals = X_train_orig[col].unique()\n",
    "        elif dataset == 'adult':\n",
    "            continuous_cols = ['age', 'education.num', 'hours',]\n",
    "            if col in continuous_cols:\n",
    "                vals = X_train_orig[col].unique()\n",
    "            else:\n",
    "                vals = [1]\n",
    "        elif dataset == 'compas':\n",
    "            vals = X_train_orig[col].unique()\n",
    "        else:\n",
    "            raise NotImplementedError\n",
    "        for val in vals:\n",
    "            idx = X_train_orig[X_train_orig[col] == val].index \n",
    "            X = np.delete(X_train, idx, 0)\n",
    "            y = y_train.drop(index=idx, inplace=False)\n",
    "            inf_gt = 0\n",
    "            if len(y.unique()) > 1:\n",
    "                # Ground truth subset influence\n",
    "                t0 = time.time()\n",
    "                clf.fit(np.array(X), np.array(y))\n",
    "                y_pred = clf.predict_proba(np.array(X_test))\n",
    "                if metric == 0:\n",
    "                    inf_gt = computeFairness(y_pred, X_test_orig, y_test, 0, dataset) - spd_0\n",
    "                elif metric == 1:\n",
    "                    inf_gt = computeFairness(y_pred, X_test_orig, y_test, 1, dataset) - tpr_parity_0\n",
    "                elif metric == 2:\n",
    "                    inf_gt = computeFairness(y_pred, X_test_orig, y_test, 2, dataset) - predictive_parity_0\n",
    "                time_gt.append(time.time()-t0)\n",
    "                accuracy = computeAccuracy(y_test, y_pred)\n",
    "                gt_influences.append(inf_gt)\n",
    "#                 v1s.append(del_spd_del_theta(clf, X_test_orig, X_test, dataset))  # here, v1 corresponds to the metric spd"
   ]
  },
  {
   "cell_type": "code",
   "execution_count": 31,
   "metadata": {
    "ExecuteTime": {
     "end_time": "2021-06-30T17:11:15.073312Z",
     "start_time": "2021-06-30T17:11:15.062039Z"
    },
    "code_folding": [
     0
    ]
   },
   "outputs": [],
   "source": [
    "def compute_cosine_theta(vec1: np.ndarray, vec2: np.ndarray):\n",
    "    \"\"\"\n",
    "        Compute cosine of the angle between two vectors \n",
    "    \"\"\"\n",
    "    vec1 = vec1.squeeze()\n",
    "    vec2 = vec2.squeeze()\n",
    "    assert vec1.shape == vec2.shape\n",
    "    vec1 /= np.sqrt(np.sum(vec1**2))\n",
    "    vec2 /= np.sqrt(np.sum(vec2**2))\n",
    "    return np.dot(vec1.T, vec2)"
   ]
  },
  {
   "cell_type": "code",
   "execution_count": 32,
   "metadata": {
    "ExecuteTime": {
     "end_time": "2021-06-30T17:11:15.096032Z",
     "start_time": "2021-06-30T17:11:15.080956Z"
    },
    "code_folding": [
     0
    ]
   },
   "outputs": [],
   "source": [
    "def compute_theta(vec1: np.ndarray, vec2: np.ndarray, measure='radian'):\n",
    "    \"\"\"\n",
    "        Compute the angle between two vectors (angle/radian measure)\n",
    "    \"\"\"\n",
    "    cos = compute_cosine_theta(vec1, vec2)\n",
    "    theta = np.arccos(cos)\n",
    "    if measure == 'angle':\n",
    "        theta = theta / np.pi * 180\n",
    "    return theta"
   ]
  },
  {
   "cell_type": "code",
   "execution_count": 33,
   "metadata": {
    "ExecuteTime": {
     "end_time": "2021-06-30T17:11:15.118044Z",
     "start_time": "2021-06-30T17:11:15.104168Z"
    }
   },
   "outputs": [],
   "source": [
    "# cos_thetas = []\n",
    "# thetas = []\n",
    "# grad_change_scales = []\n",
    "# for vec in v1s:\n",
    "#     cos_thetas.append(compute_cosine_theta(v1_orig, vec))\n",
    "#     thetas.append(compute_theta(v1_orig, vec, measure='angle'))\n",
    "#     grad_change_scales.append(np.sqrt(np.sum((vec-v1_orig)**2)))"
   ]
  },
  {
   "cell_type": "code",
   "execution_count": 34,
   "metadata": {
    "ExecuteTime": {
     "end_time": "2021-06-30T17:11:15.152474Z",
     "start_time": "2021-06-30T17:11:15.127086Z"
    }
   },
   "outputs": [],
   "source": [
    "# expl = [attributes, attributeValues, first_order_influences, second_order_influences, gt_influences, fractionRows, thetas, grad_change_scales]\n",
    "# expl = (np.array(expl).T).tolist()\n",
    "\n",
    "# explanations = pd.DataFrame(expl, columns=[\"attributes\", \"attributeValues\", \"first_order_influences\", \"second_order_influences\", \"gt_influences\", \"fractionRows\", \"gradient_angles\", \"grad_change_scales\"])\n",
    "\n",
    "expl = [attributes, attributeValues, first_order_influences, second_order_influences, gt_influences, fractionRows]\n",
    "expl = (np.array(expl).T).tolist()\n",
    "\n",
    "explanations = pd.DataFrame(expl, columns=[\"attributes\", \"attributeValues\", \"first_order_influences\", \"second_order_influences\", \"gt_influences\", \"fractionRows\"])\n",
    "explanations['second_order_influences'] = explanations['second_order_influences'].astype(float)\n",
    "explanations['first_order_influences'] = explanations['first_order_influences'].astype(float)\n",
    "explanations['gt_influences'] = explanations['gt_influences'].astype(float)\n",
    "explanations['fractionRows'] = explanations['fractionRows'].astype(float)"
   ]
  },
  {
   "cell_type": "code",
   "execution_count": 35,
   "metadata": {
    "ExecuteTime": {
     "end_time": "2021-06-30T17:11:15.211191Z",
     "start_time": "2021-06-30T17:11:15.158351Z"
    }
   },
   "outputs": [
    {
     "data": {
      "text/html": [
       "<div>\n",
       "<style scoped>\n",
       "    .dataframe tbody tr th:only-of-type {\n",
       "        vertical-align: middle;\n",
       "    }\n",
       "\n",
       "    .dataframe tbody tr th {\n",
       "        vertical-align: top;\n",
       "    }\n",
       "\n",
       "    .dataframe thead th {\n",
       "        text-align: right;\n",
       "    }\n",
       "</style>\n",
       "<table border=\"1\" class=\"dataframe\">\n",
       "  <thead>\n",
       "    <tr style=\"text-align: right;\">\n",
       "      <th></th>\n",
       "      <th>attributes</th>\n",
       "      <th>attributeValues</th>\n",
       "      <th>first_order_influences</th>\n",
       "      <th>second_order_influences</th>\n",
       "      <th>gt_influences</th>\n",
       "      <th>fractionRows</th>\n",
       "    </tr>\n",
       "  </thead>\n",
       "  <tbody>\n",
       "    <tr>\n",
       "      <th>42</th>\n",
       "      <td>age</td>\n",
       "      <td>1</td>\n",
       "      <td>0.099773</td>\n",
       "      <td>0.124935</td>\n",
       "      <td>0.045048</td>\n",
       "      <td>20.125</td>\n",
       "    </tr>\n",
       "    <tr>\n",
       "      <th>33</th>\n",
       "      <td>residence</td>\n",
       "      <td>4</td>\n",
       "      <td>0.051439</td>\n",
       "      <td>0.087011</td>\n",
       "      <td>0.084422</td>\n",
       "      <td>40.875</td>\n",
       "    </tr>\n",
       "    <tr>\n",
       "      <th>22</th>\n",
       "      <td>employment</td>\n",
       "      <td>4</td>\n",
       "      <td>0.056851</td>\n",
       "      <td>0.076068</td>\n",
       "      <td>0.076829</td>\n",
       "      <td>25.250</td>\n",
       "    </tr>\n",
       "    <tr>\n",
       "      <th>60</th>\n",
       "      <td>gender</td>\n",
       "      <td>1</td>\n",
       "      <td>0.013349</td>\n",
       "      <td>0.041556</td>\n",
       "      <td>0.038231</td>\n",
       "      <td>67.875</td>\n",
       "    </tr>\n",
       "    <tr>\n",
       "      <th>26</th>\n",
       "      <td>install_rate</td>\n",
       "      <td>4</td>\n",
       "      <td>0.019900</td>\n",
       "      <td>0.038001</td>\n",
       "      <td>0.036402</td>\n",
       "      <td>47.625</td>\n",
       "    </tr>\n",
       "    <tr>\n",
       "      <th>13</th>\n",
       "      <td>credit_amt</td>\n",
       "      <td>0</td>\n",
       "      <td>0.020526</td>\n",
       "      <td>0.036660</td>\n",
       "      <td>0.036770</td>\n",
       "      <td>44.000</td>\n",
       "    </tr>\n",
       "    <tr>\n",
       "      <th>9</th>\n",
       "      <td>credit_hist</td>\n",
       "      <td>0</td>\n",
       "      <td>0.024262</td>\n",
       "      <td>0.034061</td>\n",
       "      <td>0.034680</td>\n",
       "      <td>28.750</td>\n",
       "    </tr>\n",
       "    <tr>\n",
       "      <th>0</th>\n",
       "      <td>status</td>\n",
       "      <td>3</td>\n",
       "      <td>0.018796</td>\n",
       "      <td>0.030884</td>\n",
       "      <td>0.030989</td>\n",
       "      <td>39.125</td>\n",
       "    </tr>\n",
       "    <tr>\n",
       "      <th>5</th>\n",
       "      <td>duration</td>\n",
       "      <td>0</td>\n",
       "      <td>0.015518</td>\n",
       "      <td>0.023922</td>\n",
       "      <td>0.025101</td>\n",
       "      <td>35.125</td>\n",
       "    </tr>\n",
       "    <tr>\n",
       "      <th>73</th>\n",
       "      <td>housing_A153</td>\n",
       "      <td>1</td>\n",
       "      <td>0.021168</td>\n",
       "      <td>0.023791</td>\n",
       "      <td>0.022785</td>\n",
       "      <td>11.000</td>\n",
       "    </tr>\n",
       "  </tbody>\n",
       "</table>\n",
       "</div>"
      ],
      "text/plain": [
       "      attributes attributeValues  first_order_influences  \\\n",
       "42           age               1                0.099773   \n",
       "33     residence               4                0.051439   \n",
       "22    employment               4                0.056851   \n",
       "60        gender               1                0.013349   \n",
       "26  install_rate               4                0.019900   \n",
       "13    credit_amt               0                0.020526   \n",
       "9    credit_hist               0                0.024262   \n",
       "0         status               3                0.018796   \n",
       "5       duration               0                0.015518   \n",
       "73  housing_A153               1                0.021168   \n",
       "\n",
       "    second_order_influences  gt_influences  fractionRows  \n",
       "42                 0.124935       0.045048        20.125  \n",
       "33                 0.087011       0.084422        40.875  \n",
       "22                 0.076068       0.076829        25.250  \n",
       "60                 0.041556       0.038231        67.875  \n",
       "26                 0.038001       0.036402        47.625  \n",
       "13                 0.036660       0.036770        44.000  \n",
       "9                  0.034061       0.034680        28.750  \n",
       "0                  0.030884       0.030989        39.125  \n",
       "5                  0.023922       0.025101        35.125  \n",
       "73                 0.023791       0.022785        11.000  "
      ]
     },
     "execution_count": 35,
     "metadata": {},
     "output_type": "execute_result"
    }
   ],
   "source": [
    "explanations.sort_values(by=['second_order_influences'], ascending=False).head(10)"
   ]
  },
  {
   "cell_type": "code",
   "execution_count": 36,
   "metadata": {
    "ExecuteTime": {
     "end_time": "2021-06-30T17:11:15.246387Z",
     "start_time": "2021-06-30T17:11:15.219105Z"
    }
   },
   "outputs": [
    {
     "data": {
      "text/html": [
       "<div>\n",
       "<style scoped>\n",
       "    .dataframe tbody tr th:only-of-type {\n",
       "        vertical-align: middle;\n",
       "    }\n",
       "\n",
       "    .dataframe tbody tr th {\n",
       "        vertical-align: top;\n",
       "    }\n",
       "\n",
       "    .dataframe thead th {\n",
       "        text-align: right;\n",
       "    }\n",
       "</style>\n",
       "<table border=\"1\" class=\"dataframe\">\n",
       "  <thead>\n",
       "    <tr style=\"text-align: right;\">\n",
       "      <th></th>\n",
       "      <th>attributes</th>\n",
       "      <th>attributeValues</th>\n",
       "      <th>first_order_influences</th>\n",
       "      <th>second_order_influences</th>\n",
       "      <th>gt_influences</th>\n",
       "      <th>fractionRows</th>\n",
       "    </tr>\n",
       "  </thead>\n",
       "  <tbody>\n",
       "    <tr>\n",
       "      <th>33</th>\n",
       "      <td>residence</td>\n",
       "      <td>4</td>\n",
       "      <td>0.051439</td>\n",
       "      <td>0.087011</td>\n",
       "      <td>0.084422</td>\n",
       "      <td>40.875</td>\n",
       "    </tr>\n",
       "    <tr>\n",
       "      <th>22</th>\n",
       "      <td>employment</td>\n",
       "      <td>4</td>\n",
       "      <td>0.056851</td>\n",
       "      <td>0.076068</td>\n",
       "      <td>0.076829</td>\n",
       "      <td>25.250</td>\n",
       "    </tr>\n",
       "    <tr>\n",
       "      <th>42</th>\n",
       "      <td>age</td>\n",
       "      <td>1</td>\n",
       "      <td>0.099773</td>\n",
       "      <td>0.124935</td>\n",
       "      <td>0.045048</td>\n",
       "      <td>20.125</td>\n",
       "    </tr>\n",
       "    <tr>\n",
       "      <th>60</th>\n",
       "      <td>gender</td>\n",
       "      <td>1</td>\n",
       "      <td>0.013349</td>\n",
       "      <td>0.041556</td>\n",
       "      <td>0.038231</td>\n",
       "      <td>67.875</td>\n",
       "    </tr>\n",
       "    <tr>\n",
       "      <th>57</th>\n",
       "      <td>foreign_worker</td>\n",
       "      <td>1</td>\n",
       "      <td>0.000821</td>\n",
       "      <td>0.021998</td>\n",
       "      <td>0.037107</td>\n",
       "      <td>96.250</td>\n",
       "    </tr>\n",
       "    <tr>\n",
       "      <th>13</th>\n",
       "      <td>credit_amt</td>\n",
       "      <td>0</td>\n",
       "      <td>0.020526</td>\n",
       "      <td>0.036660</td>\n",
       "      <td>0.036770</td>\n",
       "      <td>44.000</td>\n",
       "    </tr>\n",
       "    <tr>\n",
       "      <th>26</th>\n",
       "      <td>install_rate</td>\n",
       "      <td>4</td>\n",
       "      <td>0.019900</td>\n",
       "      <td>0.038001</td>\n",
       "      <td>0.036402</td>\n",
       "      <td>47.625</td>\n",
       "    </tr>\n",
       "    <tr>\n",
       "      <th>9</th>\n",
       "      <td>credit_hist</td>\n",
       "      <td>0</td>\n",
       "      <td>0.024262</td>\n",
       "      <td>0.034061</td>\n",
       "      <td>0.034680</td>\n",
       "      <td>28.750</td>\n",
       "    </tr>\n",
       "    <tr>\n",
       "      <th>0</th>\n",
       "      <td>status</td>\n",
       "      <td>3</td>\n",
       "      <td>0.018796</td>\n",
       "      <td>0.030884</td>\n",
       "      <td>0.030989</td>\n",
       "      <td>39.125</td>\n",
       "    </tr>\n",
       "    <tr>\n",
       "      <th>5</th>\n",
       "      <td>duration</td>\n",
       "      <td>0</td>\n",
       "      <td>0.015518</td>\n",
       "      <td>0.023922</td>\n",
       "      <td>0.025101</td>\n",
       "      <td>35.125</td>\n",
       "    </tr>\n",
       "  </tbody>\n",
       "</table>\n",
       "</div>"
      ],
      "text/plain": [
       "        attributes attributeValues  first_order_influences  \\\n",
       "33       residence               4                0.051439   \n",
       "22      employment               4                0.056851   \n",
       "42             age               1                0.099773   \n",
       "60          gender               1                0.013349   \n",
       "57  foreign_worker               1                0.000821   \n",
       "13      credit_amt               0                0.020526   \n",
       "26    install_rate               4                0.019900   \n",
       "9      credit_hist               0                0.024262   \n",
       "0           status               3                0.018796   \n",
       "5         duration               0                0.015518   \n",
       "\n",
       "    second_order_influences  gt_influences  fractionRows  \n",
       "33                 0.087011       0.084422        40.875  \n",
       "22                 0.076068       0.076829        25.250  \n",
       "42                 0.124935       0.045048        20.125  \n",
       "60                 0.041556       0.038231        67.875  \n",
       "57                 0.021998       0.037107        96.250  \n",
       "13                 0.036660       0.036770        44.000  \n",
       "26                 0.038001       0.036402        47.625  \n",
       "9                  0.034061       0.034680        28.750  \n",
       "0                  0.030884       0.030989        39.125  \n",
       "5                  0.023922       0.025101        35.125  "
      ]
     },
     "execution_count": 36,
     "metadata": {},
     "output_type": "execute_result"
    }
   ],
   "source": [
    "explanations.sort_values(by=['gt_influences'], ascending=False).head(10)"
   ]
  },
  {
   "cell_type": "code",
   "execution_count": 37,
   "metadata": {
    "ExecuteTime": {
     "end_time": "2021-06-30T17:11:15.272403Z",
     "start_time": "2021-06-30T17:11:15.251301Z"
    }
   },
   "outputs": [
    {
     "data": {
      "text/html": [
       "<div>\n",
       "<style scoped>\n",
       "    .dataframe tbody tr th:only-of-type {\n",
       "        vertical-align: middle;\n",
       "    }\n",
       "\n",
       "    .dataframe tbody tr th {\n",
       "        vertical-align: top;\n",
       "    }\n",
       "\n",
       "    .dataframe thead th {\n",
       "        text-align: right;\n",
       "    }\n",
       "</style>\n",
       "<table border=\"1\" class=\"dataframe\">\n",
       "  <thead>\n",
       "    <tr style=\"text-align: right;\">\n",
       "      <th></th>\n",
       "      <th>attributes</th>\n",
       "      <th>attributeValues</th>\n",
       "      <th>first_order_influences</th>\n",
       "      <th>second_order_influences</th>\n",
       "      <th>gt_influences</th>\n",
       "      <th>fractionRows</th>\n",
       "    </tr>\n",
       "  </thead>\n",
       "  <tbody>\n",
       "    <tr>\n",
       "      <th>57</th>\n",
       "      <td>foreign_worker</td>\n",
       "      <td>1</td>\n",
       "      <td>0.000821</td>\n",
       "      <td>0.021998</td>\n",
       "      <td>0.037107</td>\n",
       "      <td>96.250</td>\n",
       "    </tr>\n",
       "    <tr>\n",
       "      <th>30</th>\n",
       "      <td>debtors</td>\n",
       "      <td>0</td>\n",
       "      <td>-0.005860</td>\n",
       "      <td>-0.062358</td>\n",
       "      <td>-0.030526</td>\n",
       "      <td>90.625</td>\n",
       "    </tr>\n",
       "    <tr>\n",
       "      <th>53</th>\n",
       "      <td>num_liable</td>\n",
       "      <td>1</td>\n",
       "      <td>-0.004159</td>\n",
       "      <td>-0.028619</td>\n",
       "      <td>-0.015896</td>\n",
       "      <td>85.500</td>\n",
       "    </tr>\n",
       "    <tr>\n",
       "      <th>43</th>\n",
       "      <td>install_plans</td>\n",
       "      <td>0</td>\n",
       "      <td>-0.009928</td>\n",
       "      <td>-0.050860</td>\n",
       "      <td>-0.036569</td>\n",
       "      <td>80.500</td>\n",
       "    </tr>\n",
       "    <tr>\n",
       "      <th>41</th>\n",
       "      <td>age</td>\n",
       "      <td>0</td>\n",
       "      <td>-0.099175</td>\n",
       "      <td>-0.492434</td>\n",
       "      <td>-0.339267</td>\n",
       "      <td>79.875</td>\n",
       "    </tr>\n",
       "    <tr>\n",
       "      <th>72</th>\n",
       "      <td>housing_A152</td>\n",
       "      <td>1</td>\n",
       "      <td>-0.003695</td>\n",
       "      <td>-0.012290</td>\n",
       "      <td>-0.009566</td>\n",
       "      <td>70.000</td>\n",
       "    </tr>\n",
       "    <tr>\n",
       "      <th>60</th>\n",
       "      <td>gender</td>\n",
       "      <td>1</td>\n",
       "      <td>0.013349</td>\n",
       "      <td>0.041556</td>\n",
       "      <td>0.038231</td>\n",
       "      <td>67.875</td>\n",
       "    </tr>\n",
       "    <tr>\n",
       "      <th>49</th>\n",
       "      <td>job</td>\n",
       "      <td>2</td>\n",
       "      <td>-0.009742</td>\n",
       "      <td>-0.026778</td>\n",
       "      <td>-0.027699</td>\n",
       "      <td>63.625</td>\n",
       "    </tr>\n",
       "    <tr>\n",
       "      <th>45</th>\n",
       "      <td>num_credits</td>\n",
       "      <td>1</td>\n",
       "      <td>-0.013812</td>\n",
       "      <td>-0.037432</td>\n",
       "      <td>-0.025656</td>\n",
       "      <td>63.125</td>\n",
       "    </tr>\n",
       "    <tr>\n",
       "      <th>55</th>\n",
       "      <td>telephone</td>\n",
       "      <td>0</td>\n",
       "      <td>-0.013715</td>\n",
       "      <td>-0.034600</td>\n",
       "      <td>-0.026706</td>\n",
       "      <td>60.375</td>\n",
       "    </tr>\n",
       "  </tbody>\n",
       "</table>\n",
       "</div>"
      ],
      "text/plain": [
       "        attributes attributeValues  first_order_influences  \\\n",
       "57  foreign_worker               1                0.000821   \n",
       "30         debtors               0               -0.005860   \n",
       "53      num_liable               1               -0.004159   \n",
       "43   install_plans               0               -0.009928   \n",
       "41             age               0               -0.099175   \n",
       "72    housing_A152               1               -0.003695   \n",
       "60          gender               1                0.013349   \n",
       "49             job               2               -0.009742   \n",
       "45     num_credits               1               -0.013812   \n",
       "55       telephone               0               -0.013715   \n",
       "\n",
       "    second_order_influences  gt_influences  fractionRows  \n",
       "57                 0.021998       0.037107        96.250  \n",
       "30                -0.062358      -0.030526        90.625  \n",
       "53                -0.028619      -0.015896        85.500  \n",
       "43                -0.050860      -0.036569        80.500  \n",
       "41                -0.492434      -0.339267        79.875  \n",
       "72                -0.012290      -0.009566        70.000  \n",
       "60                 0.041556       0.038231        67.875  \n",
       "49                -0.026778      -0.027699        63.625  \n",
       "45                -0.037432      -0.025656        63.125  \n",
       "55                -0.034600      -0.026706        60.375  "
      ]
     },
     "execution_count": 37,
     "metadata": {},
     "output_type": "execute_result"
    }
   ],
   "source": [
    "explanations.sort_values(by=['fractionRows'], ascending=False).head(10)"
   ]
  },
  {
   "cell_type": "code",
   "execution_count": 38,
   "metadata": {
    "ExecuteTime": {
     "end_time": "2021-06-30T17:11:15.283831Z",
     "start_time": "2021-06-30T17:11:15.276183Z"
    }
   },
   "outputs": [],
   "source": [
    "# import scipy.stats as ss\n",
    "# explanations[\"gt_rank\"] = len(explanations) - ss.rankdata(explanations[\"gt_influences\"])\n",
    "# explanations[\"so_rank\"] = len(explanations) - ss.rankdata(explanations[\"second_order_influences\"])"
   ]
  },
  {
   "cell_type": "code",
   "execution_count": 39,
   "metadata": {
    "ExecuteTime": {
     "end_time": "2021-06-30T17:11:15.292100Z",
     "start_time": "2021-06-30T17:11:15.287608Z"
    }
   },
   "outputs": [],
   "source": [
    "# stats.kendalltau(explanations[\"gt_rank\"], explanations[\"so_rank\"])"
   ]
  },
  {
   "cell_type": "code",
   "execution_count": 40,
   "metadata": {
    "ExecuteTime": {
     "end_time": "2021-06-30T17:11:15.828722Z",
     "start_time": "2021-06-30T17:11:15.299158Z"
    },
    "scrolled": false
   },
   "outputs": [
    {
     "data": {
      "image/png": "[encoded data removed]",
      "text/plain": [
       "<Figure size 360x360 with 1 Axes>"
      ]
     },
     "metadata": {
      "needs_background": "light"
     },
     "output_type": "display_data"
    }
   ],
   "source": [
    "lim = .2\n",
    "plt.figure(figsize=(5,5))\n",
    "xs = (np.arange(31)-15)/15*lim*0.8\n",
    "ys = xs\n",
    "plt.xlim(-lim, lim)\n",
    "plt.ylim(-lim, lim)\n",
    "plt.plot(xs, ys, 'grey')\n",
    "\n",
    "# RGBA\n",
    "color_first = np.zeros((len(gt_influences), 4))\n",
    "color_first[:, 2] = 1.0\n",
    "color_first[:, 3] = 1-np.array(fractionRows)/100\n",
    "color_second = np.zeros((len(gt_influences), 4))\n",
    "color_second[:, 0] = 1.0\n",
    "color_second[:, 3] = 1-np.array(fractionRows)/100\n",
    "\n",
    "# color_first = np.zeros((len(gt_influences), 4))\n",
    "# color_first[:, 0] = 1.0\n",
    "# color_first[:, 3] = 0.2\n",
    "# color_second = np.zeros((len(gt_influences), 4))\n",
    "# color_second[:, 0] = 1.0\n",
    "# color_second[:, 3] = 1.0\n",
    "\n",
    "plt.scatter(gt_influences, first_order_influences, s=12, color=color_first, label='first-order')\n",
    "plt.scatter(gt_influences, second_order_influences, s=12, color=color_second, label='second-order')\n",
    "plt.ylabel('estimated influence\\n', fontsize=12, fontweight='bold')\n",
    "plt.xlabel('\\nground truth influence', fontsize=12, fontweight='bold')\n",
    "plt.legend(fontsize=12, prop={'weight':'bold'})\n",
    "plt.grid()\n",
    "plt.savefig('infs.png')"
   ]
  },
  {
   "cell_type": "code",
   "execution_count": 41,
   "metadata": {
    "ExecuteTime": {
     "end_time": "2021-06-30T17:11:15.850774Z",
     "start_time": "2021-06-30T17:11:15.832408Z"
    }
   },
   "outputs": [],
   "source": [
    "time_gt_ave = []\n",
    "time_second_ave = []\n",
    "time_first_ave = []\n",
    "\n",
    "l = len(time_gt)//rep\n",
    "for i in range(l):\n",
    "    time_gt_ave.append(np.average([time_gt[i+j*l] for j in range(rep)]))\n",
    "    time_second_ave.append(np.average([time_second[i+j*l] for j in range(rep)]))\n",
    "    time_first_ave.append(np.average([time_first[i+j*l] for j in range(rep)]))"
   ]
  },
  {
   "cell_type": "code",
   "execution_count": 42,
   "metadata": {
    "ExecuteTime": {
     "end_time": "2021-06-30T17:11:16.301719Z",
     "start_time": "2021-06-30T17:11:15.854326Z"
    }
   },
   "outputs": [
    {
     "data": {
      "image/png": "[encoded data removed]",
      "text/plain": [
       "<Figure size 360x360 with 1 Axes>"
      ]
     },
     "metadata": {
      "needs_background": "light"
     },
     "output_type": "display_data"
    }
   ],
   "source": [
    "plt.figure(figsize=(5,5))\n",
    "# plt.subplot(131)\n",
    "sorted_idx = explanations.sort_values(by=['fractionRows'], ascending=True).index\n",
    "xs = []\n",
    "ys = []\n",
    "for idx in sorted_idx:\n",
    "    xs.append(fractionRows[idx])\n",
    "    ys.append(time_first_ave[idx])\n",
    "plt.plot(xs, ys, '-', c='blue', label='first-order')\n",
    "\n",
    "# plt.subplot(132)\n",
    "xs = []\n",
    "ys = []\n",
    "for idx in sorted_idx:\n",
    "    xs.append(fractionRows[idx])\n",
    "    ys.append(time_second_ave[idx])\n",
    "plt.plot(xs, ys, '-', c='red', label='second-order')\n",
    "\n",
    "# plt.subplot(133)\n",
    "xs = []\n",
    "ys = []\n",
    "for idx in sorted_idx:\n",
    "    xs.append(fractionRows[idx])\n",
    "    ys.append(time_gt_ave[idx])\n",
    "plt.plot(xs, ys, '-', c='green', label='ground truth')\n",
    "plt.legend(fontsize=12, prop={'weight':'bold'})\n",
    "plt.grid()\n",
    "plt.xlabel('\\nfraction of data removed (%)', fontsize=12, fontweight='bold')\n",
    "plt.ylabel('time cost / sec\\n', fontsize=12, fontweight='bold')\n",
    "# plt.show()\n",
    "plt.savefig('/Users/wearyee/Desktop/time.png')"
   ]
  },
  {
   "cell_type": "code",
   "execution_count": 43,
   "metadata": {
    "ExecuteTime": {
     "end_time": "2021-06-30T17:11:16.325194Z",
     "start_time": "2021-06-30T17:11:16.304830Z"
    }
   },
   "outputs": [],
   "source": [
    "# bucket_num = 10\n",
    "fractionRows = np.array(fractionRows)\n",
    "gt_influences = np.array(gt_influences)\n",
    "first_order_influences = np.array(first_order_influences)\n",
    "second_order_influences = np.array(second_order_influences)\n",
    "corr_first_gt_ls = []\n",
    "corr_second_gt_ls = []\n",
    "for bucket_id in range(10):\n",
    "    is_in_bucket = np.logical_and(fractionRows>=bucket_id*10, fractionRows<(bucket_id+1)*10)\n",
    "    corr_first_gt = np.corrcoef([gt_influences[is_in_bucket], first_order_influences[is_in_bucket]])[0][1]\n",
    "    if np.isnan(corr_first_gt):\n",
    "        corr_first_gt = 0\n",
    "    corr_second_gt = np.corrcoef([gt_influences[is_in_bucket], second_order_influences[is_in_bucket]])[0][1]\n",
    "    if np.isnan(corr_second_gt):\n",
    "        corr_second_gt = 0\n",
    "    corr_first_gt_ls.append(corr_first_gt)\n",
    "    corr_second_gt_ls.append(corr_second_gt)"
   ]
  },
  {
   "cell_type": "code",
   "execution_count": 44,
   "metadata": {
    "ExecuteTime": {
     "end_time": "2021-06-30T17:13:07.619766Z",
     "start_time": "2021-06-30T17:13:07.233614Z"
    },
    "scrolled": false
   },
   "outputs": [
    {
     "data": {
      "image/png": "[encoded data removed]",
      "text/plain": [
       "<Figure size 576x576 with 1 Axes>"
      ]
     },
     "metadata": {
      "needs_background": "light"
     },
     "output_type": "display_data"
    }
   ],
   "source": [
    "plt.figure(figsize=(8,8))\n",
    "bar_width=0.3\n",
    "tick_label=[f'{i*10}%-{(i+1)*10}%' for i in range(10)]\n",
    "plt.bar(np.arange(10), corr_first_gt_ls, bar_width, color='blue', label='first')\n",
    "plt.bar(np.arange(10)+bar_width, corr_second_gt_ls, bar_width, color='orange', label='second')\n",
    "plt.legend(fontsize=12)\n",
    "plt.xticks(np.arange(10)+bar_width/2, tick_label, rotation=20, fontsize=12)\n",
    "plt.xlabel('Row Fraction', fontsize=20)\n",
    "plt.ylabel('Pearson Correlation', fontsize=20)\n",
    "plt.show()"
   ]
  },
  {
   "cell_type": "code",
   "execution_count": 45,
   "metadata": {
    "ExecuteTime": {
     "end_time": "2021-06-30T17:13:08.057524Z",
     "start_time": "2021-06-30T17:13:08.040457Z"
    }
   },
   "outputs": [
    {
     "data": {
      "text/plain": [
       "(0.8326578541420656, 0.9820101484346113)"
      ]
     },
     "execution_count": 45,
     "metadata": {},
     "output_type": "execute_result"
    }
   ],
   "source": [
    "# overall correlation\n",
    "np.corrcoef([gt_influences, first_order_influences])[0][1], np.corrcoef([gt_influences, second_order_influences])[0][1]"
   ]
  },
  {
   "cell_type": "markdown",
   "metadata": {
    "ExecuteTime": {
     "end_time": "2021-05-07T17:47:30.518658Z",
     "start_time": "2021-05-07T17:47:30.511518Z"
    }
   },
   "source": [
    "less than 2 coherent subsets correspond to the bracket 50%-60%, therefore cannot compute corrsponding pearson correlation"
   ]
  },
  {
   "cell_type": "code",
   "execution_count": 46,
   "metadata": {
    "ExecuteTime": {
     "end_time": "2021-06-30T17:13:13.246968Z",
     "start_time": "2021-06-30T17:13:11.659072Z"
    }
   },
   "outputs": [
    {
     "data": {
      "image/png": "[encoded data removed]",
      "text/plain": [
       "<Figure size 1080x432 with 10 Axes>"
      ]
     },
     "metadata": {
      "needs_background": "light"
     },
     "output_type": "display_data"
    }
   ],
   "source": [
    "# lim = 0.01\n",
    "plt.figure(figsize=(15, 6))\n",
    "for bucket_id in range(10):\n",
    "    plt.subplot(2, 5, bucket_id+1)\n",
    "    is_in_bucket = np.logical_and(fractionRows>=bucket_id*10, fractionRows<(bucket_id+1)*10)\n",
    "    xs = (np.arange(30)-15)/15*lim\n",
    "    ys = xs\n",
    "    plt.xlim(-lim, lim)\n",
    "    plt.ylim(-lim, lim)\n",
    "    plt.plot(xs, ys, 'g')\n",
    "    plt.scatter(gt_influences[is_in_bucket], first_order_influences[is_in_bucket], s=10, c='blue', label='first')\n",
    "    plt.scatter(gt_influences[is_in_bucket], second_order_influences[is_in_bucket], s=10, c='orange', label='second')\n",
    "    plt.legend()\n",
    "    plt.grid()\n",
    "    plt.title(f'Fraction: {bucket_id*10}%-{(bucket_id+1)*10}% {np.sum(is_in_bucket)}')\n",
    "plt.tight_layout()\n",
    "plt.show()"
   ]
  },
  {
   "cell_type": "markdown",
   "metadata": {},
   "source": [
    "For buckets which include only small num of coherent subsets (many of them corresponds to high row fraction), the pearson correlation can be less meaningful. However, from the scatter plots above, we can see that the estimation of influence function tends to be more accurate when the row fractions are relatively low, meanwhile, low row fraction leads to low overall influence (change of metrics caused by removing the subset) of coherent subsets."
   ]
  },
  {
   "cell_type": "code",
   "execution_count": null,
   "metadata": {},
   "outputs": [],
   "source": []
  },
  {
   "cell_type": "markdown",
   "metadata": {},
   "source": [
    "## single-step GD"
   ]
  },
  {
   "cell_type": "code",
   "execution_count": 47,
   "metadata": {
    "ExecuteTime": {
     "end_time": "2021-06-30T17:13:15.487163Z",
     "start_time": "2021-06-30T17:13:15.482769Z"
    }
   },
   "outputs": [],
   "source": [
    "lrs = [0.01, 0.05, 0.1, 0.5, 1, 5, 10]\n",
    "lr = lrs[4]\n",
    "# rep = 1"
   ]
  },
  {
   "cell_type": "code",
   "execution_count": 48,
   "metadata": {
    "ExecuteTime": {
     "end_time": "2021-06-30T17:29:11.547560Z",
     "start_time": "2021-06-30T17:13:21.483842Z"
    }
   },
   "outputs": [],
   "source": [
    "time_gd = []\n",
    "for _ in range(rep):\n",
    "    gd_influences = []\n",
    "#     v1s = []\n",
    "    for col in X_train_orig.columns:\n",
    "        if dataset == 'german':\n",
    "            if \"purpose\" in col or \"housing\" in col: #dummy variables purpose=0 doesn't make sense\n",
    "                vals = [1]\n",
    "            else:\n",
    "                vals = X_train_orig[col].unique()\n",
    "        elif dataset == 'adult':\n",
    "            continuous_cols = ['age', 'education.num', 'hours',]\n",
    "            if col in continuous_cols:\n",
    "                vals = X_train_orig[col].unique()\n",
    "            else:\n",
    "                vals = [1]\n",
    "        elif dataset == 'compas':\n",
    "            vals = X_train_orig[col].unique()\n",
    "        else:\n",
    "            raise NotImplementedError\n",
    "        for val in vals:\n",
    "            idx = X_train_orig[X_train_orig[col] == val].index \n",
    "            X = np.delete(X_train, idx, 0)\n",
    "            y = y_train.drop(index=idx, inplace=False)\n",
    "            inf_gt = 0\n",
    "            if len(y.unique()) > 1:\n",
    "                # Ground truth subset influence\n",
    "#                 clf_new = LogisticRegression(input_size=X_train.shape[-1])\n",
    "                clf_new = SVM(input_size=X_train.shape[-1])\n",
    "                clf_new.fit(X_train, y_train)\n",
    "                t0 = time.time()\n",
    "                optimizer = torch.optim.SGD(clf_new.parameters(), lr=lr)\n",
    "                clf_new.train()\n",
    "                loss = loss_func(clf_new, np.array(X), np.array(y))\n",
    "                optimizer.zero_grad()\n",
    "                loss.backward()\n",
    "                optimizer.step()\n",
    "                y_pred = clf_new.predict_proba(np.array(X_test))\n",
    "                if metric == 0:\n",
    "                    inf_gd = computeFairness(y_pred, X_test_orig, y_test, 0, dataset) - spd_0\n",
    "                elif metric == 1:\n",
    "                    inf_gd = computeFairness(y_pred, X_test_orig, y_test, 1, dataset) - tpr_parity_0\n",
    "                elif metric == 2:\n",
    "                    inf_gd = computeFairness(y_pred, X_test_orig, y_test, 2, dataset) - predictive_parity_0\n",
    "                time_gd.append(time.time()-t0)\n",
    "                accuracy = computeAccuracy(y_test, y_pred)\n",
    "                gd_influences.append(inf_gd)\n"
   ]
  },
  {
   "cell_type": "code",
   "execution_count": 49,
   "metadata": {
    "ExecuteTime": {
     "end_time": "2021-06-30T17:29:11.994586Z",
     "start_time": "2021-06-30T17:29:11.551587Z"
    }
   },
   "outputs": [
    {
     "data": {
      "image/png": "[encoded data removed]",
      "text/plain": [
       "<Figure size 360x360 with 1 Axes>"
      ]
     },
     "metadata": {
      "needs_background": "light"
     },
     "output_type": "display_data"
    }
   ],
   "source": [
    "lim = .5\n",
    "plt.figure(figsize=(5,5))\n",
    "xs = (np.arange(31)-15)/15*lim*0.8\n",
    "ys = xs\n",
    "plt.xlim(-lim, lim)\n",
    "plt.ylim(-lim, lim)\n",
    "plt.plot(xs, ys, 'grey')\n",
    "\n",
    "# RGBA\n",
    "color_first = np.zeros((len(gt_influences), 4))\n",
    "color_first[:, 2] = 1.0\n",
    "color_first[:, 3] = 1-np.array(fractionRows)/100\n",
    "color_second = np.zeros((len(gt_influences), 4))\n",
    "color_second[:, 0] = 1.0\n",
    "color_second[:, 3] = 1-np.array(fractionRows)/100\n",
    "\n",
    "color_gd = np.zeros((len(gt_influences), 4))\n",
    "color_gd[:, 1] = 1.0\n",
    "color_gd[:, 3] = 1-np.array(fractionRows)/100\n",
    "\n",
    "plt.scatter(gt_influences, first_order_influences, s=12, color=color_first, label='first-order')\n",
    "plt.scatter(gt_influences, second_order_influences, s=12, color=color_second, label='second-order')\n",
    "plt.scatter(gt_influences, gd_influences, s=12, color=color_gd, label='gd')\n",
    "plt.ylabel('estimated influence\\n', fontsize=12, fontweight='bold')\n",
    "plt.xlabel('\\nground truth influence', fontsize=12, fontweight='bold')\n",
    "plt.legend(fontsize=12, prop={'weight':'bold'})\n",
    "plt.grid()\n",
    "# plt.savefig('infs.png')"
   ]
  },
  {
   "cell_type": "code",
   "execution_count": 50,
   "metadata": {
    "ExecuteTime": {
     "end_time": "2021-06-30T17:29:12.353950Z",
     "start_time": "2021-06-30T17:29:11.999439Z"
    },
    "scrolled": true
   },
   "outputs": [
    {
     "data": {
      "text/plain": [
       "Text(0.5,1,'Ave. absolute deviation (compas)')"
      ]
     },
     "execution_count": 50,
     "metadata": {},
     "output_type": "execute_result"
    },
    {
     "data": {
      "image/png": "[encoded data removed]",
      "text/plain": [
       "<Figure size 432x288 with 1 Axes>"
      ]
     },
     "metadata": {
      "needs_background": "light"
     },
     "output_type": "display_data"
    }
   ],
   "source": [
    "# inf_lim = 0.2\n",
    "bin_num = 3\n",
    "'''\n",
    "if you change the bin num, the in_bin_idx assignment and xticks should be changed to make sure\n",
    "the bins are symmetric around 0, and 20 here indicates half of the bin, like in this case, each\n",
    "bin represents 2*20% of gt influence.\n",
    "'''\n",
    "bins_gt = []\n",
    "bins_gd = []\n",
    "bins_first = []\n",
    "bins_second = []\n",
    "for bin_id in range(bin_num):\n",
    "    gt_influences_in_bin = np.array(gt_influences).copy()\n",
    "    first_order_influences_in_bin = np.array(first_order_influences).copy()\n",
    "    second_order_influences_in_bin = np.array(second_order_influences).copy()\n",
    "    gd_influences_in_bin = np.array(gd_influences).copy()\n",
    "    in_bin_idx = (gt_influences_in_bin>=(2*bin_id-3)*0.2*abs(predictive_parity_0))&(gt_influences_in_bin<(2*bin_id-1)*0.2*abs(predictive_parity_0))\n",
    "    \n",
    "    gt_influences_in_bin = gt_influences_in_bin[in_bin_idx]\n",
    "    first_order_influences_in_bin = first_order_influences_in_bin[in_bin_idx]\n",
    "    second_order_influences_in_bin = second_order_influences_in_bin[in_bin_idx]\n",
    "    gd_influences_in_bin = gd_influences_in_bin[in_bin_idx]\n",
    "    bins_gt.append(gt_influences_in_bin)\n",
    "    bins_first.append(first_order_influences_in_bin)\n",
    "    bins_second.append(second_order_influences_in_bin)\n",
    "    bins_gd.append(gd_influences_in_bin)\n",
    "\n",
    "width = 0.2\n",
    "index = np.arange(bin_num)\n",
    "plt.bar(index-width,[np.average(np.abs((bins_first[idx]-bins_gt[idx]))) for idx in range(len(bins_gt))],width,label='first')\n",
    "plt.bar(index,[np.average(np.abs((bins_second[idx]-bins_gt[idx]))) for idx in range(len(bins_gt))],width,label='second')\n",
    "plt.bar(index+width,[np.average(np.abs((bins_gd[idx]-bins_gt[idx]))) for idx in range(len(bins_gt))],width,label='gd')\n",
    "plt.xticks(range(bin_num), [f'{(2*bin_id-3)*20}%~{(2*bin_id-1)*20}%' for bin_id in range(bin_num)], rotation=15)\n",
    "plt.legend()\n",
    "plt.title('Ave. absolute deviation (compas)')"
   ]
  },
  {
   "cell_type": "markdown",
   "metadata": {},
   "source": [
    "I ran the following cells for backup because I have to change the metrics and run the whole pipeline again"
   ]
  },
  {
   "cell_type": "code",
   "execution_count": 199,
   "metadata": {
    "ExecuteTime": {
     "end_time": "2021-06-29T18:25:19.678820Z",
     "start_time": "2021-06-29T18:25:19.661876Z"
    }
   },
   "outputs": [
    {
     "data": {
      "text/plain": [
       "([0.07486852086156526, 0.008266881447066776, 0.0523114501363691],\n",
       " [0.07252584006983792, 0.006497057812035012, 0.03177450457021214],\n",
       " [0.04381598649197255, 0.012651122449561413, 0.02186822880062204])"
      ]
     },
     "execution_count": 199,
     "metadata": {},
     "output_type": "execute_result"
    }
   ],
   "source": [
    "# spd -150~-50~50~150\n",
    "[np.average(np.abs((bins_first[idx]-bins_gt[idx]))) for idx in range(len(bins_gt))],\\\n",
    "[np.average(np.abs((bins_second[idx]-bins_gt[idx]))) for idx in range(len(bins_gt))],\\\n",
    "[np.average(np.abs((bins_gd[idx]-bins_gt[idx]))) for idx in range(len(bins_gt))]"
   ]
  },
  {
   "cell_type": "code",
   "execution_count": 226,
   "metadata": {
    "ExecuteTime": {
     "end_time": "2021-06-29T18:29:07.914990Z",
     "start_time": "2021-06-29T18:29:07.889000Z"
    }
   },
   "outputs": [
    {
     "data": {
      "text/plain": [
       "([0.06832253491460855, 0.0077469567908597554, 0.036652404785604706],\n",
       " [0.06279976508585587, 0.006363963973930674, 0.016235626987723538],\n",
       " [0.058911984027377594, 0.01111616811178203, 0.021206519135692936])"
      ]
     },
     "execution_count": 226,
     "metadata": {},
     "output_type": "execute_result"
    }
   ],
   "source": [
    "# tpr_parity -150~-50~50~150\n",
    "[np.average(np.abs((bins_first[idx]-bins_gt[idx]))) for idx in range(len(bins_gt))],\\\n",
    "[np.average(np.abs((bins_second[idx]-bins_gt[idx]))) for idx in range(len(bins_gt))],\\\n",
    "[np.average(np.abs((bins_gd[idx]-bins_gt[idx]))) for idx in range(len(bins_gt))]"
   ]
  },
  {
   "cell_type": "code",
   "execution_count": 256,
   "metadata": {
    "ExecuteTime": {
     "end_time": "2021-06-29T18:35:13.510469Z",
     "start_time": "2021-06-29T18:35:13.495069Z"
    }
   },
   "outputs": [
    {
     "data": {
      "text/plain": [
       "([0.02825151460556667, 0.0035289185235499146, 0.02778803444600452],\n",
       " [0.025088686553197022, 0.0027894406347749845, 0.030031577838027526],\n",
       " [0.01329056191214062, 0.003347789695758036, 0.024944172812137594])"
      ]
     },
     "execution_count": 256,
     "metadata": {},
     "output_type": "execute_result"
    }
   ],
   "source": [
    "# predictive_parity -60~-20~20~60\n",
    "[np.average(np.abs((bins_first[idx]-bins_gt[idx]))) for idx in range(len(bins_gt))],\\\n",
    "[np.average(np.abs((bins_second[idx]-bins_gt[idx]))) for idx in range(len(bins_gt))],\\\n",
    "[np.average(np.abs((bins_gd[idx]-bins_gt[idx]))) for idx in range(len(bins_gt))]"
   ]
  },
  {
   "cell_type": "code",
   "execution_count": 65,
   "metadata": {
    "ExecuteTime": {
     "end_time": "2021-06-30T13:26:18.976004Z",
     "start_time": "2021-06-30T13:26:18.968082Z"
    }
   },
   "outputs": [],
   "source": [
    "deviation_first = [0.07486852086156526, 0.008266881447066776, 0.0523114501363691, 0,\\\n",
    "                   0.06832253491460855, 0.0077469567908597554, 0.036652404785604706, 0,\\\n",
    "                   0.02825151460556667, 0.0035289185235499146, 0.02778803444600452]\n",
    "deviation_second = [0.07252584006983792, 0.006497057812035012, 0.03177450457021214, 0,\\\n",
    "                   0.06279976508585587, 0.006363963973930674, 0.016235626987723538, 0,\\\n",
    "                   0.025088686553197022, 0.0027894406347749845, 0.030031577838027526]\n",
    "deviation_gd = [0.04381598649197255, 0.012651122449561413, 0.02186822880062204, 0,\\\n",
    "               0.058911984027377594, 0.01111616811178203, 0.021206519135692936, 0,\\\n",
    "               0.01329056191214062, 0.003347789695758036, 0.024944172812137594]"
   ]
  },
  {
   "cell_type": "code",
   "execution_count": 66,
   "metadata": {
    "ExecuteTime": {
     "end_time": "2021-06-30T13:26:22.615025Z",
     "start_time": "2021-06-30T13:26:22.074377Z"
    },
    "scrolled": false
   },
   "outputs": [
    {
     "data": {
      "image/png": "[encoded data removed]",
      "text/plain": [
       "<Figure size 864x504 with 1 Axes>"
      ]
     },
     "metadata": {
      "needs_background": "light"
     },
     "output_type": "display_data"
    }
   ],
   "source": [
    "plt.figure(figsize=(12,7))\n",
    "width = 0.2\n",
    "alpha = 0.6\n",
    "bin_num = 3\n",
    "\n",
    "edge_color = np.zeros((bin_num, 4))\n",
    "edge_color[:, 3] = 1.0 # alpha\n",
    "edge_width = 1\n",
    "\n",
    "bar_color_first = np.zeros((bin_num, 4))\n",
    "bar_color_first[:, 2] = 1.0 # blue\n",
    "bar_color_first[:, 3] = 0.3 # alpha\n",
    "\n",
    "bar_color_second = np.zeros((bin_num, 4))\n",
    "bar_color_second[:, 2] = 1.0 # blue\n",
    "bar_color_second[:, 3] = 0.7 # alpha\n",
    "\n",
    "bar_color_gd = np.zeros((bin_num, 4))\n",
    "bar_color_gd[:, :2] = 1.0 # yellow\n",
    "bar_color_gd[:, 3] = 0.5 # alpha\n",
    "\n",
    "index = np.arange(bin_num*3+2)\n",
    "plt.bar(index-width, deviation_first, width, label='first', color=bar_color_first,\\\n",
    "        linewidth=edge_width, edgecolor=edge_color, hatch='/')\n",
    "plt.bar(index, deviation_second, width, label='second', color=bar_color_second,\\\n",
    "       linewidth=edge_width, edgecolor=edge_color, hatch='\\\\')\n",
    "plt.bar(index+width, deviation_gd, width, label='gd', color=bar_color_gd,\\\n",
    "       linewidth=edge_width, edgecolor=edge_color)\n",
    "ticks_1 = [f'{(2*bin_id-3)*50}~{(2*bin_id-1)*50}' for bin_id in range(bin_num)]\n",
    "ticks_1[1] += '\\n\\nspd'\n",
    "ticks_2 = [f'{(2*bin_id-3)*50}~{(2*bin_id-1)*50}' for bin_id in range(bin_num)]\n",
    "ticks_2[1] += '\\n\\ntpr parity'\n",
    "ticks_3 = [f'{(2*bin_id-3)*20}~{(2*bin_id-1)*20}' for bin_id in range(bin_num)]\n",
    "ticks_3[1] += '\\n\\npredictive parity'\n",
    "plt.xticks(range(bin_num*3+3), ticks_1 + [''] + ticks_2 + [''] + ticks_3, rotation=0, fontsize=12)\n",
    "plt.yticks(fontsize=12)\n",
    "# plt.grid()\n",
    "plt.ylabel('deviation of approximated influence\\n', fontsize=12, fontweight='bold')\n",
    "plt.xlabel('\\nratio of ground truth influence to corresponding original fairness metrics (%)',\\\n",
    "           fontsize=14, fontweight='bold')\n",
    "plt.legend(fontsize=12, prop={'weight':'bold'})\n",
    "plt.tight_layout()\n",
    "plt.show()"
   ]
  },
  {
   "cell_type": "code",
   "execution_count": 52,
   "metadata": {
    "ExecuteTime": {
     "end_time": "2021-06-30T17:31:37.470896Z",
     "start_time": "2021-06-30T17:31:37.461970Z"
    }
   },
   "outputs": [],
   "source": [
    "time_gd_ave = []\n",
    "l = len(time_gd)//rep\n",
    "for i in range(l):\n",
    "    time_gd_ave.append(np.average([time_gd[i+j*l] for j in range(rep)]))"
   ]
  },
  {
   "cell_type": "code",
   "execution_count": 54,
   "metadata": {
    "ExecuteTime": {
     "end_time": "2021-06-30T17:31:47.524967Z",
     "start_time": "2021-06-30T17:31:47.093041Z"
    },
    "scrolled": true
   },
   "outputs": [
    {
     "data": {
      "image/png": "[encoded data removed]",
      "text/plain": [
       "<Figure size 360x360 with 1 Axes>"
      ]
     },
     "metadata": {
      "needs_background": "light"
     },
     "output_type": "display_data"
    }
   ],
   "source": [
    "plt.figure(figsize=(5,5))\n",
    "# plt.subplot(131)\n",
    "sorted_idx = explanations.sort_values(by=['fractionRows'], ascending=True).index\n",
    "first_xs = []\n",
    "first_ys = []\n",
    "for idx in sorted_idx:\n",
    "    first_xs.append(fractionRows[idx])\n",
    "    first_ys.append(time_first_ave[idx])\n",
    "plt.plot(first_xs, first_ys, '-', c='blue', label='first-order')\n",
    "\n",
    "# plt.subplot(132)\n",
    "second_xs = []\n",
    "second_ys = []\n",
    "for idx in sorted_idx:\n",
    "    second_xs.append(fractionRows[idx])\n",
    "    second_ys.append(time_second_ave[idx])\n",
    "plt.plot(second_xs, second_ys, '-', c='red', label='second-order')\n",
    "\n",
    "'''********************** re-training would be much much slower **********************'''\n",
    "# # plt.subplot(133)\n",
    "# gt_xs = []\n",
    "# gt_ys = []\n",
    "# for idx in sorted_idx:\n",
    "#     gt_xs.append(fractionRows[idx])\n",
    "#     gt_ys.append(time_gt_ave[idx])\n",
    "# plt.plot(gt_xs, gt_ys, '-', c='green', label='ground truth')\n",
    "\n",
    "gd_xs = []\n",
    "gd_ys = []\n",
    "for idx in sorted_idx:\n",
    "    gd_xs.append(fractionRows[idx])\n",
    "    gd_ys.append(time_gd_ave[idx])\n",
    "plt.plot(gd_xs, gd_ys, '-', c='grey', label='gd')\n",
    "\n",
    "plt.legend(fontsize=12, prop={'weight':'bold'})\n",
    "plt.grid()\n",
    "plt.xlabel('\\nfraction of data removed (%)', fontsize=12, fontweight='bold')\n",
    "plt.ylabel('time cost / sec\\n', fontsize=12, fontweight='bold')\n",
    "# plt.show()\n",
    "plt.savefig('time.png')"
   ]
  },
  {
   "cell_type": "code",
   "execution_count": 69,
   "metadata": {
    "ExecuteTime": {
     "end_time": "2021-06-30T13:26:34.497921Z",
     "start_time": "2021-06-30T13:26:33.892691Z"
    }
   },
   "outputs": [
    {
     "data": {
      "image/png": "[encoded data removed]",
      "text/plain": [
       "<Figure size 864x432 with 1 Axes>"
      ]
     },
     "metadata": {
      "needs_background": "light"
     },
     "output_type": "display_data"
    }
   ],
   "source": [
    "plt.figure(figsize=(12,6))\n",
    "bin_num = 10\n",
    "bins_gt = []\n",
    "bins_gd = []\n",
    "bins_first = []\n",
    "bins_second = []\n",
    "# alpha = 0.7\n",
    "\n",
    "for bin_id in range(bin_num):\n",
    "    gt_time_in_bin = np.array(gt_ys).copy()\n",
    "    first_time_in_bin = np.array(first_ys).copy()\n",
    "    second_time_in_bin = np.array(second_ys).copy()\n",
    "    gd_time_in_bin = np.array(gd_ys).copy()\n",
    "    gt_xs = np.array(gt_xs)\n",
    "\n",
    "    in_bin_idx = (gt_xs>=bin_id*10)&(gt_xs<(bin_id+1)*10)\n",
    "    \n",
    "    gt_time_in_bin = gt_time_in_bin[in_bin_idx]\n",
    "    first_time_in_bin = first_time_in_bin[in_bin_idx]\n",
    "    second_time_in_bin = second_time_in_bin[in_bin_idx]\n",
    "    gd_time_in_bin = gd_time_in_bin[in_bin_idx]\n",
    "    \n",
    "    bins_gt.append(gt_time_in_bin)\n",
    "    bins_first.append(first_time_in_bin)\n",
    "    bins_second.append(second_time_in_bin)\n",
    "    bins_gd.append(gd_time_in_bin)\n",
    "\n",
    "edge_color = np.zeros((bin_num, 4))\n",
    "edge_color[:, 3] = 1.0 # alpha\n",
    "edge_width = 1\n",
    "\n",
    "bar_color_first = np.zeros((bin_num, 4))\n",
    "bar_color_first[:, 2] = 1.0 # blue\n",
    "bar_color_first[:, 3] = 0.3 # alpha\n",
    "\n",
    "bar_color_second = np.zeros((bin_num, 4))\n",
    "bar_color_second[:, 2] = 1.0 # blue\n",
    "bar_color_second[:, 3] = 0.7 # alpha\n",
    "\n",
    "bar_color_gt = np.zeros((bin_num, 4))\n",
    "bar_color_gt[:, 0] = 61/255\n",
    "bar_color_gt[:, 1] = 145/255\n",
    "bar_color_gt[:, 2] = 64/255\n",
    "bar_color_gt[:, 3] = 1.0 # alpha\n",
    "\n",
    "bar_color_gd = np.zeros((bin_num, 4))\n",
    "bar_color_gd[:, :2] = 1.0 # yellow\n",
    "bar_color_gd[:, 3] = 0.5 # alpha\n",
    "\n",
    "width = 0.1\n",
    "index = np.arange(bin_num)\n",
    "plt.bar(index-3*width/2, [np.average(bins_first[idx]) for idx in range(len(bins_gt))],\n",
    "        width, label='first', color=bar_color_first, hatch='/', linewidth=edge_width, edgecolor=edge_color)\n",
    "plt.bar(index-width/2, [np.average(bins_second[idx]) for idx in range(len(bins_gt))],\n",
    "        width, label='second', color=bar_color_second, hatch='\\\\', linewidth=edge_width, edgecolor=edge_color)\n",
    "plt.bar(index+width/2, [np.average(bins_gt[idx]) for idx in range(len(bins_gt))],\n",
    "        width, label='retrain', color=bar_color_gt, hatch='-', linewidth=edge_width, edgecolor=edge_color)\n",
    "plt.bar(index+3*width/2, [np.average(bins_gd[idx]) for idx in range(len(bins_gt))],\n",
    "        width, label='one-step gd', color=bar_color_gd, linewidth=edge_width, edgecolor=edge_color)\n",
    "\n",
    "plt.xticks(range(bin_num), [f'{bin_id*10}~{(bin_id+1)*10}' for bin_id in range(bin_num)], fontsize=12, rotation=0)\n",
    "plt.yticks(fontsize=12)\n",
    "plt.legend(fontsize=12, prop={'weight':'bold'})\n",
    "# plt.grid()\n",
    "plt.tight_layout()\n",
    "# plt.title('Comparison on time cost (german)', fontsize=16, fontweight='bold')\n",
    "plt.xlabel('\\nfraction of data removed (%)', fontsize=14, fontweight='bold')\n",
    "plt.ylabel('time cost / sec\\n', fontsize=14, fontweight='bold')\n",
    "plt.show()"
   ]
  },
  {
   "cell_type": "code",
   "execution_count": null,
   "metadata": {},
   "outputs": [],
   "source": []
  },
  {
   "cell_type": "code",
   "execution_count": null,
   "metadata": {},
   "outputs": [],
   "source": []
  }
 ],
 "metadata": {
  "kernelspec": {
   "display_name": "Python 3",
   "language": "python",
   "name": "python3"
  },
  "language_info": {
   "codemirror_mode": {
    "name": "ipython",
    "version": 3
   },
   "file_extension": ".py",
   "mimetype": "text/x-python",
   "name": "python",
   "nbconvert_exporter": "python",
   "pygments_lexer": "ipython3",
   "version": "3.6.5"
  }
 },
 "nbformat": 4,
 "nbformat_minor": 4
}
