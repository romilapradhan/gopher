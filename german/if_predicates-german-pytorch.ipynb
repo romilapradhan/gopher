{
 "cells": [
  {
   "cell_type": "code",
   "execution_count": 1,
   "metadata": {
    "ExecuteTime": {
     "end_time": "2021-05-08T05:36:23.411747Z",
     "start_time": "2021-05-08T05:36:19.818030Z"
    }
   },
   "outputs": [],
   "source": [
    "import sys\n",
    "import tqdm\n",
    "import numpy as np\n",
    "import pandas as pd\n",
    "import scipy\n",
    "import copy\n",
    "import random\n",
    "import math\n",
    "import torch\n",
    "from scipy import stats\n",
    "from scipy.stats import rankdata\n",
    "from sklearn.model_selection import train_test_split, KFold, cross_val_score\n",
    "from sklearn import metrics, preprocessing\n",
    "from sklearn.linear_model import LogisticRegression as sklr\n",
    "from sklearn.tree import DecisionTreeClassifier, DecisionTreeRegressor, plot_tree\n",
    "from sklearn.ensemble import RandomForestClassifier, RandomForestRegressor\n",
    "from sklearn.metrics import classification_report\n",
    "from torch.autograd import grad\n",
    "import torch.nn as nn\n",
    "import matplotlib.pyplot as plt\n",
    "import seaborn as sns\n",
    "from IPython.display import Markdown, display\n",
    "np.random.seed(1)"
   ]
  },
  {
   "cell_type": "code",
   "execution_count": 2,
   "metadata": {
    "ExecuteTime": {
     "end_time": "2021-05-08T05:36:23.420933Z",
     "start_time": "2021-05-08T05:36:23.415068Z"
    }
   },
   "outputs": [],
   "source": [
    "# ignore all the warnings\n",
    "import warnings\n",
    "warnings.filterwarnings('ignore') "
   ]
  },
  {
   "cell_type": "code",
   "execution_count": 3,
   "metadata": {
    "ExecuteTime": {
     "end_time": "2021-05-08T05:36:23.447844Z",
     "start_time": "2021-05-08T05:36:23.424733Z"
    }
   },
   "outputs": [],
   "source": [
    "cols = ['status', 'duration', 'credit_hist', 'purpose', 'credit_amt', 'savings', 'employment', 'install_rate', 'personal_status', 'debtors', 'residence', 'property', 'age', 'install_plans', 'housing', 'num_credits', 'job', 'num_liable', 'telephone', 'foreign_worker', 'credit']\n",
    "df = pd.read_table('german.data', names=cols, sep=\" \", index_col=False)"
   ]
  },
  {
   "cell_type": "markdown",
   "metadata": {},
   "source": [
    "**Pre-processing** (categorical to numerical)"
   ]
  },
  {
   "cell_type": "code",
   "execution_count": 4,
   "metadata": {
    "ExecuteTime": {
     "end_time": "2021-05-08T05:36:23.552495Z",
     "start_time": "2021-05-08T05:36:23.451873Z"
    }
   },
   "outputs": [],
   "source": [
    "def preprocess(df):\n",
    "    df['status'] = df['status'].map({'A11': 0, 'A12': 1, 'A13': 2, 'A14': 3}).astype(int)\n",
    "    \n",
    "    df.loc[(df['duration'] <= 12), 'duration'] = 0\n",
    "    df.loc[(df['duration'] > 12) & (df['duration'] <= 24), 'duration'] = 1\n",
    "    df.loc[(df['duration'] > 24) & (df['duration'] <= 36), 'duration'] = 2\n",
    "    df.loc[(df['duration'] > 36), 'duration'] = 3    \n",
    "    \n",
    "    df['credit_hist'] = df['credit_hist'].map({'A34': 0, 'A33': 1, 'A32': 2, 'A31': 3, 'A30': 4}).astype(int)    \n",
    "    df = pd.concat([df, pd.get_dummies(df['purpose'], prefix='purpose')],axis=1)\n",
    "\n",
    "    df.loc[(df['credit_amt'] <= 2000), 'credit_amt'] = 0\n",
    "    df.loc[(df['credit_amt'] > 2000) & (df['credit_amt'] <= 5000), 'credit_amt'] = 1\n",
    "    df.loc[(df['credit_amt'] > 5000), 'credit_amt'] = 2    \n",
    "    \n",
    "    df['savings'] = df['savings'].map({'A61': 0, 'A62': 1, 'A63': 2, 'A64': 3, 'A65': 4}).astype(int)\n",
    "    df['employment'] = df['employment'].map({'A71': 0, 'A72': 1, 'A73': 2, 'A74': 3, 'A75': 4}).astype(int)    \n",
    "    df['gender'] = df['personal_status'].map({'A91': 1, 'A92': 0, 'A93': 1, 'A94': 1, 'A95': 0}).astype(int)\n",
    "    df['debtors'] = df['debtors'].map({'A101': 0, 'A102': 1, 'A103': 2}).astype(int)\n",
    "    df['property'] = df['property'].map({'A121': 3, 'A122': 2, 'A123': 1, 'A124': 0}).astype(int)        \n",
    "    df['age'] = df['age'].apply(lambda x : 1 if x >= 45 else 0) # 1 if old, 0 if young\n",
    "    df['install_plans'] = df['install_plans'].map({'A141': 1, 'A142': 1, 'A143': 0}).astype(int)\n",
    "    df = pd.concat([df, pd.get_dummies(df['housing'], prefix='housing')],axis=1)\n",
    "    df['job'] = df['job'].map({'A171': 0, 'A172': 1, 'A173': 2, 'A174': 3}).astype(int)    \n",
    "    df['telephone'] = df['telephone'].map({'A191': 0, 'A192': 1}).astype(int)\n",
    "    df['foreign_worker'] = df['foreign_worker'].map({'A201': 1, 'A202': 0}).astype(int)\n",
    "    \n",
    "    df['credit'] = df['credit'].replace(2, 0) #1 = Good, 2= Bad credit risk\n",
    "\n",
    "#     process age\n",
    "#     df.loc[(df['age'] >= 15) & (df['age'] <= 24) , 'age'] = 0\n",
    "#     df.loc[(df['age'] >= 25) & (df['age'] <= 34) , 'age'] = 1\n",
    "#     df.loc[(df['age'] >= 35) & (df['age'] <= 44) , 'age'] = 2\n",
    "#     df.loc[(df['age'] >= 45) & (df['age'] <= 54) , 'age'] = 3\n",
    "#     df.loc[(df['age'] >= 55) & (df['age'] <= 64) , 'age'] = 4\n",
    "#     df.loc[(df['age'] >= 65) , 'age'] = 5\n",
    "\n",
    "    return df\n",
    "\n",
    "df = preprocess(df)\n",
    "\n",
    "y = df['credit']\n",
    "df = df.drop(columns=['purpose', 'personal_status', 'housing', 'credit'])\n",
    "\n",
    "X_train, X_test, y_train, y_test = train_test_split(df, y, test_size=0.2, random_state=1)\n",
    "X_train = X_train.reset_index(drop=True)\n",
    "X_test = X_test.reset_index(drop=True)\n",
    "y_train = y_train.reset_index(drop=True)\n",
    "y_test = y_test.reset_index(drop=True)"
   ]
  },
  {
   "cell_type": "markdown",
   "metadata": {},
   "source": [
    "**Protected, privileged**"
   ]
  },
  {
   "cell_type": "code",
   "execution_count": 5,
   "metadata": {
    "ExecuteTime": {
     "end_time": "2021-05-08T05:36:23.560623Z",
     "start_time": "2021-05-08T05:36:23.555762Z"
    }
   },
   "outputs": [],
   "source": [
    "# protected: 'gender'=0\n",
    "# privileged: 'gender'=1\n",
    "\n",
    "# protected: 'age'=0\n",
    "# privileged: 'age'=1"
   ]
  },
  {
   "cell_type": "markdown",
   "metadata": {},
   "source": [
    "**Parametric Model**"
   ]
  },
  {
   "cell_type": "code",
   "execution_count": 6,
   "metadata": {
    "ExecuteTime": {
     "end_time": "2021-05-08T05:36:23.579794Z",
     "start_time": "2021-05-08T05:36:23.564505Z"
    },
    "code_folding": []
   },
   "outputs": [],
   "source": [
    "# size=500\n",
    "# X_train = X_train[0:size]\n",
    "# y_train = y_train[0:size]\n",
    "\n",
    "X_train_orig = copy.deepcopy(X_train)\n",
    "X_test_orig = copy.deepcopy(X_test)\n",
    "\n",
    "# Scale data: regularization penalty default: ‘l2’, ‘lbfgs’ solvers support only l2 penalties. \n",
    "# Regularization makes the predictor dependent on the scale of the features.\n",
    "from sklearn.preprocessing import StandardScaler\n",
    "sc = StandardScaler()\n",
    "X_train = sc.fit_transform(X_train)\n",
    "X_test = sc.transform(X_test)"
   ]
  },
  {
   "cell_type": "code",
   "execution_count": 7,
   "metadata": {
    "ExecuteTime": {
     "end_time": "2021-05-08T05:36:23.600405Z",
     "start_time": "2021-05-08T05:36:23.585171Z"
    },
    "code_folding": [
     0
    ]
   },
   "outputs": [],
   "source": [
    "class LogisticRegression(nn.Module):\n",
    "    def __init__(self):\n",
    "        super(LogisticRegression, self).__init__()\n",
    "        self.sklearn_lr = sklr(random_state=0, max_iter=300)\n",
    "        self.lr = torch.nn.Linear(X_train.shape[-1],1,bias=True)\n",
    "        self.sm = torch.nn.Sigmoid()\n",
    "        \n",
    "    def forward(self,x):\n",
    "        x = self.lr(x)\n",
    "        x = self.sm(x)\n",
    "        return x.squeeze()\n",
    "    \n",
    "    def fit(self, x, y, learning_rate=1, c=0.03, epoch_num=1000, verbose=False):\n",
    "        self.sklearn_lr.fit(x, y)\n",
    "        self.lr.weight.data = torch.FloatTensor(self.sklearn_lr.coef_)\n",
    "        self.lr.bias.data = torch.FloatTensor(self.sklearn_lr.intercept_)\n",
    "#         criterion = logistic_loss_torch\n",
    "#         optimizer = torch.optim.LBFGS(self.parameters())\n",
    "#         x = torch.FloatTensor(x)\n",
    "#         y = torch.FloatTensor(y)\n",
    "#         self.train()\n",
    "#         for _ in range(epoch_num):\n",
    "#             def closure():\n",
    "#                 optimizer.zero_grad()\n",
    "#                 y_pred = self.forward(x)\n",
    "#                 loss = criterion(y_pred, y)\n",
    "#                 l2_reg = 0\n",
    "#                 for param in self.parameters():\n",
    "#                     l2_reg += torch.norm(param)\n",
    "#                 loss += c * l2_reg\n",
    "#                 loss.backward()\n",
    "#                 return loss\n",
    "#             optimizer.step(closure)\n",
    "            \n",
    "#             if verbose and (epoch_num % 50):\n",
    "#                 print(f'epoch:{epoch_num}, loss:{loss.item()}')\n",
    "#             optimizer.zero_grad()\n",
    "#             loss.backward()\n",
    "#             optimizer.step()\n",
    "    \n",
    "    def predict_proba(self, x):\n",
    "        self.eval()\n",
    "        return self.forward(torch.FloatTensor(x)).detach().numpy()"
   ]
  },
  {
   "cell_type": "markdown",
   "metadata": {},
   "source": [
    "**Compute fairness metric**"
   ]
  },
  {
   "cell_type": "code",
   "execution_count": 8,
   "metadata": {
    "ExecuteTime": {
     "end_time": "2021-05-08T05:36:23.620323Z",
     "start_time": "2021-05-08T05:36:23.603261Z"
    },
    "code_folding": [
     0
    ]
   },
   "outputs": [],
   "source": [
    "def computeFairness(y_pred, X_test, y_test, metric): \n",
    "    fairnessMetric = 0\n",
    "    protected_idx = X_test[X_test['age']==0].index\n",
    "    numProtected = len(protected_idx)\n",
    "    privileged_idx = X_test[X_test['age']==1].index\n",
    "    numPrivileged = len(privileged_idx)\n",
    "\n",
    "    p_protected = 0\n",
    "    for i in range(len(protected_idx)):\n",
    "        p_protected += y_pred[protected_idx[i]]\n",
    "    p_protected /= len(protected_idx)\n",
    "\n",
    "    p_privileged = 0\n",
    "    for i in range(len(privileged_idx)):\n",
    "        p_privileged += y_pred[privileged_idx[i]]\n",
    "    p_privileged /= len(privileged_idx)\n",
    "    \n",
    "    # statistical parity difference\n",
    "    statistical_parity = p_protected - p_privileged\n",
    "    \n",
    "    # equality of opportunity, or \n",
    "    # true positive rate parity\n",
    "    # P(Y=1 | Y=1, G=0)- P(Y=1 | Y=1, G=1)\n",
    "    true_positive_protected = 0\n",
    "    actual_positive_protected = 0\n",
    "    for i in range(len(protected_idx)):\n",
    "        if (y_test[protected_idx[i]] == 1):\n",
    "            actual_positive_protected += 1\n",
    "            true_positive_protected += y_pred[protected_idx[i]]\n",
    "    tpr_protected = true_positive_protected/actual_positive_protected\n",
    "\n",
    "    true_positive_privileged = 0\n",
    "    actual_positive_privileged = 0\n",
    "    for i in range(len(privileged_idx)):\n",
    "        if (y_test[privileged_idx[i]] == 1):\n",
    "            actual_positive_privileged += 1\n",
    "#             if (y_pred[privileged_idx[i]][1] > y_pred[privileged_idx[i]][0]):\n",
    "            true_positive_privileged += y_pred[privileged_idx[i]]\n",
    "    tpr_privileged = true_positive_privileged/actual_positive_privileged\n",
    "\n",
    "    tpr_parity = tpr_protected - tpr_privileged\n",
    "    \n",
    "    # equalized odds or TPR parity + FPR parity\n",
    "    # false positive rate parity\n",
    "    \n",
    "    # predictive parity\n",
    "    p_o1_y1_s1 = 0\n",
    "    p_o1_s1 = 0\n",
    "    for i in range(len(protected_idx)):\n",
    "#         if (y_pred[protected_idx[i]][1] > y_pred[protected_idx[i]][0]):\n",
    "        p_o1_s1 += y_pred[protected_idx[i]]\n",
    "        if (y_test[protected_idx[i]] == 1):\n",
    "            p_o1_y1_s1 += y_pred[protected_idx[i]]\n",
    "    ppv_protected = p_o1_y1_s1/p_o1_s1\n",
    "    \n",
    "    p_o1_y1_s0 = 0\n",
    "    p_o1_s0 = 0\n",
    "    for i in range(len(privileged_idx)):\n",
    "#         if (y_pred[privileged_idx[i]][1] > y_pred[privileged_idx[i]][0]):\n",
    "        p_o1_s0 += y_pred[privileged_idx[i]]\n",
    "        if (y_test[privileged_idx[i]] == 1):\n",
    "            p_o1_y1_s0 += y_pred[privileged_idx[i]]\n",
    "    ppv_privileged = p_o1_y1_s0/p_o1_s0\n",
    "    \n",
    "    predictive_parity = ppv_protected - ppv_privileged\n",
    "    \n",
    "    if (metric == 0):\n",
    "        fairnessMetric = statistical_parity\n",
    "    elif (metric == 1):\n",
    "        fairnessMetric = tpr_parity\n",
    "    elif (metric == 2):\n",
    "        fairnessMetric = predictive_parity\n",
    "        \n",
    "    return fairnessMetric"
   ]
  },
  {
   "cell_type": "markdown",
   "metadata": {},
   "source": [
    "**Influence of points computed using ground truth**"
   ]
  },
  {
   "cell_type": "code",
   "execution_count": 9,
   "metadata": {
    "ExecuteTime": {
     "end_time": "2021-05-08T05:36:23.632427Z",
     "start_time": "2021-05-08T05:36:23.624142Z"
    },
    "code_folding": [
     0
    ]
   },
   "outputs": [],
   "source": [
    "def ground_truth_influence(X_train, y_train, X_test, X_test_orig, y_test):\n",
    "    clf.fit(X_train, y_train, verbose=True)\n",
    "    y_pred = clf.predict_proba(X_test)\n",
    "    spd_0 = computeFairness(y_pred, X_test_orig, y_test, 0)\n",
    "\n",
    "    delta_spd = []\n",
    "    for i in range(len(X_train)):\n",
    "        X_removed = np.delete(X_train, i, 0)\n",
    "        y_removed = y_train.drop(index=i, inplace=False)\n",
    "        clf.fit(X_removed, y_removed)\n",
    "        y_pred = clf.predict_proba(X_test)\n",
    "        delta_spd_i = computeFairness(y_pred, X_test_orig, y_test, 0) - spd_0\n",
    "        delta_spd.append(delta_spd_i)\n",
    "    \n",
    "    return delta_spd"
   ]
  },
  {
   "cell_type": "markdown",
   "metadata": {},
   "source": [
    "**Loss function** (Log loss for logistic regression)"
   ]
  },
  {
   "cell_type": "code",
   "execution_count": 10,
   "metadata": {
    "ExecuteTime": {
     "end_time": "2021-05-08T05:36:23.650505Z",
     "start_time": "2021-05-08T05:36:23.635007Z"
    },
    "code_folding": [
     1,
     9
    ]
   },
   "outputs": [],
   "source": [
    "c = 1e-8  # small constant\n",
    "def logistic_loss(y_true, y_pred):\n",
    "    loss = 0\n",
    "    for i in range(len(y_true)):\n",
    "        if (y_pred[i] != 0 and y_pred[i] != 1):\n",
    "            loss += - y_true[i] * math.log(y_pred[i] + c) - (1 - y_true[i]) * math.log(1 - y_pred[i] + c)\n",
    "    loss /= len(y_true)\n",
    "    return loss\n",
    "\n",
    "def binary_cross_entropy(y_pred, y_true):\n",
    "    loss = -(torch.log(y_pred+c)*y_true + torch.log(1-y_pred+c)*(1-y_true))\n",
    "    return loss.mean()\n",
    "\n",
    "# logistic_loss_torch = torch.nn.functional.binary_cross_entropy\n",
    "logistic_loss_torch = binary_cross_entropy"
   ]
  },
  {
   "cell_type": "markdown",
   "metadata": {},
   "source": [
    "**Compute Accuracy** "
   ]
  },
  {
   "cell_type": "code",
   "execution_count": 11,
   "metadata": {
    "ExecuteTime": {
     "end_time": "2021-05-08T05:36:23.662705Z",
     "start_time": "2021-05-08T05:36:23.654642Z"
    },
    "code_folding": [
     0
    ]
   },
   "outputs": [],
   "source": [
    "def computeAccuracy(y_true, y_pred):\n",
    "    return np.sum((y_pred>0.5) == y_true)/len(y_pred)"
   ]
  },
  {
   "cell_type": "markdown",
   "metadata": {},
   "source": [
    "**First-order derivative of loss function at z with respect to model parameters**"
   ]
  },
  {
   "cell_type": "code",
   "execution_count": 12,
   "metadata": {
    "ExecuteTime": {
     "end_time": "2021-05-08T05:36:23.670329Z",
     "start_time": "2021-05-08T05:36:23.665461Z"
    },
    "code_folding": [
     0
    ]
   },
   "outputs": [],
   "source": [
    "def del_L_del_theta_i(model, x, y_true, retain_graph=False):\n",
    "    loss = logistic_loss_torch(model(torch.FloatTensor(x)), torch.FloatTensor([y_true]))\n",
    "    w = [ p for p in model.parameters() if p.requires_grad ]\n",
    "    return grad(loss, w, create_graph=True, retain_graph=retain_graph)"
   ]
  },
  {
   "cell_type": "markdown",
   "metadata": {},
   "source": [
    "**First-order derivative of $P(y \\mid \\textbf{x})$ with respect to model parameters**"
   ]
  },
  {
   "cell_type": "code",
   "execution_count": 13,
   "metadata": {
    "ExecuteTime": {
     "end_time": "2021-05-08T05:36:23.679948Z",
     "start_time": "2021-05-08T05:36:23.675282Z"
    },
    "code_folding": [
     0
    ]
   },
   "outputs": [],
   "source": [
    "def del_f_del_theta_i(model, x, retain_graph=False):\n",
    "    w = [ p for p in model.parameters() if p.requires_grad ]\n",
    "    return grad(model(torch.FloatTensor(x)), w, retain_graph=retain_graph)"
   ]
  },
  {
   "cell_type": "code",
   "execution_count": 14,
   "metadata": {
    "ExecuteTime": {
     "end_time": "2021-05-08T05:36:23.693125Z",
     "start_time": "2021-05-08T05:36:23.683122Z"
    },
    "code_folding": [
     0,
     12
    ]
   },
   "outputs": [],
   "source": [
    "def convert_grad_to_ndarray(grad):\n",
    "    grad_list = list(grad)\n",
    "    for i in range(len(grad_list)):\n",
    "        next_params = grad_list[i].detach().squeeze().numpy()\n",
    "        if len(next_params.shape)==0:\n",
    "            next_params = np.expand_dims(next_params, axis=0)\n",
    "        if i == 0:\n",
    "            grad_arr = next_params\n",
    "        else:\n",
    "            grad_arr = np.concatenate([grad_arr, next_params])\n",
    "    return grad_arr\n",
    "\n",
    "def convert_grad_to_tensor(grad):\n",
    "    grad_list = list(grad)\n",
    "    for i in range(len(grad_list)):\n",
    "        next_params = grad_list[i].squeeze()\n",
    "        if len(next_params.shape)==0:\n",
    "            next_params = next_params.unsqueeze(0)\n",
    "        if i == 0:\n",
    "            grad_arr = next_params\n",
    "        else:\n",
    "            grad_arr = torch.cat([grad_arr, next_params])\n",
    "    return grad_arr"
   ]
  },
  {
   "cell_type": "markdown",
   "metadata": {},
   "source": [
    "**Computing $v=\\nabla($Statistical parity difference$)$**"
   ]
  },
  {
   "cell_type": "code",
   "execution_count": 15,
   "metadata": {
    "ExecuteTime": {
     "end_time": "2021-05-08T05:36:23.703220Z",
     "start_time": "2021-05-08T05:36:23.696235Z"
    },
    "code_folding": [
     1
    ]
   },
   "outputs": [],
   "source": [
    "# Return v = del(SPD)/del(theta)\n",
    "def del_spd_del_theta(model, X_test_orig, X_test):\n",
    "    num_params = X_test.shape[1]+1\n",
    "    del_f_protected = np.zeros((num_params,))\n",
    "    del_f_privileged = np.zeros((num_params,))\n",
    "    numPrivileged = X_test_orig['age'].sum()\n",
    "    numProtected = len(X_test_orig) - numPrivileged\n",
    "    for i in range(len(X_test)):\n",
    "        del_f_i = del_f_del_theta_i(model, X_test[i])\n",
    "        del_f_i_arr = convert_grad_to_ndarray(del_f_i)\n",
    "        if X_test_orig.iloc[i]['age'] == 1: #privileged\n",
    "            del_f_privileged += del_f_i_arr\n",
    "        elif X_test_orig.iloc[i]['age'] == 0:\n",
    "            del_f_protected += del_f_i_arr\n",
    "    del_f_privileged /= numPrivileged\n",
    "    del_f_protected /= numProtected\n",
    "    v = del_f_protected - del_f_privileged\n",
    "    return v"
   ]
  },
  {
   "cell_type": "markdown",
   "metadata": {},
   "source": [
    "**Computing $v=\\nabla($TPR parity difference$)$**"
   ]
  },
  {
   "cell_type": "code",
   "execution_count": 16,
   "metadata": {
    "ExecuteTime": {
     "end_time": "2021-05-08T05:36:23.719226Z",
     "start_time": "2021-05-08T05:36:23.707372Z"
    },
    "code_folding": [
     1
    ]
   },
   "outputs": [],
   "source": [
    "# Return v = del(TPR_parity)/del(theta)\n",
    "def del_tpr_parity_del_theta(model, X_test_orig, X_test, y_test):\n",
    "    num_params = X_test.shape[1]+1\n",
    "    del_f_protected = np.zeros((num_params,))\n",
    "    del_f_privileged = np.zeros((num_params,))\n",
    "    \n",
    "    protected_idx = X_test_orig[X_test_orig['age']==0].index\n",
    "    privileged_idx = X_test_orig[X_test_orig['age']==1].index\n",
    "\n",
    "    actual_positive_privileged = 0\n",
    "    for i in range(len(privileged_idx)):\n",
    "        if (y_test[privileged_idx[i]] == 1):\n",
    "            actual_positive_privileged += 1\n",
    "            del_f_i = del_f_del_theta_i(model, X_test[privileged_idx[i]])\n",
    "            del_f_i_arr = convert_grad_to_ndarray(del_f_i)\n",
    "            del_f_privileged = np.add(del_f_privileged, del_f_i_arr)\n",
    "    del_f_privileged /= actual_positive_privileged\n",
    "    \n",
    "    actual_positive_protected = 0\n",
    "    for i in range(len(protected_idx)):\n",
    "        if (y_test[protected_idx[i]] == 1):\n",
    "            actual_positive_protected += 1\n",
    "            del_f_i = del_f_del_theta_i(model, X_test[protected_idx[i]])\n",
    "            del_f_i_arr = convert_grad_to_ndarray(del_f_i)\n",
    "            del_f_protected = np.add(del_f_protected, del_f_i_arr)\n",
    "    del_f_protected /= actual_positive_protected\n",
    "\n",
    "    v = del_f_protected - del_f_privileged\n",
    "    return v"
   ]
  },
  {
   "cell_type": "markdown",
   "metadata": {},
   "source": [
    "**Computing $v=\\nabla($Predictive parity difference$)$**"
   ]
  },
  {
   "cell_type": "code",
   "execution_count": 17,
   "metadata": {
    "ExecuteTime": {
     "end_time": "2021-05-08T05:36:23.738465Z",
     "start_time": "2021-05-08T05:36:23.722465Z"
    },
    "code_folding": [
     1
    ]
   },
   "outputs": [],
   "source": [
    "# Return v = del(Predictive_parity)/del(theta)\n",
    "def del_predictive_parity_del_theta(model, X_test_orig, X_test, y_test):\n",
    "    num_params = X_test.shape[1]+1\n",
    "    y_pred = model.predict_proba(X_test)\n",
    "    del_f_protected = np.zeros((num_params, 1))\n",
    "    del_f_privileged = np.zeros((num_params, 1))\n",
    "    \n",
    "    protected_idx = X_test_orig[X_test_orig['age']==0].index\n",
    "    privileged_idx = X_test_orig[X_test_orig['age']==1].index\n",
    "\n",
    "    u_dash_protected = np.zeros((num_params, 1))\n",
    "    v_protected = 0\n",
    "    v_dash_protected = np.zeros((num_params, 1))\n",
    "    u_protected = 0\n",
    "    for i in range(len(protected_idx)):\n",
    "        del_f_i = del_f_del_theta_i(model, X_test[protected_idx[i]])\n",
    "        del_f_i_arr = convert_grad_to_ndarray(del_f_i)\n",
    "        v_protected += y_pred[protected_idx[i]][1]\n",
    "        v_dash_protected = np.add(v_dash_protected, del_f_i_arr)\n",
    "        if (y_test[protected_idx[i]] == 1):\n",
    "            u_dash_protected = np.add(u_dash_protected, del_f_i_arr)\n",
    "            u_protected += y_pred[protected_idx[i]][1]\n",
    "    del_f_protected = (u_dash_protected * v_protected - u_protected * v_dash_protected)/(v_protected * v_protected)\n",
    "    \n",
    "    u_dash_privileged = np.zeros((num_params, 1))\n",
    "    v_privileged = 0\n",
    "    v_dash_privileged = np.zeros((num_params, 1))\n",
    "    u_privileged = 0\n",
    "    for i in range(len(privileged_idx)):\n",
    "        del_f_i = del_f_del_theta_i(model, X_test[privileged_idx[i]])\n",
    "        del_f_i_arr = convert_grad_to_ndarray(del_f_i)\n",
    "        v_privileged += y_pred[privileged_idx[i]][1]\n",
    "        v_dash_privileged = np.add(v_dash_privileged, del_f_i_arr)\n",
    "        if (y_test[privileged_idx[i]] == 1):\n",
    "            u_dash_privileged = np.add(u_dash_privileged, del_f_i_arr)\n",
    "            u_privileged += y_pred[privileged_idx[i]][1]\n",
    "    del_f_privileged = (u_dash_privileged * v_privileged - u_privileged * v_dash_privileged)/(v_privileged * v_privileged)\n",
    "    \n",
    "    v = np.subtract(del_f_protected, del_f_privileged)\n",
    "    return v"
   ]
  },
  {
   "cell_type": "markdown",
   "metadata": {},
   "source": [
    "**Stochastic estimation of Hessian vector product (involving del fairness): $H_{\\theta}^{-1}v = H_{\\theta}^{-1}\\nabla_{\\theta}f(z, \\theta) = v + [I - \\nabla_{\\theta}^2L(z_{s_j}, \\theta^*)]H_{\\theta}^{-1}v$**"
   ]
  },
  {
   "cell_type": "code",
   "execution_count": 18,
   "metadata": {
    "ExecuteTime": {
     "end_time": "2021-05-08T05:36:23.789944Z",
     "start_time": "2021-05-08T05:36:23.751235Z"
    },
    "code_folding": []
   },
   "outputs": [],
   "source": [
    "def hvp(y, w, v):\n",
    "    ''' Multiply the Hessians of y and w by v.'''\n",
    "    # First backprop\n",
    "    first_grads = grad(y, w, retain_graph=True, create_graph=True)\n",
    "\n",
    "    # Elementwise products\n",
    "    elemwise_products = 0\n",
    "    for grad_elem, v_elem in zip(convert_grad_to_tensor(first_grads), v):\n",
    "        elemwise_products += torch.sum(grad_elem * v_elem)\n",
    "\n",
    "    # Second backprop\n",
    "    return_grads = grad(elemwise_products, w, create_graph=True)\n",
    "\n",
    "    return return_grads"
   ]
  },
  {
   "cell_type": "code",
   "execution_count": 19,
   "metadata": {
    "ExecuteTime": {
     "end_time": "2021-05-08T05:36:23.811647Z",
     "start_time": "2021-05-08T05:36:23.793853Z"
    }
   },
   "outputs": [],
   "source": [
    "def hessian_one_point(model, x, y):\n",
    "    x, y = torch.FloatTensor(x), torch.FloatTensor([y])\n",
    "    loss = logistic_loss_torch(model(x), y)\n",
    "    params = [ p for p in model.parameters() if p.requires_grad ]\n",
    "    first_grads = convert_grad_to_tensor(grad(loss, params, retain_graph=True, create_graph=True))\n",
    "    hv = np.zeros((len(x)+1, len(x)+1))\n",
    "    for i in range(len(first_grads)):\n",
    "        hv[i, :] = convert_grad_to_ndarray(grad(first_grads[i], params, create_graph=True)).ravel()\n",
    "    return hv"
   ]
  },
  {
   "cell_type": "code",
   "execution_count": 20,
   "metadata": {
    "ExecuteTime": {
     "end_time": "2021-05-08T05:36:23.839319Z",
     "start_time": "2021-05-08T05:36:23.815065Z"
    },
    "code_folding": [
     1
    ]
   },
   "outputs": [],
   "source": [
    "# Compute multiplication of inverse hessian matrix and vector v\n",
    "def s_test(model, xs, ys, v, damp=0.01, scale=25.0, r=5000, recursive=False, verbose=False):\n",
    "    ''' Arguments:\n",
    "        xs: list of data points\n",
    "        ys: list of true labels corresponding to data points in xs\n",
    "        damp: dampening factor\n",
    "        scale: scaling factor\n",
    "        r: number of iterations aka recursion depth\n",
    "            should be enough so that the value stabilises.\n",
    "        recursive: determine whether to recursively approximate hinv_v'''\n",
    "    xs, ys = torch.FloatTensor(xs.copy()), torch.FloatTensor(ys.copy())\n",
    "    n = len(xs)\n",
    "    sample = np.random.choice(range(n), r, replace=True)\n",
    "    hinv_v = copy.deepcopy(v)\n",
    "    if recursive:\n",
    "        if verbose:\n",
    "            print('Computing s_test...')\n",
    "            tbar = tqdm.tqdm(total=r)\n",
    "        for i in range(r):\n",
    "            sample_idx = sample[i]\n",
    "            x, y = xs[sample_idx], ys[sample_idx]\n",
    "            loss = logistic_loss_torch(model(x), y)\n",
    "            params = [ p for p in model.parameters() if p.requires_grad ]\n",
    "            hv = convert_grad_to_ndarray(hvp(loss, params, torch.FloatTensor(hinv_v)))\n",
    "            # Recursively caclulate h_estimate\n",
    "            hinv_v = v + (1 - damp) * hinv_v - hv / scale\n",
    "            if verbose:\n",
    "                tbar.update(1)\n",
    "    else:\n",
    "        scale = 1.0\n",
    "        hinv = np.linalg.pinv(np.sum(hessian_all_points, axis=0))\n",
    "        hinv_v = np.matmul(hinv, v)\n",
    "\n",
    "    return hinv_v / scale"
   ]
  },
  {
   "cell_type": "markdown",
   "metadata": {},
   "source": [
    "**First-order influence computation**"
   ]
  },
  {
   "cell_type": "code",
   "execution_count": 21,
   "metadata": {
    "ExecuteTime": {
     "end_time": "2021-05-08T05:36:23.853200Z",
     "start_time": "2021-05-08T05:36:23.843376Z"
    },
    "code_folding": [
     0
    ]
   },
   "outputs": [],
   "source": [
    "def first_order_influence(del_L_del_theta, hinv_v, n):\n",
    "    infs = []\n",
    "    for i in range(n):\n",
    "        inf = -np.dot(del_L_del_theta[i].transpose(), hinv_v)\n",
    "        inf *= -1/n\n",
    "        infs.append(inf)\n",
    "    return infs"
   ]
  },
  {
   "cell_type": "markdown",
   "metadata": {},
   "source": [
    "**Second-order influence computation for a group of points in subset U**"
   ]
  },
  {
   "cell_type": "code",
   "execution_count": 22,
   "metadata": {
    "ExecuteTime": {
     "end_time": "2021-05-08T05:36:23.871805Z",
     "start_time": "2021-05-08T05:36:23.857270Z"
    },
    "code_folding": [
     0
    ]
   },
   "outputs": [],
   "source": [
    "def second_order_influence(model, X_train, y_train, U, del_L_del_theta, r=-1, verbose=False):\n",
    "    u = len(U)\n",
    "    s = len(X_train)\n",
    "    p = u/s\n",
    "    c1 = (1 - 2*p)/(s * (1-p)**2)\n",
    "    c2 = 1/((s * (1-p))**2)\n",
    "    num_params = len(del_L_del_theta[0])\n",
    "    del_L_del_theta_hinv = np.zeros((num_params,))\n",
    "    del_L_del_theta_sum = np.sum([del_L_del_theta[i] for i in U], axis=0)\n",
    "    hinv_del_L_del_theta= s_test(model, X_train, y_train, del_L_del_theta_sum)\n",
    "    hessian_U_hinv_del_L_del_theta = np.zeros((num_params,))\n",
    "    for i in range(u):\n",
    "        idx = U[i]\n",
    "        x, y = torch.FloatTensor(X_train[idx]), torch.FloatTensor([y_train[idx]])\n",
    "        loss = logistic_loss_torch(model(x), y)\n",
    "        params = [ p for p in model.parameters() if p.requires_grad ]\n",
    "        hessian_U_hinv_del_L_del_theta += convert_grad_to_ndarray(hvp(loss, params, torch.FloatTensor(hinv_del_L_del_theta)))\n",
    "\n",
    "    term1 = c1 * hinv_del_L_del_theta\n",
    "    term2 = c2 * s_test(model, X_train, y_train, hessian_U_hinv_del_L_del_theta)\n",
    "    sum_term = term1 + term2\n",
    "    return sum_term"
   ]
  },
  {
   "cell_type": "markdown",
   "metadata": {},
   "source": [
    "**Metrics: Initial state**"
   ]
  },
  {
   "cell_type": "code",
   "execution_count": 23,
   "metadata": {
    "ExecuteTime": {
     "end_time": "2021-05-08T05:36:23.956192Z",
     "start_time": "2021-05-08T05:36:23.876813Z"
    }
   },
   "outputs": [
    {
     "name": "stdout",
     "output_type": "stream",
     "text": [
      "Initial statistical parity:  -0.11221257958095521\n",
      "Initial TPR parity:  -0.08652219089995561\n",
      "Initial predictive parity:  -0.09399734355860345\n",
      "Initial loss:  0.5060894847387476\n",
      "Initial accuracy:  0.755\n"
     ]
    }
   ],
   "source": [
    "clf = LogisticRegression()\n",
    "clf.fit(X_train, y_train)\n",
    "num_params = X_train.shape[1] + 1  # weights and intercept; params: clf.coef_, clf.intercept_\n",
    "y_pred_test = clf.predict_proba(X_test)\n",
    "y_pred_train = clf.predict_proba(X_train)\n",
    "\n",
    "spd_0 = computeFairness(y_pred_test, X_test_orig, y_test, 0)\n",
    "print(\"Initial statistical parity: \", spd_0)\n",
    "\n",
    "tpr_parity_0 = computeFairness(y_pred_test, X_test_orig, y_test, 1)\n",
    "print(\"Initial TPR parity: \", tpr_parity_0)\n",
    "\n",
    "predictive_parity_0 = computeFairness(y_pred_test, X_test_orig, y_test, 2)\n",
    "print(\"Initial predictive parity: \", predictive_parity_0)\n",
    "\n",
    "loss_0 = logistic_loss(y_test, y_pred_test)\n",
    "print(\"Initial loss: \", loss_0)\n",
    "\n",
    "accuracy_0 = computeAccuracy(y_test, y_pred_test)\n",
    "print(\"Initial accuracy: \", accuracy_0)"
   ]
  },
  {
   "cell_type": "code",
   "execution_count": 24,
   "metadata": {
    "ExecuteTime": {
     "end_time": "2021-05-08T05:36:36.851512Z",
     "start_time": "2021-05-08T05:36:23.959648Z"
    }
   },
   "outputs": [],
   "source": [
    "hessian_all_points = []\n",
    "for i in range(len(X_train)):\n",
    "    hessian_all_points.append(hessian_one_point(clf, X_train[i], y_train[i])/len(X_train))"
   ]
  },
  {
   "cell_type": "markdown",
   "metadata": {},
   "source": [
    "**Pre-compute: (1) Hessian (2) del_L_del_theta for each training data point**"
   ]
  },
  {
   "cell_type": "code",
   "execution_count": 25,
   "metadata": {
    "ExecuteTime": {
     "end_time": "2021-05-08T05:36:37.388433Z",
     "start_time": "2021-05-08T05:36:36.853893Z"
    }
   },
   "outputs": [],
   "source": [
    "del_L_del_theta = []\n",
    "for i in range(int(len(X_train))):\n",
    "    del_L_del_theta.append(convert_grad_to_ndarray(del_L_del_theta_i(clf, X_train[i], y_train[i])))"
   ]
  },
  {
   "cell_type": "markdown",
   "metadata": {},
   "source": [
    "*Select delta fairness function depending on selected metric*"
   ]
  },
  {
   "cell_type": "code",
   "execution_count": 26,
   "metadata": {
    "ExecuteTime": {
     "end_time": "2021-05-08T05:36:37.564236Z",
     "start_time": "2021-05-08T05:36:37.390986Z"
    }
   },
   "outputs": [],
   "source": [
    "metric = 0\n",
    "if metric == 0:\n",
    "    v1 = del_spd_del_theta(clf, X_test_orig, X_test)\n",
    "elif metric == 1:\n",
    "    v1 = del_tpr_parity_del_theta(clf, X_test_orig, X_test, y_test)\n",
    "elif metric == 2:\n",
    "    v1 = del_predictive_parity_del_theta(clf, X_test_orig, X_test, y_test)"
   ]
  },
  {
   "cell_type": "code",
   "execution_count": 27,
   "metadata": {
    "ExecuteTime": {
     "end_time": "2021-05-08T05:36:37.580703Z",
     "start_time": "2021-05-08T05:36:37.566397Z"
    }
   },
   "outputs": [],
   "source": [
    "hinv_v = s_test(clf, X_train, y_train, v1, r=5000, verbose=False)"
   ]
  },
  {
   "cell_type": "markdown",
   "metadata": {},
   "source": [
    "**First-order influence of each training data point**"
   ]
  },
  {
   "cell_type": "code",
   "execution_count": 28,
   "metadata": {
    "ExecuteTime": {
     "end_time": "2021-05-08T05:36:37.594952Z",
     "start_time": "2021-05-08T05:36:37.585075Z"
    }
   },
   "outputs": [],
   "source": [
    "infs_1 = first_order_influence(del_L_del_theta, hinv_v, len(X_train))"
   ]
  },
  {
   "cell_type": "markdown",
   "metadata": {},
   "source": [
    "**Checking ground truth, first-order and second-order influences for a set**"
   ]
  },
  {
   "cell_type": "code",
   "execution_count": 29,
   "metadata": {
    "ExecuteTime": {
     "end_time": "2021-05-08T05:36:38.186438Z",
     "start_time": "2021-05-08T05:36:37.597610Z"
    },
    "scrolled": false
   },
   "outputs": [
    {
     "name": "stdout",
     "output_type": "stream",
     "text": [
      "Statistical parity \n",
      "First-order influence:  0.008371113247583627\n",
      "Second-order influence:  0.01315802168565447\n",
      "#Rows removed:  161\n",
      "#Rows left:  639\n",
      "Ground truth influence of subset (on statistical parity):  0.19263299780432142\n",
      "Ground truth influence of subset (on tpr parity):  0.1793093003819637\n",
      "Ground truth influence of subset (on predictive parity):  -0.031184821138505958\n",
      "Ground truth statistical parity after removing subset:  0.08042041822336621\n",
      "Ground truth tpr parity after removing subset:  0.09278710948200808\n",
      "Ground truth predictive parity after removing subset:  0.09278710948200808\n",
      "Loss after removing subset:  0.5218575579728556\n",
      "Accuracy after removing subset:  0.735\n"
     ]
    }
   ],
   "source": [
    "metric = 0\n",
    "if metric == 0:\n",
    "    print(\"Statistical parity \")\n",
    "elif metric == 1:\n",
    "    print(\"True positive rate parity \")\n",
    "elif metric == 2:\n",
    "    print(\"Predictive parity\")\n",
    "    \n",
    "active = 1\n",
    "if active:\n",
    "    predicates = ['age']\n",
    "    idx = X_train_orig.index \n",
    "    for pred in predicates:\n",
    "        idx0 = X_train_orig[(X_train_orig[pred] == 1)].index \n",
    "        idx = idx.intersection(idx0)\n",
    "\n",
    "    del_f_1 = 0\n",
    "    for i in range(len(idx)):\n",
    "        del_f_1 += infs_1[idx[i]]\n",
    "    print(\"First-order influence: \", del_f_1)\n",
    "\n",
    "    params_f_2 = second_order_influence(clf, X_train, y_train, idx, del_L_del_theta, r=5000)\n",
    "    del_f_2 = np.dot(v1.transpose(), params_f_2)\n",
    "    print(\"Second-order influence: \", del_f_2)\n",
    "    \n",
    "    print(\"#Rows removed: \", len(idx))\n",
    "    print(\"#Rows left: \", len(X_train) - len(idx))\n",
    "    X = np.delete(X_train, idx, 0)\n",
    "    y = y_train.drop(index=idx, inplace=False)\n",
    "    clf.fit(np.array(X), np.array(y))\n",
    "    y_pred_test = clf.predict_proba(X_test)\n",
    "    print(\"Ground truth influence of subset (on statistical parity): \", computeFairness(y_pred_test, X_test_orig, y_test, 0) - spd_0)\n",
    "    print(\"Ground truth influence of subset (on tpr parity): \", computeFairness(y_pred_test, X_test_orig, y_test, 1) - tpr_parity_0)\n",
    "    print(\"Ground truth influence of subset (on predictive parity): \", computeFairness(y_pred_test, X_test_orig, y_test, 2) - predictive_parity_0)\n",
    "    \n",
    "    spd_1 = computeFairness(y_pred_test, X_test_orig, y_test, 0)\n",
    "    print(\"Ground truth statistical parity after removing subset: \", spd_1)\n",
    "    \n",
    "    tpr_parity_1 = computeFairness(y_pred_test, X_test_orig, y_test, 1)\n",
    "    print(\"Ground truth tpr parity after removing subset: \", tpr_parity_1)\n",
    "\n",
    "    predictive_parity_1 = computeFairness(y_pred_test, X_test_orig, y_test, 1)\n",
    "    print(\"Ground truth predictive parity after removing subset: \", predictive_parity_1)\n",
    "\n",
    "    loss_1 = logistic_loss(y_test, y_pred_test)\n",
    "    print(\"Loss after removing subset: \", loss_1)\n",
    "\n",
    "    accuracy_1 = computeAccuracy(y_test, y_pred_test)\n",
    "    print(\"Accuracy after removing subset: \", accuracy_1)"
   ]
  },
  {
   "cell_type": "markdown",
   "metadata": {},
   "source": [
    "**Fairness: Ground-truth subset influence vs. computed subset influences: Random subset**"
   ]
  },
  {
   "cell_type": "code",
   "execution_count": 30,
   "metadata": {
    "ExecuteTime": {
     "end_time": "2021-05-08T05:36:38.195789Z",
     "start_time": "2021-05-08T05:36:38.190177Z"
    }
   },
   "outputs": [],
   "source": [
    "# print(\"Ground-truth subset, Add 1st-order inf individual, Second-order subset influence\")\n",
    "# sampleSize = int(.2 * len(X_train))\n",
    "# for i in range(100):\n",
    "#     idx = random.sample(range(1, len(X_train)), sampleSize) \n",
    "    \n",
    "#     # Ground truth subset influence\n",
    "#     X = np.delete(X_train, idx, 0)\n",
    "#     y = y_train.drop(index=idx, inplace=False)\n",
    "#     clf.fit(X, y, learning_rate=.05)\n",
    "#     y_pred_test = clf.predict_proba(X_test)\n",
    "#     inf_gt = computeFairness(y_pred_test, X_test_orig, y_test, 0) - spd_0\n",
    "\n",
    "#     # First-order subset influence\n",
    "#     del_f_1 = 0\n",
    "#     for j in range(len(idx)):\n",
    "#         del_f_1 += infs_1[idx[j]]\n",
    "    \n",
    "#     # Second-order subset influence\n",
    "#     size_hvp = 1\n",
    "#     params_f_2 = second_order_influence(clf, X_train, y_train, idx, del_L_del_theta, r=5000)\n",
    "#     del_f_2 = np.dot(v1.transpose(), params_f_2)\n",
    "    \n",
    "#     print(inf_gt, del_f_1, del_f_2, sep=\", \")"
   ]
  },
  {
   "cell_type": "markdown",
   "metadata": {},
   "source": [
    "**Fairness: Ground-truth subset influence vs. computed subset influences: Coherent subset** \n",
    "\n",
    "(by coherent, we mean group of data points that share some properties)"
   ]
  },
  {
   "cell_type": "markdown",
   "metadata": {},
   "source": [
    "***NOTE:*** The retraining of the clf would cause the change in model parameters and thus lead to the change of gradients, so in this part, we first acquire all the first- and second-order influence functions together based on the original model. After all the influence functions are calculated, we retrain the model corresponding to different removed coherent subset of data and get the ground truth."
   ]
  },
  {
   "cell_type": "code",
   "execution_count": 31,
   "metadata": {
    "ExecuteTime": {
     "end_time": "2021-05-08T05:36:38.209473Z",
     "start_time": "2021-05-08T05:36:38.199410Z"
    }
   },
   "outputs": [],
   "source": [
    "# Get the original model\n",
    "clf = LogisticRegression()\n",
    "clf.fit(X_train, y_train)"
   ]
  },
  {
   "cell_type": "code",
   "execution_count": 32,
   "metadata": {
    "ExecuteTime": {
     "end_time": "2021-05-08T05:37:29.279421Z",
     "start_time": "2021-05-08T05:36:38.212693Z"
    },
    "scrolled": true
   },
   "outputs": [],
   "source": [
    "attributes = []\n",
    "attributeValues = []\n",
    "first_order_influences = []\n",
    "second_order_influences = []\n",
    "gt_influences = []\n",
    "fractionRows = []\n",
    "\n",
    "# print(\"Attribute, Value, Ground-truth subset, Add 1st-order inf individual, \\\n",
    "# Second-order subset influence, %rowsRemoved, Accuracy\")\n",
    "clf.fit(X_train, y_train)\n",
    "continuous_cols = ['duration', 'credit_amt', 'install_rate', 'num_credits', 'residence']\n",
    "for col in X_train_orig.columns:\n",
    "    if \"purpose\" in col or \"housing\" in col: #dummy variables purpose=0 doesn't make sense\n",
    "        vals = [1]\n",
    "    else:\n",
    "        vals = X_train_orig[col].unique()\n",
    "    for val in vals:\n",
    "#         print(col, val, sep=\": \")\n",
    "        idx = X_train_orig[X_train_orig[col] == val].index \n",
    "\n",
    "        # First-order subset influence\n",
    "        del_f_1 = 0            \n",
    "        for i in range(len(idx)):\n",
    "            del_f_1 += infs_1[idx[i]]\n",
    "\n",
    "        # Second-order subset influence\n",
    "        params_f_2 = second_order_influence(clf, X_train, y_train, idx, del_L_del_theta)\n",
    "        del_f_2 = np.dot(v1.transpose(), params_f_2)\n",
    "        \n",
    "        attributes.append(col)\n",
    "        attributeValues.append(val)\n",
    "        first_order_influences.append(del_f_1)\n",
    "        second_order_influences.append(del_f_2)\n",
    "#         gt_influences.append(inf_gt)\n",
    "        fractionRows.append(len(idx)/len(X_train)*100)\n",
    "\n",
    "#         print(col, val, inf_gt, del_f_1, del_f_2, len(idx)/len(X_train), accuracy, sep=\", \")"
   ]
  },
  {
   "cell_type": "code",
   "execution_count": 33,
   "metadata": {
    "ExecuteTime": {
     "end_time": "2021-05-08T05:37:30.462140Z",
     "start_time": "2021-05-08T05:37:29.281727Z"
    }
   },
   "outputs": [],
   "source": [
    "for col in X_train_orig.columns:\n",
    "    if \"purpose\" in col or \"housing\" in col: #dummy variables purpose=0 doesn't make sense\n",
    "        vals = [1]\n",
    "    else:\n",
    "        vals = X_train_orig[col].unique()\n",
    "    for val in vals:\n",
    "        idx = X_train_orig[X_train_orig[col] == val].index \n",
    "        X = np.delete(X_train, idx, 0)\n",
    "        y = y_train.drop(index=idx, inplace=False)\n",
    "        inf_gt = 0\n",
    "        if len(y.unique()) > 1:\n",
    "            # Ground truth subset influence\n",
    "            clf.fit(np.array(X), np.array(y))\n",
    "            y_pred = clf.predict_proba(np.array(X_test))\n",
    "            if metric == 0:\n",
    "                inf_gt = computeFairness(y_pred, X_test_orig, y_test, 0) - spd_0\n",
    "            elif metric == 1:\n",
    "                inf_gt = computeFairness(y_pred, X_test_orig, y_test, 1) - tpr_parity_0\n",
    "            elif metric == 2:\n",
    "                inf_gt = computeFairness(y_pred, X_test_orig, y_test, 2) - predictive_parity_0\n",
    "            accuracy = computeAccuracy(y_test, y_pred)\n",
    "        gt_influences.append(inf_gt)"
   ]
  },
  {
   "cell_type": "code",
   "execution_count": 34,
   "metadata": {
    "ExecuteTime": {
     "end_time": "2021-05-08T05:37:30.490681Z",
     "start_time": "2021-05-08T05:37:30.467472Z"
    }
   },
   "outputs": [],
   "source": [
    "expl = [attributes, attributeValues, first_order_influences, second_order_influences, gt_influences, fractionRows]\n",
    "expl = (np.array(expl).T).tolist()\n",
    "\n",
    "explanations = pd.DataFrame(expl, columns=[\"attributes\", \"attributeValues\", \"first_order_influences\", \"second_order_influences\", \"gt_influences\", \"fractionRows\"])"
   ]
  },
  {
   "cell_type": "code",
   "execution_count": 35,
   "metadata": {
    "ExecuteTime": {
     "end_time": "2021-05-08T05:37:30.537286Z",
     "start_time": "2021-05-08T05:37:30.497938Z"
    }
   },
   "outputs": [
    {
     "data": {
      "text/html": [
       "<div>\n",
       "<style scoped>\n",
       "    .dataframe tbody tr th:only-of-type {\n",
       "        vertical-align: middle;\n",
       "    }\n",
       "\n",
       "    .dataframe tbody tr th {\n",
       "        vertical-align: top;\n",
       "    }\n",
       "\n",
       "    .dataframe thead th {\n",
       "        text-align: right;\n",
       "    }\n",
       "</style>\n",
       "<table border=\"1\" class=\"dataframe\">\n",
       "  <thead>\n",
       "    <tr style=\"text-align: right;\">\n",
       "      <th></th>\n",
       "      <th>attributes</th>\n",
       "      <th>attributeValues</th>\n",
       "      <th>first_order_influences</th>\n",
       "      <th>second_order_influences</th>\n",
       "      <th>gt_influences</th>\n",
       "      <th>fractionRows</th>\n",
       "    </tr>\n",
       "  </thead>\n",
       "  <tbody>\n",
       "    <tr>\n",
       "      <th>19</th>\n",
       "      <td>savings</td>\n",
       "      <td>0</td>\n",
       "      <td>0.026678158068527618</td>\n",
       "      <td>0.07559122635699916</td>\n",
       "      <td>0.0739453701069579</td>\n",
       "      <td>60.25</td>\n",
       "    </tr>\n",
       "    <tr>\n",
       "      <th>53</th>\n",
       "      <td>num_liable</td>\n",
       "      <td>1</td>\n",
       "      <td>0.027440206584480716</td>\n",
       "      <td>0.0670064319435637</td>\n",
       "      <td>0.028642490430502265</td>\n",
       "      <td>85.5</td>\n",
       "    </tr>\n",
       "    <tr>\n",
       "      <th>69</th>\n",
       "      <td>gender</td>\n",
       "      <td>0</td>\n",
       "      <td>0.03441696389243348</td>\n",
       "      <td>0.0472832586045665</td>\n",
       "      <td>0.041324158152565404</td>\n",
       "      <td>32.125</td>\n",
       "    </tr>\n",
       "    <tr>\n",
       "      <th>36</th>\n",
       "      <td>residence</td>\n",
       "      <td>2</td>\n",
       "      <td>0.03172076846950626</td>\n",
       "      <td>0.045867903094701346</td>\n",
       "      <td>0.04739787077996882</td>\n",
       "      <td>31.125000000000004</td>\n",
       "    </tr>\n",
       "    <tr>\n",
       "      <th>56</th>\n",
       "      <td>telephone</td>\n",
       "      <td>1</td>\n",
       "      <td>0.022517527722862248</td>\n",
       "      <td>0.04048863105610448</td>\n",
       "      <td>0.03823116538114846</td>\n",
       "      <td>39.625</td>\n",
       "    </tr>\n",
       "    <tr>\n",
       "      <th>26</th>\n",
       "      <td>install_rate</td>\n",
       "      <td>4</td>\n",
       "      <td>0.016100150172919492</td>\n",
       "      <td>0.034992068659528336</td>\n",
       "      <td>0.036845452967099845</td>\n",
       "      <td>47.625</td>\n",
       "    </tr>\n",
       "    <tr>\n",
       "      <th>13</th>\n",
       "      <td>credit_amt</td>\n",
       "      <td>0</td>\n",
       "      <td>0.015691412180983216</td>\n",
       "      <td>0.03478706489288467</td>\n",
       "      <td>0.032398425578139656</td>\n",
       "      <td>44.0</td>\n",
       "    </tr>\n",
       "    <tr>\n",
       "      <th>44</th>\n",
       "      <td>install_plans</td>\n",
       "      <td>1</td>\n",
       "      <td>0.018818691924672976</td>\n",
       "      <td>0.029347888698934177</td>\n",
       "      <td>0.05692533720284698</td>\n",
       "      <td>19.5</td>\n",
       "    </tr>\n",
       "    <tr>\n",
       "      <th>45</th>\n",
       "      <td>num_credits</td>\n",
       "      <td>1</td>\n",
       "      <td>0.007625214326498943</td>\n",
       "      <td>0.028977230079090033</td>\n",
       "      <td>0.03082095127465434</td>\n",
       "      <td>63.125</td>\n",
       "    </tr>\n",
       "    <tr>\n",
       "      <th>63</th>\n",
       "      <td>purpose_A43</td>\n",
       "      <td>1</td>\n",
       "      <td>0.02125102673870723</td>\n",
       "      <td>0.026903268416805903</td>\n",
       "      <td>0.04513004585169256</td>\n",
       "      <td>28.125</td>\n",
       "    </tr>\n",
       "  </tbody>\n",
       "</table>\n",
       "</div>"
      ],
      "text/plain": [
       "       attributes attributeValues first_order_influences  \\\n",
       "19        savings               0   0.026678158068527618   \n",
       "53     num_liable               1   0.027440206584480716   \n",
       "69         gender               0    0.03441696389243348   \n",
       "36      residence               2    0.03172076846950626   \n",
       "56      telephone               1   0.022517527722862248   \n",
       "26   install_rate               4   0.016100150172919492   \n",
       "13     credit_amt               0   0.015691412180983216   \n",
       "44  install_plans               1   0.018818691924672976   \n",
       "45    num_credits               1   0.007625214326498943   \n",
       "63    purpose_A43               1    0.02125102673870723   \n",
       "\n",
       "   second_order_influences         gt_influences        fractionRows  \n",
       "19     0.07559122635699916    0.0739453701069579               60.25  \n",
       "53      0.0670064319435637  0.028642490430502265                85.5  \n",
       "69      0.0472832586045665  0.041324158152565404              32.125  \n",
       "36    0.045867903094701346   0.04739787077996882  31.125000000000004  \n",
       "56     0.04048863105610448   0.03823116538114846              39.625  \n",
       "26    0.034992068659528336  0.036845452967099845              47.625  \n",
       "13     0.03478706489288467  0.032398425578139656                44.0  \n",
       "44    0.029347888698934177   0.05692533720284698                19.5  \n",
       "45    0.028977230079090033   0.03082095127465434              63.125  \n",
       "63    0.026903268416805903   0.04513004585169256              28.125  "
      ]
     },
     "execution_count": 35,
     "metadata": {},
     "output_type": "execute_result"
    }
   ],
   "source": [
    "explanations.sort_values(by=['second_order_influences'], ascending=False).head(10)"
   ]
  },
  {
   "cell_type": "code",
   "execution_count": 36,
   "metadata": {
    "ExecuteTime": {
     "end_time": "2021-05-08T05:37:30.584747Z",
     "start_time": "2021-05-08T05:37:30.549362Z"
    }
   },
   "outputs": [
    {
     "data": {
      "text/html": [
       "<div>\n",
       "<style scoped>\n",
       "    .dataframe tbody tr th:only-of-type {\n",
       "        vertical-align: middle;\n",
       "    }\n",
       "\n",
       "    .dataframe tbody tr th {\n",
       "        vertical-align: top;\n",
       "    }\n",
       "\n",
       "    .dataframe thead th {\n",
       "        text-align: right;\n",
       "    }\n",
       "</style>\n",
       "<table border=\"1\" class=\"dataframe\">\n",
       "  <thead>\n",
       "    <tr style=\"text-align: right;\">\n",
       "      <th></th>\n",
       "      <th>attributes</th>\n",
       "      <th>attributeValues</th>\n",
       "      <th>first_order_influences</th>\n",
       "      <th>second_order_influences</th>\n",
       "      <th>gt_influences</th>\n",
       "      <th>fractionRows</th>\n",
       "    </tr>\n",
       "  </thead>\n",
       "  <tbody>\n",
       "    <tr>\n",
       "      <th>42</th>\n",
       "      <td>age</td>\n",
       "      <td>1</td>\n",
       "      <td>0.008371113247583627</td>\n",
       "      <td>0.01315802168565447</td>\n",
       "      <td>0.19263299780432142</td>\n",
       "      <td>20.125</td>\n",
       "    </tr>\n",
       "    <tr>\n",
       "      <th>57</th>\n",
       "      <td>foreign_worker</td>\n",
       "      <td>1</td>\n",
       "      <td>0.005896798552599403</td>\n",
       "      <td>0.011304330346888491</td>\n",
       "      <td>0.0774572879337938</td>\n",
       "      <td>96.25</td>\n",
       "    </tr>\n",
       "    <tr>\n",
       "      <th>19</th>\n",
       "      <td>savings</td>\n",
       "      <td>0</td>\n",
       "      <td>0.026678158068527618</td>\n",
       "      <td>0.07559122635699916</td>\n",
       "      <td>0.0739453701069579</td>\n",
       "      <td>60.25</td>\n",
       "    </tr>\n",
       "    <tr>\n",
       "      <th>44</th>\n",
       "      <td>install_plans</td>\n",
       "      <td>1</td>\n",
       "      <td>0.018818691924672976</td>\n",
       "      <td>0.029347888698934177</td>\n",
       "      <td>0.05692533720284698</td>\n",
       "      <td>19.5</td>\n",
       "    </tr>\n",
       "    <tr>\n",
       "      <th>36</th>\n",
       "      <td>residence</td>\n",
       "      <td>2</td>\n",
       "      <td>0.03172076846950626</td>\n",
       "      <td>0.045867903094701346</td>\n",
       "      <td>0.04739787077996882</td>\n",
       "      <td>31.125000000000004</td>\n",
       "    </tr>\n",
       "    <tr>\n",
       "      <th>63</th>\n",
       "      <td>purpose_A43</td>\n",
       "      <td>1</td>\n",
       "      <td>0.02125102673870723</td>\n",
       "      <td>0.026903268416805903</td>\n",
       "      <td>0.04513004585169256</td>\n",
       "      <td>28.125</td>\n",
       "    </tr>\n",
       "    <tr>\n",
       "      <th>69</th>\n",
       "      <td>gender</td>\n",
       "      <td>0</td>\n",
       "      <td>0.03441696389243348</td>\n",
       "      <td>0.0472832586045665</td>\n",
       "      <td>0.041324158152565404</td>\n",
       "      <td>32.125</td>\n",
       "    </tr>\n",
       "    <tr>\n",
       "      <th>56</th>\n",
       "      <td>telephone</td>\n",
       "      <td>1</td>\n",
       "      <td>0.022517527722862248</td>\n",
       "      <td>0.04048863105610448</td>\n",
       "      <td>0.03823116538114846</td>\n",
       "      <td>39.625</td>\n",
       "    </tr>\n",
       "    <tr>\n",
       "      <th>26</th>\n",
       "      <td>install_rate</td>\n",
       "      <td>4</td>\n",
       "      <td>0.016100150172919492</td>\n",
       "      <td>0.034992068659528336</td>\n",
       "      <td>0.036845452967099845</td>\n",
       "      <td>47.625</td>\n",
       "    </tr>\n",
       "    <tr>\n",
       "      <th>13</th>\n",
       "      <td>credit_amt</td>\n",
       "      <td>0</td>\n",
       "      <td>0.015691412180983216</td>\n",
       "      <td>0.03478706489288467</td>\n",
       "      <td>0.032398425578139656</td>\n",
       "      <td>44.0</td>\n",
       "    </tr>\n",
       "  </tbody>\n",
       "</table>\n",
       "</div>"
      ],
      "text/plain": [
       "        attributes attributeValues first_order_influences  \\\n",
       "42             age               1   0.008371113247583627   \n",
       "57  foreign_worker               1   0.005896798552599403   \n",
       "19         savings               0   0.026678158068527618   \n",
       "44   install_plans               1   0.018818691924672976   \n",
       "36       residence               2    0.03172076846950626   \n",
       "63     purpose_A43               1    0.02125102673870723   \n",
       "69          gender               0    0.03441696389243348   \n",
       "56       telephone               1   0.022517527722862248   \n",
       "26    install_rate               4   0.016100150172919492   \n",
       "13      credit_amt               0   0.015691412180983216   \n",
       "\n",
       "   second_order_influences         gt_influences        fractionRows  \n",
       "42     0.01315802168565447   0.19263299780432142              20.125  \n",
       "57    0.011304330346888491    0.0774572879337938               96.25  \n",
       "19     0.07559122635699916    0.0739453701069579               60.25  \n",
       "44    0.029347888698934177   0.05692533720284698                19.5  \n",
       "36    0.045867903094701346   0.04739787077996882  31.125000000000004  \n",
       "63    0.026903268416805903   0.04513004585169256              28.125  \n",
       "69      0.0472832586045665  0.041324158152565404              32.125  \n",
       "56     0.04048863105610448   0.03823116538114846              39.625  \n",
       "26    0.034992068659528336  0.036845452967099845              47.625  \n",
       "13     0.03478706489288467  0.032398425578139656                44.0  "
      ]
     },
     "execution_count": 36,
     "metadata": {},
     "output_type": "execute_result"
    }
   ],
   "source": [
    "explanations.sort_values(by=['gt_influences'], ascending=False).head(10)"
   ]
  },
  {
   "cell_type": "code",
   "execution_count": 37,
   "metadata": {
    "ExecuteTime": {
     "end_time": "2021-05-08T05:37:30.635902Z",
     "start_time": "2021-05-08T05:37:30.587865Z"
    }
   },
   "outputs": [
    {
     "data": {
      "text/html": [
       "<div>\n",
       "<style scoped>\n",
       "    .dataframe tbody tr th:only-of-type {\n",
       "        vertical-align: middle;\n",
       "    }\n",
       "\n",
       "    .dataframe tbody tr th {\n",
       "        vertical-align: top;\n",
       "    }\n",
       "\n",
       "    .dataframe thead th {\n",
       "        text-align: right;\n",
       "    }\n",
       "</style>\n",
       "<table border=\"1\" class=\"dataframe\">\n",
       "  <thead>\n",
       "    <tr style=\"text-align: right;\">\n",
       "      <th></th>\n",
       "      <th>attributes</th>\n",
       "      <th>attributeValues</th>\n",
       "      <th>first_order_influences</th>\n",
       "      <th>second_order_influences</th>\n",
       "      <th>gt_influences</th>\n",
       "      <th>fractionRows</th>\n",
       "    </tr>\n",
       "  </thead>\n",
       "  <tbody>\n",
       "    <tr>\n",
       "      <th>57</th>\n",
       "      <td>foreign_worker</td>\n",
       "      <td>1</td>\n",
       "      <td>0.005896798552599403</td>\n",
       "      <td>0.011304330346888491</td>\n",
       "      <td>0.0774572879337938</td>\n",
       "      <td>96.25</td>\n",
       "    </tr>\n",
       "    <tr>\n",
       "      <th>30</th>\n",
       "      <td>debtors</td>\n",
       "      <td>0</td>\n",
       "      <td>-0.0165642271436908</td>\n",
       "      <td>-0.08540457310834171</td>\n",
       "      <td>-0.21674832820499434</td>\n",
       "      <td>90.625</td>\n",
       "    </tr>\n",
       "    <tr>\n",
       "      <th>17</th>\n",
       "      <td>savings</td>\n",
       "      <td>1</td>\n",
       "      <td>-0.021657135094479803</td>\n",
       "      <td>-0.026509145834043166</td>\n",
       "      <td>-0.026234488189220362</td>\n",
       "      <td>9.625</td>\n",
       "    </tr>\n",
       "    <tr>\n",
       "      <th>68</th>\n",
       "      <td>purpose_A49</td>\n",
       "      <td>1</td>\n",
       "      <td>-0.014255080506697358</td>\n",
       "      <td>-0.01540782057240802</td>\n",
       "      <td>-0.03266845985781397</td>\n",
       "      <td>9.375</td>\n",
       "    </tr>\n",
       "    <tr>\n",
       "      <th>12</th>\n",
       "      <td>credit_hist</td>\n",
       "      <td>1</td>\n",
       "      <td>-0.016920180232477124</td>\n",
       "      <td>-0.020088396664309782</td>\n",
       "      <td>-0.019690376892685935</td>\n",
       "      <td>9.25</td>\n",
       "    </tr>\n",
       "    <tr>\n",
       "      <th>53</th>\n",
       "      <td>num_liable</td>\n",
       "      <td>1</td>\n",
       "      <td>0.027440206584480716</td>\n",
       "      <td>0.0670064319435637</td>\n",
       "      <td>0.028642490430502265</td>\n",
       "      <td>85.5</td>\n",
       "    </tr>\n",
       "    <tr>\n",
       "      <th>43</th>\n",
       "      <td>install_plans</td>\n",
       "      <td>0</td>\n",
       "      <td>-0.01828655953548822</td>\n",
       "      <td>0.002483971389173334</td>\n",
       "      <td>-0.12793695204891264</td>\n",
       "      <td>80.5</td>\n",
       "    </tr>\n",
       "    <tr>\n",
       "      <th>7</th>\n",
       "      <td>duration</td>\n",
       "      <td>3</td>\n",
       "      <td>0.006051679052773555</td>\n",
       "      <td>0.005432316719380728</td>\n",
       "      <td>0.00428324942477043</td>\n",
       "      <td>8.25</td>\n",
       "    </tr>\n",
       "    <tr>\n",
       "      <th>41</th>\n",
       "      <td>age</td>\n",
       "      <td>0</td>\n",
       "      <td>-0.007838980858398889</td>\n",
       "      <td>-0.03474028035501764</td>\n",
       "      <td>-0.19921144149166142</td>\n",
       "      <td>79.875</td>\n",
       "    </tr>\n",
       "    <tr>\n",
       "      <th>72</th>\n",
       "      <td>housing_A152</td>\n",
       "      <td>1</td>\n",
       "      <td>0.01685208282993916</td>\n",
       "      <td>0.014949807761211353</td>\n",
       "      <td>-0.0395715486665722</td>\n",
       "      <td>70.0</td>\n",
       "    </tr>\n",
       "  </tbody>\n",
       "</table>\n",
       "</div>"
      ],
      "text/plain": [
       "        attributes attributeValues first_order_influences  \\\n",
       "57  foreign_worker               1   0.005896798552599403   \n",
       "30         debtors               0    -0.0165642271436908   \n",
       "17         savings               1  -0.021657135094479803   \n",
       "68     purpose_A49               1  -0.014255080506697358   \n",
       "12     credit_hist               1  -0.016920180232477124   \n",
       "53      num_liable               1   0.027440206584480716   \n",
       "43   install_plans               0   -0.01828655953548822   \n",
       "7         duration               3   0.006051679052773555   \n",
       "41             age               0  -0.007838980858398889   \n",
       "72    housing_A152               1    0.01685208282993916   \n",
       "\n",
       "   second_order_influences          gt_influences fractionRows  \n",
       "57    0.011304330346888491     0.0774572879337938        96.25  \n",
       "30    -0.08540457310834171   -0.21674832820499434       90.625  \n",
       "17   -0.026509145834043166  -0.026234488189220362        9.625  \n",
       "68    -0.01540782057240802   -0.03266845985781397        9.375  \n",
       "12   -0.020088396664309782  -0.019690376892685935         9.25  \n",
       "53      0.0670064319435637   0.028642490430502265         85.5  \n",
       "43    0.002483971389173334   -0.12793695204891264         80.5  \n",
       "7     0.005432316719380728    0.00428324942477043         8.25  \n",
       "41    -0.03474028035501764   -0.19921144149166142       79.875  \n",
       "72    0.014949807761211353    -0.0395715486665722         70.0  "
      ]
     },
     "execution_count": 37,
     "metadata": {},
     "output_type": "execute_result"
    }
   ],
   "source": [
    "explanations.sort_values(by=['fractionRows'], ascending=False).head(10)"
   ]
  },
  {
   "cell_type": "code",
   "execution_count": 38,
   "metadata": {
    "ExecuteTime": {
     "end_time": "2021-05-08T05:37:30.671277Z",
     "start_time": "2021-05-08T05:37:30.641701Z"
    }
   },
   "outputs": [],
   "source": [
    "import scipy.stats as ss\n",
    "explanations[\"gt_rank\"] = len(explanations) - ss.rankdata(explanations[\"gt_influences\"])\n",
    "explanations[\"so_rank\"] = len(explanations) - ss.rankdata(explanations[\"second_order_influences\"])"
   ]
  },
  {
   "cell_type": "code",
   "execution_count": 39,
   "metadata": {
    "ExecuteTime": {
     "end_time": "2021-05-08T05:37:30.708017Z",
     "start_time": "2021-05-08T05:37:30.675962Z"
    }
   },
   "outputs": [
    {
     "data": {
      "text/plain": [
       "KendalltauResult(correlation=0.6971492039985192, pvalue=1.5297364709033573e-18)"
      ]
     },
     "execution_count": 39,
     "metadata": {},
     "output_type": "execute_result"
    }
   ],
   "source": [
    "stats.kendalltau(explanations[\"gt_rank\"], explanations[\"so_rank\"])"
   ]
  },
  {
   "cell_type": "code",
   "execution_count": 44,
   "metadata": {
    "ExecuteTime": {
     "end_time": "2021-05-08T05:49:39.785141Z",
     "start_time": "2021-05-08T05:49:39.464397Z"
    }
   },
   "outputs": [
    {
     "data": {
      "text/plain": [
       "<matplotlib.legend.Legend at 0x127c28438>"
      ]
     },
     "execution_count": 44,
     "metadata": {},
     "output_type": "execute_result"
    },
    {
     "data": {
      "image/png": "[encoded data removed]",
      "text/plain": [
       "<Figure size 360x360 with 1 Axes>"
      ]
     },
     "metadata": {
      "needs_background": "light"
     },
     "output_type": "display_data"
    }
   ],
   "source": [
    "plt.figure(figsize=(5,5))\n",
    "xs = (np.arange(30)-15)/15*0.2\n",
    "ys = xs\n",
    "plt.plot(xs, ys, 'g')\n",
    "plt.scatter(gt_influences, first_order_influences, s=10, c='blue', label='first')\n",
    "plt.scatter(gt_influences, second_order_influences, s=10, c='orange', label='second')\n",
    "plt.xlabel('estimated influence')\n",
    "plt.ylabel('ground truth influence')\n",
    "plt.legend()"
   ]
  },
  {
   "cell_type": "code",
   "execution_count": 41,
   "metadata": {
    "ExecuteTime": {
     "end_time": "2021-05-08T05:37:31.270123Z",
     "start_time": "2021-05-08T05:37:31.242896Z"
    }
   },
   "outputs": [],
   "source": [
    "# bucket_num = 10\n",
    "fractionRows = np.array(fractionRows)\n",
    "gt_influences = np.array(gt_influences)\n",
    "first_order_influences = np.array(first_order_influences)\n",
    "second_order_influences = np.array(second_order_influences)\n",
    "corr_first_gt_ls = []\n",
    "corr_second_gt_ls = []\n",
    "for bucket_id in range(10):\n",
    "    is_in_bucket = np.logical_and(fractionRows>=bucket_id*10, fractionRows<(bucket_id+1)*10)\n",
    "    corr_first_gt = np.corrcoef([gt_influences[is_in_bucket], first_order_influences[is_in_bucket]])[0][1]\n",
    "    if np.isnan(corr_first_gt):\n",
    "        corr_first_gt = 0\n",
    "    corr_second_gt = np.corrcoef([gt_influences[is_in_bucket], second_order_influences[is_in_bucket]])[0][1]\n",
    "    if np.isnan(corr_second_gt):\n",
    "        corr_second_gt = 0\n",
    "    corr_first_gt_ls.append(corr_first_gt)\n",
    "    corr_second_gt_ls.append(corr_second_gt)"
   ]
  },
  {
   "cell_type": "code",
   "execution_count": 42,
   "metadata": {
    "ExecuteTime": {
     "end_time": "2021-05-08T05:37:31.960670Z",
     "start_time": "2021-05-08T05:37:31.272863Z"
    },
    "scrolled": false
   },
   "outputs": [
    {
     "data": {
      "image/png": "[encoded data removed]",
      "text/plain": [
       "<Figure size 576x576 with 1 Axes>"
      ]
     },
     "metadata": {
      "needs_background": "light"
     },
     "output_type": "display_data"
    }
   ],
   "source": [
    "plt.figure(figsize=(8,8))\n",
    "bar_width=0.3\n",
    "tick_label=[f'{i*10}%-{(i+1)*10}%' for i in range(10)]\n",
    "plt.bar(np.arange(10), corr_first_gt_ls, bar_width, color='blue', label='first')\n",
    "plt.bar(np.arange(10)+bar_width, corr_second_gt_ls, bar_width, color='orange', label='second')\n",
    "plt.legend(fontsize=12)\n",
    "plt.xticks(np.arange(10)+bar_width/2, tick_label, rotation=20, fontsize=12)\n",
    "plt.xlabel('Row Fraction', fontsize=20)\n",
    "plt.ylabel('Pearson Correlation', fontsize=20)\n",
    "plt.show()"
   ]
  },
  {
   "cell_type": "markdown",
   "metadata": {
    "ExecuteTime": {
     "end_time": "2021-05-07T17:47:30.518658Z",
     "start_time": "2021-05-07T17:47:30.511518Z"
    }
   },
   "source": [
    "less than 2 coherent subsets correspond to the bracket 50%-60%, therefore cannot compute corrsponding pearson correlation"
   ]
  },
  {
   "cell_type": "code",
   "execution_count": 43,
   "metadata": {
    "ExecuteTime": {
     "end_time": "2021-05-08T05:37:34.123274Z",
     "start_time": "2021-05-08T05:37:31.968806Z"
    }
   },
   "outputs": [
    {
     "data": {
      "image/png": "[encoded data removed]",
      "text/plain": [
       "<Figure size 1080x432 with 10 Axes>"
      ]
     },
     "metadata": {
      "needs_background": "light"
     },
     "output_type": "display_data"
    }
   ],
   "source": [
    "plt.figure(figsize=(15, 6))\n",
    "for bucket_id in range(10):\n",
    "    plt.subplot(2, 5, bucket_id+1)\n",
    "    is_in_bucket = np.logical_and(fractionRows>=bucket_id*10, fractionRows<(bucket_id+1)*10)\n",
    "    xs = (np.arange(30)-15)/15*0.2\n",
    "    ys = xs\n",
    "    plt.plot(xs, ys, 'g')\n",
    "    plt.scatter(gt_influences[is_in_bucket], first_order_influences[is_in_bucket], s=10, c='blue', label='first')\n",
    "    plt.scatter(gt_influences[is_in_bucket], second_order_influences[is_in_bucket], s=10, c='orange', label='second')\n",
    "    plt.legend()\n",
    "    plt.title(f'Fraction: {bucket_id*10}%-{(bucket_id+1)*10}%')\n",
    "plt.tight_layout()\n",
    "plt.show()"
   ]
  },
  {
   "cell_type": "markdown",
   "metadata": {},
   "source": [
    "For buckets which include only small num of coherent subsets (many of them corresponds to high row fraction), the pearson correlation can be less meaningful. However, from the scatter plots above, we can see that the estimation of influence function tends to be more accurate when the row fractions are relatively low, meanwhile, low row fraction leads to low overall influence (change of metrics caused by removing the subset) of coherent subsets."
   ]
  },
  {
   "cell_type": "code",
   "execution_count": null,
   "metadata": {},
   "outputs": [],
   "source": []
  }
 ],
 "metadata": {
  "kernelspec": {
   "display_name": "Python 3",
   "language": "python",
   "name": "python3"
  },
  "language_info": {
   "codemirror_mode": {
    "name": "ipython",
    "version": 3
   },
   "file_extension": ".py",
   "mimetype": "text/x-python",
   "name": "python",
   "nbconvert_exporter": "python",
   "pygments_lexer": "ipython3",
   "version": "3.6.5"
  }
 },
 "nbformat": 4,
 "nbformat_minor": 4
}
