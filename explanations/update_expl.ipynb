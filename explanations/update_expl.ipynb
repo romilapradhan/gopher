{
 "cells": [
  {
   "cell_type": "code",
   "execution_count": 1,
   "metadata": {
    "ExecuteTime": {
     "end_time": "2022-09-03T00:02:32.659507Z",
     "start_time": "2022-09-03T00:02:31.639528Z"
    }
   },
   "outputs": [
    {
     "data": {
      "text/plain": [
       "<torch._C.Generator at 0x173267fb0>"
      ]
     },
     "execution_count": 1,
     "metadata": {},
     "output_type": "execute_result"
    }
   ],
   "source": [
    "import pandas as pd\n",
    "import copy\n",
    "import random\n",
    "from load_dataset import load\n",
    "from classifier import NeuralNetwork, LogisticRegression, SVM\n",
    "from utils import *\n",
    "from metrics import *  # include fairness and corresponding derivatives\n",
    "from expl import get_update_expl\n",
    "from influence import *\n",
    "from scipy.optimize import Bounds, minimize\n",
    "\n",
    "random.seed(1)\n",
    "np.random.seed(1)\n",
    "torch.manual_seed(1)"
   ]
  },
  {
   "cell_type": "code",
   "execution_count": 2,
   "metadata": {
    "ExecuteTime": {
     "end_time": "2022-09-03T00:02:32.662320Z",
     "start_time": "2022-09-03T00:02:32.660737Z"
    }
   },
   "outputs": [],
   "source": [
    "# ignore all the warnings\n",
    "import warnings\n",
    "warnings.filterwarnings('ignore') "
   ]
  },
  {
   "cell_type": "markdown",
   "metadata": {},
   "source": [
    "**Load Dataset**"
   ]
  },
  {
   "cell_type": "code",
   "execution_count": 3,
   "metadata": {
    "ExecuteTime": {
     "end_time": "2022-09-03T00:02:32.682477Z",
     "start_time": "2022-09-03T00:02:32.664159Z"
    },
    "code_folding": [
     0
    ]
   },
   "outputs": [],
   "source": [
    "dataset = 'german'\n",
    "X_train, X_test, y_train, y_test = load(dataset)"
   ]
  },
  {
   "cell_type": "code",
   "execution_count": 4,
   "metadata": {
    "ExecuteTime": {
     "end_time": "2022-09-03T00:02:32.688925Z",
     "start_time": "2022-09-03T00:02:32.683918Z"
    },
    "code_folding": []
   },
   "outputs": [],
   "source": [
    "X_train_orig = copy.deepcopy(X_train)\n",
    "X_test_orig = copy.deepcopy(X_test)\n",
    "\n",
    "from sklearn.preprocessing import StandardScaler\n",
    "sc = StandardScaler()\n",
    "X_train = sc.fit_transform(X_train)\n",
    "X_test = sc.transform(X_test)"
   ]
  },
  {
   "cell_type": "markdown",
   "metadata": {},
   "source": [
    "**Loss function** (Log loss for logistic regression)"
   ]
  },
  {
   "cell_type": "code",
   "execution_count": 5,
   "metadata": {
    "ExecuteTime": {
     "end_time": "2022-09-03T00:02:32.693354Z",
     "start_time": "2022-09-03T00:02:32.689858Z"
    }
   },
   "outputs": [],
   "source": [
    "# clf = NeuralNetwork(input_size=X_train.shape[-1])\n",
    "clf = LogisticRegression(input_size=X_train.shape[-1])\n",
    "# clf = SVM(input_size=X_train.shape[-1])\n",
    "num_params = len(convert_grad_to_ndarray(list(clf.parameters())))\n",
    "if isinstance(clf, LogisticRegression):\n",
    "    loss_func = logistic_loss_torch\n",
    "elif isinstance(clf, SVM):\n",
    "    loss_func = svm_loss_torch\n",
    "elif isinstance(clf, NeuralNetwork):\n",
    "    loss_func = nn_loss_torch"
   ]
  },
  {
   "cell_type": "code",
   "execution_count": 6,
   "metadata": {
    "ExecuteTime": {
     "end_time": "2022-09-03T00:02:32.748064Z",
     "start_time": "2022-09-03T00:02:32.694309Z"
    }
   },
   "outputs": [
    {
     "name": "stdout",
     "output_type": "stream",
     "text": [
      "Initial statistical parity:  -0.09527580118738121\n",
      "Initial TPR parity:  -0.07785149359511678\n",
      "Initial predictive parity:  -0.10136869102808022\n",
      "Initial loss:  0.5078892147492744\n",
      "Initial accuracy:  0.755\n"
     ]
    }
   ],
   "source": [
    "clf = LogisticRegression(input_size=X_train.shape[-1])\n",
    "# clf = NeuralNetwork(input_size=X_train.shape[-1])\n",
    "# clf = SVM(input_size=X_train.shape[-1])\n",
    "\n",
    "clf.fit(X_train, y_train)\n",
    "\n",
    "y_pred_test = clf.predict_proba(X_test)\n",
    "y_pred_train = clf.predict_proba(X_train)\n",
    "\n",
    "spd_0 = computeFairness(y_pred_test, X_test_orig, y_test, 0, dataset)\n",
    "print(\"Initial statistical parity: \", spd_0)\n",
    "\n",
    "tpr_parity_0 = computeFairness(y_pred_test, X_test_orig, y_test, 1, dataset)\n",
    "print(\"Initial TPR parity: \", tpr_parity_0)\n",
    "\n",
    "predictive_parity_0 = computeFairness(y_pred_test, X_test_orig, y_test, 2, dataset)\n",
    "print(\"Initial predictive parity: \", predictive_parity_0)\n",
    "\n",
    "loss_0 = logistic_loss(y_test, y_pred_test)\n",
    "print(\"Initial loss: \", loss_0)\n",
    "\n",
    "accuracy_0 = computeAccuracy(y_test, y_pred_test)\n",
    "print(\"Initial accuracy: \", accuracy_0)"
   ]
  },
  {
   "cell_type": "code",
   "execution_count": 7,
   "metadata": {
    "ExecuteTime": {
     "end_time": "2022-09-03T00:02:32.801589Z",
     "start_time": "2022-09-03T00:02:32.749210Z"
    }
   },
   "outputs": [],
   "source": [
    "metric = 0\n",
    "if metric == 0:\n",
    "    v1 = del_spd_del_theta(clf, X_test_orig, X_test, dataset)\n",
    "elif metric == 1:\n",
    "    v1 = del_tpr_parity_del_theta(clf, X_test_orig, X_test, y_test, dataset)\n",
    "elif metric == 2:\n",
    "    v1 = del_predictive_parity_del_theta(clf, X_test_orig, X_test, y_test, dataset)"
   ]
  },
  {
   "cell_type": "markdown",
   "metadata": {},
   "source": [
    "**Update starts here**"
   ]
  },
  {
   "cell_type": "code",
   "execution_count": 8,
   "metadata": {
    "ExecuteTime": {
     "end_time": "2022-09-03T00:02:32.805238Z",
     "start_time": "2022-09-03T00:02:32.803770Z"
    }
   },
   "outputs": [],
   "source": [
    "# Learning Rate (can try with different step sizes and choose the best)\n",
    "n = 50"
   ]
  },
  {
   "cell_type": "code",
   "execution_count": 9,
   "metadata": {
    "ExecuteTime": {
     "end_time": "2022-09-03T00:02:32.809282Z",
     "start_time": "2022-09-03T00:02:32.806570Z"
    }
   },
   "outputs": [],
   "source": [
    "# The pattern to be updated\n",
    "idx = (X_train_orig.age==1)&(X_train_orig.gender==0)\n",
    "delta_hist = []\n",
    "final_out_hist = []\n",
    "S = torch.Tensor(X_train[idx])\n",
    "S.requires_grad = True\n",
    "delta = torch.zeros(1, X_train.shape[-1])\n",
    "delta.requires_grad = True\n",
    "S_new = S + delta"
   ]
  },
  {
   "cell_type": "code",
   "execution_count": 10,
   "metadata": {
    "ExecuteTime": {
     "end_time": "2022-09-03T00:02:32.812213Z",
     "start_time": "2022-09-03T00:02:32.810281Z"
    }
   },
   "outputs": [],
   "source": [
    "part_1 = torch.FloatTensor(v1).repeat(len(S_new), 1).reshape(len(S_new), 1, -1)"
   ]
  },
  {
   "cell_type": "code",
   "execution_count": 11,
   "metadata": {
    "ExecuteTime": {
     "end_time": "2022-09-03T00:02:33.039234Z",
     "start_time": "2022-09-03T00:02:32.813174Z"
    }
   },
   "outputs": [],
   "source": [
    "part_2 = []\n",
    "for i in range(len(S_new)):\n",
    "    inner_lst = []\n",
    "    del_L_del_theta_i_t = convert_grad_to_tensor(del_L_del_theta_i(clf, S_new[i], y_train[i],\n",
    "                                                                   loss_func, retain_graph=True))\n",
    "    for j in range(len(del_L_del_theta_i_t)):\n",
    "        inner_grad = convert_grad_to_ndarray(grad(del_L_del_theta_i_t[j], delta, retain_graph=True))\n",
    "        inner_lst.append(inner_grad)\n",
    "    part_2.append(np.array(inner_lst))\n",
    "    \n",
    "part_2 = np.array(part_2)\n",
    "part_2 = torch.FloatTensor(part_2)\n",
    "part_2 = part_2.mean(dim=0).unsqueeze(0).repeat(len(S_new), 1, 1)\n",
    "# part_2 = part_2.mean(dim=0).unsqueeze(0)"
   ]
  },
  {
   "cell_type": "code",
   "execution_count": 12,
   "metadata": {
    "ExecuteTime": {
     "end_time": "2022-09-03T00:02:33.042346Z",
     "start_time": "2022-09-03T00:02:33.040270Z"
    }
   },
   "outputs": [],
   "source": [
    "final = torch.bmm(part_1, part_2).reshape((len(S_new), -1))\n",
    "delta = delta - n*final\n",
    "S_new = S_new + delta"
   ]
  },
  {
   "cell_type": "code",
   "execution_count": 13,
   "metadata": {
    "ExecuteTime": {
     "end_time": "2022-09-03T00:02:33.045060Z",
     "start_time": "2022-09-03T00:02:33.043276Z"
    }
   },
   "outputs": [],
   "source": [
    "X_train_new = X_train.copy()\n",
    "X_train_new[idx] = X_train_new[idx] + delta.detach().numpy()"
   ]
  },
  {
   "cell_type": "markdown",
   "metadata": {
    "ExecuteTime": {
     "end_time": "2022-09-03T00:01:57.315699Z",
     "start_time": "2022-09-03T00:01:57.311351Z"
    }
   },
   "source": [
    "**Project back to the sample space**"
   ]
  },
  {
   "cell_type": "code",
   "execution_count": 14,
   "metadata": {
    "ExecuteTime": {
     "end_time": "2022-09-03T00:02:43.478892Z",
     "start_time": "2022-09-03T00:02:33.046056Z"
    },
    "scrolled": true
   },
   "outputs": [
    {
     "name": "stderr",
     "output_type": "stream",
     "text": [
      "100%|██████████| 40/40 [00:10<00:00,  3.49it/s]"
     ]
    }
   ],
   "source": [
    "mins = []\n",
    "maxs = []\n",
    "numCols = len(X_train[0])\n",
    "new_S = []\n",
    "for i in range(numCols):\n",
    "    mins.insert(i, min(X_train[:, i]))\n",
    "    maxs.insert(i, max(X_train[:, i]))\n",
    "\n",
    "bounds = Bounds(mins, maxs)\n",
    "tbar = tqdm.tqdm(total=len(S_new))\n",
    "for i in X_train_orig[idx].index:\n",
    "    X_train_pert_pt = X_train_new[i]\n",
    "    f = lambda x: np.linalg.norm(x - X_train_pert_pt)\n",
    "\n",
    "    x0 = np.random.rand(numCols)\n",
    "    res = minimize(f, x0, method='trust-constr', options={'verbose': 0}, bounds=bounds)\n",
    "    X_train_new[i] = res.x\n",
    "    tbar.update(1)"
   ]
  },
  {
   "cell_type": "code",
   "execution_count": 15,
   "metadata": {
    "ExecuteTime": {
     "end_time": "2022-09-03T00:02:43.531281Z",
     "start_time": "2022-09-03T00:02:43.480427Z"
    }
   },
   "outputs": [
    {
     "name": "stdout",
     "output_type": "stream",
     "text": [
      "Initial statistical parity:  -0.018946960102766752\n",
      "Initial TPR parity:  -0.008778598193728615\n",
      "Initial predictive parity:  -0.11441340371232289\n",
      "Initial loss:  0.5159324960607171\n",
      "Initial accuracy:  0.775\n"
     ]
    }
   ],
   "source": [
    "clf = LogisticRegression(input_size=X_train.shape[-1])\n",
    "# clf = NeuralNetwork(input_size=X_train.shape[-1])\n",
    "# clf = SVM(input_size=X_train.shape[-1])\n",
    "\n",
    "clf.fit(X_train_new, y_train)\n",
    "\n",
    "y_pred_test = clf.predict_proba(X_test)\n",
    "y_pred_train = clf.predict_proba(X_train)\n",
    "\n",
    "spd_0 = computeFairness(y_pred_test, X_test_orig, y_test, 0, dataset)\n",
    "print(\"Initial statistical parity: \", spd_0)\n",
    "\n",
    "tpr_parity_0 = computeFairness(y_pred_test, X_test_orig, y_test, 1, dataset)\n",
    "print(\"Initial TPR parity: \", tpr_parity_0)\n",
    "\n",
    "predictive_parity_0 = computeFairness(y_pred_test, X_test_orig, y_test, 2, dataset)\n",
    "print(\"Initial predictive parity: \", predictive_parity_0)\n",
    "\n",
    "loss_0 = logistic_loss(y_test, y_pred_test)\n",
    "print(\"Initial loss: \", loss_0)\n",
    "\n",
    "accuracy_0 = computeAccuracy(y_test, y_pred_test)\n",
    "print(\"Initial accuracy: \", accuracy_0)"
   ]
  },
  {
   "cell_type": "code",
   "execution_count": null,
   "metadata": {},
   "outputs": [],
   "source": []
  }
 ],
 "metadata": {
  "kernelspec": {
   "display_name": "Python 3",
   "language": "python",
   "name": "python3"
  },
  "language_info": {
   "codemirror_mode": {
    "name": "ipython",
    "version": 3
   },
   "file_extension": ".py",
   "mimetype": "text/x-python",
   "name": "python",
   "nbconvert_exporter": "python",
   "pygments_lexer": "ipython3",
   "version": "3.9.6"
  },
  "latex_envs": {
   "LaTeX_envs_menu_present": true,
   "autoclose": true,
   "autocomplete": true,
   "bibliofile": "biblio.bib",
   "cite_by": "apalike",
   "current_citInitial": 1,
   "eqLabelWithNumbers": true,
   "eqNumInitial": 1,
   "hotkeys": {
    "equation": "Ctrl-E",
    "itemize": "Ctrl-I"
   },
   "labels_anchors": false,
   "latex_user_defs": false,
   "report_style_numbering": false,
   "user_envs_cfg": false
  }
 },
 "nbformat": 4,
 "nbformat_minor": 4
}
