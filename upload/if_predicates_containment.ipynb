{
 "cells": [
  {
   "cell_type": "code",
   "execution_count": 1,
   "metadata": {
    "ExecuteTime": {
     "end_time": "2021-07-11T06:37:24.488364Z",
     "start_time": "2021-07-11T06:37:20.114762Z"
    }
   },
   "outputs": [
    {
     "data": {
      "text/plain": [
       "<torch._C.Generator at 0x11dcb2990>"
      ]
     },
     "execution_count": 1,
     "metadata": {},
     "output_type": "execute_result"
    }
   ],
   "source": [
    "import sys\n",
    "import tqdm\n",
    "import time\n",
    "import sklearn\n",
    "import numpy as np\n",
    "import pandas as pd\n",
    "import scipy\n",
    "import copy\n",
    "import random\n",
    "import math\n",
    "import torch\n",
    "import torch.nn.functional as F\n",
    "from load_dataset import load\n",
    "from classifier import NeuralNetwork, LogisticRegression, SVM\n",
    "from utils import *\n",
    "from metrics import *  # include fairness and corresponding derivatives\n",
    "from sklearn import metrics, preprocessing\n",
    "from datasketch import MinHashLSHEnsemble, MinHash, MinHashLSH\n",
    "from torch.autograd import grad\n",
    "import torch.nn as nn\n",
    "import matplotlib.pyplot as plt\n",
    "import json\n",
    "from IPython.display import Markdown, display\n",
    "random.seed(1)\n",
    "np.random.seed(1)\n",
    "torch.manual_seed(1)"
   ]
  },
  {
   "cell_type": "code",
   "execution_count": 2,
   "metadata": {
    "ExecuteTime": {
     "end_time": "2021-07-11T06:37:24.507461Z",
     "start_time": "2021-07-11T06:37:24.492468Z"
    }
   },
   "outputs": [],
   "source": [
    "# ignore all the warnings\n",
    "import warnings\n",
    "warnings.filterwarnings('ignore') "
   ]
  },
  {
   "cell_type": "markdown",
   "metadata": {},
   "source": [
    "**Load Dataset**"
   ]
  },
  {
   "cell_type": "code",
   "execution_count": 3,
   "metadata": {
    "ExecuteTime": {
     "end_time": "2021-07-11T06:37:26.199977Z",
     "start_time": "2021-07-11T06:37:26.097753Z"
    },
    "code_folding": [
     0
    ]
   },
   "outputs": [],
   "source": [
    "dataset = 'german'\n",
    "X_train, X_test, y_train, y_test = load(dataset)"
   ]
  },
  {
   "cell_type": "markdown",
   "metadata": {},
   "source": [
    "**Parametric Model**"
   ]
  },
  {
   "cell_type": "code",
   "execution_count": 4,
   "metadata": {
    "ExecuteTime": {
     "end_time": "2021-07-11T06:37:30.584770Z",
     "start_time": "2021-07-11T06:37:30.568720Z"
    },
    "code_folding": []
   },
   "outputs": [],
   "source": [
    "X_train_orig = copy.deepcopy(X_train)\n",
    "X_test_orig = copy.deepcopy(X_test)\n",
    "\n",
    "# Scale data: regularization penalty default: ‘l2’, ‘lbfgs’ solvers support only l2 penalties. \n",
    "# Regularization makes the predictor dependent on the scale of the features.\n",
    "from sklearn.preprocessing import StandardScaler\n",
    "sc = StandardScaler()\n",
    "X_train = sc.fit_transform(X_train)\n",
    "X_test = sc.transform(X_test)"
   ]
  },
  {
   "cell_type": "markdown",
   "metadata": {},
   "source": [
    "**Loss function** (Log loss for logistic regression)"
   ]
  },
  {
   "cell_type": "code",
   "execution_count": 6,
   "metadata": {
    "ExecuteTime": {
     "end_time": "2021-07-11T06:37:44.954212Z",
     "start_time": "2021-07-11T06:37:44.917949Z"
    }
   },
   "outputs": [],
   "source": [
    "# clf = NeuralNetwork(input_size=X_train.shape[-1])\n",
    "clf = LogisticRegression(input_size=X_train.shape[-1])\n",
    "# clf = SVM(input_size=X_train.shape[-1])\n",
    "num_params = len(convert_grad_to_ndarray(list(clf.parameters())))\n",
    "if isinstance(clf, LogisticRegression) or isinstance(clf, NeuralNetwork):\n",
    "    loss_func = logistic_loss_torch\n",
    "elif isinstance(clf, SVM):\n",
    "    loss_func = svm_loss_torch"
   ]
  },
  {
   "cell_type": "markdown",
   "metadata": {},
   "source": [
    "**Influence of points computed using ground truth**"
   ]
  },
  {
   "cell_type": "code",
   "execution_count": 7,
   "metadata": {
    "ExecuteTime": {
     "end_time": "2021-07-11T06:37:46.441046Z",
     "start_time": "2021-07-11T06:37:46.432732Z"
    },
    "code_folding": [
     0
    ]
   },
   "outputs": [],
   "source": [
    "def ground_truth_influence(X_train, y_train, X_test, X_test_orig, y_test):\n",
    "    clf.fit(X_train, y_train, verbose=True)\n",
    "    y_pred = clf.predict_proba(X_test)\n",
    "    spd_0 = computeFairness(y_pred, X_test_orig, y_test, 0)\n",
    "\n",
    "    delta_spd = []\n",
    "    for i in range(len(X_train)):\n",
    "        X_removed = np.delete(X_train, i, 0)\n",
    "        y_removed = y_train.drop(index=i, inplace=False)\n",
    "        clf.fit(X_removed, y_removed)\n",
    "        y_pred = clf.predict_proba(X_test)\n",
    "        delta_spd_i = computeFairness(y_pred, X_test_orig, y_test, 0) - spd_0\n",
    "        delta_spd.append(delta_spd_i)\n",
    "\n",
    "    return delta_spd"
   ]
  },
  {
   "cell_type": "markdown",
   "metadata": {},
   "source": [
    "**Compute Accuracy** "
   ]
  },
  {
   "cell_type": "code",
   "execution_count": 8,
   "metadata": {
    "ExecuteTime": {
     "end_time": "2021-07-11T06:37:47.022421Z",
     "start_time": "2021-07-11T06:37:47.017639Z"
    },
    "code_folding": [
     0
    ]
   },
   "outputs": [],
   "source": [
    "def computeAccuracy(y_true, y_pred):\n",
    "    return np.sum((y_pred>0.5) == y_true)/len(y_pred)"
   ]
  },
  {
   "cell_type": "markdown",
   "metadata": {},
   "source": [
    "**First-order derivative of loss function at z with respect to model parameters**"
   ]
  },
  {
   "cell_type": "code",
   "execution_count": 9,
   "metadata": {
    "ExecuteTime": {
     "end_time": "2021-07-11T06:37:47.188339Z",
     "start_time": "2021-07-11T06:37:47.179063Z"
    },
    "code_folding": [
     0
    ]
   },
   "outputs": [],
   "source": [
    "def del_L_del_theta_i(model, x, y_true, retain_graph=False):\n",
    "    loss = loss_func(model, x, y_true)\n",
    "    w = [ p for p in model.parameters() if p.requires_grad ]\n",
    "    return grad(loss, w, create_graph=True, retain_graph=retain_graph)"
   ]
  },
  {
   "cell_type": "markdown",
   "metadata": {},
   "source": [
    "**First-order derivative of $P(y \\mid \\textbf{x})$ with respect to model parameters**"
   ]
  },
  {
   "cell_type": "code",
   "execution_count": 10,
   "metadata": {
    "ExecuteTime": {
     "end_time": "2021-07-11T06:37:47.360197Z",
     "start_time": "2021-07-11T06:37:47.354493Z"
    },
    "code_folding": [
     0
    ]
   },
   "outputs": [],
   "source": [
    "def del_f_del_theta_i(model, x, retain_graph=False):\n",
    "    w = [ p for p in model.parameters() if p.requires_grad ]\n",
    "    return grad(model(torch.FloatTensor(x)), w, retain_graph=retain_graph)"
   ]
  },
  {
   "cell_type": "markdown",
   "metadata": {},
   "source": [
    "**Stochastic estimation of Hessian vector product (involving del fairness): $H_{\\theta}^{-1}v = H_{\\theta}^{-1}\\nabla_{\\theta}f(z, \\theta) = v + [I - \\nabla_{\\theta}^2L(z_{s_j}, \\theta^*)]H_{\\theta}^{-1}v$**"
   ]
  },
  {
   "cell_type": "code",
   "execution_count": 11,
   "metadata": {
    "ExecuteTime": {
     "end_time": "2021-07-11T06:37:47.525112Z",
     "start_time": "2021-07-11T06:37:47.518749Z"
    },
    "code_folding": [
     0
    ]
   },
   "outputs": [],
   "source": [
    "def hvp(y, w, v):\n",
    "    ''' Multiply the Hessians of y and w by v.'''\n",
    "    # First backprop\n",
    "    first_grads = grad(y, w, retain_graph=True, create_graph=True)\n",
    "\n",
    "    # Elementwise products\n",
    "    elemwise_products = 0\n",
    "    for grad_elem, v_elem in zip(convert_grad_to_tensor(first_grads), v):\n",
    "        elemwise_products += torch.sum(grad_elem * v_elem)\n",
    "\n",
    "    # Second backprop\n",
    "    return_grads = grad(elemwise_products, w, create_graph=True)\n",
    "\n",
    "    return return_grads"
   ]
  },
  {
   "cell_type": "code",
   "execution_count": 12,
   "metadata": {
    "ExecuteTime": {
     "end_time": "2021-07-11T06:37:47.622777Z",
     "start_time": "2021-07-11T06:37:47.610674Z"
    },
    "code_folding": [
     0
    ]
   },
   "outputs": [],
   "source": [
    "def hessian_one_point(model, x, y):\n",
    "    x, y = torch.FloatTensor(x), torch.FloatTensor([y])\n",
    "    loss = loss_func(model, x, y)\n",
    "    params = [ p for p in model.parameters() if p.requires_grad ]\n",
    "    first_grads = convert_grad_to_tensor(grad(loss, params, retain_graph=True, create_graph=True))\n",
    "    hv = np.zeros((len(first_grads), len(first_grads)))\n",
    "    for i in range(len(first_grads)):\n",
    "        hv[i, :] = convert_grad_to_ndarray(grad(first_grads[i], params, create_graph=True)).ravel()\n",
    "    return hv"
   ]
  },
  {
   "cell_type": "code",
   "execution_count": 13,
   "metadata": {
    "ExecuteTime": {
     "end_time": "2021-07-11T06:37:47.712151Z",
     "start_time": "2021-07-11T06:37:47.696411Z"
    },
    "code_folding": [
     1
    ]
   },
   "outputs": [],
   "source": [
    "# Compute multiplication of inverse hessian matrix and vector v\n",
    "def s_test(model, xs, ys, v, hinv=None, damp=0.01, scale=25.0, r=-1, batch_size=-1, recursive=False, verbose=False):\n",
    "    ''' Arguments:\n",
    "        xs: list of data points\n",
    "        ys: list of true labels corresponding to data points in xs\n",
    "        damp: dampening factor\n",
    "        scale: scaling factor\n",
    "        r: number of iterations aka recursion depth\n",
    "            should be enough so that the value stabilises.\n",
    "        batch_size: number of instances in each batch in recursive approximation\n",
    "        recursive: determine whether to recursively approximate hinv_v'''\n",
    "    xs, ys = torch.FloatTensor(xs.copy()), torch.FloatTensor(ys.copy())\n",
    "    n = len(xs)\n",
    "    if recursive:\n",
    "        hinv_v = copy.deepcopy(v)\n",
    "        if verbose:\n",
    "            print('Computing s_test...')\n",
    "            tbar = tqdm.tqdm(total=r)\n",
    "        if (batch_size == -1):  # default\n",
    "            batch_size = 10\n",
    "        if (r == -1):\n",
    "            r = n // batch_size + 1\n",
    "        sample = np.random.choice(range(n), r*batch_size, replace=True)\n",
    "        for i in range(r):\n",
    "            sample_idx = sample[i*batch_size:(i+1)*batch_size]\n",
    "            x, y = xs[sample_idx], ys[sample_idx]\n",
    "            loss = loss_func(model, x, y)\n",
    "            params = [ p for p in model.parameters() if p.requires_grad ]\n",
    "            hv = convert_grad_to_ndarray(hvp(loss, params, torch.FloatTensor(hinv_v)))\n",
    "            # Recursively caclulate h_estimate\n",
    "            hinv_v = v + (1 - damp) * hinv_v - hv / scale\n",
    "            if verbose:\n",
    "                tbar.update(1)\n",
    "    else:\n",
    "        if hinv is None:\n",
    "            hinv = np.linalg.pinv(np.sum(hessian_all_points, axis=0))\n",
    "        scale = 1.0\n",
    "        hinv_v = np.matmul(hinv, v)\n",
    "\n",
    "    return hinv_v / scale"
   ]
  },
  {
   "cell_type": "markdown",
   "metadata": {},
   "source": [
    "**Metrics: Initial state**"
   ]
  },
  {
   "cell_type": "code",
   "execution_count": 31,
   "metadata": {
    "ExecuteTime": {
     "end_time": "2021-07-11T06:41:15.461876Z",
     "start_time": "2021-07-11T06:41:13.323913Z"
    }
   },
   "outputs": [
    {
     "name": "stdout",
     "output_type": "stream",
     "text": [
      "Initial statistical parity:  -0.055140464566648006\n",
      "Initial TPR parity:  -0.047411146437014495\n",
      "Initial predictive parity:  -0.11142123176786023\n",
      "Initial loss:  0.5719693645840669\n",
      "Initial accuracy:  0.75\n"
     ]
    }
   ],
   "source": [
    "clf = LogisticRegression(input_size=X_train.shape[-1])\n",
    "# clf = NeuralNetwork(input_size=X_train.shape[-1])\n",
    "# clf = SVM(input_size=X_train.shape[-1])\n",
    "\n",
    "clf.fit(X_train, y_train)\n",
    "\n",
    "y_pred_test = clf.predict_proba(X_test)\n",
    "y_pred_train = clf.predict_proba(X_train)\n",
    "\n",
    "spd_0 = computeFairness(y_pred_test, X_test_orig, y_test, 0, dataset)\n",
    "print(\"Initial statistical parity: \", spd_0)\n",
    "\n",
    "tpr_parity_0 = computeFairness(y_pred_test, X_test_orig, y_test, 1, dataset)\n",
    "print(\"Initial TPR parity: \", tpr_parity_0)\n",
    "\n",
    "predictive_parity_0 = computeFairness(y_pred_test, X_test_orig, y_test, 2, dataset)\n",
    "print(\"Initial predictive parity: \", predictive_parity_0)\n",
    "\n",
    "loss_0 = logistic_loss(y_test, y_pred_test)\n",
    "print(\"Initial loss: \", loss_0)\n",
    "\n",
    "accuracy_0 = computeAccuracy(y_test, y_pred_test)\n",
    "print(\"Initial accuracy: \", accuracy_0)"
   ]
  },
  {
   "cell_type": "code",
   "execution_count": null,
   "metadata": {
    "ExecuteTime": {
     "end_time": "2021-07-11T06:41:47.726142Z",
     "start_time": "2021-07-11T06:41:30.999217Z"
    },
    "code_folding": [],
    "scrolled": false
   },
   "outputs": [],
   "source": [
    "hessian_all_points = []\n",
    "# tbar = tqdm.tqdm(total=len(X_train))\n",
    "total_time = 0\n",
    "for i in range(len(X_train)):\n",
    "    t0 = time.time()\n",
    "    hessian_all_points.append(hessian_one_point(clf, X_train[i], y_train[i])/len(X_train))\n",
    "    total_time += time.time()-t0\n",
    "#     tbar.update(1)"
   ]
  },
  {
   "cell_type": "code",
   "execution_count": 34,
   "metadata": {
    "ExecuteTime": {
     "end_time": "2021-07-11T06:42:39.636678Z",
     "start_time": "2021-07-11T06:42:39.629656Z"
    }
   },
   "outputs": [
    {
     "data": {
      "text/plain": [
       "16.719489574432373"
      ]
     },
     "execution_count": 34,
     "metadata": {},
     "output_type": "execute_result"
    }
   ],
   "source": [
    "total_time"
   ]
  },
  {
   "cell_type": "markdown",
   "metadata": {},
   "source": [
    "**Pre-compute: (1) Hessian (2) del_L_del_theta for each training data point**"
   ]
  },
  {
   "cell_type": "code",
   "execution_count": 35,
   "metadata": {
    "ExecuteTime": {
     "end_time": "2021-07-11T06:42:41.354872Z",
     "start_time": "2021-07-11T06:42:40.608666Z"
    }
   },
   "outputs": [],
   "source": [
    "del_L_del_theta = []\n",
    "for i in range(int(len(X_train))):\n",
    "    gradient = convert_grad_to_ndarray(del_L_del_theta_i(clf, X_train[i], int(y_train[i])))\n",
    "    while np.sum(np.isnan(gradient))>0:\n",
    "        gradient = convert_grad_to_ndarray(del_L_del_theta_i(clf, X_train[i], int(y_train[i])))\n",
    "    del_L_del_theta.append(gradient)"
   ]
  },
  {
   "cell_type": "markdown",
   "metadata": {},
   "source": [
    "*Select delta fairness function depending on selected metric*"
   ]
  },
  {
   "cell_type": "code",
   "execution_count": 36,
   "metadata": {
    "ExecuteTime": {
     "end_time": "2021-07-11T06:42:42.283655Z",
     "start_time": "2021-07-11T06:42:42.076593Z"
    }
   },
   "outputs": [],
   "source": [
    "metric = 0\n",
    "if metric == 0:\n",
    "    v1 = del_spd_del_theta(clf, X_test_orig, X_test, dataset)\n",
    "elif metric == 1:\n",
    "    v1 = del_tpr_parity_del_theta(clf, X_test_orig, X_test, y_test, dataset)\n",
    "elif metric == 2:\n",
    "    v1 = del_predictive_parity_del_theta(clf, X_test_orig, X_test, y_test, dataset)"
   ]
  },
  {
   "cell_type": "code",
   "execution_count": 37,
   "metadata": {
    "ExecuteTime": {
     "end_time": "2021-07-11T06:42:42.589646Z",
     "start_time": "2021-07-11T06:42:42.573914Z"
    }
   },
   "outputs": [],
   "source": [
    "hinv = np.linalg.pinv(np.sum(hessian_all_points, axis=0))\n",
    "hinv_v = s_test(clf, X_train, y_train, v1, hinv=hinv, verbose=False)"
   ]
  },
  {
   "cell_type": "markdown",
   "metadata": {},
   "source": [
    "**First-order influence computation**"
   ]
  },
  {
   "cell_type": "code",
   "execution_count": 38,
   "metadata": {
    "ExecuteTime": {
     "end_time": "2021-07-11T06:42:43.252281Z",
     "start_time": "2021-07-11T06:42:43.246204Z"
    },
    "code_folding": []
   },
   "outputs": [],
   "source": [
    "def first_order_influence(del_L_del_theta, hinv_v, n):\n",
    "    infs = []\n",
    "    for i in range(n):\n",
    "        inf = -np.dot(del_L_del_theta[i].transpose(), hinv_v)\n",
    "        inf *= -1/n\n",
    "        infs.append(inf)\n",
    "    return infs"
   ]
  },
  {
   "cell_type": "code",
   "execution_count": 39,
   "metadata": {
    "ExecuteTime": {
     "end_time": "2021-07-11T06:42:43.378640Z",
     "start_time": "2021-07-11T06:42:43.360289Z"
    }
   },
   "outputs": [],
   "source": [
    "def first_order_group_influence(U, del_L_del_theta):\n",
    "    infs = []\n",
    "    u = len(U)\n",
    "    n = len(X_train)\n",
    "    for i in range(u):\n",
    "        idx = U[i]\n",
    "        inf = -np.dot(del_L_del_theta[idx].transpose(), hinv)\n",
    "        inf *= -1/n\n",
    "        infs.append(inf)\n",
    "    return np.sum(infs, axis=0)"
   ]
  },
  {
   "cell_type": "markdown",
   "metadata": {},
   "source": [
    "**Second-order influence computation for a group of points in subset U**"
   ]
  },
  {
   "cell_type": "code",
   "execution_count": 40,
   "metadata": {
    "ExecuteTime": {
     "end_time": "2021-07-11T06:42:43.535455Z",
     "start_time": "2021-07-11T06:42:43.514905Z"
    },
    "code_folding": []
   },
   "outputs": [],
   "source": [
    "def second_order_influence(model, X_train, y_train, U, del_L_del_theta, r=-1, verbose=False):\n",
    "    u = len(U)\n",
    "    s = len(X_train)\n",
    "    p = u/s\n",
    "    c1 = (1 - 2*p)/(s * (1-p)**2)\n",
    "    c2 = 1/((s * (1-p))**2)\n",
    "    num_params = len(del_L_del_theta[0])\n",
    "    del_L_del_theta_sum = np.sum([del_L_del_theta[i] for i in U], axis=0)\n",
    "    hinv_del_L_del_theta= s_test(model, X_train, y_train, del_L_del_theta_sum, hinv=hinv)\n",
    "    hessian_U_hinv_del_L_del_theta = np.zeros((num_params,))\n",
    "    for i in range(u):\n",
    "        idx = U[i]\n",
    "        x, y = torch.FloatTensor(X_train[idx]), torch.FloatTensor([y_train[idx]])\n",
    "        loss = loss_func(model, x, y)\n",
    "        params = [ p for p in model.parameters() if p.requires_grad ]\n",
    "        hessian_U_hinv_del_L_del_theta += convert_grad_to_ndarray(hvp(loss, params, torch.FloatTensor(hinv_del_L_del_theta)))\n",
    "\n",
    "    term1 = c1 * hinv_del_L_del_theta\n",
    "    term2 = c2 * s_test(model, X_train, y_train, hessian_U_hinv_del_L_del_theta, hinv=hinv)\n",
    "    sum_term = term1 + term2\n",
    "    return sum_term"
   ]
  },
  {
   "cell_type": "code",
   "execution_count": 41,
   "metadata": {
    "ExecuteTime": {
     "end_time": "2021-07-11T06:42:43.594266Z",
     "start_time": "2021-07-11T06:42:43.582457Z"
    }
   },
   "outputs": [],
   "source": [
    "def second_order_group_influence(U, del_L_del_theta):\n",
    "    u = len(U)\n",
    "    s = len(X_train)\n",
    "    p = u/s\n",
    "    c1 = (1 - 2*p)/(s * (1-p)**2)\n",
    "    c2 = 1/((s * (1-p))**2)\n",
    "    num_params = len(del_L_del_theta[0])\n",
    "    del_L_del_theta_sum = np.sum([del_L_del_theta[i] for i in U], axis=0)\n",
    "    hinv_del_L_del_theta= np.matmul(hinv, del_L_del_theta_sum)\n",
    "    hessian_U_hinv_del_L_del_theta = np.zeros((num_params,))\n",
    "    for i in range(u):\n",
    "        idx = U[i]\n",
    "        hessian_U_hinv_del_L_del_theta += np.matmul(hessian_all_points[idx], hinv_del_L_del_theta)\n",
    "\n",
    "    term1 = c1 * hinv_del_L_del_theta\n",
    "    term2 = c2 * np.matmul(hinv, hessian_U_hinv_del_L_del_theta)\n",
    "    sum_term = (term1 + term2*len(X_train))\n",
    "    return sum_term"
   ]
  },
  {
   "cell_type": "markdown",
   "metadata": {},
   "source": [
    "**First-order influence of each training data point**"
   ]
  },
  {
   "cell_type": "code",
   "execution_count": 42,
   "metadata": {
    "ExecuteTime": {
     "end_time": "2021-07-11T06:42:43.770728Z",
     "start_time": "2021-07-11T06:42:43.751272Z"
    }
   },
   "outputs": [],
   "source": [
    "infs_1 = first_order_influence(del_L_del_theta, hinv_v, len(X_train))"
   ]
  },
  {
   "cell_type": "markdown",
   "metadata": {},
   "source": [
    "**Fairness: Ground-truth subset influence vs. computed subset influences: Coherent subset** \n",
    "\n",
    "(by coherent, we mean group of data points that share some properties)"
   ]
  },
  {
   "cell_type": "markdown",
   "metadata": {},
   "source": [
    "***NOTE:*** The retraining of the clf would cause the change in model parameters and thus lead to the change of gradients, so in this part, we first acquire all the first- and second-order influence functions together based on the original model. After all the influence functions are calculated, we retrain the model corresponding to different removed coherent subset of data and get the ground truth."
   ]
  },
  {
   "cell_type": "code",
   "execution_count": 44,
   "metadata": {
    "ExecuteTime": {
     "end_time": "2021-07-11T06:42:44.104011Z",
     "start_time": "2021-07-11T06:42:44.088110Z"
    }
   },
   "outputs": [
    {
     "name": "stdout",
     "output_type": "stream",
     "text": [
      "alpha_f_lower: 0.00055140464566648\n",
      "alpha_f_upper: 0.055140464566648006\n",
      "del_f_threshold: -0.005514046456664801\n",
      "support_small: 0.3\n",
      "del_f_threshold_small: 0.005514046456664801\n"
     ]
    }
   ],
   "source": [
    "alpha_f_lower = (-0.01) * (spd_0)\n",
    "alpha_f_upper = -spd_0\n",
    "del_f_threshold = (0.1) * spd_0\n",
    "support = 0.03 # Do not consider extremely small patterns\n",
    "support_small = 0.3 # For small patterns, 2nd-order estimation is quite accurate\n",
    "del_f_threshold_small = (-0.1) * (spd_0)\n",
    "print(\"alpha_f_lower:\", alpha_f_lower)\n",
    "print(\"alpha_f_upper:\", alpha_f_upper)\n",
    "print(\"del_f_threshold:\", del_f_threshold)\n",
    "print(\"support_small:\", support_small)\n",
    "print(\"del_f_threshold_small:\", del_f_threshold_small)"
   ]
  },
  {
   "cell_type": "code",
   "execution_count": 90,
   "metadata": {
    "ExecuteTime": {
     "end_time": "2021-07-11T07:19:25.165351Z",
     "start_time": "2021-07-11T07:19:25.160435Z"
    }
   },
   "outputs": [],
   "source": [
    "time_gt = []\n",
    "time_first = []\n",
    "time_second = []\n",
    "rep = 1"
   ]
  },
  {
   "cell_type": "code",
   "execution_count": 91,
   "metadata": {
    "ExecuteTime": {
     "end_time": "2021-07-11T07:19:28.301767Z",
     "start_time": "2021-07-11T07:19:26.112375Z"
    },
    "scrolled": true
   },
   "outputs": [],
   "source": [
    "for _ in range(rep):\n",
    "    # Get the original model\n",
    "#     clf = NeuralNetwork(input_size=X_train.shape[-1])\n",
    "    clf = LogisticRegression(input_size=X_train.shape[-1])\n",
    "#     clf = SVM(input_size=X_train.shape[-1])\n",
    "    clf.fit(X_train, y_train)\n",
    "\n",
    "    attributes = []\n",
    "    attributeValues = []\n",
    "    first_order_influences = []\n",
    "    second_order_influences = []\n",
    "    fractionRows = []\n",
    "\n",
    "    v1_orig = v1\n",
    "    for col in X_train_orig.columns:\n",
    "        if dataset == 'german':\n",
    "            if \"purpose\" in col or \"housing\" in col: #dummy variables purpose=0 doesn't make sense\n",
    "                vals = [1]\n",
    "            else:\n",
    "                vals = X_train_orig[col].unique()\n",
    "        elif dataset == 'adult':\n",
    "            continuous_cols = ['age', 'education.num', 'hours',]\n",
    "            if col in continuous_cols:\n",
    "                vals = X_train_orig[col].unique()\n",
    "            else:\n",
    "                vals = [1]\n",
    "        elif dataset == 'compas':\n",
    "            vals = X_train_orig[col].unique()\n",
    "        else:\n",
    "            raise NotImplementedError\n",
    "        for val in vals:\n",
    "            idx = X_train_orig[X_train_orig[col] == val].index \n",
    "            \n",
    "            if (len(idx)/len(X_train) > support):  \n",
    "                X = np.delete(X_train, idx, 0)\n",
    "                y = y_train.drop(index=idx, inplace=False)\n",
    "                if len(y.unique()) > 1:\n",
    "                    idx = X_train_orig[X_train_orig[col] == val].index \n",
    "\n",
    "                    # First-order subset influence\n",
    "                    t0 = time.time()\n",
    "                    params_f_1 = first_order_group_influence(idx, del_L_del_theta)\n",
    "                    del_f_1 = np.dot(v1.transpose(), params_f_1)\n",
    "                    time_first.append(time.time()-t0)\n",
    "\n",
    "                    # Second-order subset influence\n",
    "                    t0 = time.time()\n",
    "                    params_f_2 = second_order_group_influence(idx, del_L_del_theta)\n",
    "                    del_f_2 = np.dot(v1.transpose(), params_f_2)\n",
    "                    time_second.append(time.time()-t0)\n",
    "\n",
    "                    attributes.append(col)\n",
    "                    attributeValues.append(val)\n",
    "                    first_order_influences.append(del_f_1)\n",
    "                    second_order_influences.append(del_f_2)\n",
    "                    fractionRows.append(len(idx)/len(X_train)*100)"
   ]
  },
  {
   "cell_type": "code",
   "execution_count": 92,
   "metadata": {
    "ExecuteTime": {
     "end_time": "2021-07-11T07:21:39.177177Z",
     "start_time": "2021-07-11T07:19:28.611735Z"
    }
   },
   "outputs": [],
   "source": [
    "for _ in range(rep):\n",
    "    gt_influences = []\n",
    "    for col in X_train_orig.columns:\n",
    "        if dataset == 'german':\n",
    "            if \"purpose\" in col or \"housing\" in col: #dummy variables purpose=0 doesn't make sense\n",
    "                vals = [1]\n",
    "            else:\n",
    "                vals = X_train_orig[col].unique()\n",
    "        elif dataset == 'adult':\n",
    "            continuous_cols = ['age', 'education.num', 'hours',]\n",
    "            if col in continuous_cols:\n",
    "                vals = X_train_orig[col].unique()\n",
    "            else:\n",
    "                vals = [1]\n",
    "        elif dataset == 'compas':\n",
    "            vals = X_train_orig[col].unique()\n",
    "        else:\n",
    "            raise NotImplementedError\n",
    "        for val in vals:\n",
    "            idx = X_train_orig[X_train_orig[col] == val].index \n",
    "            \n",
    "            if (len(idx)/len(X_train) > support):  \n",
    "                X = np.delete(X_train, idx, 0)\n",
    "                y = y_train.drop(index=idx, inplace=False)\n",
    "                if len(y.unique()) > 1:\n",
    "                    # Ground truth subset influence\n",
    "                    t0 = time.time()\n",
    "                    clf.fit(np.array(X), np.array(y))\n",
    "                    y_pred = clf.predict_proba(np.array(X_test))\n",
    "                    if metric == 0:\n",
    "                        inf_gt = computeFairness(y_pred, X_test_orig, y_test, 0, dataset) - spd_0\n",
    "                    elif metric == 1:\n",
    "                        inf_gt = computeFairness(y_pred, X_test_orig, y_test, 1, dataset) - tpr_parity_0\n",
    "                    elif metric == 2:\n",
    "                        inf_gt = computeFairness(y_pred, X_test_orig, y_test, 2, dataset) - predictive_parity_0\n",
    "                    time_gt.append(time.time()-t0)\n",
    "                    accuracy = computeAccuracy(y_test, y_pred)\n",
    "                    gt_influences.append(inf_gt)"
   ]
  },
  {
   "cell_type": "code",
   "execution_count": 49,
   "metadata": {
    "ExecuteTime": {
     "end_time": "2021-07-11T06:45:45.381978Z",
     "start_time": "2021-07-11T06:45:45.366573Z"
    }
   },
   "outputs": [],
   "source": [
    "expl = [attributes, attributeValues, first_order_influences, second_order_influences, gt_influences, fractionRows]\n",
    "expl = (np.array(expl).T).tolist()\n",
    "\n",
    "explanations = pd.DataFrame(expl, columns=[\"attributes\", \"attributeValues\", \"first_order_influences\", \"second_order_influences\", \"gt_influences\", \"fractionRows\"])\n",
    "explanations['second_order_influences'] = explanations['second_order_influences'].astype(float)\n",
    "explanations['first_order_influences'] = explanations['first_order_influences'].astype(float)\n",
    "explanations['gt_influences'] = explanations['gt_influences'].astype(float)\n",
    "explanations['fractionRows'] = explanations['fractionRows'].astype(float)"
   ]
  },
  {
   "cell_type": "code",
   "execution_count": 50,
   "metadata": {
    "ExecuteTime": {
     "end_time": "2021-07-11T06:45:46.674696Z",
     "start_time": "2021-07-11T06:45:46.297558Z"
    }
   },
   "outputs": [
    {
     "data": {
      "image/png": "[encoded data removed]",
      "text/plain": [
       "<Figure size 360x360 with 1 Axes>"
      ]
     },
     "metadata": {
      "needs_background": "light"
     },
     "output_type": "display_data"
    }
   ],
   "source": [
    "lim = .2\n",
    "plt.figure(figsize=(5,5))\n",
    "xs = (np.arange(31)-15)/15*lim*0.8\n",
    "ys = xs\n",
    "plt.xlim(-lim, lim)\n",
    "plt.ylim(-lim, lim)\n",
    "plt.plot(xs, ys, 'grey')\n",
    "\n",
    "# RGBA\n",
    "color_first = np.zeros((len(gt_influences), 4))\n",
    "color_first[:, 2] = 1.0\n",
    "color_first[:, 3] = 1-np.array(fractionRows)/100\n",
    "color_second = np.zeros((len(gt_influences), 4))\n",
    "color_second[:, 0] = 1.0\n",
    "color_second[:, 3] = 1-np.array(fractionRows)/100\n",
    "\n",
    "plt.scatter(gt_influences, first_order_influences, s=12, color=color_first, label='first-order')\n",
    "plt.scatter(gt_influences, second_order_influences, s=12, color=color_second, label='second-order')\n",
    "plt.ylabel('estimated influence\\n', fontsize=12, fontweight='bold')\n",
    "plt.xlabel('\\nground truth influence', fontsize=12, fontweight='bold')\n",
    "plt.legend(fontsize=12, prop={'weight':'bold'})\n",
    "plt.grid()\n",
    "plt.savefig('infs.png')"
   ]
  },
  {
   "cell_type": "code",
   "execution_count": 51,
   "metadata": {
    "ExecuteTime": {
     "end_time": "2021-07-11T06:45:49.961533Z",
     "start_time": "2021-07-11T06:45:49.950932Z"
    }
   },
   "outputs": [],
   "source": [
    "candidates = explanations[(explanations[\"second_order_influences\"] > alpha_f_lower) \n",
    "                           & (explanations[\"second_order_influences\"] < alpha_f_upper)]\n",
    "candidates = copy.deepcopy(explanations)\n",
    "candidates.loc[:, 'score'] = candidates.loc[:, 'second_order_influences']*100/candidates.loc[:, 'fractionRows']\n",
    "# display(candidates)"
   ]
  },
  {
   "cell_type": "code",
   "execution_count": 52,
   "metadata": {
    "ExecuteTime": {
     "end_time": "2021-07-11T06:54:12.662433Z",
     "start_time": "2021-07-11T06:45:51.749511Z"
    }
   },
   "outputs": [
    {
     "name": "stdout",
     "output_type": "stream",
     "text": [
      "Generated:  67  1-candidates\n",
      "Generated:  392  2-candidates\n",
      "Generated:  2\n",
      "Generated: 2664   3 -candidates\n",
      "Generated:  3\n",
      "Generated: 14696   4 -candidates\n",
      "CPU times: user 8min 5s, sys: 2.73 s, total: 8min 8s\n",
      "Wall time: 8min 20s\n"
     ]
    }
   ],
   "source": [
    "%%time\n",
    "candidates_all = []\n",
    "\n",
    "# Generating 1-candidates\n",
    "candidates_1 = []\n",
    "for i in range(len(candidates)):\n",
    "    candidate = []\n",
    "    candidate_i = candidates.iloc[i]\n",
    "    if ((candidate_i[\"fractionRows\"] > support_small) or\n",
    "       ((candidate_i[\"fractionRows\"] > support) & (candidate_i[\"second_order_influences\"] > del_f_threshold))\n",
    "       ):\n",
    "        attr_i = candidate_i[\"attributes\"]\n",
    "        val_i = str(candidate_i[\"attributeValues\"])\n",
    "        predicates = []\n",
    "        predicates.insert(0, attr_i + '=' + str(val_i))\n",
    "        candidate.insert(0, predicates)\n",
    "        candidate.insert(1, candidate_i[\"fractionRows\"])\n",
    "        candidate.insert(2, candidate_i[\"score\"])\n",
    "        candidate.insert(3, candidate_i[\"second_order_influences\"])\n",
    "        candidates_1.insert(i, candidate)\n",
    "print(\"Generated: \", len(candidates_1), \" 1-candidates\")\n",
    "candidates_1.sort()\n",
    "\n",
    "for i in range(len(candidates_1)):\n",
    "    if (float(candidates_1[i][2]) > support): # if score > top-k, keep in candidates, not otherwise\n",
    "        candidates_all.insert(len(candidates_all), candidates_1[i])\n",
    "    \n",
    "# Generating 2-candidates\n",
    "candidates_2 = []\n",
    "for i in range(len(candidates_1)):\n",
    "    attr_i = candidates_1[i][0][0].split(\"=\")[0]\n",
    "    val_i = int(candidates_1[i][0][0].split(\"=\")[1])\n",
    "    for j in range(i):\n",
    "        # merge two candidates\n",
    "        attr_j = candidates_1[j][0][0].split(\"=\")[0]\n",
    "        val_j = int(candidates_1[j][0][0].split(\"=\")[1])\n",
    "        \n",
    "        if (attr_i != attr_j):\n",
    "            idx = X_train_orig[(X_train_orig[attr_i] == val_i) &\n",
    "                              (X_train_orig[attr_j] == val_j)].index \n",
    "            \n",
    "            idx_i = X_train_orig[(X_train_orig[attr_i] == val_i)].index \n",
    "            idx_j = X_train_orig[(X_train_orig[attr_j] == val_j)].index \n",
    "            fractionRows = len(idx)/len(X_train) * 100\n",
    "            isCompact = True\n",
    "            if (len(idx) == min(len(idx_i), len(idx_j))): # pattern is not compact if intersection equals one of its parents\n",
    "                isCompact = False\n",
    "            if (fractionRows/100 > support):\n",
    "                X = np.delete(X_train, idx, 0)\n",
    "                y = y_train.drop(index=idx, inplace=False)\n",
    "\n",
    "                size_hvp = 1\n",
    "                params_f_2 = second_order_group_influence(idx, del_L_del_theta)\n",
    "                del_f_2 = np.dot(v1.transpose(), params_f_2)\n",
    "                \n",
    "                score = del_f_2 * 100/fractionRows\n",
    "                if (((score > candidates_1[i][2]) & (score > candidates_1[j][2]))\n",
    "                   or (fractionRows/100 > support_small)):\n",
    "                        candidate = []\n",
    "                        predicates = []\n",
    "                        predicates.insert(0, attr_i + '=' + str(val_i))\n",
    "                        predicates.insert(1, attr_j + '=' + str(val_j))\n",
    "                        candidate.insert(0, sorted(predicates, key=itemgetter(0)))                        \n",
    "                        candidate.insert(1, len(idx)*100/len(X_train))\n",
    "                        candidate.insert(2, score)\n",
    "                        candidate.insert(3, del_f_2)\n",
    "                        candidates_2.insert(len(candidates_2), candidate)  \n",
    "                        if (isCompact):\n",
    "                            candidates_all.insert(len(candidates_all), candidate)\n",
    "print(\"Generated: \", len(candidates_2), \" 2-candidates\")\n",
    "candidates_2.sort()\n",
    "\n",
    "# Recursively generating the rest\n",
    "candidates_L_1 = copy.deepcopy(candidates_2)\n",
    "iter=2\n",
    "while((len(candidates_L_1) > 0) & (iter < 4)):\n",
    "    print(\"Generated: \", iter)    \n",
    "    candidates_L = []\n",
    "    for i in range(len(candidates_L_1)):\n",
    "        candidate_i = candidates_L_1[i][0]\n",
    "        for j in range(i):\n",
    "            candidate_j = candidates_L_1[j][0]\n",
    "            # if L-1 lists intersect\n",
    "            intersect_candidates = set(candidate_i).intersection(candidate_j)\n",
    "            if (len(intersect_candidates) == iter - 1):\n",
    "                setminus_i = list(set(candidate_i) - intersect_candidates)[0].split(\"=\")\n",
    "                setminus_j = list(set(candidate_j) - intersect_candidates)[0].split(\"=\")\n",
    "                attr_i = setminus_i[0]\n",
    "                val_i = int(setminus_i[1])\n",
    "                attr_j = setminus_j[0]\n",
    "                val_j = int(setminus_j[1])\n",
    "                if (attr_i != attr_j):\n",
    "                    # merge to get L list\n",
    "                    merged_candidate = list(set(candidate_i + candidate_j))\n",
    "\n",
    "                    idx_i_j = pd.Index(list(range(len(X_train_orig))))\n",
    "                    for k in range(len(intersect_candidates)):\n",
    "                        attr = list(intersect_candidates)[k].split(\"=\")[0]\n",
    "                        val = int(list(intersect_candidates)[k].split(\"=\")[1])\n",
    "                        idx_i_j = idx_i_j.intersection(X_train_orig[(X_train_orig[attr] == val)].index)\n",
    "                    \n",
    "                    idx_i = idx_i_j.intersection(X_train_orig[(X_train_orig[attr_i] == val_i)].index)\n",
    "                    idx_j = idx_i_j.intersection(X_train_orig[(X_train_orig[attr_j] == val_j)].index)                    \n",
    "                    idx = idx_i.intersection(X_train_orig[(X_train_orig[attr_j] == val_j)].index) # merged\n",
    "\n",
    "                    fractionRows = len(idx)/len(X_train) * 100\n",
    "                    isCompact = True\n",
    "                    if (len(idx) == min(len(idx_i), len(idx_j))): # pattern is not compact if intersection equals one of its parents\n",
    "                        isCompact = False\n",
    "                    if (fractionRows/100 > support):\n",
    "                        X = np.delete(X_train, idx, 0)\n",
    "                        y = y_train.drop(index=idx, inplace=False)\n",
    "\n",
    "                        size_hvp = 1\n",
    "                        params_f_2 = second_order_group_influence(idx, del_L_del_theta)\n",
    "                        del_f_2 = np.dot(v1.transpose(), params_f_2)\n",
    "                        score = del_f_2 * 100/fractionRows\n",
    "                        if (((score > candidates_L_1[i][2]) & (score > candidates_L_1[j][2])) or \n",
    "                           (fractionRows > support_small)):\n",
    "                            candidate = []\n",
    "                            candidate.insert(0, sorted(merged_candidate, key=itemgetter(0)))                        \n",
    "                            candidate.insert(1, fractionRows)\n",
    "                            candidate.insert(2, del_f_2*len(X_train)/len(idx))\n",
    "                            candidate.insert(3, del_f_2)\n",
    "                            if (candidate not in candidates_L):\n",
    "                                candidates_L.insert(len(candidates_L), candidate)\n",
    "                                if (isCompact):\n",
    "                                    candidates_all.insert(len(candidates_all), candidate)\n",
    "    print(\"Generated:\", len(candidates_L), \" \", str(iter+1), \"-candidates\")\n",
    "    candidates_L_1 = copy.deepcopy(candidates_L)\n",
    "    candidates_L_1.sort()\n",
    "    iter += 1"
   ]
  },
  {
   "cell_type": "code",
   "execution_count": 53,
   "metadata": {
    "ExecuteTime": {
     "end_time": "2021-07-11T06:54:32.715563Z",
     "start_time": "2021-07-11T06:54:32.366609Z"
    }
   },
   "outputs": [
    {
     "name": "stdout",
     "output_type": "stream",
     "text": [
      "17441\n"
     ]
    }
   ],
   "source": [
    "candidates_support_3_compact = copy.deepcopy(candidates_all)\n",
    "print(len(candidates_support_3_compact))\n",
    "candidates_df_3_compact = pd.DataFrame(candidates_support_3_compact, columns=[\"predicates\",\"support\",\"score\",\"2nd-inf\"])\n",
    "candidates_df_3_compact = candidates_df_3_compact[candidates_df_3_compact[\"support\"] < 20].sort_values(by=['2nd-inf'], ascending=False)\n",
    "# display(candidates_df_3_compact)\n",
    "# display(candidates_df_3_compact[candidates_df_3_compact[\"support\"] < 20].sort_values(by=['2nd-inf'], ascending=False).head(5))"
   ]
  },
  {
   "cell_type": "markdown",
   "metadata": {},
   "source": [
    "**Containment-based filtering**"
   ]
  },
  {
   "cell_type": "code",
   "execution_count": 54,
   "metadata": {
    "ExecuteTime": {
     "end_time": "2021-07-11T06:54:35.333926Z",
     "start_time": "2021-07-11T06:54:35.301396Z"
    },
    "code_folding": [
     9
    ]
   },
   "outputs": [],
   "source": [
    "def get_subset(X_train_orig, explanation):\n",
    "    subset = X_train_orig.copy()\n",
    "    for predicate in explanation:\n",
    "#         print(predicate)\n",
    "        attr = predicate.split(\"=\")[0].strip(' ')\n",
    "        val = int(predicate.split(\"=\")[1].strip(' '))\n",
    "        subset = subset[subset[attr]==val]\n",
    "    return subset.index\n",
    "\n",
    "class Topk:\n",
    "    '''\n",
    "        top explanations: explanation -> (minhash, set_index, score)\n",
    "    '''\n",
    "    def __init__(self, method='lsh', init_df=X_test_orig, init_explanations=[], threshold=0.75, k=5, num_perm=128):\n",
    "        self.method = method\n",
    "        self.num_perm = num_perm\n",
    "        if method == 'lshensemble':\n",
    "            self.index = MinHashLSHEnsemble(threshold=threshold, num_perm=num_perm)\n",
    "            hashed_explanations = []\n",
    "            for explanation, score in init_explanations:\n",
    "                s = get_subset(init_df, explanation)\n",
    "                m = MinHash(num_perm=num_perm)\n",
    "                explanation_json = json.dumps(explanation)\n",
    "                for d in s:\n",
    "                    m.update(str(d).encode('utf8'))\n",
    "                hashed_explanations.append((explanation_json, m, len(s)))\n",
    "            self.index.index(hashed_explanations)\n",
    "#             raise NotImplementedError\n",
    "        elif method == 'lsh':\n",
    "            self.index = MinHashLSH(threshold=threshold, num_perm=num_perm, params=[64, self.num_perm//64])\n",
    "            for explanation, score in init_explanations:\n",
    "                s = get_subset(init_df, explanation)\n",
    "                m = MinHash(num_perm=num_perm)\n",
    "                explanation_json = json.dumps(explanation)\n",
    "                for d in s:\n",
    "                    m.update(str(d).encode('utf8'))\n",
    "                self.index.insert(explanation_json, m)\n",
    "#             raise NotImplementedError\n",
    "\n",
    "        self.top_explanations = dict()\n",
    "        self.k = k\n",
    "        self.threshold = threshold\n",
    "        self.min_score = -100\n",
    "        self.min_score_explanation =None\n",
    "    \n",
    "    def _update_min(self, new_explanation, new_score):\n",
    "        if len(self.top_explanations) > 0:\n",
    "            for explanation, t in self.top_explanations.items():\n",
    "                if t[2] < new_score:\n",
    "                    new_score = t[2]\n",
    "                    new_explanation = explanation\n",
    "        self.min_score = new_score\n",
    "        self.min_score_explanation = new_explanation\n",
    "        \n",
    "    def _containment(self, x, q):\n",
    "        return len(x & q)/len(q)\n",
    "            \n",
    "    def update(self, df, explanation, score):\n",
    "        if (len(self.top_explanations) < self.k) or (score > self.min_score):\n",
    "            s = get_subset(df, explanation)\n",
    "            m = MinHash(num_perm=self.num_perm)\n",
    "            explanation = json.dumps(explanation)\n",
    "            for d in s:\n",
    "                m.update(str(d).encode('utf8'))\n",
    "\n",
    "            if self.method == 'lshensemble':\n",
    "                q_result = set(self.index.query(m, len(s))).intersection(set(self.top_explanations.keys()))\n",
    "            elif self.method == 'lsh':\n",
    "                q_result = set(self.index.query(m)).intersection(set(self.top_explanations.keys()))\n",
    "            elif self.method == 'containment':\n",
    "                q_result = set()\n",
    "                for k, v in self.top_explanations.items():\n",
    "                    if self._containment(v[1], s) > self.threshold:\n",
    "                        q_result.add(k)\n",
    "\n",
    "            if len(q_result)==0:\n",
    "                if len(self.top_explanations) <= self.k-1:\n",
    "                    self._update_min(explanation, score)\n",
    "                    self.top_explanations[explanation] = (m, s, score)\n",
    "                    return 0\n",
    "                else:\n",
    "                    del self.top_explanations[self.min_score_explanation]\n",
    "                    self._update_min(explanation, score)\n",
    "                    self.top_explanations[explanation] = (m, s, score)\n",
    "                    return 0\n",
    "            else:\n",
    "                q_scores = [self.top_explanations[explanation][2] for explanation in q_result]\n",
    "                if max(q_scores) < score:\n",
    "                    for explanation in q_result:\n",
    "                        del self.top_explanations[explanation]\n",
    "                    self._update_min(explanation, score)\n",
    "                    self.top_explanations[explanation] = (m, s, score)\n",
    "#                     print('Inserted')\n",
    "                    return 0\n",
    "        return -1"
   ]
  },
  {
   "cell_type": "code",
   "execution_count": 55,
   "metadata": {
    "ExecuteTime": {
     "end_time": "2021-07-11T06:54:42.790933Z",
     "start_time": "2021-07-11T06:54:36.752883Z"
    }
   },
   "outputs": [],
   "source": [
    "sorted_df = candidates_df_3_compact.sort_values(by=['score'], ascending=False).copy()\n",
    "\n",
    "topk = Topk(method='containment', threshold=0.2, k=10)\n",
    "for row_idx in range(len(sorted_df)):\n",
    "    row = sorted_df.iloc[row_idx]\n",
    "    explanation, score = row[0], row[2]\n",
    "    topk.update(X_train_orig, explanation, score)\n",
    "    if len(topk.top_explanations) == topk.k:\n",
    "        break"
   ]
  },
  {
   "cell_type": "code",
   "execution_count": 56,
   "metadata": {
    "ExecuteTime": {
     "end_time": "2021-07-11T06:54:45.130545Z",
     "start_time": "2021-07-11T06:54:44.251439Z"
    },
    "scrolled": true
   },
   "outputs": [
    {
     "data": {
      "text/html": [
       "<div>\n",
       "<style scoped>\n",
       "    .dataframe tbody tr th:only-of-type {\n",
       "        vertical-align: middle;\n",
       "    }\n",
       "\n",
       "    .dataframe tbody tr th {\n",
       "        vertical-align: top;\n",
       "    }\n",
       "\n",
       "    .dataframe thead th {\n",
       "        text-align: right;\n",
       "    }\n",
       "</style>\n",
       "<table border=\"1\" class=\"dataframe\">\n",
       "  <thead>\n",
       "    <tr style=\"text-align: right;\">\n",
       "      <th></th>\n",
       "      <th>explanations</th>\n",
       "      <th>support</th>\n",
       "      <th>score</th>\n",
       "      <th>2nd-inf</th>\n",
       "    </tr>\n",
       "  </thead>\n",
       "  <tbody>\n",
       "    <tr>\n",
       "      <th>0</th>\n",
       "      <td>[\"age=1\", \"gender=0\", \"housing_A152=1\"]</td>\n",
       "      <td>3.500</td>\n",
       "      <td>0.768868</td>\n",
       "      <td>0.488034</td>\n",
       "    </tr>\n",
       "    <tr>\n",
       "      <th>1</th>\n",
       "      <td>[\"age=1\", \"credit_hist=0\", \"credit_amt=0\", \"gender=1\"]</td>\n",
       "      <td>3.375</td>\n",
       "      <td>0.656537</td>\n",
       "      <td>0.401849</td>\n",
       "    </tr>\n",
       "    <tr>\n",
       "      <th>2</th>\n",
       "      <td>[\"age=1\", \"status=3\", \"telephone=1\"]</td>\n",
       "      <td>3.750</td>\n",
       "      <td>0.576817</td>\n",
       "      <td>0.392282</td>\n",
       "    </tr>\n",
       "    <tr>\n",
       "      <th>3</th>\n",
       "      <td>[\"age=1\", \"credit_amt=1\", \"num_liable=1\", \"savings=0\"]</td>\n",
       "      <td>3.125</td>\n",
       "      <td>0.488182</td>\n",
       "      <td>0.276670</td>\n",
       "    </tr>\n",
       "    <tr>\n",
       "      <th>4</th>\n",
       "      <td>[\"age=1\", \"foreign_worker=1\", \"num_liable=1\", \"residence=4\"]</td>\n",
       "      <td>11.000</td>\n",
       "      <td>0.440223</td>\n",
       "      <td>0.878202</td>\n",
       "    </tr>\n",
       "    <tr>\n",
       "      <th>5</th>\n",
       "      <td>[\"credit_hist=2\", \"employment=4\", \"install_rate=4\", \"job=2\"]</td>\n",
       "      <td>3.375</td>\n",
       "      <td>0.311981</td>\n",
       "      <td>0.190955</td>\n",
       "    </tr>\n",
       "    <tr>\n",
       "      <th>6</th>\n",
       "      <td>[\"foreign_worker=1\", \"gender=1\", \"install_plans=1\", \"property=0\"]</td>\n",
       "      <td>3.500</td>\n",
       "      <td>0.282771</td>\n",
       "      <td>0.179487</td>\n",
       "    </tr>\n",
       "    <tr>\n",
       "      <th>7</th>\n",
       "      <td>[\"gender=0\", \"install_rate=4\", \"install_plans=0\", \"status=0\"]</td>\n",
       "      <td>4.250</td>\n",
       "      <td>0.244389</td>\n",
       "      <td>0.188365</td>\n",
       "    </tr>\n",
       "    <tr>\n",
       "      <th>8</th>\n",
       "      <td>[\"employment=4\", \"foreign_worker=1\", \"status=3\", \"savings=0\"]</td>\n",
       "      <td>3.875</td>\n",
       "      <td>0.237609</td>\n",
       "      <td>0.166980</td>\n",
       "    </tr>\n",
       "    <tr>\n",
       "      <th>9</th>\n",
       "      <td>[\"install_rate=4\", \"num_credits=1\", \"savings=4\", \"telephone=0\"]</td>\n",
       "      <td>3.500</td>\n",
       "      <td>0.235172</td>\n",
       "      <td>0.149274</td>\n",
       "    </tr>\n",
       "  </tbody>\n",
       "</table>\n",
       "</div>"
      ],
      "text/plain": [
       "                                                        explanations  support  \\\n",
       "0                            [\"age=1\", \"gender=0\", \"housing_A152=1\"]    3.500   \n",
       "1             [\"age=1\", \"credit_hist=0\", \"credit_amt=0\", \"gender=1\"]    3.375   \n",
       "2                               [\"age=1\", \"status=3\", \"telephone=1\"]    3.750   \n",
       "3             [\"age=1\", \"credit_amt=1\", \"num_liable=1\", \"savings=0\"]    3.125   \n",
       "4       [\"age=1\", \"foreign_worker=1\", \"num_liable=1\", \"residence=4\"]   11.000   \n",
       "5       [\"credit_hist=2\", \"employment=4\", \"install_rate=4\", \"job=2\"]    3.375   \n",
       "6  [\"foreign_worker=1\", \"gender=1\", \"install_plans=1\", \"property=0\"]    3.500   \n",
       "7      [\"gender=0\", \"install_rate=4\", \"install_plans=0\", \"status=0\"]    4.250   \n",
       "8      [\"employment=4\", \"foreign_worker=1\", \"status=3\", \"savings=0\"]    3.875   \n",
       "9    [\"install_rate=4\", \"num_credits=1\", \"savings=4\", \"telephone=0\"]    3.500   \n",
       "\n",
       "      score   2nd-inf  \n",
       "0  0.768868  0.488034  \n",
       "1  0.656537  0.401849  \n",
       "2  0.576817  0.392282  \n",
       "3  0.488182  0.276670  \n",
       "4  0.440223  0.878202  \n",
       "5  0.311981  0.190955  \n",
       "6  0.282771  0.179487  \n",
       "7  0.244389  0.188365  \n",
       "8  0.237609  0.166980  \n",
       "9  0.235172  0.149274  "
      ]
     },
     "execution_count": 56,
     "metadata": {},
     "output_type": "execute_result"
    }
   ],
   "source": [
    "explanations = list(topk.top_explanations.keys())\n",
    "idxs = [v[1] for v in topk.top_explanations.values()]\n",
    "supports = list()\n",
    "scores = list()\n",
    "infs = list()\n",
    "for e in explanations:\n",
    "    condition = candidates_df_3_compact.predicates.apply(lambda x: x==json.loads(e))\n",
    "    supports.append(float(candidates_df_3_compact[condition]['support']))\n",
    "    scores.append(float(candidates_df_3_compact[condition]['score']))\n",
    "    infs.append(float(candidates_df_3_compact[condition]['2nd-inf']))\n",
    "\n",
    "expl = [explanations, supports, scores, infs]\n",
    "expl = (np.array(expl).T).tolist()\n",
    "\n",
    "explanations = pd.DataFrame(expl, columns=[\"explanations\", \"support\", \"score\", \"2nd-inf\"])\n",
    "explanations['score'] = explanations['score'].astype(float)\n",
    "explanations['support'] = explanations['support'].astype(float)\n",
    "if metric == 0:\n",
    "    explanations['2nd-inf'] = explanations['2nd-inf'].astype(float)/(-spd_0)\n",
    "elif metric == 1:\n",
    "    explanations['2nd-inf'] = explanations['2nd-inf'].astype(float)/(-tpr_parity_0)\n",
    "elif metric == 2:\n",
    "    explanations['2nd-inf'] = explanations['2nd-inf'].astype(float)/(-predictive_parity_0)\n",
    "pd.set_option('max_colwidth', 100)\n",
    "explanations.sort_values(by=['score'], ascending=False)\n"
   ]
  },
  {
   "cell_type": "code",
   "execution_count": 74,
   "metadata": {
    "ExecuteTime": {
     "end_time": "2021-07-11T07:11:48.064731Z",
     "start_time": "2021-07-11T07:11:48.058983Z"
    }
   },
   "outputs": [],
   "source": [
    "lrs = [0.01, 0.05, 0.1, 0.5, 1, 3, 5, 10]\n",
    "lr = lrs[4]"
   ]
  },
  {
   "cell_type": "code",
   "execution_count": 75,
   "metadata": {
    "ExecuteTime": {
     "end_time": "2021-07-11T07:14:25.537108Z",
     "start_time": "2021-07-11T07:11:48.940583Z"
    }
   },
   "outputs": [],
   "source": [
    "time_gd = []\n",
    "for _ in range(rep):\n",
    "    gd_influences = []\n",
    "    for col in X_train_orig.columns:\n",
    "        if dataset == 'german':\n",
    "            if \"purpose\" in col or \"housing\" in col: #dummy variables purpose=0 doesn't make sense\n",
    "                vals = [1]\n",
    "            else:\n",
    "                vals = X_train_orig[col].unique()\n",
    "        elif dataset == 'adult':\n",
    "            continuous_cols = ['age', 'education.num', 'hours',]\n",
    "            if col in continuous_cols:\n",
    "                vals = X_train_orig[col].unique()\n",
    "            else:\n",
    "                vals = [1]\n",
    "        elif dataset == 'compas':\n",
    "            vals = X_train_orig[col].unique()\n",
    "        else:\n",
    "            raise NotImplementedError\n",
    "\n",
    "        for val in vals:\n",
    "            idx = X_train_orig[X_train_orig[col] == val].index \n",
    "            \n",
    "            if (len(idx)/len(X_train) > support):  \n",
    "                X = np.delete(X_train, idx, 0)\n",
    "                y = y_train.drop(index=idx, inplace=False)\n",
    "                if len(y.unique()) > 1:                # Ground truth subset influence\n",
    "                    clf_new = LogisticRegression(input_size=X_train.shape[-1])\n",
    "#                     clf_new = SVM(input_size=X_train.shape[-1])\n",
    "#                     clf_new = NeuralNetwork(input_size=X_train.shape[-1])\n",
    "                    clf_new.fit(X_train, y_train)\n",
    "                    t0 = time.time()\n",
    "                    optimizer = torch.optim.SGD(clf_new.parameters(), lr=lr)\n",
    "                    clf_new.train()\n",
    "                    loss = loss_func(clf_new, np.array(X), np.array(y))\n",
    "                    optimizer.zero_grad()\n",
    "                    loss.backward()\n",
    "                    optimizer.step()\n",
    "                    y_pred = clf_new.predict_proba(np.array(X_test))\n",
    "                    if metric == 0:\n",
    "                        inf_gd = computeFairness(y_pred, X_test_orig, y_test, 0, dataset) - spd_0\n",
    "                    elif metric == 1:\n",
    "                        inf_gd = computeFairness(y_pred, X_test_orig, y_test, 1, dataset) - tpr_parity_0\n",
    "                    elif metric == 2:\n",
    "                        inf_gd = computeFairness(y_pred, X_test_orig, y_test, 2, dataset) - predictive_parity_0\n",
    "                    time_gd.append(time.time()-t0)\n",
    "                    accuracy = computeAccuracy(y_test, y_pred)\n",
    "                    gd_influences.append(inf_gd)"
   ]
  },
  {
   "cell_type": "code",
   "execution_count": 93,
   "metadata": {
    "ExecuteTime": {
     "end_time": "2021-07-11T07:21:39.230709Z",
     "start_time": "2021-07-11T07:21:39.180739Z"
    }
   },
   "outputs": [],
   "source": [
    "time_gt_ave = []\n",
    "time_second_ave = []\n",
    "time_first_ave = []\n",
    "time_gd_ave = []\n",
    "\n",
    "l = len(time_gt)//rep\n",
    "for i in range(l):\n",
    "    time_gt_ave.append(np.average([time_gt[i+j*l] for j in range(rep)]))\n",
    "    time_second_ave.append(np.average([time_second[i+j*l] for j in range(rep)]))\n",
    "    time_first_ave.append(np.average([time_first[i+j*l] for j in range(rep)]))\n",
    "    time_gd_ave.append(np.average([time_gd[i+j*l] for j in range(rep)]))"
   ]
  },
  {
   "cell_type": "code",
   "execution_count": 94,
   "metadata": {
    "ExecuteTime": {
     "end_time": "2021-07-11T07:21:44.127686Z",
     "start_time": "2021-07-11T07:21:42.785366Z"
    }
   },
   "outputs": [
    {
     "data": {
      "image/png": "[encoded data removed]",
      "text/plain": [
       "<Figure size 504x504 with 1 Axes>"
      ]
     },
     "metadata": {
      "needs_background": "light"
     },
     "output_type": "display_data"
    }
   ],
   "source": [
    "plt.figure(figsize=(7,7))\n",
    "# plt.subplot(131)\n",
    "sorted_idx = pd.Series(fractionRows).sort_values(ascending=True).index\n",
    "first_xs = []\n",
    "first_ys = []\n",
    "for idx in sorted_idx:\n",
    "    first_xs.append(fractionRows[idx])\n",
    "    first_ys.append(time_first_ave[idx])\n",
    "plt.plot(first_xs, first_ys, '-', c='lightsteelblue', label='First-order IF')\n",
    "\n",
    "# plt.subplot(132)\n",
    "second_xs = []\n",
    "second_ys = []\n",
    "for idx in sorted_idx:\n",
    "    second_xs.append(fractionRows[idx])\n",
    "    second_ys.append(time_second_ave[idx])\n",
    "plt.plot(second_xs, second_ys, '-', c='royalblue', label='Second-order IF')\n",
    "\n",
    "'''********************** re-training would be much much slower **********************'''\n",
    "# plt.subplot(133)\n",
    "gt_xs = []\n",
    "gt_ys = []\n",
    "for idx in sorted_idx:\n",
    "    gt_xs.append(fractionRows[idx])\n",
    "    gt_ys.append(time_gt_ave[idx])\n",
    "plt.plot(gt_xs, gt_ys, '-', c='orange', label='Retrain')\n",
    "\n",
    "gd_xs = []\n",
    "gd_ys = []\n",
    "for idx in sorted_idx:\n",
    "    gd_xs.append(fractionRows[idx])\n",
    "    gd_ys.append(time_gd_ave[idx])\n",
    "plt.plot(gd_xs, gd_ys, '-', c='lightcoral', label='One-step GD')\n",
    "\n",
    "plt.legend(loc='upper right', fontsize=12)\n",
    "plt.grid()\n",
    "plt.xlabel('\\n Fraction of training data removed (%)', fontsize=15)\n",
    "plt.ylabel('Time taken / sec \\n', fontsize=15)\n",
    "plt.yscale(\"log\")\n",
    "plt.xlim(0, 50)\n",
    "# plt.show()\n",
    "plt.savefig('time.png')"
   ]
  },
  {
   "cell_type": "code",
   "execution_count": 81,
   "metadata": {
    "ExecuteTime": {
     "end_time": "2021-07-11T07:15:37.358287Z",
     "start_time": "2021-07-11T07:15:37.002097Z"
    }
   },
   "outputs": [
    {
     "data": {
      "image/png": "[encoded data removed]",
      "text/plain": [
       "<Figure size 360x360 with 1 Axes>"
      ]
     },
     "metadata": {
      "needs_background": "light"
     },
     "output_type": "display_data"
    }
   ],
   "source": [
    "lim = .2\n",
    "plt.figure(figsize=(5,5))\n",
    "xs = (np.arange(31)-15)/15*lim*0.8\n",
    "ys = xs\n",
    "plt.xlim(-lim, lim)\n",
    "plt.ylim(-lim, lim)\n",
    "plt.plot(xs, ys, 'grey')\n",
    "\n",
    "# RGBA\n",
    "color_first = np.zeros((len(gt_influences), 4))\n",
    "color_first[:, 2] = 1.0\n",
    "color_first[:, 3] = 1-np.array(fractionRows)/100\n",
    "color_second = np.zeros((len(gt_influences), 4))\n",
    "color_second[:, 0] = 1.0\n",
    "color_second[:, 3] = 1-np.array(fractionRows)/100\n",
    "\n",
    "color_gd = np.zeros((len(gt_influences), 4))\n",
    "color_gd[:, 1] = 1.0\n",
    "color_gd[:, 3] = 1-np.array(fractionRows)/100\n",
    "\n",
    "plt.scatter(gt_influences, first_order_influences, s=12, color=color_first, label='first-order')\n",
    "plt.scatter(gt_influences, second_order_influences, s=12, color=color_second, label='second-order')\n",
    "plt.scatter(gt_influences, gd_influences, s=12, color=color_gd, label='gd')\n",
    "plt.ylabel('estimated influence\\n', fontsize=12, fontweight='bold')\n",
    "plt.xlabel('\\nground truth influence', fontsize=12, fontweight='bold')\n",
    "plt.legend(fontsize=12, prop={'weight':'bold'})\n",
    "plt.grid()\n",
    "# plt.savefig('infs.png')"
   ]
  },
  {
   "cell_type": "code",
   "execution_count": null,
   "metadata": {},
   "outputs": [],
   "source": []
  }
 ],
 "metadata": {
  "kernelspec": {
   "display_name": "Python 3",
   "language": "python",
   "name": "python3"
  },
  "language_info": {
   "codemirror_mode": {
    "name": "ipython",
    "version": 3
   },
   "file_extension": ".py",
   "mimetype": "text/x-python",
   "name": "python",
   "nbconvert_exporter": "python",
   "pygments_lexer": "ipython3",
   "version": "3.6.5"
  }
 },
 "nbformat": 4,
 "nbformat_minor": 4
}
