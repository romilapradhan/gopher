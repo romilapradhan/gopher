{
 "cells": [
  {
   "cell_type": "code",
   "execution_count": 1,
   "metadata": {},
   "outputs": [
    {
     "name": "stderr",
     "output_type": "stream",
     "text": [
      "WARNING:root:No module named 'tensorflow': AdversarialDebiasing will be unavailable. To install, run:\n",
      "pip install 'aif360[AdversarialDebiasing]'\n",
      "WARNING:root:No module named 'numba': LFR will be unavailable. To install, run:\n",
      "pip install 'aif360[LFR]'\n"
     ]
    }
   ],
   "source": [
    "import sys\n",
    "import numpy as np\n",
    "import pandas as pd\n",
    "from aif360.datasets import BinaryLabelDataset\n",
    "from aif360.metrics import BinaryLabelDatasetMetric, ClassificationMetric\n",
    "from aif360.algorithms.preprocessing.optim_preproc import OptimPreproc\n",
    "from aif360.algorithms.preprocessing.optim_preproc_helpers.data_preproc_functions import load_preproc_data_adult\n",
    "from aif360.algorithms.preprocessing.optim_preproc_helpers.distortion_functions import get_distortion_adult\n",
    "from aif360.algorithms.preprocessing.optim_preproc_helpers.opt_tools import OptTools\n",
    "from sklearn.linear_model import LinearRegression, LogisticRegression\n",
    "from sklearn.model_selection import train_test_split, KFold, cross_val_score\n",
    "from sklearn import metrics, preprocessing\n",
    "from sklearn.tree import DecisionTreeClassifier, DecisionTreeRegressor, plot_tree\n",
    "from sklearn.ensemble import RandomForestRegressor\n",
    "import matplotlib.pyplot as plt\n",
    "import seaborn as sns\n",
    "from IPython.display import Markdown, display\n",
    "np.random.seed(1)"
   ]
  },
  {
   "cell_type": "code",
   "execution_count": 2,
   "metadata": {},
   "outputs": [],
   "source": [
    "# Import the clean the adult dataset\n",
    "\n",
    "df = pd.read_csv('adult.csv')\n",
    "\n",
    "# df = df.sample(n = 5000)\n",
    "# print(df.shape)\n",
    "\n",
    "# check columns that have missing values\\n\n",
    "df.isin(['?']).sum(axis=0)\n",
    "\n",
    "# replace missing values (?) to nan and then drop the columns\n",
    "df['native.country'] = df['native.country'].replace('?',np.nan)\n",
    "df['workclass'] = df['workclass'].replace('?',np.nan)\n",
    "df['occupation'] = df['occupation'].replace('?',np.nan)\n",
    "\n",
    "# dropping the NaN rows now\n",
    "df.dropna(how='any',inplace=True)\n",
    "\n",
    "df['income'] = df['income'].map({'<=50K': 0, '>50K': 1}).astype(int)\n",
    "df['sex'] = df['sex'].map({'Male': 1, 'Female': 0}).astype(int)"
   ]
  },
  {
   "cell_type": "code",
   "execution_count": 3,
   "metadata": {},
   "outputs": [],
   "source": [
    "# Data pre-processing (using one-hot encoding)\n",
    "\n",
    "# For each category we made a separate column\n",
    "df = pd.concat([df, pd.get_dummies(df['race'], prefix='race')],axis=1)\n",
    "df = pd.concat([df, pd.get_dummies(df['marital.status'], prefix='marital')],axis=1)\n",
    "df = pd.concat([df, pd.get_dummies(df['workclass'], prefix='workclass')],axis=1)\n",
    "df = pd.concat([df, pd.get_dummies(df['relationship'], prefix='relationship')],axis=1)\n",
    "df = pd.concat([df, pd.get_dummies(df['education'], prefix='education')],axis=1)\n",
    "df = pd.concat([df, pd.get_dummies(df['occupation'], prefix='occupation')],axis=1)\n",
    "\n",
    "# age binning\n",
    "df['ageUnder18'] = np.where(df['age'] < 18, 1, 0)\n",
    "df['age18to24'] = np.where((df['age'] >= 18) & (df['age'] <= 24), 1, 0)\n",
    "df['age25to44'] = np.where((df['age'] >= 25) & (df['age'] <= 44), 1, 0)\n",
    "df['age45to64'] = np.where((df['age'] >= 45) & (df['age'] <= 64), 1, 0)\n",
    "df['ageAbove65'] = np.where(df['age'] >= 65, 1, 0)\n",
    "\n",
    "# privileged, unprivileged groups\n",
    "privileged_groups = [{'sex': 1}] # Male\n",
    "unprivileged_groups = [{'sex': 0}] # Female\n",
    "\n",
    "df = df.drop(columns=['workclass', 'fnlwgt', 'education', 'education.num', 'occupation', \\\n",
    "                      'relationship', 'marital.status', 'race', 'native.country', 'capital.gain', \\\n",
    "                      'capital.loss', 'hours.per.week', 'age'])\n",
    "#\n",
    "#df.columns[1]"
   ]
  },
  {
   "cell_type": "code",
   "execution_count": null,
   "metadata": {},
   "outputs": [],
   "source": []
  },
  {
   "cell_type": "code",
   "execution_count": 4,
   "metadata": {},
   "outputs": [],
   "source": [
    "# Computes fairness of data and returns the fairness metrics in a form of array\n",
    "\n",
    "def get_metrics(test_df, y_pred, unprivileged_groups, privileged_groups):\n",
    "    # BLD constructor is taking arguments of Structured dataset\n",
    "    test_bld = BinaryLabelDataset(df=test_df, label_names=['income'], protected_attribute_names=['sex'])\n",
    "    \n",
    "    # Made a copy of the the bld dataset\n",
    "    pred_data = test_bld.copy()\n",
    "    pred_data.labels = y_pred\n",
    "\n",
    "    # Using classification metric because we have 2 binary label datasets\n",
    "    metric_selection = ClassificationMetric(\n",
    "                    test_bld, pred_data,\n",
    "                    unprivileged_groups=unprivileged_groups,\n",
    "                    privileged_groups=privileged_groups)\n",
    "    \n",
    "    tnr_diff = metric_selection.true_negative_rate(1) - metric_selection.true_negative_rate(0)\n",
    "    \n",
    "    return [metric_selection.true_positive_rate_difference(), \\\n",
    "        metric_selection.statistical_parity_difference(),\\\n",
    "        tnr_diff,\\\n",
    "        metric_selection.accuracy()]"
   ]
  },
  {
   "cell_type": "code",
   "execution_count": 5,
   "metadata": {},
   "outputs": [
    {
     "name": "stdout",
     "output_type": "stream",
     "text": [
      "Results: Original\n"
     ]
    },
    {
     "data": {
      "text/plain": [
       "TruePositiveRateDiff    -0.135077\n",
       "StatisticalParityDiff   -0.181838\n",
       "TrueNegativeRateDiff    -0.088531\n",
       "Accuracy                 0.825942\n",
       "dtype: float64"
      ]
     },
     "execution_count": 5,
     "metadata": {},
     "output_type": "execute_result"
    }
   ],
   "source": [
    "# Compute fairness over all the data\n",
    "\n",
    "X = df.drop(columns='income')\n",
    "y = df['income']\n",
    "\n",
    "num_k = 5 # number of folds for cross-validation\n",
    "\n",
    "# Metrics for each set of (train and test) sample\n",
    "metrics = [None] * num_k\n",
    "\n",
    "# Regression on original data\n",
    "k_fold = KFold(n_splits=num_k, random_state=None, shuffle=False)\n",
    "for k, (train, test) in enumerate(k_fold.split(X, y)):\n",
    "    # Here train and test are the list of indices on which split is done\n",
    "   \n",
    "    # take out test set from X\n",
    "    test_df = X.iloc[test].copy()\n",
    "    test_df['income'] = y.iloc[test]\n",
    "    \n",
    "    reg = LogisticRegression(max_iter=300, solver = 'lbfgs')\n",
    "    reg.fit(X.iloc[train], y.iloc[train])\n",
    "    y_pred = reg.predict(X.iloc[test])\n",
    "    metrics[k] = get_metrics(test_df, y_pred, unprivileged_groups, privileged_groups)\n",
    "\n",
    "print(\"Results: Original\")\n",
    "mf_orig = pd.DataFrame(metrics, columns = ['TruePositiveRateDiff', 'StatisticalParityDiff', \\\n",
    "                                      'TrueNegativeRateDiff', 'Accuracy'])\n",
    "mf_orig.mean()\n"
   ]
  },
  {
   "cell_type": "code",
   "execution_count": 13,
   "metadata": {},
   "outputs": [],
   "source": [
    "train, test = train_test_split(df, test_size = 0.3)\n",
    "\n",
    "\n",
    "X_train = train.drop(columns='income')\n",
    "y_train = train['income']\n",
    "\n",
    "X_test = test.drop(columns='income')\n",
    "y_test = test['income']"
   ]
  },
  {
   "cell_type": "code",
   "execution_count": 18,
   "metadata": {},
   "outputs": [
    {
     "data": {
      "text/plain": [
       "array([0, 1], dtype=uint8)"
      ]
     },
     "execution_count": 18,
     "metadata": {},
     "output_type": "execute_result"
    }
   ],
   "source": [
    "X_train['workclass_Without-pay'].unique()"
   ]
  },
  {
   "cell_type": "code",
   "execution_count": 20,
   "metadata": {},
   "outputs": [
    {
     "name": "stdout",
     "output_type": "stream",
     "text": [
      "sex\n",
      "race_Amer-Indian-Eskimo\n",
      "race_Asian-Pac-Islander\n",
      "race_Black\n",
      "race_Other\n",
      "race_White\n",
      "marital_Divorced\n",
      "marital_Married-AF-spouse\n",
      "marital_Married-civ-spouse\n",
      "marital_Married-spouse-absent\n",
      "marital_Never-married\n",
      "marital_Separated\n",
      "marital_Widowed\n",
      "workclass_Federal-gov\n",
      "workclass_Local-gov\n",
      "workclass_Private\n",
      "workclass_Self-emp-inc\n",
      "workclass_Self-emp-not-inc\n",
      "workclass_State-gov\n",
      "workclass_Without-pay\n",
      "relationship_Husband\n",
      "relationship_Not-in-family\n",
      "relationship_Other-relative\n",
      "relationship_Own-child\n",
      "relationship_Unmarried\n",
      "relationship_Wife\n",
      "education_10th\n",
      "education_11th\n",
      "education_12th\n",
      "education_1st-4th\n",
      "education_5th-6th\n",
      "education_7th-8th\n",
      "education_9th\n",
      "education_Assoc-acdm\n",
      "education_Assoc-voc\n",
      "education_Bachelors\n",
      "education_Doctorate\n",
      "education_HS-grad\n",
      "education_Masters\n",
      "education_Preschool\n",
      "education_Prof-school\n",
      "education_Some-college\n",
      "occupation_Adm-clerical\n",
      "occupation_Armed-Forces\n",
      "occupation_Craft-repair\n",
      "occupation_Exec-managerial\n",
      "occupation_Farming-fishing\n",
      "occupation_Handlers-cleaners\n",
      "occupation_Machine-op-inspct\n",
      "occupation_Other-service\n",
      "occupation_Priv-house-serv\n",
      "occupation_Prof-specialty\n",
      "occupation_Protective-serv\n",
      "occupation_Sales\n",
      "occupation_Tech-support\n",
      "occupation_Transport-moving\n",
      "ageUnder18\n",
      "age18to24\n",
      "age25to44\n",
      "age45to64\n",
      "ageAbove65\n"
     ]
    }
   ],
   "source": [
    "# Try to find predicates for which the fairness of the model increases\n",
    "\n",
    "# Taking three separate lists for candidate attribute, value, and fairness\n",
    "# considering only statistical parity\n",
    "\n",
    "attributes = []\n",
    "values = []\n",
    "infs = []\n",
    "\n",
    "reg = LogisticRegression(max_iter=200, solver = 'lbfgs')\n",
    "for i in range(0, len(X_train.columns)):\n",
    "    print(X_train.columns[i])\n",
    "    col_rem = X_train.columns[i]\n",
    "    \n",
    "    # Remove the predicate in training set\n",
    "    col_train_rem_indices = X_train[X_train[col_rem] == 1].index\n",
    "\n",
    "    X_train_temp = X_train.drop(col_train_rem_indices, inplace = False)\n",
    "    y_train_temp = y_train.drop(col_train_rem_indices, inplace = False)\n",
    "\n",
    "    reg.fit(X_train_temp, y_train_temp)\n",
    "\n",
    "    y_temp_predict = reg.predict(X_test)\n",
    "\n",
    "    # Get the metrics\n",
    "    metrics = get_metrics(test, y_temp_predict, privileged_groups, unprivileged_groups)\n",
    "\n",
    "    # Take the Statistical parity diff\n",
    "    inf = mf_orig.mean()[1] - metrics[1]\n",
    "\n",
    "    if (inf < 0) :\n",
    "        attributes.append(col_rem)\n",
    "        values.append(j)\n",
    "        infs.append(inf)\n",
    "\n"
   ]
  },
  {
   "cell_type": "code",
   "execution_count": 21,
   "metadata": {},
   "outputs": [
    {
     "data": {
      "text/plain": [
       "[-0.26617622686062253,\n",
       " -0.37406117640269737,\n",
       " -0.37325901570285736,\n",
       " -0.3719346630324497,\n",
       " -0.3747205895250185,\n",
       " -0.31721171878270127,\n",
       " -0.3688899340212898,\n",
       " -0.3748964956571295,\n",
       " -0.20975501197318314,\n",
       " -0.3763691223308213,\n",
       " -0.38787569341684913,\n",
       " -0.3697805175333754,\n",
       " -0.3737314698415368,\n",
       " -0.36486255124479355,\n",
       " -0.37011575052030127,\n",
       " -0.32887479824640364,\n",
       " -0.3656978704992257,\n",
       " -0.37967171436819236,\n",
       " -0.3775120424433526,\n",
       " -0.36912110441105417,\n",
       " -0.29588203642728556,\n",
       " -0.371907030903623,\n",
       " -0.36813198472757247,\n",
       " -0.37637464875658666,\n",
       " -0.3743798301123272,\n",
       " -0.4324525068112251,\n",
       " -0.3714235239134128,\n",
       " -0.37488544280559877,\n",
       " -0.3739018495478824,\n",
       " -0.3706047839362767,\n",
       " -0.3752206757925247,\n",
       " -0.372082937035734,\n",
       " -0.37339623685461093,\n",
       " -0.36470875081574394,\n",
       " -0.36765953058889306,\n",
       " -0.3063682082599998,\n",
       " -0.36287878545206487,\n",
       " -0.37769347500122896,\n",
       " -0.34747652631552906,\n",
       " -0.36912110441105417,\n",
       " -0.3612357790720273,\n",
       " -0.3670830138530521,\n",
       " -0.37178638902916544,\n",
       " -0.3687913978498937,\n",
       " -0.37406670282846277,\n",
       " -0.3224464597961527,\n",
       " -0.3743743036865619,\n",
       " -0.3722477903163143,\n",
       " -0.37092343764590663,\n",
       " -0.373863164567525,\n",
       " -0.37373699626730217,\n",
       " -0.3581698838501861,\n",
       " -0.36930253696893056,\n",
       " -0.3642141909740031,\n",
       " -0.3628898383035955,\n",
       " -0.3689507247047086,\n",
       " -0.3689562511304739,\n",
       " -0.3755172237990932,\n",
       " -0.3335598256889761,\n",
       " -0.31024825652559185,\n",
       " -0.37406117640269737]"
      ]
     },
     "execution_count": 21,
     "metadata": {},
     "output_type": "execute_result"
    }
   ],
   "source": [
    "infs"
   ]
  },
  {
   "cell_type": "code",
   "execution_count": null,
   "metadata": {},
   "outputs": [],
   "source": []
  }
 ],
 "metadata": {
  "kernelspec": {
   "display_name": "Python 3",
   "language": "python",
   "name": "python3"
  },
  "language_info": {
   "codemirror_mode": {
    "name": "ipython",
    "version": 3
   },
   "file_extension": ".py",
   "mimetype": "text/x-python",
   "name": "python",
   "nbconvert_exporter": "python",
   "pygments_lexer": "ipython3",
   "version": "3.8.5"
  }
 },
 "nbformat": 4,
 "nbformat_minor": 2
}
