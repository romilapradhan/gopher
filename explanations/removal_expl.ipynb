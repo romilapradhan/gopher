{
 "cells": [
  {
   "cell_type": "code",
   "execution_count": 1,
   "metadata": {
    "ExecuteTime": {
     "end_time": "2022-09-03T00:02:50.137820Z",
     "start_time": "2022-09-03T00:02:48.990604Z"
    }
   },
   "outputs": [
    {
     "data": {
      "text/plain": [
       "<torch._C.Generator at 0x170a70fb0>"
      ]
     },
     "execution_count": 1,
     "metadata": {},
     "output_type": "execute_result"
    }
   ],
   "source": [
    "import pandas as pd\n",
    "import copy\n",
    "import time\n",
    "import random\n",
    "from load_dataset import load\n",
    "from classifier import NeuralNetwork, LogisticRegression, SVM\n",
    "from utils import *\n",
    "from metrics import *  # include fairness and corresponding derivatives\n",
    "from expl import explanation_candidate_generation, get_top_k_expl\n",
    "from operator import itemgetter\n",
    "from influence import *\n",
    "\n",
    "random.seed(1)\n",
    "np.random.seed(1)\n",
    "torch.manual_seed(1)"
   ]
  },
  {
   "cell_type": "code",
   "execution_count": 2,
   "metadata": {
    "ExecuteTime": {
     "end_time": "2022-09-03T00:02:50.144149Z",
     "start_time": "2022-09-03T00:02:50.141541Z"
    }
   },
   "outputs": [],
   "source": [
    "# ignore all the warnings\n",
    "import warnings\n",
    "warnings.filterwarnings('ignore') "
   ]
  },
  {
   "cell_type": "markdown",
   "metadata": {},
   "source": [
    "**Load Dataset**"
   ]
  },
  {
   "cell_type": "code",
   "execution_count": 3,
   "metadata": {
    "ExecuteTime": {
     "end_time": "2022-09-03T00:02:50.173783Z",
     "start_time": "2022-09-03T00:02:50.148176Z"
    },
    "code_folding": [
     0
    ]
   },
   "outputs": [],
   "source": [
    "dataset = 'german'\n",
    "X_train, X_test, y_train, y_test = load(dataset)"
   ]
  },
  {
   "cell_type": "code",
   "execution_count": null,
   "metadata": {},
   "outputs": [],
   "source": [
    "duplicates = 1\n",
    "make_duplicates = lambda x, d: pd.concat([x]*d, axis=0).reset_index(drop=True)\n",
    "X_train = make_duplicates(X_train, duplicates)\n",
    "X_test = make_duplicates(X_test, duplicates)\n",
    "y_train = make_duplicates(y_train, duplicates)\n",
    "y_test = make_duplicates(y_test, duplicates)"
   ]
  },
  {
   "cell_type": "code",
   "execution_count": 4,
   "metadata": {
    "ExecuteTime": {
     "end_time": "2022-09-03T00:02:50.185852Z",
     "start_time": "2022-09-03T00:02:50.176257Z"
    },
    "code_folding": []
   },
   "outputs": [],
   "source": [
    "X_train_orig = copy.deepcopy(X_train)\n",
    "X_test_orig = copy.deepcopy(X_test)\n",
    "\n",
    "# Scale data: regularization penalty default: ‘l2’, ‘lbfgs’ solvers support only l2 penalties. \n",
    "# Regularization makes the predictor dependent on the scale of the features.\n",
    "from sklearn.preprocessing import StandardScaler\n",
    "sc = StandardScaler()\n",
    "X_train = sc.fit_transform(X_train)\n",
    "X_test = sc.transform(X_test)"
   ]
  },
  {
   "cell_type": "markdown",
   "metadata": {},
   "source": [
    "**Loss function** (Log loss for logistic regression)"
   ]
  },
  {
   "cell_type": "code",
   "execution_count": 5,
   "metadata": {
    "ExecuteTime": {
     "end_time": "2022-09-03T00:02:50.195336Z",
     "start_time": "2022-09-03T00:02:50.188266Z"
    }
   },
   "outputs": [],
   "source": [
    "# clf = NeuralNetwork(input_size=X_train.shape[-1])\n",
    "clf = LogisticRegression(input_size=X_train.shape[-1])\n",
    "# clf = SVM(input_size=X_train.shape[-1])\n",
    "num_params = len(convert_grad_to_ndarray(list(clf.parameters())))\n",
    "if isinstance(clf, LogisticRegression):\n",
    "    loss_func = logistic_loss_torch\n",
    "elif isinstance(clf, SVM):\n",
    "    loss_func = svm_loss_torch\n",
    "elif isinstance(clf, NeuralNetwork):\n",
    "    loss_func = nn_loss_torch"
   ]
  },
  {
   "cell_type": "markdown",
   "metadata": {},
   "source": [
    "**Metrics: Initial state**"
   ]
  },
  {
   "cell_type": "code",
   "execution_count": 6,
   "metadata": {
    "ExecuteTime": {
     "end_time": "2022-09-03T00:02:50.261372Z",
     "start_time": "2022-09-03T00:02:50.198451Z"
    }
   },
   "outputs": [
    {
     "name": "stdout",
     "output_type": "stream",
     "text": [
      "Initial statistical parity:  -0.09527580118738121\n",
      "Initial TPR parity:  -0.07785149359511678\n",
      "Initial predictive parity:  -0.10136869102808022\n",
      "Initial loss:  0.5078892147492744\n",
      "Initial accuracy:  0.755\n"
     ]
    }
   ],
   "source": [
    "clf = LogisticRegression(input_size=X_train.shape[-1])\n",
    "# clf = NeuralNetwork(input_size=X_train.shape[-1])\n",
    "# clf = SVM(input_size=X_train.shape[-1])\n",
    "\n",
    "clf.fit(X_train, y_train)\n",
    "\n",
    "y_pred_test = clf.predict_proba(X_test)\n",
    "y_pred_train = clf.predict_proba(X_train)\n",
    "\n",
    "spd_0 = computeFairness(y_pred_test, X_test_orig, y_test, 0, dataset)\n",
    "print(\"Initial statistical parity: \", spd_0)\n",
    "\n",
    "tpr_parity_0 = computeFairness(y_pred_test, X_test_orig, y_test, 1, dataset)\n",
    "print(\"Initial TPR parity: \", tpr_parity_0)\n",
    "\n",
    "predictive_parity_0 = computeFairness(y_pred_test, X_test_orig, y_test, 2, dataset)\n",
    "print(\"Initial predictive parity: \", predictive_parity_0)\n",
    "\n",
    "loss_0 = logistic_loss(y_test, y_pred_test)\n",
    "print(\"Initial loss: \", loss_0)\n",
    "\n",
    "accuracy_0 = computeAccuracy(y_test, y_pred_test)\n",
    "print(\"Initial accuracy: \", accuracy_0)"
   ]
  },
  {
   "cell_type": "markdown",
   "metadata": {},
   "source": [
    "**Select delta fairness function depending on selected metric**"
   ]
  },
  {
   "cell_type": "code",
   "execution_count": 7,
   "metadata": {
    "ExecuteTime": {
     "end_time": "2022-09-03T00:02:50.332446Z",
     "start_time": "2022-09-03T00:02:50.265541Z"
    }
   },
   "outputs": [],
   "source": [
    "metric = 0  # spd -> 0, tpr parity -> 1, predictive parity -> 2\n",
    "metric_val = [spd_0, tpr_parity_0, predictive_parity_0][metric]\n",
    "\n",
    "v1 = get_del_F_del_theta(clf, X_test_orig, X_test, y_test, dataset, metric)"
   ]
  },
  {
   "cell_type": "markdown",
   "metadata": {},
   "source": [
    "**Pre-compute: (1) Hessian $H_{\\theta}$ (2) del_L_del_theta for each training data point**"
   ]
  },
  {
   "cell_type": "code",
   "execution_count": 8,
   "metadata": {
    "ExecuteTime": {
     "end_time": "2022-09-03T00:03:00.735022Z",
     "start_time": "2022-09-03T00:02:50.336385Z"
    },
    "code_folding": [],
    "scrolled": true
   },
   "outputs": [
    {
     "name": "stderr",
     "output_type": "stream",
     "text": [
      "100%|██████████| 800/800 [00:10<00:00, 77.08it/s]\n"
     ]
    }
   ],
   "source": [
    "hessian_all_points = get_hessian_all_points(clf, X_train, y_train, loss_func)"
   ]
  },
  {
   "cell_type": "code",
   "execution_count": 9,
   "metadata": {
    "ExecuteTime": {
     "end_time": "2022-09-03T00:03:00.936468Z",
     "start_time": "2022-09-03T00:03:00.737621Z"
    }
   },
   "outputs": [],
   "source": [
    "del_L_del_theta = get_del_L_del_theta(clf, X_train, y_train, loss_func)"
   ]
  },
  {
   "cell_type": "markdown",
   "metadata": {},
   "source": [
    "**Hessian vector product: $H_{\\theta}^{-1}v$**"
   ]
  },
  {
   "cell_type": "code",
   "execution_count": 10,
   "metadata": {
    "ExecuteTime": {
     "end_time": "2022-09-03T00:03:00.940870Z",
     "start_time": "2022-09-03T00:03:00.937614Z"
    }
   },
   "outputs": [],
   "source": [
    "hinv_v, hinv = get_hinv_v(hessian_all_points, v1)"
   ]
  },
  {
   "cell_type": "markdown",
   "metadata": {},
   "source": [
    "**Removal-based explanation generation**"
   ]
  },
  {
   "cell_type": "code",
   "execution_count": 11,
   "metadata": {
    "ExecuteTime": {
     "end_time": "2022-09-03T00:03:00.943560Z",
     "start_time": "2022-09-03T00:03:00.941873Z"
    }
   },
   "outputs": [],
   "source": [
    "del_f_threshold = 0.1 * metric_val\n",
    "support = 0.05  # Do not consider extremely small patterns\n",
    "support_small = 0.3  # For small patterns, 2nd-order estimation is quite accurate"
   ]
  },
  {
   "cell_type": "markdown",
   "metadata": {},
   "source": [
    "**Second-order influence computation for a group of points in subset U**"
   ]
  },
  {
   "cell_type": "code",
   "execution_count": 12,
   "metadata": {
    "ExecuteTime": {
     "end_time": "2022-09-03T00:03:00.946944Z",
     "start_time": "2022-09-03T00:03:00.944626Z"
    }
   },
   "outputs": [
    {
     "name": "stdout",
     "output_type": "stream",
     "text": [
      "del_f_threshold: -0.009527580118738123\n",
      "support: 0.05\n",
      "support_small: 0.3\n"
     ]
    }
   ],
   "source": [
    "del_f_threshold = (0.1) * metric_val\n",
    "support = 0.05 # Do not consider extremely small patterns\n",
    "support_small = 0.3 # For small patterns, 2nd-order estimation is quite accurate\n",
    "print(\"del_f_threshold:\", del_f_threshold)\n",
    "print(\"support:\", support)\n",
    "print(\"support_small:\", support_small)"
   ]
  },
  {
   "cell_type": "code",
   "execution_count": 13,
   "metadata": {
    "ExecuteTime": {
     "end_time": "2022-09-03T00:03:01.022906Z",
     "start_time": "2022-09-03T00:03:00.948076Z"
    },
    "code_folding": []
   },
   "outputs": [],
   "source": [
    "attributes = []\n",
    "attributeValues = []\n",
    "first_order_influences = []\n",
    "second_order_influences = []\n",
    "fractionRows = []\n",
    "\n",
    "v1_orig = v1\n",
    "for col in X_train_orig.columns:\n",
    "    if dataset == 'german':\n",
    "        if \"purpose\" in col or \"housing\" in col: #dummy variables purpose=0 doesn't make sense\n",
    "            vals = [1]\n",
    "        else:\n",
    "            vals = X_train_orig[col].unique()\n",
    "    elif dataset == 'adult':\n",
    "        vals = X_train_orig[col].unique()\n",
    "    elif dataset == 'compas':\n",
    "        vals = X_train_orig[col].unique()\n",
    "    elif dataset == 'sqf':\n",
    "        vals = X_train_orig[col].unique()\n",
    "    elif dataset == 'random':\n",
    "        vals = X_train_orig[col].unique()\n",
    "    else:\n",
    "        raise NotImplementedError\n",
    "    for val in vals:\n",
    "        idx = X_train_orig[X_train_orig[col] == val].index  \n",
    "        if (len(idx)/len(X_train) > support):  \n",
    "            y = y_train.drop(index=idx, inplace=False)\n",
    "            if len(y.unique()) > 1:\n",
    "                idx = X_train_orig[X_train_orig[col] == val].index\n",
    "                params_f_2 = second_order_group_influence(idx, del_L_del_theta, hessian_all_points, hinv)\n",
    "                del_f_2 = np.dot(v1.transpose(), params_f_2)\n",
    "\n",
    "                attributes.append(col)\n",
    "                attributeValues.append(val)\n",
    "                second_order_influences.append(del_f_2)\n",
    "                fractionRows.append(len(idx)/len(X_train)*100)"
   ]
  },
  {
   "cell_type": "code",
   "execution_count": 14,
   "metadata": {
    "ExecuteTime": {
     "end_time": "2022-09-03T00:03:01.030464Z",
     "start_time": "2022-09-03T00:03:01.025875Z"
    }
   },
   "outputs": [],
   "source": [
    "expl = [attributes, attributeValues, second_order_influences, fractionRows]\n",
    "expl = (np.array(expl).T).tolist()\n",
    "\n",
    "explanations = pd.DataFrame(expl, columns=[\"attributes\", \"attributeValues\", \"second_order_influences\", \"fractionRows\"])\n",
    "explanations['second_order_influences'] = explanations['second_order_influences'].astype(float)\n",
    "explanations['fractionRows'] = explanations['fractionRows'].astype(float)"
   ]
  },
  {
   "cell_type": "code",
   "execution_count": 15,
   "metadata": {
    "ExecuteTime": {
     "end_time": "2022-09-03T00:03:01.034801Z",
     "start_time": "2022-09-03T00:03:01.031683Z"
    }
   },
   "outputs": [],
   "source": [
    "candidates = copy.deepcopy(explanations)\n",
    "candidates.loc[:, 'score'] = candidates.loc[:, 'second_order_influences']*100/candidates.loc[:, 'fractionRows']\n",
    "# display(candidates)"
   ]
  },
  {
   "cell_type": "code",
   "execution_count": 16,
   "metadata": {
    "ExecuteTime": {
     "end_time": "2022-09-03T00:03:20.821897Z",
     "start_time": "2022-09-03T00:03:01.035934Z"
    },
    "code_folding": []
   },
   "outputs": [
    {
     "name": "stdout",
     "output_type": "stream",
     "text": [
      "Generated:  62  1-candidates\n",
      "Generated:  341  2-candidates\n",
      "Generated:  2\n",
      "Generated: 2418   3 -candidates\n",
      "Generated:  3\n",
      "Generated: 10779   4 -candidates\n",
      "CPU times: user 19.4 s, sys: 147 ms, total: 19.5 s\n",
      "Wall time: 19.8 s\n"
     ]
    }
   ],
   "source": [
    "%%time\n",
    "candidates_all = []\n",
    "total_rows = len(X_train_orig)\n",
    "\n",
    "# Generating 1-candidates\n",
    "candidates_1 = []\n",
    "for i in range(len(candidates)):\n",
    "    candidate = []\n",
    "    candidate_i = candidates.iloc[i]\n",
    "    if ((candidate_i[\"fractionRows\"] >= support_small) or\n",
    "       ((candidate_i[\"fractionRows\"] >= support) & (candidate_i[\"second_order_influences\"] > del_f_threshold))\n",
    "       ):\n",
    "        attr_i = candidate_i[\"attributes\"]\n",
    "        val_i = int(float(candidate_i[\"attributeValues\"]))\n",
    "        idx = X_train_orig[X_train_orig[attr_i] == val_i].index\n",
    "        predicates = [attr_i + '=' + str(val_i)]\n",
    "        candidate = [predicates, candidate_i[\"fractionRows\"],\n",
    "                     candidate_i[\"score\"], candidate_i[\"second_order_influences\"], idx]\n",
    "        candidates_1.append(candidate)\n",
    "\n",
    "print(\"Generated: \", len(candidates_1), \" 1-candidates\")\n",
    "candidates_1.sort()\n",
    "# display(candidates_1)\n",
    "\n",
    "for i in range(len(candidates_1)):\n",
    "    if (float(candidates_1[i][2]) >= support): # if score > top-k, keep in candidates, not otherwise\n",
    "        candidates_all.insert(len(candidates_all), candidates_1[i])\n",
    "\n",
    "# Generating 2-candidates\n",
    "candidates_2 = []\n",
    "for i in range(len(candidates_1)):\n",
    "    predicate_i = candidates_1[i][0][0]\n",
    "    attr_i = predicate_i.split(\"=\")[0]\n",
    "    val_i = int(float(predicate_i.split(\"=\")[1]))\n",
    "    sup_i = candidates_1[i][1]\n",
    "    idx_i = candidates_1[i][-1]\n",
    "    for j in range(i):\n",
    "        predicate_j = candidates_1[j][0][0]\n",
    "        attr_j = predicate_j.split(\"=\")[0]\n",
    "        val_j = int(float(predicate_j.split(\"=\")[1]))\n",
    "        sup_j = candidates_1[j][1]\n",
    "        idx_j = candidates_1[j][-1]\n",
    "        if (attr_i != attr_j):\n",
    "            idx = idx_i.intersection(idx_j)\n",
    "            fractionRows = len(idx)/total_rows * 100\n",
    "            isCompact = True\n",
    "            if (fractionRows == min(sup_i, sup_j)): # pattern is not compact if intersection equals one of its parents\n",
    "                isCompact = False\n",
    "            if (fractionRows/100 >= support):\n",
    "                params_f_2 = second_order_group_influence(idx, del_L_del_theta, hessian_all_points, hinv)\n",
    "                del_f_2 = np.dot(v1.transpose(), params_f_2)\n",
    "                score = del_f_2 * 100/fractionRows\n",
    "                if ((fractionRows/100 >= support_small) or\n",
    "                    ((score > candidates_1[i][2]) & (score > candidates_1[j][2]))):\n",
    "                        predicates = [attr_i + '=' + str(val_i), attr_j + '=' + str(val_j)]\n",
    "                        candidate = [sorted(predicates, key=itemgetter(0)), len(idx)*100/total_rows,\n",
    "                                    score, del_f_2, idx]\n",
    "                        candidates_2.append(candidate)\n",
    "#                         print(candidate)\n",
    "                        if (isCompact):\n",
    "                            candidates_all.append(candidate)\n",
    "print(\"Generated: \", len(candidates_2), \" 2-candidates\")\n",
    "\n",
    "# Recursively generating the rest\n",
    "candidates_L_1 = copy.deepcopy(candidates_2)\n",
    "set_L_1 = set()\n",
    "iteration = 2\n",
    "while((len(candidates_L_1) > 0) & (iteration < 4)):\n",
    "    print(\"Generated: \", iteration)    \n",
    "    candidates_L = []\n",
    "    for i in range(len(candidates_L_1)):\n",
    "        candidate_i = set(candidates_L_1[i][0])\n",
    "        sup_i = candidates_L_1[i][1]\n",
    "        idx_i = candidates_L_1[i][-1]\n",
    "        for j in range(i):\n",
    "            candidate_j = set(candidates_L_1[j][0])\n",
    "            sup_j = candidates_L_1[j][1]\n",
    "            idx_j = candidates_L_1[j][-1]\n",
    "            merged_candidate = sorted(candidate_i.union(candidate_j), key=itemgetter(0))\n",
    "            if json.dumps(merged_candidate) in set_L_1:\n",
    "                continue\n",
    "            if (len(merged_candidate) == iteration + 1):\n",
    "                intersect_candidates = candidate_i.intersection(candidate_j)\n",
    "                setminus_i = list(candidate_i - intersect_candidates)[0].split(\"=\")\n",
    "                setminus_j = list(candidate_j - intersect_candidates)[0].split(\"=\")\n",
    "                attr_i = setminus_i[0]\n",
    "                val_i = int(setminus_i[1])\n",
    "                attr_j = setminus_j[0]\n",
    "                val_j = int(setminus_j[1])\n",
    "                if (attr_i != attr_j):\n",
    "                    # merge to get L list\n",
    "                    idx = idx_i.intersection(idx_j)\n",
    "                    fractionRows = len(idx)/len(X_train) * 100\n",
    "                    isCompact = True\n",
    "                    if (fractionRows == min(sup_i, sup_j)): # pattern is not compact if intersection equals one of its parents\n",
    "                        isCompact = False\n",
    "                    if (fractionRows/100 >= support):\n",
    "                        X = np.delete(X_train, idx, 0)\n",
    "                        y = y_train.drop(index=idx, inplace=False)\n",
    "\n",
    "                        params_f_2 = second_order_group_influence(idx, del_L_del_theta, hessian_all_points, hinv)\n",
    "                        del_f_2 = np.dot(v1.transpose(), params_f_2)\n",
    "\n",
    "                        score = del_f_2 * 100/fractionRows\n",
    "                        if (((score > candidates_L_1[i][2]) & (score > candidates_L_1[j][2])) or \n",
    "                           (fractionRows >= support_small)):\n",
    "                            candidate = [merged_candidate, fractionRows,\n",
    "                                         del_f_2*len(X_train)/len(idx), del_f_2, idx]\n",
    "                            candidates_L.append(candidate)\n",
    "                            set_L_1.add(json.dumps(merged_candidate))\n",
    "                            if (isCompact):\n",
    "                                candidates_all.insert(len(candidates_all), candidate)\n",
    "    set_L_1 = set()\n",
    "    print(\"Generated:\", len(candidates_L), \" \", str(iteration+1), \"-candidates\")\n",
    "    candidates_L_1 = copy.deepcopy(candidates_L)\n",
    "    candidates_L_1.sort()\n",
    "    iteration += 1"
   ]
  },
  {
   "cell_type": "code",
   "execution_count": 17,
   "metadata": {
    "ExecuteTime": {
     "end_time": "2022-09-03T00:03:21.156891Z",
     "start_time": "2022-09-03T00:03:20.823086Z"
    }
   },
   "outputs": [
    {
     "name": "stdout",
     "output_type": "stream",
     "text": [
      "13381\n",
      "13381\n"
     ]
    }
   ],
   "source": [
    "candidates_support_3_compact = copy.deepcopy(candidates_all)\n",
    "print(len(candidates_support_3_compact))\n",
    "candidates_df_3_compact = pd.DataFrame(candidates_support_3_compact, columns=[\"predicates\",\"support\",\"score\",\"2nd-inf\",'idx'])\n",
    "candidates_df_3_compact = candidates_df_3_compact.sort_values(by=['score'], ascending=False)\n",
    "print(len(candidates_df_3_compact))"
   ]
  },
  {
   "cell_type": "markdown",
   "metadata": {},
   "source": [
    "**Containment-based filtering**"
   ]
  },
  {
   "cell_type": "code",
   "execution_count": 18,
   "metadata": {
    "ExecuteTime": {
     "end_time": "2022-09-03T00:03:21.302651Z",
     "start_time": "2022-09-03T00:03:21.157988Z"
    },
    "code_folding": []
   },
   "outputs": [],
   "source": [
    "support_threshold = support_small\n",
    "containment_df = candidates_df_3_compact[candidates_df_3_compact['support'] < support_threshold*100].sort_values(by=['score'],\n",
    "                                                                                              ascending=False).copy()\n",
    "\n",
    "topk = Topk(method='containment', threshold=0.2, k=5)\n",
    "for row_idx in range(len(containment_df)):\n",
    "    row = containment_df.iloc[row_idx]\n",
    "    explanation, score = row[0], row[2]\n",
    "    topk.update(explanation, score, X_train_orig)\n",
    "    if len(topk.top_explanations) == topk.k:\n",
    "        break"
   ]
  },
  {
   "cell_type": "markdown",
   "metadata": {},
   "source": [
    "**Integrate Results**"
   ]
  },
  {
   "cell_type": "code",
   "execution_count": 19,
   "metadata": {
    "ExecuteTime": {
     "end_time": "2022-09-03T00:03:21.653936Z",
     "start_time": "2022-09-03T00:03:21.303838Z"
    }
   },
   "outputs": [
    {
     "data": {
      "text/html": [
       "<div>\n",
       "<style scoped>\n",
       "    .dataframe tbody tr th:only-of-type {\n",
       "        vertical-align: middle;\n",
       "    }\n",
       "\n",
       "    .dataframe tbody tr th {\n",
       "        vertical-align: top;\n",
       "    }\n",
       "\n",
       "    .dataframe thead th {\n",
       "        text-align: right;\n",
       "    }\n",
       "</style>\n",
       "<table border=\"1\" class=\"dataframe\">\n",
       "  <thead>\n",
       "    <tr style=\"text-align: right;\">\n",
       "      <th></th>\n",
       "      <th>explanations</th>\n",
       "      <th>support</th>\n",
       "      <th>score</th>\n",
       "      <th>gt-score</th>\n",
       "      <th>2nd-inf(%)</th>\n",
       "      <th>gt-inf(%)</th>\n",
       "      <th>new-acc</th>\n",
       "    </tr>\n",
       "  </thead>\n",
       "  <tbody>\n",
       "    <tr>\n",
       "      <th>0</th>\n",
       "      <td>[\"age=1\", \"gender=0\"]</td>\n",
       "      <td>5.000</td>\n",
       "      <td>0.983225</td>\n",
       "      <td>1.079512</td>\n",
       "      <td>0.515989</td>\n",
       "      <td>0.566519</td>\n",
       "      <td>0.745</td>\n",
       "    </tr>\n",
       "    <tr>\n",
       "      <th>1</th>\n",
       "      <td>[\"age=1\", \"credit_hist=0\", \"gender=1\"]</td>\n",
       "      <td>6.250</td>\n",
       "      <td>0.620770</td>\n",
       "      <td>0.660626</td>\n",
       "      <td>0.407219</td>\n",
       "      <td>0.433364</td>\n",
       "      <td>0.755</td>\n",
       "    </tr>\n",
       "    <tr>\n",
       "      <th>2</th>\n",
       "      <td>[\"credit_amt=0\", \"install_rate=4\", \"install_plans=0\", \"status=0\"]</td>\n",
       "      <td>6.500</td>\n",
       "      <td>0.418993</td>\n",
       "      <td>0.413260</td>\n",
       "      <td>0.285849</td>\n",
       "      <td>0.281938</td>\n",
       "      <td>0.755</td>\n",
       "    </tr>\n",
       "    <tr>\n",
       "      <th>3</th>\n",
       "      <td>[\"duration=1\", \"employment=4\", \"num_liable=1\", \"residence=4\"]</td>\n",
       "      <td>5.375</td>\n",
       "      <td>0.404900</td>\n",
       "      <td>0.403639</td>\n",
       "      <td>0.228425</td>\n",
       "      <td>0.227714</td>\n",
       "      <td>0.740</td>\n",
       "    </tr>\n",
       "    <tr>\n",
       "      <th>4</th>\n",
       "      <td>[\"credit_hist=2\", \"gender=0\", \"housing_A152=1\", \"savings=0\"]</td>\n",
       "      <td>8.000</td>\n",
       "      <td>0.393087</td>\n",
       "      <td>0.385020</td>\n",
       "      <td>0.330062</td>\n",
       "      <td>0.323289</td>\n",
       "      <td>0.760</td>\n",
       "    </tr>\n",
       "  </tbody>\n",
       "</table>\n",
       "</div>"
      ],
      "text/plain": [
       "                                                        explanations  support  \\\n",
       "0                                              [\"age=1\", \"gender=0\"]    5.000   \n",
       "1                             [\"age=1\", \"credit_hist=0\", \"gender=1\"]    6.250   \n",
       "2  [\"credit_amt=0\", \"install_rate=4\", \"install_plans=0\", \"status=0\"]    6.500   \n",
       "3      [\"duration=1\", \"employment=4\", \"num_liable=1\", \"residence=4\"]    5.375   \n",
       "4       [\"credit_hist=2\", \"gender=0\", \"housing_A152=1\", \"savings=0\"]    8.000   \n",
       "\n",
       "      score  gt-score  2nd-inf(%)  gt-inf(%)  new-acc  \n",
       "0  0.983225  1.079512    0.515989   0.566519    0.745  \n",
       "1  0.620770  0.660626    0.407219   0.433364    0.755  \n",
       "2  0.418993  0.413260    0.285849   0.281938    0.755  \n",
       "3  0.404900  0.403639    0.228425   0.227714    0.740  \n",
       "4  0.393087  0.385020    0.330062   0.323289    0.760  "
      ]
     },
     "execution_count": 19,
     "metadata": {},
     "output_type": "execute_result"
    }
   ],
   "source": [
    "explanations = list(topk.top_explanations.keys())\n",
    "idxs = [v[1] for v in topk.top_explanations.values()]\n",
    "supports = list()\n",
    "scores = list()\n",
    "gt_scores = list()\n",
    "infs = list()\n",
    "gts = list()\n",
    "new_accs = list()\n",
    "for e in explanations:\n",
    "    idx = get_subset(json.loads(e), X_train_orig)\n",
    "    X = np.delete(X_train, idx, 0)\n",
    "    y = y_train.drop(index=idx, inplace=False)\n",
    "    clf.fit(np.array(X), np.array(y))\n",
    "    y_pred = clf.predict_proba(np.array(X_test))\n",
    "    new_acc = computeAccuracy(y_test, y_pred)\n",
    "    inf_gt = computeFairness(y_pred, X_test_orig, y_test, 0, dataset) - spd_0\n",
    "    \n",
    "    condition = candidates_df_3_compact.predicates.apply(lambda x: x==json.loads(e))\n",
    "    supports.append(float(candidates_df_3_compact[condition]['support']))\n",
    "    scores.append(float(candidates_df_3_compact[condition]['score']))\n",
    "    infs.append(float(candidates_df_3_compact[condition]['2nd-inf']))\n",
    "    gts.append(inf_gt/(-spd_0))\n",
    "    gt_scores.append(inf_gt*100/float(candidates_df_3_compact[condition]['support']))\n",
    "    new_accs.append(new_acc)\n",
    "\n",
    "\n",
    "expl = [explanations, supports, scores, gt_scores, infs, gts, new_accs]\n",
    "expl = (np.array(expl).T).tolist()\n",
    "\n",
    "explanations = pd.DataFrame(expl, columns=[\"explanations\", \"support\", \"score\", \"gt-score\", \"2nd-inf(%)\", \"gt-inf(%)\", \"new-acc\"])\n",
    "explanations['score'] = explanations['score'].astype(float)\n",
    "explanations['gt-score'] = explanations['gt-score'].astype(float)\n",
    "explanations['support'] = explanations['support'].astype(float)\n",
    "explanations['2nd-inf(%)'] = explanations['2nd-inf(%)'].astype(float)/(-spd_0)\n",
    "explanations['gt-inf(%)'] = explanations['gt-inf(%)'].astype(float)\n",
    "explanations['new-acc'] = explanations['new-acc'].astype(float)\n",
    "\n",
    "pd.set_option('max_colwidth', 100)\n",
    "explanations.sort_values(by=['score'], ascending=False)\n"
   ]
  },
  {
   "cell_type": "code",
   "execution_count": null,
   "metadata": {},
   "outputs": [],
   "source": []
  },
  {
   "cell_type": "code",
   "execution_count": null,
   "metadata": {},
   "outputs": [],
   "source": []
  }
 ],
 "metadata": {
  "kernelspec": {
   "display_name": "Python 3",
   "language": "python",
   "name": "python3"
  },
  "language_info": {
   "codemirror_mode": {
    "name": "ipython",
    "version": 3
   },
   "file_extension": ".py",
   "mimetype": "text/x-python",
   "name": "python",
   "nbconvert_exporter": "python",
   "pygments_lexer": "ipython3",
   "version": "3.9.6"
  },
  "latex_envs": {
   "LaTeX_envs_menu_present": true,
   "autoclose": true,
   "autocomplete": true,
   "bibliofile": "biblio.bib",
   "cite_by": "apalike",
   "current_citInitial": 1,
   "eqLabelWithNumbers": true,
   "eqNumInitial": 1,
   "hotkeys": {
    "equation": "Ctrl-E",
    "itemize": "Ctrl-I"
   },
   "labels_anchors": false,
   "latex_user_defs": false,
   "report_style_numbering": false,
   "user_envs_cfg": false
  }
 },
 "nbformat": 4,
 "nbformat_minor": 4
}
